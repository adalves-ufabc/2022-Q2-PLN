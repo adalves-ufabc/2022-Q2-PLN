{
  "nbformat": 4,
  "nbformat_minor": 0,
  "metadata": {
    "colab": {
      "name": "2022-Q2 PLN Notebook 35.ipynb",
      "provenance": [],
      "collapsed_sections": [],
      "authorship_tag": "ABX9TyPY9eXLPlokt7upW4wpQVnD",
      "include_colab_link": true
    },
    "kernelspec": {
      "name": "python3",
      "display_name": "Python 3"
    }
  },
  "cells": [
    {
      "cell_type": "markdown",
      "metadata": {
        "id": "view-in-github",
        "colab_type": "text"
      },
      "source": [
        "<a href=\"https://colab.research.google.com/github/adalves-ufabc/2022.Q2-PLN/blob/main/2022_Q2_PLN_Notebook_35.ipynb\" target=\"_parent\"><img src=\"https://colab.research.google.com/assets/colab-badge.svg\" alt=\"Open In Colab\"/></a>"
      ]
    },
    {
      "cell_type": "markdown",
      "metadata": {
        "id": "JyNAYSjAVTvv"
      },
      "source": [
        "# **Processamento de Linguagem Natural [2022.Q2]**\n",
        "Prof. Alexandre Donizeti Alves"
      ]
    },
    {
      "cell_type": "markdown",
      "metadata": {
        "id": "sWNk12oMXT-q"
      },
      "source": [
        "### **Técnicas Avançadas de PLN**\n",
        "----"
      ]
    },
    {
      "cell_type": "markdown",
      "metadata": {
        "id": "KHAnxrbAVWzN"
      },
      "source": [
        "**Extração de Substantivos**"
      ]
    },
    {
      "cell_type": "code",
      "metadata": {
        "colab": {
          "base_uri": "https://localhost:8080/"
        },
        "id": "h0CCC5P3Wduu",
        "outputId": "132d14d5-c531-410e-d15b-0063d097a2c6"
      },
      "source": [
        "import nltk\n",
        "\n",
        "nltk.download('brown')\n",
        "nltk.download('punkt')"
      ],
      "execution_count": null,
      "outputs": [
        {
          "output_type": "stream",
          "name": "stderr",
          "text": [
            "[nltk_data] Downloading package brown to /root/nltk_data...\n",
            "[nltk_data]   Unzipping corpora/brown.zip.\n",
            "[nltk_data] Downloading package punkt to /root/nltk_data...\n",
            "[nltk_data]   Unzipping tokenizers/punkt.zip.\n"
          ]
        },
        {
          "output_type": "execute_result",
          "data": {
            "text/plain": [
              "True"
            ]
          },
          "metadata": {},
          "execution_count": 1
        }
      ]
    },
    {
      "cell_type": "code",
      "metadata": {
        "colab": {
          "base_uri": "https://localhost:8080/"
        },
        "id": "HB-cnwgtVaRx",
        "outputId": "ad3c7e0c-00b7-4996-b332-c46ba0299806"
      },
      "source": [
        "from textblob import TextBlob\n",
        "\n",
        "# extract noun\n",
        "blob = TextBlob(\"John is learning natural language processing\")\n",
        "for np in blob.noun_phrases:\n",
        "    print(np)"
      ],
      "execution_count": null,
      "outputs": [
        {
          "output_type": "stream",
          "name": "stdout",
          "text": [
            "john\n",
            "natural language processing\n"
          ]
        }
      ]
    },
    {
      "cell_type": "markdown",
      "metadata": {
        "id": "gIWnpWlkfO3Q"
      },
      "source": [
        "**Correspondência Fonética**"
      ]
    },
    {
      "cell_type": "markdown",
      "metadata": {
        "id": "OrcAR_TMoNqn"
      },
      "source": [
        "`Soundex` é um sistema em que valores são atribuídos a nomes de maneira que nomes com sons semelhantes obtenham o mesmo valor. Esses valores são conhecidos como **codificações soundex**. Um aplicativo de pesquisa baseado em `soundex` não pesquisará por um nome diretamente, mas sim pela **codificação de soundex**. Ao fazer isso, ele obterá todos os nomes que soam como o nome que está sendo procurado."
      ]
    },
    {
      "cell_type": "code",
      "metadata": {
        "colab": {
          "base_uri": "https://localhost:8080/"
        },
        "id": "9bSSmDPFlb72",
        "outputId": "6c8a19e6-0f2e-4890-f239-f2008c0b9db9"
      },
      "source": [
        "!pip install jellyfish"
      ],
      "execution_count": null,
      "outputs": [
        {
          "output_type": "stream",
          "name": "stdout",
          "text": [
            "Looking in indexes: https://pypi.org/simple, https://us-python.pkg.dev/colab-wheels/public/simple/\n",
            "Collecting jellyfish\n",
            "  Downloading jellyfish-0.9.0.tar.gz (132 kB)\n",
            "\u001b[K     |████████████████████████████████| 132 kB 14.9 MB/s \n",
            "\u001b[?25hBuilding wheels for collected packages: jellyfish\n",
            "  Building wheel for jellyfish (setup.py) ... \u001b[?25l\u001b[?25hdone\n",
            "  Created wheel for jellyfish: filename=jellyfish-0.9.0-cp37-cp37m-linux_x86_64.whl size=73985 sha256=1fee2b520a4bda851391fe5d47784043b540aaa3586ee2e3d2ed1e8e3a486e08\n",
            "  Stored in directory: /root/.cache/pip/wheels/fe/99/4e/646ce766df0d070b0ef04db27aa11543e2767fda3075aec31b\n",
            "Successfully built jellyfish\n",
            "Installing collected packages: jellyfish\n",
            "Successfully installed jellyfish-0.9.0\n"
          ]
        }
      ]
    },
    {
      "cell_type": "code",
      "metadata": {
        "colab": {
          "base_uri": "https://localhost:8080/"
        },
        "id": "bRAn3TO3lZl1",
        "outputId": "51f33951-bae3-48d8-e04f-df834a026078"
      },
      "source": [
        "from jellyfish import soundex\n",
        "\n",
        "print(soundex(\"natural\"))\n",
        "print(soundex(\"natuaral\"))"
      ],
      "execution_count": null,
      "outputs": [
        {
          "output_type": "stream",
          "name": "stdout",
          "text": [
            "N364\n",
            "N364\n"
          ]
        }
      ]
    },
    {
      "cell_type": "code",
      "metadata": {
        "colab": {
          "base_uri": "https://localhost:8080/"
        },
        "id": "C_0qKudilweo",
        "outputId": "07fb138f-1949-4a40-d89e-21d953591c26"
      },
      "source": [
        "print(soundex(\"two\"))\n",
        "print(soundex(\"to\"))"
      ],
      "execution_count": null,
      "outputs": [
        {
          "output_type": "stream",
          "name": "stdout",
          "text": [
            "T000\n",
            "T000\n"
          ]
        }
      ]
    },
    {
      "cell_type": "code",
      "metadata": {
        "colab": {
          "base_uri": "https://localhost:8080/",
          "height": 36
        },
        "id": "5hJFB0W6hyR5",
        "outputId": "d8203d8c-d8ef-4d3f-9caf-2b54f80b30f2"
      },
      "source": [
        "soundex('language')"
      ],
      "execution_count": null,
      "outputs": [
        {
          "output_type": "execute_result",
          "data": {
            "text/plain": [
              "'L522'"
            ],
            "application/vnd.google.colaboratory.intrinsic+json": {
              "type": "string"
            }
          },
          "metadata": {},
          "execution_count": 6
        }
      ]
    },
    {
      "cell_type": "code",
      "metadata": {
        "colab": {
          "base_uri": "https://localhost:8080/",
          "height": 36
        },
        "id": "xVC1Lpglh4Eu",
        "outputId": "8fea1e07-5007-4fc6-ff3a-8e556d09478d"
      },
      "source": [
        "soundex('processing')"
      ],
      "execution_count": null,
      "outputs": [
        {
          "output_type": "execute_result",
          "data": {
            "text/plain": [
              "'P622'"
            ],
            "application/vnd.google.colaboratory.intrinsic+json": {
              "type": "string"
            }
          },
          "metadata": {},
          "execution_count": 7
        }
      ]
    },
    {
      "cell_type": "code",
      "metadata": {
        "colab": {
          "base_uri": "https://localhost:8080/"
        },
        "id": "Fsb30iHAnnHT",
        "outputId": "2b1f5add-bcf0-4e7c-a7b7-61a5609ff932"
      },
      "source": [
        "from itertools import groupby\n",
        "\n",
        "def getSoundexList(dList):\n",
        "    return sorted([soundex(x) for x in dList])\n",
        "\n",
        "dataList = ['two','fourth','forth','dessert','to','desert']    \n",
        "print([list(g) for _, g in groupby(getSoundexList(dataList), lambda x: x)])"
      ],
      "execution_count": null,
      "outputs": [
        {
          "output_type": "stream",
          "name": "stdout",
          "text": [
            "[['D263', 'D263'], ['F630', 'F630'], ['T000', 'T000']]\n"
          ]
        }
      ]
    },
    {
      "cell_type": "code",
      "metadata": {
        "colab": {
          "base_uri": "https://localhost:8080/"
        },
        "id": "T7c8vxSpn9B9",
        "outputId": "83cccdc6-2e6f-42d8-ede1-0ee673d09a8d"
      },
      "source": [
        "from operator import itemgetter\n",
        "\n",
        "def getSoundexDict(dList):\n",
        "    return sorted(dict_.items(), key=itemgetter(1))  # sorting the dict_ on val\n",
        "\n",
        "dataList = ['two','fourth','forth','dessert','to','desert']\n",
        "res = [soundex(x) for x in dataList]    # to get the val for each elem\n",
        "dict_ = dict(list(zip(dataList, res)))  # dict_ with k,v as name/val\n",
        "\n",
        "print([list(g) for _, g in groupby(getSoundexDict(dataList), lambda x: x[1])])"
      ],
      "execution_count": null,
      "outputs": [
        {
          "output_type": "stream",
          "name": "stdout",
          "text": [
            "[[('dessert', 'D263'), ('desert', 'D263')], [('fourth', 'F630'), ('forth', 'F630')], [('two', 'T000'), ('to', 'T000')]]\n"
          ]
        }
      ]
    },
    {
      "cell_type": "markdown",
      "metadata": {
        "id": "RYPW9ILQc7wi"
      },
      "source": [
        "**Conversão de Texto em Fala**\n"
      ]
    },
    {
      "cell_type": "code",
      "metadata": {
        "colab": {
          "base_uri": "https://localhost:8080/"
        },
        "id": "M137Qilyc2W0",
        "outputId": "edc7f7bf-444c-4209-e862-4b495a0991ad"
      },
      "source": [
        "!pip install gTTS"
      ],
      "execution_count": null,
      "outputs": [
        {
          "output_type": "stream",
          "name": "stdout",
          "text": [
            "Looking in indexes: https://pypi.org/simple, https://us-python.pkg.dev/colab-wheels/public/simple/\n",
            "Collecting gTTS\n",
            "  Downloading gTTS-2.2.4-py3-none-any.whl (26 kB)\n",
            "Requirement already satisfied: click in /usr/local/lib/python3.7/dist-packages (from gTTS) (7.1.2)\n",
            "Requirement already satisfied: six in /usr/local/lib/python3.7/dist-packages (from gTTS) (1.15.0)\n",
            "Requirement already satisfied: requests in /usr/local/lib/python3.7/dist-packages (from gTTS) (2.23.0)\n",
            "Requirement already satisfied: idna<3,>=2.5 in /usr/local/lib/python3.7/dist-packages (from requests->gTTS) (2.10)\n",
            "Requirement already satisfied: certifi>=2017.4.17 in /usr/local/lib/python3.7/dist-packages (from requests->gTTS) (2022.6.15)\n",
            "Requirement already satisfied: chardet<4,>=3.0.2 in /usr/local/lib/python3.7/dist-packages (from requests->gTTS) (3.0.4)\n",
            "Requirement already satisfied: urllib3!=1.25.0,!=1.25.1,<1.26,>=1.21.1 in /usr/local/lib/python3.7/dist-packages (from requests->gTTS) (1.24.3)\n",
            "Installing collected packages: gTTS\n",
            "Successfully installed gTTS-2.2.4\n"
          ]
        }
      ]
    },
    {
      "cell_type": "code",
      "metadata": {
        "id": "MmD_AyKQc5cJ"
      },
      "source": [
        "from gtts import gTTS\n",
        "\n",
        "# chooses the language, English(‘en’)\n",
        "convert = gTTS(text='I like this NLP book', lang='en', slow=False) \n",
        "  \n",
        "# saving the converted audio in a mp3 file named \n",
        "convert.save(\"audio.mp3\")"
      ],
      "execution_count": null,
      "outputs": []
    },
    {
      "cell_type": "code",
      "metadata": {
        "id": "ao_MEQu2qvMb"
      },
      "source": [
        "from gtts import gTTS \n",
        "\n",
        "voz = gTTS(\"Olá, tudo bem?\", lang =\"pt\") \n",
        "voz.save(\"voz.mp3\")"
      ],
      "execution_count": null,
      "outputs": []
    },
    {
      "cell_type": "markdown",
      "metadata": {
        "id": "EcynLq6GclzC"
      },
      "source": [
        "**Deteção de Idioma e Tradução**"
      ]
    },
    {
      "cell_type": "code",
      "metadata": {
        "colab": {
          "base_uri": "https://localhost:8080/"
        },
        "id": "UO1PJM7mcc5M",
        "outputId": "bba59d56-6de3-4128-c4d9-019498923bcf"
      },
      "source": [
        "!pip install goslate"
      ],
      "execution_count": null,
      "outputs": [
        {
          "output_type": "stream",
          "name": "stdout",
          "text": [
            "Looking in indexes: https://pypi.org/simple, https://us-python.pkg.dev/colab-wheels/public/simple/\n",
            "Requirement already satisfied: goslate in /usr/local/lib/python3.7/dist-packages (1.5.4)\n",
            "Requirement already satisfied: futures in /usr/local/lib/python3.7/dist-packages (from goslate) (2.2.0)\n"
          ]
        }
      ]
    },
    {
      "cell_type": "code",
      "metadata": {
        "id": "vbncG5HBcQ7V",
        "colab": {
          "base_uri": "https://localhost:8080/"
        },
        "outputId": "13dd805d-9897-4c12-83ac-6474cf0509a2"
      },
      "source": [
        "import goslate\n",
        "\n",
        "text = \"Bonjour le monde\" \n",
        "gs = goslate.Goslate()\n",
        "translatedText = gs.translate(text,'en')\n",
        "\n",
        "print(translatedText)"
      ],
      "execution_count": null,
      "outputs": [
        {
          "output_type": "stream",
          "name": "stdout",
          "text": [
            "Hi world\n"
          ]
        }
      ]
    },
    {
      "cell_type": "code",
      "metadata": {
        "id": "BKWVUCxUr6KE",
        "colab": {
          "base_uri": "https://localhost:8080/",
          "height": 36
        },
        "outputId": "d573bab5-2758-43b3-beec-74645c763a7d"
      },
      "source": [
        "import goslate\n",
        "\n",
        "gs = goslate.Goslate()\n",
        "\n",
        "language_id = gs.detect('hallo welt')\n",
        "language_id"
      ],
      "execution_count": null,
      "outputs": [
        {
          "output_type": "execute_result",
          "data": {
            "text/plain": [
              "'de'"
            ],
            "application/vnd.google.colaboratory.intrinsic+json": {
              "type": "string"
            }
          },
          "metadata": {},
          "execution_count": 3
        }
      ]
    },
    {
      "cell_type": "code",
      "metadata": {
        "colab": {
          "base_uri": "https://localhost:8080/",
          "height": 36
        },
        "id": "2hxJj20_sJ0D",
        "outputId": "666694a4-b723-4fcf-c896-8c372657ea31"
      },
      "source": [
        "gs.get_languages()[language_id]"
      ],
      "execution_count": null,
      "outputs": [
        {
          "output_type": "execute_result",
          "data": {
            "text/plain": [
              "'German'"
            ],
            "application/vnd.google.colaboratory.intrinsic+json": {
              "type": "string"
            }
          },
          "metadata": {},
          "execution_count": 4
        }
      ]
    },
    {
      "cell_type": "code",
      "metadata": {
        "colab": {
          "base_uri": "https://localhost:8080/",
          "height": 55
        },
        "id": "EZy9xt1OsQCR",
        "outputId": "33da8363-fb0f-42aa-a597-17a37dd00f22"
      },
      "source": [
        "import goslate\n",
        "\n",
        "gs = goslate.Goslate()\n",
        "\n",
        "language_id = gs.detect('Boas férias')\n",
        "\n",
        "print(language_id)\n",
        "gs.get_languages()[language_id]\n"
      ],
      "execution_count": null,
      "outputs": [
        {
          "output_type": "stream",
          "name": "stdout",
          "text": [
            "pt\n"
          ]
        },
        {
          "output_type": "execute_result",
          "data": {
            "text/plain": [
              "'Portuguese'"
            ],
            "application/vnd.google.colaboratory.intrinsic+json": {
              "type": "string"
            }
          },
          "metadata": {},
          "execution_count": 5
        }
      ]
    },
    {
      "cell_type": "markdown",
      "metadata": {
        "id": "pTXOybuFxKBu"
      },
      "source": [
        "**Corretor Ortográfico**"
      ]
    },
    {
      "cell_type": "code",
      "metadata": {
        "colab": {
          "base_uri": "https://localhost:8080/"
        },
        "id": "DTcaYpvZ_MJX",
        "outputId": "fae8578b-ae8c-4ba7-9691-6891b463fcc9"
      },
      "source": [
        "!pip install textblob"
      ],
      "execution_count": null,
      "outputs": [
        {
          "output_type": "stream",
          "name": "stdout",
          "text": [
            "Looking in indexes: https://pypi.org/simple, https://us-python.pkg.dev/colab-wheels/public/simple/\n",
            "Requirement already satisfied: textblob in /usr/local/lib/python3.7/dist-packages (0.15.3)\n",
            "Requirement already satisfied: nltk>=3.1 in /usr/local/lib/python3.7/dist-packages (from textblob) (3.7)\n",
            "Requirement already satisfied: click in /usr/local/lib/python3.7/dist-packages (from nltk>=3.1->textblob) (7.1.2)\n",
            "Requirement already satisfied: joblib in /usr/local/lib/python3.7/dist-packages (from nltk>=3.1->textblob) (1.1.0)\n",
            "Requirement already satisfied: regex>=2021.8.3 in /usr/local/lib/python3.7/dist-packages (from nltk>=3.1->textblob) (2022.6.2)\n",
            "Requirement already satisfied: tqdm in /usr/local/lib/python3.7/dist-packages (from nltk>=3.1->textblob) (4.64.0)\n"
          ]
        }
      ]
    },
    {
      "cell_type": "code",
      "metadata": {
        "colab": {
          "base_uri": "https://localhost:8080/"
        },
        "id": "llra7YXo_3m3",
        "outputId": "b8b6df6e-645d-4d48-e506-a4c314ca1a69"
      },
      "source": [
        "from textblob import TextBlob\n",
        "\n",
        "a = \"cmputr\"\t\t # incorrect spelling\n",
        "print(\"original text: \"+str(a))\n",
        "\n",
        "b = TextBlob(a)\n",
        "\n",
        "# prints the corrected spelling\n",
        "print(\"corrected text: \"+str(b.correct()))"
      ],
      "execution_count": null,
      "outputs": [
        {
          "output_type": "stream",
          "name": "stdout",
          "text": [
            "original text: cmputr\n",
            "corrected text: computer\n"
          ]
        }
      ]
    },
    {
      "cell_type": "code",
      "metadata": {
        "colab": {
          "base_uri": "https://localhost:8080/"
        },
        "id": "Un-GbEIEC8F8",
        "outputId": "b6cd76ea-4682-4205-a015-81e97cae6ef0"
      },
      "source": [
        "from textblob import Word\n",
        " \n",
        "word = Word('percieve')\n",
        " \n",
        "word.spellcheck()\n",
        " "
      ],
      "execution_count": null,
      "outputs": [
        {
          "output_type": "execute_result",
          "data": {
            "text/plain": [
              "[('perceive', 1.0)]"
            ]
          },
          "metadata": {},
          "execution_count": 8
        }
      ]
    },
    {
      "cell_type": "code",
      "metadata": {
        "colab": {
          "base_uri": "https://localhost:8080/"
        },
        "id": "TWqJ38p4DDGI",
        "outputId": "751c495b-6040-4770-adbd-4ba16cb3ed8c"
      },
      "source": [
        "word = Word('personell')\n",
        "word.spellcheck()"
      ],
      "execution_count": null,
      "outputs": [
        {
          "output_type": "execute_result",
          "data": {
            "text/plain": [
              "[('personal', 0.65),\n",
              " ('personally', 0.2642857142857143),\n",
              " ('peroneal', 0.06428571428571428),\n",
              " ('personnel', 0.014285714285714285),\n",
              " ('personen', 0.007142857142857143)]"
            ]
          },
          "metadata": {},
          "execution_count": 9
        }
      ]
    },
    {
      "cell_type": "code",
      "metadata": {
        "colab": {
          "base_uri": "https://localhost:8080/"
        },
        "id": "i0iDjalLDJta",
        "outputId": "570f5fc5-5998-48b3-f8df-4aa77677aac8"
      },
      "source": [
        "!pip install autocorrect"
      ],
      "execution_count": null,
      "outputs": [
        {
          "output_type": "stream",
          "name": "stdout",
          "text": [
            "Looking in indexes: https://pypi.org/simple, https://us-python.pkg.dev/colab-wheels/public/simple/\n",
            "Collecting autocorrect\n",
            "  Downloading autocorrect-2.6.1.tar.gz (622 kB)\n",
            "\u001b[K     |████████████████████████████████| 622 kB 24.8 MB/s \n",
            "\u001b[?25hBuilding wheels for collected packages: autocorrect\n",
            "  Building wheel for autocorrect (setup.py) ... \u001b[?25l\u001b[?25hdone\n",
            "  Created wheel for autocorrect: filename=autocorrect-2.6.1-py3-none-any.whl size=622382 sha256=9dafb854090943bb4f6210c8a0445d62dd0aebbd575394b10e08c5db68eba807\n",
            "  Stored in directory: /root/.cache/pip/wheels/54/d4/37/8244101ad50b0f7d9bffd93ce58ed7991ee1753b290923934b\n",
            "Successfully built autocorrect\n",
            "Installing collected packages: autocorrect\n",
            "Successfully installed autocorrect-2.6.1\n"
          ]
        }
      ]
    },
    {
      "cell_type": "code",
      "metadata": {
        "id": "HwtLmFkUDMYH"
      },
      "source": [
        "from autocorrect import Speller\n",
        " \n",
        "check = Speller(lang='en')"
      ],
      "execution_count": null,
      "outputs": []
    },
    {
      "cell_type": "code",
      "metadata": {
        "colab": {
          "base_uri": "https://localhost:8080/",
          "height": 36
        },
        "id": "WDicchypDQFR",
        "outputId": "288f91c2-9e0b-48ed-d0ab-4cad92770b0a"
      },
      "source": [
        "check(\"does this sentece have misspelled wordz?\")"
      ],
      "execution_count": null,
      "outputs": [
        {
          "output_type": "execute_result",
          "data": {
            "text/plain": [
              "'does this sentence have misspelled word?'"
            ],
            "application/vnd.google.colaboratory.intrinsic+json": {
              "type": "string"
            }
          },
          "metadata": {},
          "execution_count": 12
        }
      ]
    },
    {
      "cell_type": "code",
      "metadata": {
        "colab": {
          "base_uri": "https://localhost:8080/"
        },
        "id": "BOKoaubTvgJT",
        "outputId": "cd62c5c5-9f9f-4d74-95e2-9c5e9806ef19"
      },
      "source": [
        "!pip install pyspellchecker "
      ],
      "execution_count": null,
      "outputs": [
        {
          "output_type": "stream",
          "name": "stdout",
          "text": [
            "Looking in indexes: https://pypi.org/simple, https://us-python.pkg.dev/colab-wheels/public/simple/\n",
            "Collecting pyspellchecker\n",
            "  Downloading pyspellchecker-0.6.3-py3-none-any.whl (2.7 MB)\n",
            "\u001b[K     |████████████████████████████████| 2.7 MB 26.6 MB/s \n",
            "\u001b[?25hInstalling collected packages: pyspellchecker\n",
            "Successfully installed pyspellchecker-0.6.3\n"
          ]
        }
      ]
    },
    {
      "cell_type": "code",
      "metadata": {
        "colab": {
          "base_uri": "https://localhost:8080/",
          "height": 36
        },
        "id": "J-TwUXJzDfbR",
        "outputId": "b9a82ec6-5103-4b46-bb6b-37fef46481d9"
      },
      "source": [
        "from spellchecker import SpellChecker\n",
        "\n",
        "spell = SpellChecker()\n",
        "\n",
        "spell.correction(\"liberry\") # liberty"
      ],
      "execution_count": null,
      "outputs": [
        {
          "output_type": "execute_result",
          "data": {
            "text/plain": [
              "'liberty'"
            ],
            "application/vnd.google.colaboratory.intrinsic+json": {
              "type": "string"
            }
          },
          "metadata": {},
          "execution_count": 14
        }
      ]
    },
    {
      "cell_type": "code",
      "metadata": {
        "colab": {
          "base_uri": "https://localhost:8080/"
        },
        "id": "hqDUFriXDkxC",
        "outputId": "0b02825f-bdb2-4234-8159-f5395e62523a"
      },
      "source": [
        "word = Word(\"liberry\")\n",
        "word.spellcheck() # liberty"
      ],
      "execution_count": null,
      "outputs": [
        {
          "output_type": "execute_result",
          "data": {
            "text/plain": [
              "[('liberty', 1.0)]"
            ]
          },
          "metadata": {},
          "execution_count": 15
        }
      ]
    },
    {
      "cell_type": "code",
      "metadata": {
        "colab": {
          "base_uri": "https://localhost:8080/",
          "height": 36
        },
        "id": "3WFGMj_KDoFQ",
        "outputId": "0d04f37e-78ba-4ff2-9df4-261c2a622b2e"
      },
      "source": [
        "check(\"liberry\") # liberty"
      ],
      "execution_count": null,
      "outputs": [
        {
          "output_type": "execute_result",
          "data": {
            "text/plain": [
              "'liberty'"
            ],
            "application/vnd.google.colaboratory.intrinsic+json": {
              "type": "string"
            }
          },
          "metadata": {},
          "execution_count": 16
        }
      ]
    },
    {
      "cell_type": "code",
      "metadata": {
        "colab": {
          "base_uri": "https://localhost:8080/"
        },
        "id": "_NuEFfeBABBT",
        "outputId": "3a60bd4b-79da-4ff3-e9da-9b1d1f6f9ff5"
      },
      "source": [
        "from spellchecker import SpellChecker\n",
        "\n",
        "spell = SpellChecker()\n",
        "\n",
        "# find those words that may be misspelled\n",
        "misspelled = spell.unknown([\"cmputr\", \"watr\", \"study\", \"wrie\"])\n",
        "\n",
        "for word in misspelled:\n",
        "\t# Get the one `most likely` answer\n",
        "\tprint(spell.correction(word))\n",
        "\n",
        "\t# Get a list of `likely` options\n",
        "\tprint(spell.candidates(word))\n"
      ],
      "execution_count": null,
      "outputs": [
        {
          "output_type": "stream",
          "name": "stdout",
          "text": [
            "computer\n",
            "{'compute', 'computer', 'caputo', 'impute', 'caput'}\n",
            "water\n",
            "{'watc', 'wats', 'atr', 'waar', 'water', 'wat', 'wate', 'wart', 'wanr', 'war', 'watt', 'wath'}\n",
            "write\n",
            "{'wire', 'rie', 'irie', 'erie', 'frie', 'write', 'wri', 'wre', 'drie', 'brie', 'trie', 'prie', 'wrte', 'whie', 'writ', 'wie'}\n"
          ]
        }
      ]
    },
    {
      "cell_type": "markdown",
      "metadata": {
        "id": "uA-SbWvQwE5D"
      },
      "source": [
        "**Mais informações em**:\n",
        "\n",
        "> https://pypi.org/project/pyspellchecker/"
      ]
    },
    {
      "cell_type": "markdown",
      "metadata": {
        "id": "ODVW7vmpoio-"
      },
      "source": [
        "**Referência**:\n",
        "\n",
        "![image.png](data:image/png;base64,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)"
      ]
    },
    {
      "cell_type": "markdown",
      "metadata": {
        "id": "9Q-6N1vlpWo_"
      },
      "source": [
        "**Disponível em**:\n",
        "\n",
        "> https://github.com/Apress/natural-language-processing-recipes"
      ]
    }
  ]
}