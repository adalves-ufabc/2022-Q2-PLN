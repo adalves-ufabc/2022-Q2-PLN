{
  "nbformat": 4,
  "nbformat_minor": 0,
  "metadata": {
    "kernelspec": {
      "display_name": "Python 3",
      "language": "python",
      "name": "python3"
    },
    "language_info": {
      "codemirror_mode": {
        "name": "ipython",
        "version": 3
      },
      "file_extension": ".py",
      "mimetype": "text/x-python",
      "name": "python",
      "nbconvert_exporter": "python",
      "pygments_lexer": "ipython3",
      "version": "3.7.4"
    },
    "colab": {
      "name": "2022-Q2 PLN Notebook 32.ipynb",
      "provenance": [],
      "collapsed_sections": [],
      "include_colab_link": true
    }
  },
  "cells": [
    {
      "cell_type": "markdown",
      "metadata": {
        "id": "view-in-github",
        "colab_type": "text"
      },
      "source": [
        "<a href=\"https://colab.research.google.com/github/adalves-ufabc/2022.Q2-PLN/blob/main/2022_Q2_PLN_Notebook_32.ipynb\" target=\"_parent\"><img src=\"https://colab.research.google.com/assets/colab-badge.svg\" alt=\"Open In Colab\"/></a>"
      ]
    },
    {
      "cell_type": "markdown",
      "metadata": {
        "id": "pa33w1PK12-G"
      },
      "source": [
        "# **Processamento de Linguagem Natural [2022.Q2]**\n",
        "Prof. Alexandre Donizeti Alves"
      ]
    },
    {
      "cell_type": "markdown",
      "metadata": {
        "id": "bdaYUJDR1vY0"
      },
      "source": [
        "### **Reconhecimento de Entidades Nomeadas** \n",
        "\n",
        "---\n",
        "\n",
        "\n",
        "\n",
        "Em muitas aplicações, queremos extrair informação estruturada a partir de uma coleção de documentos. Os sistemas de **Extração de Informação** permitem:\n",
        "\n",
        "- Transformar os dados não estruturados (incorporados em textos) em dados estruturados.\n",
        "- Encontrar partes relevantes do texto.\n",
        "- Obter informação de trechos de texto.\n",
        "- Produzir uma representação estruturada de informação relevante.\n",
        "\n",
        "Em linhas gerais, os sistemas de Extração de Informação permitem organizar a informação para que ela seja útil para as pessoas, idenficando e organizando essas informações de uma maneira estruturada para que sejam úteis para\n",
        "outras tarefas de processamento computacional.\n",
        "\n",
        "O **Reconhecimento de Entidades Nomeadas (*Named Entity Recognition - NER*)** é um dos primeiros passos para extrair informações que visam encontrar e classificar entidades nomeadas em um documento, em categorias pré-definidas tais como:\n",
        "\n",
        "- Nome de pessoas;\n",
        "- Organizações;\n",
        "- Lugares;\n",
        "- Datas;\n",
        "- Valores;\n",
        "- Porcentagens etc.\n",
        "\n",
        "O **Reconhecimento de Entidades Nomeadas** é usado em diferentes aplicações em processamento de linguagem natural, e pode ajudar a responder perguntas como:\n",
        "\n",
        "- Quais empresas/pessoas são mencionadas em uma notícia?\n",
        "- Quais produtos específicos são mecionados em uma avaliação?\n",
        "- Esse *tweet* contém o nome de uma pessoa? Ele contém a localização da pessoa?\n",
        "\n",
        ">\n",
        "Por exemplo, muitos leitores de e-mail atuais procuram por palavras e datas, para criar um assitente de agenda.\n",
        "\n",
        ">\n",
        "A tarefa de **Reconhecimento de Entidades Nomeadas** pode ser dividida em duas etapas: identificação e classificação. Na identificação, o objetivo é encontrar no texto aquelas entidades de interesse. Na classificação, as entidades identificadas são classificadas em categorias pré-definidas."
      ]
    },
    {
      "cell_type": "markdown",
      "metadata": {
        "id": "ZYMJx7Me9CkX"
      },
      "source": [
        "### **Etiquetamento Gramatical**\n",
        "\n",
        "Uma das possibilidades para fazer a identificação de entidades nomeadas é fazer o etiquetamento gramatical, ou ***POS-tagging*** (*part-of-speech tagging*). O ***POS-tagging*** é um dos principais componentes de quase todas as análises de PLN. A tarefa de etiquetagem implica simplesmente em rotular palavras com sua característica de linguagem (i.e., substantivo, verbo, adjetivo, advérbio, pronome etc.).\n",
        "\n",
        ">\n",
        "Existem diversos etiquetadores, baseados em diferentes estratégias. Os *POS-taggers* atuais, em geral, são treinados por meio de técnicas de aprendizado de máquina, em que um corpus anotado é usado para criar um modelo de classificação, que prediz a tag de cada palavra."
      ]
    },
    {
      "cell_type": "code",
      "metadata": {
        "colab": {
          "base_uri": "https://localhost:8080/"
        },
        "id": "KPBQx1091vY1",
        "outputId": "2296a45c-0cd5-4545-accd-e650cecac677"
      },
      "source": [
        "import nltk\n",
        "from nltk.tokenize import word_tokenize\n",
        "from nltk.tag import pos_tag\n",
        "\n",
        "nltk.download(\"punkt\")  # tokenizador\n",
        "nltk.download('averaged_perceptron_tagger') # etiquetador"
      ],
      "execution_count": 1,
      "outputs": [
        {
          "output_type": "stream",
          "name": "stderr",
          "text": [
            "[nltk_data] Downloading package punkt to /root/nltk_data...\n",
            "[nltk_data]   Unzipping tokenizers/punkt.zip.\n",
            "[nltk_data] Downloading package averaged_perceptron_tagger to\n",
            "[nltk_data]     /root/nltk_data...\n",
            "[nltk_data]   Unzipping taggers/averaged_perceptron_tagger.zip.\n"
          ]
        },
        {
          "output_type": "execute_result",
          "data": {
            "text/plain": [
              "True"
            ]
          },
          "metadata": {},
          "execution_count": 1
        }
      ]
    },
    {
      "cell_type": "markdown",
      "metadata": {
        "id": "kiNS_C4M1vY4"
      },
      "source": [
        "Podemos criar um método que, dada uma sentença, quebra essa sentença em tokens e depois classifica nas características da linguagem:"
      ]
    },
    {
      "cell_type": "code",
      "metadata": {
        "id": "9tQD9kOD1vY4"
      },
      "source": [
        "def pre_processamento(sent):\n",
        "    sent = nltk.word_tokenize(sent)\n",
        "    sent = nltk.pos_tag(sent)\n",
        "    return sent"
      ],
      "execution_count": 3,
      "outputs": []
    },
    {
      "cell_type": "markdown",
      "metadata": {
        "id": "Xtt8wR0W1vY5"
      },
      "source": [
        "Podemos aplicar esse procedimento a um texto em inglês. A frase abaixo é uma frase de John Kennedy, eu seu famoso discurso de lançamento do projeto que levou o homem à lua. "
      ]
    },
    {
      "cell_type": "code",
      "metadata": {
        "id": "zlVcUQhA1vY5"
      },
      "source": [
        "text = \"\"\"We choose to go to the Moon in this decade and do the other things, not because they are easy, \n",
        "          but because they are hard; because that goal will serve to organize and measure the best of our \n",
        "          energies and skills, because that challenge is one that we are willing to accept, one we are \n",
        "          unwilling to postpone, and one we intend to win, and the others, too.\"\"\"\n",
        "\n",
        "sent = pre_processamento(text)"
      ],
      "execution_count": 15,
      "outputs": []
    },
    {
      "cell_type": "code",
      "source": [
        "sent"
      ],
      "metadata": {
        "colab": {
          "base_uri": "https://localhost:8080/"
        },
        "id": "xzhFV8CIGBNf",
        "outputId": "e5b24289-60e1-434b-edf7-93a38db6c51e"
      },
      "execution_count": 16,
      "outputs": [
        {
          "output_type": "execute_result",
          "data": {
            "text/plain": [
              "[('We', 'PRP'),\n",
              " ('choose', 'VBP'),\n",
              " ('to', 'TO'),\n",
              " ('go', 'VB'),\n",
              " ('to', 'TO'),\n",
              " ('the', 'DT'),\n",
              " ('Moon', 'NNP'),\n",
              " ('in', 'IN'),\n",
              " ('this', 'DT'),\n",
              " ('decade', 'NN'),\n",
              " ('and', 'CC'),\n",
              " ('do', 'VBP'),\n",
              " ('the', 'DT'),\n",
              " ('other', 'JJ'),\n",
              " ('things', 'NNS'),\n",
              " (',', ','),\n",
              " ('not', 'RB'),\n",
              " ('because', 'IN'),\n",
              " ('they', 'PRP'),\n",
              " ('are', 'VBP'),\n",
              " ('easy', 'JJ'),\n",
              " (',', ','),\n",
              " ('but', 'CC'),\n",
              " ('because', 'IN'),\n",
              " ('they', 'PRP'),\n",
              " ('are', 'VBP'),\n",
              " ('hard', 'RB'),\n",
              " (';', ':'),\n",
              " ('because', 'IN'),\n",
              " ('that', 'DT'),\n",
              " ('goal', 'NN'),\n",
              " ('will', 'MD'),\n",
              " ('serve', 'VB'),\n",
              " ('to', 'TO'),\n",
              " ('organize', 'VB'),\n",
              " ('and', 'CC'),\n",
              " ('measure', 'VB'),\n",
              " ('the', 'DT'),\n",
              " ('best', 'JJS'),\n",
              " ('of', 'IN'),\n",
              " ('our', 'PRP$'),\n",
              " ('energies', 'NNS'),\n",
              " ('and', 'CC'),\n",
              " ('skills', 'NNS'),\n",
              " (',', ','),\n",
              " ('because', 'IN'),\n",
              " ('that', 'DT'),\n",
              " ('challenge', 'NN'),\n",
              " ('is', 'VBZ'),\n",
              " ('one', 'CD'),\n",
              " ('that', 'IN'),\n",
              " ('we', 'PRP'),\n",
              " ('are', 'VBP'),\n",
              " ('willing', 'JJ'),\n",
              " ('to', 'TO'),\n",
              " ('accept', 'VB'),\n",
              " (',', ','),\n",
              " ('one', 'CD'),\n",
              " ('we', 'PRP'),\n",
              " ('are', 'VBP'),\n",
              " ('unwilling', 'JJ'),\n",
              " ('to', 'TO'),\n",
              " ('postpone', 'VB'),\n",
              " (',', ','),\n",
              " ('and', 'CC'),\n",
              " ('one', 'CD'),\n",
              " ('we', 'PRP'),\n",
              " ('intend', 'VBP'),\n",
              " ('to', 'TO'),\n",
              " ('win', 'VB'),\n",
              " (',', ','),\n",
              " ('and', 'CC'),\n",
              " ('the', 'DT'),\n",
              " ('others', 'NNS'),\n",
              " (',', ','),\n",
              " ('too', 'RB'),\n",
              " ('.', '.')]"
            ]
          },
          "metadata": {},
          "execution_count": 16
        }
      ]
    },
    {
      "cell_type": "markdown",
      "metadata": {
        "id": "ysuIbAvw1vY6"
      },
      "source": [
        "A partir das tags, nós podemos, por exemplo, filtrar os subtantivos comuns (marcados como NN) e subtantivos próprios (marcados como NNP)."
      ]
    },
    {
      "cell_type": "code",
      "metadata": {
        "colab": {
          "base_uri": "https://localhost:8080/"
        },
        "id": "dAMujMgj1vY6",
        "outputId": "bfca0659-ce07-43e0-c839-30ffd345a52d"
      },
      "source": [
        "[word for word, tag in sent if tag in [\"NN\", \"NNP\"] ]"
      ],
      "execution_count": 18,
      "outputs": [
        {
          "output_type": "execute_result",
          "data": {
            "text/plain": [
              "['Moon', 'decade', 'goal', 'challenge']"
            ]
          },
          "metadata": {},
          "execution_count": 18
        }
      ]
    },
    {
      "cell_type": "markdown",
      "metadata": {
        "id": "hYCcV_aT1vZA"
      },
      "source": [
        "### **spaCy**\n",
        "\n",
        "**spaCy** é um outro pacote de processamento de línguagem natural que contém vários módulos treinados para diversas tarefas de PLN. O reconhecedor de entidades nomeadas do [spaCy](https://spacy.io/api/annotation) foi treinado a partir de uma ontologia e consegue categorizar essas entidades:\n",
        "\n",
        "![image.png](data:image/png;base64,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)\n",
        "\n",
        "Vamos ver alguns exemplos do reconhecedor de entidades nomeadas do spaCy:"
      ]
    },
    {
      "cell_type": "code",
      "metadata": {
        "id": "ZIRFNiKt1vZB"
      },
      "source": [
        "import spacy\n",
        "from spacy import displacy\n",
        "\n",
        "# en_core_web_sm is a small English pipeline trained \n",
        "# on written web text (blogs, news, comments), \n",
        "# that includes vocabulary, syntax and entities.\n",
        "nlp = spacy.load('en_core_web_sm')"
      ],
      "execution_count": 46,
      "outputs": []
    },
    {
      "cell_type": "markdown",
      "metadata": {
        "id": "vVncEZpW1vZC"
      },
      "source": [
        "Carregado o modelo, podemos fazer a análise de um documento. O exemplo usa a frase do discurso do John Kennedy."
      ]
    },
    {
      "cell_type": "code",
      "metadata": {
        "id": "lOf_RL7p1vZC"
      },
      "source": [
        "sent = nlp(text)"
      ],
      "execution_count": 47,
      "outputs": []
    },
    {
      "cell_type": "markdown",
      "metadata": {
        "id": "6dyCNZyX1vZC"
      },
      "source": [
        "Para mostrar as entidades nomeadas reconhecidas nesse texto, podemos usar o `displacy`, como no exemplo a seguir. Observe que ele é capaz de encontrar um nome (o modelo erroneamente classifica \"*Moon*\" como pessoa - *Person*), e também \"*this decade*\" como uma data. "
      ]
    },
    {
      "cell_type": "code",
      "metadata": {
        "colab": {
          "base_uri": "https://localhost:8080/",
          "height": 157
        },
        "id": "kVDTPOI31vZC",
        "outputId": "a2183dd5-368a-4bcb-f726-ae3d5620cca1"
      },
      "source": [
        "displacy.render(sent, jupyter=True, style='ent')"
      ],
      "execution_count": 48,
      "outputs": [
        {
          "output_type": "display_data",
          "data": {
            "text/plain": [
              "<IPython.core.display.HTML object>"
            ],
            "text/html": [
              "<span class=\"tex2jax_ignore\"><div class=\"entities\" style=\"line-height: 2.5; direction: ltr\">We choose to go to the \n",
              "<mark class=\"entity\" style=\"background: #aa9cfc; padding: 0.45em 0.6em; margin: 0 0.25em; line-height: 1; border-radius: 0.35em;\">\n",
              "    Moon\n",
              "    <span style=\"font-size: 0.8em; font-weight: bold; line-height: 1; border-radius: 0.35em; vertical-align: middle; margin-left: 0.5rem\">PERSON</span>\n",
              "</mark>\n",
              " in \n",
              "<mark class=\"entity\" style=\"background: #bfe1d9; padding: 0.45em 0.6em; margin: 0 0.25em; line-height: 1; border-radius: 0.35em;\">\n",
              "    this decade\n",
              "    <span style=\"font-size: 0.8em; font-weight: bold; line-height: 1; border-radius: 0.35em; vertical-align: middle; margin-left: 0.5rem\">DATE</span>\n",
              "</mark>\n",
              " and do the other things, not because they are easy, </br>          but because they are hard; because that goal will serve to organize and measure the best of our </br>          energies and skills, because that challenge is one that we are willing to accept, one we are </br>          unwilling to postpone, and one we intend to win, and the others, too.</div></span>"
            ]
          },
          "metadata": {}
        }
      ]
    },
    {
      "cell_type": "markdown",
      "metadata": {
        "id": "5CxUXYSB1vZE"
      },
      "source": [
        "Vamos testar o reconhecedor de entidades nomeadas no `spaCy` para encontrar entidades em uma notícia do *New York Times* sobre a desistência da *Boeing* em incorporar a Embraer."
      ]
    },
    {
      "cell_type": "code",
      "source": [
        "text = \"\"\"Walking away from the deal will help Boeing conserve cash at a time when it is facing a litany of \n",
        "          problems. The spread of the coronavirus forced the aerospace giant to temporarily close factories, \n",
        "          although it has reopened some of them. And a steep drop in travel has prompted airlines around the \n",
        "          world to cancel orders. Boeing said it had decided to end two years of talks with Embraer, \n",
        "          a Brazilian plane maker, after a Friday night deadline passed without Embraer meeting certain \n",
        "          conditions, which Boeing would not specify.\"\"\""
      ],
      "metadata": {
        "id": "vftxZIp3Uq9G"
      },
      "execution_count": 49,
      "outputs": []
    },
    {
      "cell_type": "code",
      "metadata": {
        "id": "TEn72CFh1vZE"
      },
      "source": [
        "article = nlp(text)"
      ],
      "execution_count": 51,
      "outputs": []
    },
    {
      "cell_type": "markdown",
      "metadata": {
        "id": "p4_8TIDH1vZF"
      },
      "source": [
        "O **spaCy** encontrou 9 entidades nesse trecho do artigo."
      ]
    },
    {
      "cell_type": "code",
      "metadata": {
        "colab": {
          "base_uri": "https://localhost:8080/"
        },
        "id": "vG9hS0fv1vZF",
        "outputId": "8b993518-cbe9-4313-d599-df091c667159"
      },
      "source": [
        "len(article.ents)"
      ],
      "execution_count": 53,
      "outputs": [
        {
          "output_type": "execute_result",
          "data": {
            "text/plain": [
              "9"
            ]
          },
          "metadata": {},
          "execution_count": 53
        }
      ]
    },
    {
      "cell_type": "code",
      "metadata": {
        "colab": {
          "base_uri": "https://localhost:8080/"
        },
        "id": "P4MOCSzSaTrU",
        "outputId": "6750eb4c-56df-41f7-e6f4-1ab890118eef"
      },
      "source": [
        "for ent in article.ents:\n",
        "      print(ent.text, ent.label_)"
      ],
      "execution_count": 54,
      "outputs": [
        {
          "output_type": "stream",
          "name": "stdout",
          "text": [
            "Boeing ORG\n",
            "Boeing ORG\n",
            "two years DATE\n",
            "Embraer PERSON\n",
            "Brazilian NORP\n",
            "Friday DATE\n",
            "night TIME\n",
            "Embraer GPE\n",
            "Boeing ORG\n"
          ]
        }
      ]
    },
    {
      "cell_type": "code",
      "metadata": {
        "colab": {
          "base_uri": "https://localhost:8080/"
        },
        "id": "Fk2FDlK9a3Kb",
        "outputId": "32cfbaa3-d6d4-4343-e6d3-abdd17d9c08b"
      },
      "source": [
        "ents = [(e.text, e.start_char, e.end_char, e.label_) for e in article.ents]\n",
        "print(ents)"
      ],
      "execution_count": 55,
      "outputs": [
        {
          "output_type": "stream",
          "name": "stdout",
          "text": [
            "[('Boeing', 37, 43, 'ORG'), ('Boeing', 353, 359, 'ORG'), ('two years', 387, 396, 'DATE'), ('Embraer', 411, 418, 'PERSON'), ('Brazilian', 433, 442, 'NORP'), ('Friday', 464, 470, 'DATE'), ('night', 471, 476, 'TIME'), ('Embraer', 501, 508, 'GPE'), ('Boeing', 554, 560, 'ORG')]\n"
          ]
        }
      ]
    },
    {
      "cell_type": "markdown",
      "metadata": {
        "id": "IDWka0wO1vZG"
      },
      "source": [
        "Finalmente, podemos usar o `displacy` para mostrar essas entidades:"
      ]
    },
    {
      "cell_type": "code",
      "metadata": {
        "colab": {
          "base_uri": "https://localhost:8080/",
          "height": 227
        },
        "id": "ooYT28XX1vZG",
        "outputId": "960e0f39-b180-4fef-e93c-423bedcdf208"
      },
      "source": [
        "displacy.render(article, jupyter=True, style='ent')"
      ],
      "execution_count": 56,
      "outputs": [
        {
          "output_type": "display_data",
          "data": {
            "text/plain": [
              "<IPython.core.display.HTML object>"
            ],
            "text/html": [
              "<span class=\"tex2jax_ignore\"><div class=\"entities\" style=\"line-height: 2.5; direction: ltr\">Walking away from the deal will help \n",
              "<mark class=\"entity\" style=\"background: #7aecec; padding: 0.45em 0.6em; margin: 0 0.25em; line-height: 1; border-radius: 0.35em;\">\n",
              "    Boeing\n",
              "    <span style=\"font-size: 0.8em; font-weight: bold; line-height: 1; border-radius: 0.35em; vertical-align: middle; margin-left: 0.5rem\">ORG</span>\n",
              "</mark>\n",
              " conserve cash at a time when it is facing a litany of </br>          problems. The spread of the coronavirus forced the aerospace giant to temporarily close factories, </br>          although it has reopened some of them. And a steep drop in travel has prompted airlines around the </br>          world to cancel orders. \n",
              "<mark class=\"entity\" style=\"background: #7aecec; padding: 0.45em 0.6em; margin: 0 0.25em; line-height: 1; border-radius: 0.35em;\">\n",
              "    Boeing\n",
              "    <span style=\"font-size: 0.8em; font-weight: bold; line-height: 1; border-radius: 0.35em; vertical-align: middle; margin-left: 0.5rem\">ORG</span>\n",
              "</mark>\n",
              " said it had decided to end \n",
              "<mark class=\"entity\" style=\"background: #bfe1d9; padding: 0.45em 0.6em; margin: 0 0.25em; line-height: 1; border-radius: 0.35em;\">\n",
              "    two years\n",
              "    <span style=\"font-size: 0.8em; font-weight: bold; line-height: 1; border-radius: 0.35em; vertical-align: middle; margin-left: 0.5rem\">DATE</span>\n",
              "</mark>\n",
              " of talks with \n",
              "<mark class=\"entity\" style=\"background: #aa9cfc; padding: 0.45em 0.6em; margin: 0 0.25em; line-height: 1; border-radius: 0.35em;\">\n",
              "    Embraer\n",
              "    <span style=\"font-size: 0.8em; font-weight: bold; line-height: 1; border-radius: 0.35em; vertical-align: middle; margin-left: 0.5rem\">PERSON</span>\n",
              "</mark>\n",
              ", </br>          a \n",
              "<mark class=\"entity\" style=\"background: #c887fb; padding: 0.45em 0.6em; margin: 0 0.25em; line-height: 1; border-radius: 0.35em;\">\n",
              "    Brazilian\n",
              "    <span style=\"font-size: 0.8em; font-weight: bold; line-height: 1; border-radius: 0.35em; vertical-align: middle; margin-left: 0.5rem\">NORP</span>\n",
              "</mark>\n",
              " plane maker, after a \n",
              "<mark class=\"entity\" style=\"background: #bfe1d9; padding: 0.45em 0.6em; margin: 0 0.25em; line-height: 1; border-radius: 0.35em;\">\n",
              "    Friday\n",
              "    <span style=\"font-size: 0.8em; font-weight: bold; line-height: 1; border-radius: 0.35em; vertical-align: middle; margin-left: 0.5rem\">DATE</span>\n",
              "</mark>\n",
              " \n",
              "<mark class=\"entity\" style=\"background: #bfe1d9; padding: 0.45em 0.6em; margin: 0 0.25em; line-height: 1; border-radius: 0.35em;\">\n",
              "    night\n",
              "    <span style=\"font-size: 0.8em; font-weight: bold; line-height: 1; border-radius: 0.35em; vertical-align: middle; margin-left: 0.5rem\">TIME</span>\n",
              "</mark>\n",
              " deadline passed without \n",
              "<mark class=\"entity\" style=\"background: #feca74; padding: 0.45em 0.6em; margin: 0 0.25em; line-height: 1; border-radius: 0.35em;\">\n",
              "    Embraer\n",
              "    <span style=\"font-size: 0.8em; font-weight: bold; line-height: 1; border-radius: 0.35em; vertical-align: middle; margin-left: 0.5rem\">GPE</span>\n",
              "</mark>\n",
              " meeting certain </br>          conditions, which \n",
              "<mark class=\"entity\" style=\"background: #7aecec; padding: 0.45em 0.6em; margin: 0 0.25em; line-height: 1; border-radius: 0.35em;\">\n",
              "    Boeing\n",
              "    <span style=\"font-size: 0.8em; font-weight: bold; line-height: 1; border-radius: 0.35em; vertical-align: middle; margin-left: 0.5rem\">ORG</span>\n",
              "</mark>\n",
              " would not specify.</div></span>"
            ]
          },
          "metadata": {}
        }
      ]
    },
    {
      "cell_type": "markdown",
      "metadata": {
        "id": "_v7Ip-Gb1vZH"
      },
      "source": [
        "Observe que a entidade **`Embraer`** é reconhecida de diversas formas. Também há outros problemas que podem ser observados."
      ]
    },
    {
      "cell_type": "markdown",
      "metadata": {
        "id": "L7nk9_uudsK1"
      },
      "source": [
        "Você pode passar uma lista de tipos de entidade para restringir a visualização:"
      ]
    },
    {
      "cell_type": "code",
      "metadata": {
        "colab": {
          "base_uri": "https://localhost:8080/",
          "height": 227
        },
        "id": "clsEte02dxx1",
        "outputId": "e37b5783-d08b-4871-f669-b3f02ca5d006"
      },
      "source": [
        "options = {'ents': ['ORG', 'NORP']}\n",
        "\n",
        "displacy.render(article, jupyter=True, style='ent', options=options)"
      ],
      "execution_count": 59,
      "outputs": [
        {
          "output_type": "display_data",
          "data": {
            "text/plain": [
              "<IPython.core.display.HTML object>"
            ],
            "text/html": [
              "<span class=\"tex2jax_ignore\"><div class=\"entities\" style=\"line-height: 2.5; direction: ltr\">Walking away from the deal will help \n",
              "<mark class=\"entity\" style=\"background: #7aecec; padding: 0.45em 0.6em; margin: 0 0.25em; line-height: 1; border-radius: 0.35em;\">\n",
              "    Boeing\n",
              "    <span style=\"font-size: 0.8em; font-weight: bold; line-height: 1; border-radius: 0.35em; vertical-align: middle; margin-left: 0.5rem\">ORG</span>\n",
              "</mark>\n",
              " conserve cash at a time when it is facing a litany of </br>          problems. The spread of the coronavirus forced the aerospace giant to temporarily close factories, </br>          although it has reopened some of them. And a steep drop in travel has prompted airlines around the </br>          world to cancel orders. \n",
              "<mark class=\"entity\" style=\"background: #7aecec; padding: 0.45em 0.6em; margin: 0 0.25em; line-height: 1; border-radius: 0.35em;\">\n",
              "    Boeing\n",
              "    <span style=\"font-size: 0.8em; font-weight: bold; line-height: 1; border-radius: 0.35em; vertical-align: middle; margin-left: 0.5rem\">ORG</span>\n",
              "</mark>\n",
              " said it had decided to end two years of talks with Embraer, </br>          a \n",
              "<mark class=\"entity\" style=\"background: #c887fb; padding: 0.45em 0.6em; margin: 0 0.25em; line-height: 1; border-radius: 0.35em;\">\n",
              "    Brazilian\n",
              "    <span style=\"font-size: 0.8em; font-weight: bold; line-height: 1; border-radius: 0.35em; vertical-align: middle; margin-left: 0.5rem\">NORP</span>\n",
              "</mark>\n",
              " plane maker, after a Friday night deadline passed without Embraer meeting certain </br>          conditions, which \n",
              "<mark class=\"entity\" style=\"background: #7aecec; padding: 0.45em 0.6em; margin: 0 0.25em; line-height: 1; border-radius: 0.35em;\">\n",
              "    Boeing\n",
              "    <span style=\"font-size: 0.8em; font-weight: bold; line-height: 1; border-radius: 0.35em; vertical-align: middle; margin-left: 0.5rem\">ORG</span>\n",
              "</mark>\n",
              " would not specify.</div></span>"
            ]
          },
          "metadata": {}
        }
      ]
    },
    {
      "cell_type": "markdown",
      "metadata": {
        "id": "Gcbexl-Tb_xQ"
      },
      "source": [
        "Você também pode passar opções de cor de fundo e gradiente:"
      ]
    },
    {
      "cell_type": "code",
      "metadata": {
        "colab": {
          "base_uri": "https://localhost:8080/",
          "height": 227
        },
        "id": "uT2g22e_b5JX",
        "outputId": "7656deaf-2fa9-4bee-d2ac-bee435ea870a"
      },
      "source": [
        "colors = {'ORG': 'linear-gradient(90deg, #aa9cde, #dc9ce7)', 'NORP': 'radial-gradient(white, red)'}\n",
        "options = {'ents': ['ORG', 'NORP'], 'colors':colors}\n",
        "\n",
        "displacy.render(article, jupyter=True, style='ent', options=options)"
      ],
      "execution_count": 61,
      "outputs": [
        {
          "output_type": "display_data",
          "data": {
            "text/plain": [
              "<IPython.core.display.HTML object>"
            ],
            "text/html": [
              "<span class=\"tex2jax_ignore\"><div class=\"entities\" style=\"line-height: 2.5; direction: ltr\">Walking away from the deal will help \n",
              "<mark class=\"entity\" style=\"background: linear-gradient(90deg, #aa9cde, #dc9ce7); padding: 0.45em 0.6em; margin: 0 0.25em; line-height: 1; border-radius: 0.35em;\">\n",
              "    Boeing\n",
              "    <span style=\"font-size: 0.8em; font-weight: bold; line-height: 1; border-radius: 0.35em; vertical-align: middle; margin-left: 0.5rem\">ORG</span>\n",
              "</mark>\n",
              " conserve cash at a time when it is facing a litany of </br>          problems. The spread of the coronavirus forced the aerospace giant to temporarily close factories, </br>          although it has reopened some of them. And a steep drop in travel has prompted airlines around the </br>          world to cancel orders. \n",
              "<mark class=\"entity\" style=\"background: linear-gradient(90deg, #aa9cde, #dc9ce7); padding: 0.45em 0.6em; margin: 0 0.25em; line-height: 1; border-radius: 0.35em;\">\n",
              "    Boeing\n",
              "    <span style=\"font-size: 0.8em; font-weight: bold; line-height: 1; border-radius: 0.35em; vertical-align: middle; margin-left: 0.5rem\">ORG</span>\n",
              "</mark>\n",
              " said it had decided to end two years of talks with Embraer, </br>          a \n",
              "<mark class=\"entity\" style=\"background: radial-gradient(white, red); padding: 0.45em 0.6em; margin: 0 0.25em; line-height: 1; border-radius: 0.35em;\">\n",
              "    Brazilian\n",
              "    <span style=\"font-size: 0.8em; font-weight: bold; line-height: 1; border-radius: 0.35em; vertical-align: middle; margin-left: 0.5rem\">NORP</span>\n",
              "</mark>\n",
              " plane maker, after a Friday night deadline passed without Embraer meeting certain </br>          conditions, which \n",
              "<mark class=\"entity\" style=\"background: linear-gradient(90deg, #aa9cde, #dc9ce7); padding: 0.45em 0.6em; margin: 0 0.25em; line-height: 1; border-radius: 0.35em;\">\n",
              "    Boeing\n",
              "    <span style=\"font-size: 0.8em; font-weight: bold; line-height: 1; border-radius: 0.35em; vertical-align: middle; margin-left: 0.5rem\">ORG</span>\n",
              "</mark>\n",
              " would not specify.</div></span>"
            ]
          },
          "metadata": {}
        }
      ]
    },
    {
      "cell_type": "markdown",
      "source": [
        "**Mais exemplos**"
      ],
      "metadata": {
        "id": "_OUv0227Wb0o"
      }
    },
    {
      "cell_type": "code",
      "source": [
        "doc = nlp(\"I live in New York\")\n",
        "for word in doc.ents:\n",
        "    print(word.text, word.label_) "
      ],
      "metadata": {
        "colab": {
          "base_uri": "https://localhost:8080/"
        },
        "id": "wB1AWm0GWdrW",
        "outputId": "44a09567-4d0e-4c41-b55d-f4434da28843"
      },
      "execution_count": 63,
      "outputs": [
        {
          "output_type": "stream",
          "name": "stdout",
          "text": [
            "New York GPE\n"
          ]
        }
      ]
    },
    {
      "cell_type": "markdown",
      "source": [
        "`New York` is **GPE** — Geo-Political Entity"
      ],
      "metadata": {
        "id": "cvOw4CxgWlT1"
      }
    },
    {
      "cell_type": "markdown",
      "source": [
        "Se você está se perguntando qual poderia ser o significado do rótulo retornado, podemos usar o código abaixo:"
      ],
      "metadata": {
        "id": "pgw5gyUeW8fm"
      }
    },
    {
      "cell_type": "code",
      "source": [
        "spacy.explain('GPE'), spacy.explain('ORG'), spacy.explain('MONEY') "
      ],
      "metadata": {
        "colab": {
          "base_uri": "https://localhost:8080/"
        },
        "id": "gWw_b-I6Wxdn",
        "outputId": "c8812091-7b39-431e-aebc-7b387b306179"
      },
      "execution_count": 65,
      "outputs": [
        {
          "output_type": "execute_result",
          "data": {
            "text/plain": [
              "('Countries, cities, states',\n",
              " 'Companies, agencies, institutions, etc.',\n",
              " 'Monetary values, including unit')"
            ]
          },
          "metadata": {},
          "execution_count": 65
        }
      ]
    },
    {
      "cell_type": "code",
      "source": [
        "doc = nlp(\"Bill Gates and Paul Allen founded Microsoft\")\n",
        "displacy.render(doc, jupyter=True, style=\"ent\")"
      ],
      "metadata": {
        "colab": {
          "base_uri": "https://localhost:8080/",
          "height": 52
        },
        "id": "xkVdtR5sXWLr",
        "outputId": "d0f332eb-3a8f-4156-9d69-f0298321ef48"
      },
      "execution_count": 67,
      "outputs": [
        {
          "output_type": "display_data",
          "data": {
            "text/plain": [
              "<IPython.core.display.HTML object>"
            ],
            "text/html": [
              "<span class=\"tex2jax_ignore\"><div class=\"entities\" style=\"line-height: 2.5; direction: ltr\">\n",
              "<mark class=\"entity\" style=\"background: #aa9cfc; padding: 0.45em 0.6em; margin: 0 0.25em; line-height: 1; border-radius: 0.35em;\">\n",
              "    Bill Gates\n",
              "    <span style=\"font-size: 0.8em; font-weight: bold; line-height: 1; border-radius: 0.35em; vertical-align: middle; margin-left: 0.5rem\">PERSON</span>\n",
              "</mark>\n",
              " and \n",
              "<mark class=\"entity\" style=\"background: #aa9cfc; padding: 0.45em 0.6em; margin: 0 0.25em; line-height: 1; border-radius: 0.35em;\">\n",
              "    Paul Allen\n",
              "    <span style=\"font-size: 0.8em; font-weight: bold; line-height: 1; border-radius: 0.35em; vertical-align: middle; margin-left: 0.5rem\">PERSON</span>\n",
              "</mark>\n",
              " founded \n",
              "<mark class=\"entity\" style=\"background: #7aecec; padding: 0.45em 0.6em; margin: 0 0.25em; line-height: 1; border-radius: 0.35em;\">\n",
              "    Microsoft\n",
              "    <span style=\"font-size: 0.8em; font-weight: bold; line-height: 1; border-radius: 0.35em; vertical-align: middle; margin-left: 0.5rem\">ORG</span>\n",
              "</mark>\n",
              "</div></span>"
            ]
          },
          "metadata": {}
        }
      ]
    },
    {
      "cell_type": "markdown",
      "source": [
        "**Adicionando uma nova entidade**"
      ],
      "metadata": {
        "id": "tO1jvHbVZ_hq"
      }
    },
    {
      "cell_type": "code",
      "source": [
        "doc = nlp('Dogecoin is a parody cryptocurrency created by software engineer Billy Markus and Jackson Palmer in 2013.')\n",
        "for word in doc.ents:\n",
        "    print(word.text, word.label_) "
      ],
      "metadata": {
        "colab": {
          "base_uri": "https://localhost:8080/"
        },
        "id": "33jyhWu3XpHI",
        "outputId": "51190c38-d61f-49e0-8888-0c2aa0a38214"
      },
      "execution_count": 83,
      "outputs": [
        {
          "output_type": "stream",
          "name": "stdout",
          "text": [
            "Billy Markus PERSON\n",
            "Jackson Palmer PERSON\n",
            "2013 DATE\n"
          ]
        }
      ]
    },
    {
      "cell_type": "code",
      "source": [
        "from spacy.tokens import Span\n",
        "\n",
        "new_ent = Span(doc, 0, 1, label = \"MONEY\")\n",
        "doc.set_ents([new_ent], default = 'unmodified')\n",
        "\n",
        "for word in doc.ents:\n",
        "    print(word.text, word.label_)"
      ],
      "metadata": {
        "colab": {
          "base_uri": "https://localhost:8080/"
        },
        "id": "BtBdXsLXYQuy",
        "outputId": "67479695-0298-4908-b87d-4bc97eebc583"
      },
      "execution_count": 84,
      "outputs": [
        {
          "output_type": "stream",
          "name": "stdout",
          "text": [
            "Dogecoin MONEY\n",
            "Billy Markus PERSON\n",
            "Jackson Palmer PERSON\n",
            "2013 DATE\n"
          ]
        }
      ]
    },
    {
      "cell_type": "code",
      "source": [
        "displacy.render(doc, jupyter=True, style=\"ent\")"
      ],
      "metadata": {
        "colab": {
          "base_uri": "https://localhost:8080/",
          "height": 87
        },
        "id": "7T-looRRYc9N",
        "outputId": "331226db-a84f-46cf-c91a-67292c44fbd7"
      },
      "execution_count": 85,
      "outputs": [
        {
          "output_type": "display_data",
          "data": {
            "text/plain": [
              "<IPython.core.display.HTML object>"
            ],
            "text/html": [
              "<span class=\"tex2jax_ignore\"><div class=\"entities\" style=\"line-height: 2.5; direction: ltr\">\n",
              "<mark class=\"entity\" style=\"background: #e4e7d2; padding: 0.45em 0.6em; margin: 0 0.25em; line-height: 1; border-radius: 0.35em;\">\n",
              "    Dogecoin\n",
              "    <span style=\"font-size: 0.8em; font-weight: bold; line-height: 1; border-radius: 0.35em; vertical-align: middle; margin-left: 0.5rem\">MONEY</span>\n",
              "</mark>\n",
              " is a parody cryptocurrency created by software engineer \n",
              "<mark class=\"entity\" style=\"background: #aa9cfc; padding: 0.45em 0.6em; margin: 0 0.25em; line-height: 1; border-radius: 0.35em;\">\n",
              "    Billy Markus\n",
              "    <span style=\"font-size: 0.8em; font-weight: bold; line-height: 1; border-radius: 0.35em; vertical-align: middle; margin-left: 0.5rem\">PERSON</span>\n",
              "</mark>\n",
              " and \n",
              "<mark class=\"entity\" style=\"background: #aa9cfc; padding: 0.45em 0.6em; margin: 0 0.25em; line-height: 1; border-radius: 0.35em;\">\n",
              "    Jackson Palmer\n",
              "    <span style=\"font-size: 0.8em; font-weight: bold; line-height: 1; border-radius: 0.35em; vertical-align: middle; margin-left: 0.5rem\">PERSON</span>\n",
              "</mark>\n",
              " in \n",
              "<mark class=\"entity\" style=\"background: #bfe1d9; padding: 0.45em 0.6em; margin: 0 0.25em; line-height: 1; border-radius: 0.35em;\">\n",
              "    2013\n",
              "    <span style=\"font-size: 0.8em; font-weight: bold; line-height: 1; border-radius: 0.35em; vertical-align: middle; margin-left: 0.5rem\">DATE</span>\n",
              "</mark>\n",
              ".</div></span>"
            ]
          },
          "metadata": {}
        }
      ]
    },
    {
      "cell_type": "markdown",
      "metadata": {
        "id": "GspsFFDt2AaJ"
      },
      "source": [
        "**Referência**:\n",
        "\n",
        "Este notebook foi criado pelo prof. **Ronaldo Prati** [UFABC] e foi adaptado por mim."
      ]
    }
  ]
}