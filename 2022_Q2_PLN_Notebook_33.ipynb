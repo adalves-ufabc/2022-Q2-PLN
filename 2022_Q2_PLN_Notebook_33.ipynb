{
  "nbformat": 4,
  "nbformat_minor": 0,
  "metadata": {
    "kernelspec": {
      "display_name": "Python 3",
      "language": "python",
      "name": "python3"
    },
    "language_info": {
      "codemirror_mode": {
        "name": "ipython",
        "version": 3
      },
      "file_extension": ".py",
      "mimetype": "text/x-python",
      "name": "python",
      "nbconvert_exporter": "python",
      "pygments_lexer": "ipython3",
      "version": "3.7.4"
    },
    "colab": {
      "name": "2022-Q2 PLN Notebook 33.ipynb",
      "provenance": [],
      "collapsed_sections": [],
      "include_colab_link": true
    }
  },
  "cells": [
    {
      "cell_type": "markdown",
      "metadata": {
        "id": "view-in-github",
        "colab_type": "text"
      },
      "source": [
        "<a href=\"https://colab.research.google.com/github/adalves-ufabc/2022.Q2-PLN/blob/main/2022_Q2_PLN_Notebook_33.ipynb\" target=\"_parent\"><img src=\"https://colab.research.google.com/assets/colab-badge.svg\" alt=\"Open In Colab\"/></a>"
      ]
    },
    {
      "cell_type": "markdown",
      "metadata": {
        "id": "pa33w1PK12-G"
      },
      "source": [
        "# **Processamento de Linguagem Natural [2022.Q2]**\n",
        "Prof. Alexandre Donizeti Alves"
      ]
    },
    {
      "cell_type": "markdown",
      "metadata": {
        "id": "bdaYUJDR1vY0"
      },
      "source": [
        "### **Reconhecimento de Entidades Nomeadas com spaCy e roBERTa** \n",
        "\n",
        "---\n"
      ]
    },
    {
      "cell_type": "markdown",
      "source": [
        "Ao ler um texto, um ser humano pode identificar naturalmente entidades nomeadas, como datas, moedas, locais, nomes de pessoas, códigos médicos, marcas etc., tal como:\n",
        "\n",
        " * Qual é o nome da variante covid19 que está em alta nas notícias?\n",
        " * Quais ferramentas são mencionadas em uma determinada descrição de trabalho e em que nível de proficiência?\n",
        " * etc."
      ],
      "metadata": {
        "id": "Uj4KJw3brCIc"
      }
    },
    {
      "cell_type": "markdown",
      "source": [
        "Estaremos realizando a extração de entidades de dois textos diferentes, um texto curto e um muito mais longo e por fim, vamos comparar o desempenho do spaCy tradicional e do roBERTa."
      ],
      "metadata": {
        "id": "LDsmScOMrwci"
      }
    },
    {
      "cell_type": "code",
      "source": [
        "short_text = '''Amy Schneider, an engineering manager from Oakland, California, became the first woman and the fourth person on “Jeopardy!” to earn more than $1 million in winnings on Friday’s episode'''"
      ],
      "metadata": {
        "id": "JsIGn_tzrhkT"
      },
      "execution_count": null,
      "outputs": []
    },
    {
      "cell_type": "code",
      "source": [
        "long_text = '''Good news for consumers, undoubtedly, and good news also for investors. Apple’s recent results, covering the three months to December 31 2016, saw the company’s chief financial officer Luca Maestri announce: ‘We returned nearly $15 billion to investors through share re-purchases and dividends during the quarter.’ The quarterly dividend itself was 57 cents a share, identical to the dividend for the previous three quarters and up on the 52 cents paid for each of the four quarters before that.\n",
        "Business is brisk at Apple. On January 31, Tim Cook, Apple’s chief executive, said of the last three months of 2016: ‘We’re thrilled to report that our holiday quarter results generated Apple’s highest quarterly revenue ever, and broke multiple records along the way. We sold more iPhones than ever before and set all-time revenue records for iPhone, Services, Mac and Apple Watch'''"
      ],
      "metadata": {
        "id": "AdZnngUarnHq"
      },
      "execution_count": null,
      "outputs": []
    },
    {
      "cell_type": "markdown",
      "source": [
        "**Pré-requisitos**"
      ],
      "metadata": {
        "id": "SnkoRTPfsAhk"
      }
    },
    {
      "cell_type": "code",
      "source": [
        "# install spacy library\n",
        "!pip install -U spacy\n",
        "\n",
        "# Install spacy-transformers\n",
        "!pip install spacy[transformers]\n",
        "\n",
        "# Download the traditional spacy english language large model\n",
        "!python -m spacy download en_core_web_lg \n",
        "\n",
        "# Download the spacy transformer (roberta-base) english model\n",
        "!python -m spacy download en_core_web_trf"
      ],
      "metadata": {
        "colab": {
          "base_uri": "https://localhost:8080/"
        },
        "id": "IAz8mv3mnb44",
        "outputId": "07325bd6-9b65-484f-8c79-548415c6883d"
      },
      "execution_count": null,
      "outputs": [
        {
          "output_type": "stream",
          "name": "stdout",
          "text": [
            "Looking in indexes: https://pypi.org/simple, https://us-python.pkg.dev/colab-wheels/public/simple/\n",
            "Requirement already satisfied: spacy in /usr/local/lib/python3.7/dist-packages (3.4.1)\n",
            "Requirement already satisfied: srsly<3.0.0,>=2.4.3 in /usr/local/lib/python3.7/dist-packages (from spacy) (2.4.4)\n",
            "Requirement already satisfied: preshed<3.1.0,>=3.0.2 in /usr/local/lib/python3.7/dist-packages (from spacy) (3.0.6)\n",
            "Requirement already satisfied: jinja2 in /usr/local/lib/python3.7/dist-packages (from spacy) (2.11.3)\n",
            "Requirement already satisfied: wasabi<1.1.0,>=0.9.1 in /usr/local/lib/python3.7/dist-packages (from spacy) (0.10.1)\n",
            "Requirement already satisfied: spacy-legacy<3.1.0,>=3.0.9 in /usr/local/lib/python3.7/dist-packages (from spacy) (3.0.9)\n",
            "Requirement already satisfied: setuptools in /usr/local/lib/python3.7/dist-packages (from spacy) (57.4.0)\n",
            "Requirement already satisfied: requests<3.0.0,>=2.13.0 in /usr/local/lib/python3.7/dist-packages (from spacy) (2.23.0)\n",
            "Requirement already satisfied: thinc<8.2.0,>=8.1.0 in /usr/local/lib/python3.7/dist-packages (from spacy) (8.1.0)\n",
            "Requirement already satisfied: langcodes<4.0.0,>=3.2.0 in /usr/local/lib/python3.7/dist-packages (from spacy) (3.3.0)\n",
            "Requirement already satisfied: murmurhash<1.1.0,>=0.28.0 in /usr/local/lib/python3.7/dist-packages (from spacy) (1.0.7)\n",
            "Requirement already satisfied: packaging>=20.0 in /usr/local/lib/python3.7/dist-packages (from spacy) (21.3)\n",
            "Requirement already satisfied: typing-extensions<4.2.0,>=3.7.4 in /usr/local/lib/python3.7/dist-packages (from spacy) (4.1.1)\n",
            "Requirement already satisfied: typer<0.5.0,>=0.3.0 in /usr/local/lib/python3.7/dist-packages (from spacy) (0.4.2)\n",
            "Requirement already satisfied: catalogue<2.1.0,>=2.0.6 in /usr/local/lib/python3.7/dist-packages (from spacy) (2.0.8)\n",
            "Requirement already satisfied: pathy>=0.3.5 in /usr/local/lib/python3.7/dist-packages (from spacy) (0.6.2)\n",
            "Requirement already satisfied: cymem<2.1.0,>=2.0.2 in /usr/local/lib/python3.7/dist-packages (from spacy) (2.0.6)\n",
            "Requirement already satisfied: tqdm<5.0.0,>=4.38.0 in /usr/local/lib/python3.7/dist-packages (from spacy) (4.64.0)\n",
            "Requirement already satisfied: spacy-loggers<2.0.0,>=1.0.0 in /usr/local/lib/python3.7/dist-packages (from spacy) (1.0.3)\n",
            "Requirement already satisfied: pydantic!=1.8,!=1.8.1,<1.10.0,>=1.7.4 in /usr/local/lib/python3.7/dist-packages (from spacy) (1.9.1)\n",
            "Requirement already satisfied: numpy>=1.15.0 in /usr/local/lib/python3.7/dist-packages (from spacy) (1.21.6)\n",
            "Requirement already satisfied: zipp>=0.5 in /usr/local/lib/python3.7/dist-packages (from catalogue<2.1.0,>=2.0.6->spacy) (3.8.1)\n",
            "Requirement already satisfied: pyparsing!=3.0.5,>=2.0.2 in /usr/local/lib/python3.7/dist-packages (from packaging>=20.0->spacy) (3.0.9)\n",
            "Requirement already satisfied: smart-open<6.0.0,>=5.2.1 in /usr/local/lib/python3.7/dist-packages (from pathy>=0.3.5->spacy) (5.2.1)\n",
            "Requirement already satisfied: chardet<4,>=3.0.2 in /usr/local/lib/python3.7/dist-packages (from requests<3.0.0,>=2.13.0->spacy) (3.0.4)\n",
            "Requirement already satisfied: certifi>=2017.4.17 in /usr/local/lib/python3.7/dist-packages (from requests<3.0.0,>=2.13.0->spacy) (2022.6.15)\n",
            "Requirement already satisfied: idna<3,>=2.5 in /usr/local/lib/python3.7/dist-packages (from requests<3.0.0,>=2.13.0->spacy) (2.10)\n",
            "Requirement already satisfied: urllib3!=1.25.0,!=1.25.1,<1.26,>=1.21.1 in /usr/local/lib/python3.7/dist-packages (from requests<3.0.0,>=2.13.0->spacy) (1.24.3)\n",
            "Requirement already satisfied: blis<0.8.0,>=0.7.8 in /usr/local/lib/python3.7/dist-packages (from thinc<8.2.0,>=8.1.0->spacy) (0.7.8)\n",
            "Requirement already satisfied: click<9.0.0,>=7.1.1 in /usr/local/lib/python3.7/dist-packages (from typer<0.5.0,>=0.3.0->spacy) (7.1.2)\n",
            "Requirement already satisfied: MarkupSafe>=0.23 in /usr/local/lib/python3.7/dist-packages (from jinja2->spacy) (2.0.1)\n",
            "Looking in indexes: https://pypi.org/simple, https://us-python.pkg.dev/colab-wheels/public/simple/\n",
            "Requirement already satisfied: spacy[transformers] in /usr/local/lib/python3.7/dist-packages (3.4.1)\n",
            "Requirement already satisfied: numpy>=1.15.0 in /usr/local/lib/python3.7/dist-packages (from spacy[transformers]) (1.21.6)\n",
            "Requirement already satisfied: typing-extensions<4.2.0,>=3.7.4 in /usr/local/lib/python3.7/dist-packages (from spacy[transformers]) (4.1.1)\n",
            "Requirement already satisfied: spacy-loggers<2.0.0,>=1.0.0 in /usr/local/lib/python3.7/dist-packages (from spacy[transformers]) (1.0.3)\n",
            "Requirement already satisfied: jinja2 in /usr/local/lib/python3.7/dist-packages (from spacy[transformers]) (2.11.3)\n",
            "Requirement already satisfied: spacy-legacy<3.1.0,>=3.0.9 in /usr/local/lib/python3.7/dist-packages (from spacy[transformers]) (3.0.9)\n",
            "Requirement already satisfied: tqdm<5.0.0,>=4.38.0 in /usr/local/lib/python3.7/dist-packages (from spacy[transformers]) (4.64.0)\n",
            "Requirement already satisfied: cymem<2.1.0,>=2.0.2 in /usr/local/lib/python3.7/dist-packages (from spacy[transformers]) (2.0.6)\n",
            "Requirement already satisfied: srsly<3.0.0,>=2.4.3 in /usr/local/lib/python3.7/dist-packages (from spacy[transformers]) (2.4.4)\n",
            "Requirement already satisfied: catalogue<2.1.0,>=2.0.6 in /usr/local/lib/python3.7/dist-packages (from spacy[transformers]) (2.0.8)\n",
            "Requirement already satisfied: wasabi<1.1.0,>=0.9.1 in /usr/local/lib/python3.7/dist-packages (from spacy[transformers]) (0.10.1)\n",
            "Requirement already satisfied: thinc<8.2.0,>=8.1.0 in /usr/local/lib/python3.7/dist-packages (from spacy[transformers]) (8.1.0)\n",
            "Requirement already satisfied: typer<0.5.0,>=0.3.0 in /usr/local/lib/python3.7/dist-packages (from spacy[transformers]) (0.4.2)\n",
            "Requirement already satisfied: pydantic!=1.8,!=1.8.1,<1.10.0,>=1.7.4 in /usr/local/lib/python3.7/dist-packages (from spacy[transformers]) (1.9.1)\n",
            "Requirement already satisfied: packaging>=20.0 in /usr/local/lib/python3.7/dist-packages (from spacy[transformers]) (21.3)\n",
            "Requirement already satisfied: preshed<3.1.0,>=3.0.2 in /usr/local/lib/python3.7/dist-packages (from spacy[transformers]) (3.0.6)\n",
            "Requirement already satisfied: requests<3.0.0,>=2.13.0 in /usr/local/lib/python3.7/dist-packages (from spacy[transformers]) (2.23.0)\n",
            "Requirement already satisfied: setuptools in /usr/local/lib/python3.7/dist-packages (from spacy[transformers]) (57.4.0)\n",
            "Requirement already satisfied: murmurhash<1.1.0,>=0.28.0 in /usr/local/lib/python3.7/dist-packages (from spacy[transformers]) (1.0.7)\n",
            "Requirement already satisfied: langcodes<4.0.0,>=3.2.0 in /usr/local/lib/python3.7/dist-packages (from spacy[transformers]) (3.3.0)\n",
            "Requirement already satisfied: pathy>=0.3.5 in /usr/local/lib/python3.7/dist-packages (from spacy[transformers]) (0.6.2)\n",
            "Collecting spacy-transformers<1.2.0,>=1.1.2\n",
            "  Downloading spacy_transformers-1.1.8-py2.py3-none-any.whl (53 kB)\n",
            "\u001b[K     |████████████████████████████████| 53 kB 2.0 MB/s \n",
            "\u001b[?25hRequirement already satisfied: zipp>=0.5 in /usr/local/lib/python3.7/dist-packages (from catalogue<2.1.0,>=2.0.6->spacy[transformers]) (3.8.1)\n",
            "Requirement already satisfied: pyparsing!=3.0.5,>=2.0.2 in /usr/local/lib/python3.7/dist-packages (from packaging>=20.0->spacy[transformers]) (3.0.9)\n",
            "Requirement already satisfied: smart-open<6.0.0,>=5.2.1 in /usr/local/lib/python3.7/dist-packages (from pathy>=0.3.5->spacy[transformers]) (5.2.1)\n",
            "Requirement already satisfied: certifi>=2017.4.17 in /usr/local/lib/python3.7/dist-packages (from requests<3.0.0,>=2.13.0->spacy[transformers]) (2022.6.15)\n",
            "Requirement already satisfied: idna<3,>=2.5 in /usr/local/lib/python3.7/dist-packages (from requests<3.0.0,>=2.13.0->spacy[transformers]) (2.10)\n",
            "Requirement already satisfied: chardet<4,>=3.0.2 in /usr/local/lib/python3.7/dist-packages (from requests<3.0.0,>=2.13.0->spacy[transformers]) (3.0.4)\n",
            "Requirement already satisfied: urllib3!=1.25.0,!=1.25.1,<1.26,>=1.21.1 in /usr/local/lib/python3.7/dist-packages (from requests<3.0.0,>=2.13.0->spacy[transformers]) (1.24.3)\n",
            "Collecting transformers<4.22.0,>=3.4.0\n",
            "  Downloading transformers-4.21.1-py3-none-any.whl (4.7 MB)\n",
            "\u001b[K     |████████████████████████████████| 4.7 MB 30.4 MB/s \n",
            "\u001b[?25hRequirement already satisfied: torch>=1.6.0 in /usr/local/lib/python3.7/dist-packages (from spacy-transformers<1.2.0,>=1.1.2->spacy[transformers]) (1.12.1+cu113)\n",
            "Collecting spacy-alignments<1.0.0,>=0.7.2\n",
            "  Downloading spacy_alignments-0.8.5-cp37-cp37m-manylinux_2_17_x86_64.manylinux2014_x86_64.whl (1.1 MB)\n",
            "\u001b[K     |████████████████████████████████| 1.1 MB 60.9 MB/s \n",
            "\u001b[?25hRequirement already satisfied: blis<0.8.0,>=0.7.8 in /usr/local/lib/python3.7/dist-packages (from thinc<8.2.0,>=8.1.0->spacy[transformers]) (0.7.8)\n",
            "Collecting huggingface-hub<1.0,>=0.1.0\n",
            "  Downloading huggingface_hub-0.8.1-py3-none-any.whl (101 kB)\n",
            "\u001b[K     |████████████████████████████████| 101 kB 12.3 MB/s \n",
            "\u001b[?25hRequirement already satisfied: filelock in /usr/local/lib/python3.7/dist-packages (from transformers<4.22.0,>=3.4.0->spacy-transformers<1.2.0,>=1.1.2->spacy[transformers]) (3.8.0)\n",
            "Collecting pyyaml>=5.1\n",
            "  Downloading PyYAML-6.0-cp37-cp37m-manylinux_2_5_x86_64.manylinux1_x86_64.manylinux_2_12_x86_64.manylinux2010_x86_64.whl (596 kB)\n",
            "\u001b[K     |████████████████████████████████| 596 kB 84.8 MB/s \n",
            "\u001b[?25hRequirement already satisfied: regex!=2019.12.17 in /usr/local/lib/python3.7/dist-packages (from transformers<4.22.0,>=3.4.0->spacy-transformers<1.2.0,>=1.1.2->spacy[transformers]) (2022.6.2)\n",
            "Requirement already satisfied: importlib-metadata in /usr/local/lib/python3.7/dist-packages (from transformers<4.22.0,>=3.4.0->spacy-transformers<1.2.0,>=1.1.2->spacy[transformers]) (4.12.0)\n",
            "Collecting tokenizers!=0.11.3,<0.13,>=0.11.1\n",
            "  Downloading tokenizers-0.12.1-cp37-cp37m-manylinux_2_12_x86_64.manylinux2010_x86_64.whl (6.6 MB)\n",
            "\u001b[K     |████████████████████████████████| 6.6 MB 50.4 MB/s \n",
            "\u001b[?25hRequirement already satisfied: click<9.0.0,>=7.1.1 in /usr/local/lib/python3.7/dist-packages (from typer<0.5.0,>=0.3.0->spacy[transformers]) (7.1.2)\n",
            "Requirement already satisfied: MarkupSafe>=0.23 in /usr/local/lib/python3.7/dist-packages (from jinja2->spacy[transformers]) (2.0.1)\n",
            "Installing collected packages: pyyaml, tokenizers, huggingface-hub, transformers, spacy-alignments, spacy-transformers\n",
            "  Attempting uninstall: pyyaml\n",
            "    Found existing installation: PyYAML 3.13\n",
            "    Uninstalling PyYAML-3.13:\n",
            "      Successfully uninstalled PyYAML-3.13\n",
            "Successfully installed huggingface-hub-0.8.1 pyyaml-6.0 spacy-alignments-0.8.5 spacy-transformers-1.1.8 tokenizers-0.12.1 transformers-4.21.1\n",
            "2022-08-18 20:24:02.276438: E tensorflow/stream_executor/cuda/cuda_driver.cc:271] failed call to cuInit: CUDA_ERROR_NO_DEVICE: no CUDA-capable device is detected\n",
            "Looking in indexes: https://pypi.org/simple, https://us-python.pkg.dev/colab-wheels/public/simple/\n",
            "Collecting en-core-web-lg==3.4.0\n",
            "  Downloading https://github.com/explosion/spacy-models/releases/download/en_core_web_lg-3.4.0/en_core_web_lg-3.4.0-py3-none-any.whl (587.7 MB)\n",
            "\u001b[K     |████████████████████████████████| 587.7 MB 9.9 kB/s \n",
            "\u001b[?25hRequirement already satisfied: spacy<3.5.0,>=3.4.0 in /usr/local/lib/python3.7/dist-packages (from en-core-web-lg==3.4.0) (3.4.1)\n",
            "Requirement already satisfied: langcodes<4.0.0,>=3.2.0 in /usr/local/lib/python3.7/dist-packages (from spacy<3.5.0,>=3.4.0->en-core-web-lg==3.4.0) (3.3.0)\n",
            "Requirement already satisfied: catalogue<2.1.0,>=2.0.6 in /usr/local/lib/python3.7/dist-packages (from spacy<3.5.0,>=3.4.0->en-core-web-lg==3.4.0) (2.0.8)\n",
            "Requirement already satisfied: pydantic!=1.8,!=1.8.1,<1.10.0,>=1.7.4 in /usr/local/lib/python3.7/dist-packages (from spacy<3.5.0,>=3.4.0->en-core-web-lg==3.4.0) (1.9.1)\n",
            "Requirement already satisfied: typing-extensions<4.2.0,>=3.7.4 in /usr/local/lib/python3.7/dist-packages (from spacy<3.5.0,>=3.4.0->en-core-web-lg==3.4.0) (4.1.1)\n",
            "Requirement already satisfied: packaging>=20.0 in /usr/local/lib/python3.7/dist-packages (from spacy<3.5.0,>=3.4.0->en-core-web-lg==3.4.0) (21.3)\n",
            "Requirement already satisfied: setuptools in /usr/local/lib/python3.7/dist-packages (from spacy<3.5.0,>=3.4.0->en-core-web-lg==3.4.0) (57.4.0)\n",
            "Requirement already satisfied: murmurhash<1.1.0,>=0.28.0 in /usr/local/lib/python3.7/dist-packages (from spacy<3.5.0,>=3.4.0->en-core-web-lg==3.4.0) (1.0.7)\n",
            "Requirement already satisfied: spacy-legacy<3.1.0,>=3.0.9 in /usr/local/lib/python3.7/dist-packages (from spacy<3.5.0,>=3.4.0->en-core-web-lg==3.4.0) (3.0.9)\n",
            "Requirement already satisfied: requests<3.0.0,>=2.13.0 in /usr/local/lib/python3.7/dist-packages (from spacy<3.5.0,>=3.4.0->en-core-web-lg==3.4.0) (2.23.0)\n",
            "Requirement already satisfied: pathy>=0.3.5 in /usr/local/lib/python3.7/dist-packages (from spacy<3.5.0,>=3.4.0->en-core-web-lg==3.4.0) (0.6.2)\n",
            "Requirement already satisfied: typer<0.5.0,>=0.3.0 in /usr/local/lib/python3.7/dist-packages (from spacy<3.5.0,>=3.4.0->en-core-web-lg==3.4.0) (0.4.2)\n",
            "Requirement already satisfied: jinja2 in /usr/local/lib/python3.7/dist-packages (from spacy<3.5.0,>=3.4.0->en-core-web-lg==3.4.0) (2.11.3)\n",
            "Requirement already satisfied: srsly<3.0.0,>=2.4.3 in /usr/local/lib/python3.7/dist-packages (from spacy<3.5.0,>=3.4.0->en-core-web-lg==3.4.0) (2.4.4)\n",
            "Requirement already satisfied: numpy>=1.15.0 in /usr/local/lib/python3.7/dist-packages (from spacy<3.5.0,>=3.4.0->en-core-web-lg==3.4.0) (1.21.6)\n",
            "Requirement already satisfied: cymem<2.1.0,>=2.0.2 in /usr/local/lib/python3.7/dist-packages (from spacy<3.5.0,>=3.4.0->en-core-web-lg==3.4.0) (2.0.6)\n",
            "Requirement already satisfied: tqdm<5.0.0,>=4.38.0 in /usr/local/lib/python3.7/dist-packages (from spacy<3.5.0,>=3.4.0->en-core-web-lg==3.4.0) (4.64.0)\n",
            "Requirement already satisfied: preshed<3.1.0,>=3.0.2 in /usr/local/lib/python3.7/dist-packages (from spacy<3.5.0,>=3.4.0->en-core-web-lg==3.4.0) (3.0.6)\n",
            "Requirement already satisfied: thinc<8.2.0,>=8.1.0 in /usr/local/lib/python3.7/dist-packages (from spacy<3.5.0,>=3.4.0->en-core-web-lg==3.4.0) (8.1.0)\n",
            "Requirement already satisfied: wasabi<1.1.0,>=0.9.1 in /usr/local/lib/python3.7/dist-packages (from spacy<3.5.0,>=3.4.0->en-core-web-lg==3.4.0) (0.10.1)\n",
            "Requirement already satisfied: spacy-loggers<2.0.0,>=1.0.0 in /usr/local/lib/python3.7/dist-packages (from spacy<3.5.0,>=3.4.0->en-core-web-lg==3.4.0) (1.0.3)\n",
            "Requirement already satisfied: zipp>=0.5 in /usr/local/lib/python3.7/dist-packages (from catalogue<2.1.0,>=2.0.6->spacy<3.5.0,>=3.4.0->en-core-web-lg==3.4.0) (3.8.1)\n",
            "Requirement already satisfied: pyparsing!=3.0.5,>=2.0.2 in /usr/local/lib/python3.7/dist-packages (from packaging>=20.0->spacy<3.5.0,>=3.4.0->en-core-web-lg==3.4.0) (3.0.9)\n",
            "Requirement already satisfied: smart-open<6.0.0,>=5.2.1 in /usr/local/lib/python3.7/dist-packages (from pathy>=0.3.5->spacy<3.5.0,>=3.4.0->en-core-web-lg==3.4.0) (5.2.1)\n",
            "Requirement already satisfied: urllib3!=1.25.0,!=1.25.1,<1.26,>=1.21.1 in /usr/local/lib/python3.7/dist-packages (from requests<3.0.0,>=2.13.0->spacy<3.5.0,>=3.4.0->en-core-web-lg==3.4.0) (1.24.3)\n",
            "Requirement already satisfied: certifi>=2017.4.17 in /usr/local/lib/python3.7/dist-packages (from requests<3.0.0,>=2.13.0->spacy<3.5.0,>=3.4.0->en-core-web-lg==3.4.0) (2022.6.15)\n",
            "Requirement already satisfied: chardet<4,>=3.0.2 in /usr/local/lib/python3.7/dist-packages (from requests<3.0.0,>=2.13.0->spacy<3.5.0,>=3.4.0->en-core-web-lg==3.4.0) (3.0.4)\n",
            "Requirement already satisfied: idna<3,>=2.5 in /usr/local/lib/python3.7/dist-packages (from requests<3.0.0,>=2.13.0->spacy<3.5.0,>=3.4.0->en-core-web-lg==3.4.0) (2.10)\n",
            "Requirement already satisfied: blis<0.8.0,>=0.7.8 in /usr/local/lib/python3.7/dist-packages (from thinc<8.2.0,>=8.1.0->spacy<3.5.0,>=3.4.0->en-core-web-lg==3.4.0) (0.7.8)\n",
            "Requirement already satisfied: click<9.0.0,>=7.1.1 in /usr/local/lib/python3.7/dist-packages (from typer<0.5.0,>=0.3.0->spacy<3.5.0,>=3.4.0->en-core-web-lg==3.4.0) (7.1.2)\n",
            "Requirement already satisfied: MarkupSafe>=0.23 in /usr/local/lib/python3.7/dist-packages (from jinja2->spacy<3.5.0,>=3.4.0->en-core-web-lg==3.4.0) (2.0.1)\n",
            "Installing collected packages: en-core-web-lg\n",
            "Successfully installed en-core-web-lg-3.4.0\n",
            "\u001b[38;5;2m✔ Download and installation successful\u001b[0m\n",
            "You can now load the package via spacy.load('en_core_web_lg')\n",
            "2022-08-18 20:24:52.980224: E tensorflow/stream_executor/cuda/cuda_driver.cc:271] failed call to cuInit: CUDA_ERROR_NO_DEVICE: no CUDA-capable device is detected\n",
            "Looking in indexes: https://pypi.org/simple, https://us-python.pkg.dev/colab-wheels/public/simple/\n",
            "Collecting en-core-web-trf==3.4.0\n",
            "  Downloading https://github.com/explosion/spacy-models/releases/download/en_core_web_trf-3.4.0/en_core_web_trf-3.4.0-py3-none-any.whl (460.3 MB)\n",
            "\u001b[K     |████████████████████████████████| 460.3 MB 36 kB/s \n",
            "\u001b[?25hRequirement already satisfied: spacy-transformers<1.2.0,>=1.1.2 in /usr/local/lib/python3.7/dist-packages (from en-core-web-trf==3.4.0) (1.1.8)\n",
            "Requirement already satisfied: spacy<3.5.0,>=3.4.0 in /usr/local/lib/python3.7/dist-packages (from en-core-web-trf==3.4.0) (3.4.1)\n",
            "Requirement already satisfied: murmurhash<1.1.0,>=0.28.0 in /usr/local/lib/python3.7/dist-packages (from spacy<3.5.0,>=3.4.0->en-core-web-trf==3.4.0) (1.0.7)\n",
            "Requirement already satisfied: wasabi<1.1.0,>=0.9.1 in /usr/local/lib/python3.7/dist-packages (from spacy<3.5.0,>=3.4.0->en-core-web-trf==3.4.0) (0.10.1)\n",
            "Requirement already satisfied: pydantic!=1.8,!=1.8.1,<1.10.0,>=1.7.4 in /usr/local/lib/python3.7/dist-packages (from spacy<3.5.0,>=3.4.0->en-core-web-trf==3.4.0) (1.9.1)\n",
            "Requirement already satisfied: requests<3.0.0,>=2.13.0 in /usr/local/lib/python3.7/dist-packages (from spacy<3.5.0,>=3.4.0->en-core-web-trf==3.4.0) (2.23.0)\n",
            "Requirement already satisfied: packaging>=20.0 in /usr/local/lib/python3.7/dist-packages (from spacy<3.5.0,>=3.4.0->en-core-web-trf==3.4.0) (21.3)\n",
            "Requirement already satisfied: setuptools in /usr/local/lib/python3.7/dist-packages (from spacy<3.5.0,>=3.4.0->en-core-web-trf==3.4.0) (57.4.0)\n",
            "Requirement already satisfied: typer<0.5.0,>=0.3.0 in /usr/local/lib/python3.7/dist-packages (from spacy<3.5.0,>=3.4.0->en-core-web-trf==3.4.0) (0.4.2)\n",
            "Requirement already satisfied: spacy-loggers<2.0.0,>=1.0.0 in /usr/local/lib/python3.7/dist-packages (from spacy<3.5.0,>=3.4.0->en-core-web-trf==3.4.0) (1.0.3)\n",
            "Requirement already satisfied: langcodes<4.0.0,>=3.2.0 in /usr/local/lib/python3.7/dist-packages (from spacy<3.5.0,>=3.4.0->en-core-web-trf==3.4.0) (3.3.0)\n",
            "Requirement already satisfied: thinc<8.2.0,>=8.1.0 in /usr/local/lib/python3.7/dist-packages (from spacy<3.5.0,>=3.4.0->en-core-web-trf==3.4.0) (8.1.0)\n",
            "Requirement already satisfied: cymem<2.1.0,>=2.0.2 in /usr/local/lib/python3.7/dist-packages (from spacy<3.5.0,>=3.4.0->en-core-web-trf==3.4.0) (2.0.6)\n",
            "Requirement already satisfied: preshed<3.1.0,>=3.0.2 in /usr/local/lib/python3.7/dist-packages (from spacy<3.5.0,>=3.4.0->en-core-web-trf==3.4.0) (3.0.6)\n",
            "Requirement already satisfied: typing-extensions<4.2.0,>=3.7.4 in /usr/local/lib/python3.7/dist-packages (from spacy<3.5.0,>=3.4.0->en-core-web-trf==3.4.0) (4.1.1)\n",
            "Requirement already satisfied: numpy>=1.15.0 in /usr/local/lib/python3.7/dist-packages (from spacy<3.5.0,>=3.4.0->en-core-web-trf==3.4.0) (1.21.6)\n",
            "Requirement already satisfied: spacy-legacy<3.1.0,>=3.0.9 in /usr/local/lib/python3.7/dist-packages (from spacy<3.5.0,>=3.4.0->en-core-web-trf==3.4.0) (3.0.9)\n",
            "Requirement already satisfied: srsly<3.0.0,>=2.4.3 in /usr/local/lib/python3.7/dist-packages (from spacy<3.5.0,>=3.4.0->en-core-web-trf==3.4.0) (2.4.4)\n",
            "Requirement already satisfied: catalogue<2.1.0,>=2.0.6 in /usr/local/lib/python3.7/dist-packages (from spacy<3.5.0,>=3.4.0->en-core-web-trf==3.4.0) (2.0.8)\n",
            "Requirement already satisfied: tqdm<5.0.0,>=4.38.0 in /usr/local/lib/python3.7/dist-packages (from spacy<3.5.0,>=3.4.0->en-core-web-trf==3.4.0) (4.64.0)\n",
            "Requirement already satisfied: pathy>=0.3.5 in /usr/local/lib/python3.7/dist-packages (from spacy<3.5.0,>=3.4.0->en-core-web-trf==3.4.0) (0.6.2)\n",
            "Requirement already satisfied: jinja2 in /usr/local/lib/python3.7/dist-packages (from spacy<3.5.0,>=3.4.0->en-core-web-trf==3.4.0) (2.11.3)\n",
            "Requirement already satisfied: zipp>=0.5 in /usr/local/lib/python3.7/dist-packages (from catalogue<2.1.0,>=2.0.6->spacy<3.5.0,>=3.4.0->en-core-web-trf==3.4.0) (3.8.1)\n",
            "Requirement already satisfied: pyparsing!=3.0.5,>=2.0.2 in /usr/local/lib/python3.7/dist-packages (from packaging>=20.0->spacy<3.5.0,>=3.4.0->en-core-web-trf==3.4.0) (3.0.9)\n",
            "Requirement already satisfied: smart-open<6.0.0,>=5.2.1 in /usr/local/lib/python3.7/dist-packages (from pathy>=0.3.5->spacy<3.5.0,>=3.4.0->en-core-web-trf==3.4.0) (5.2.1)\n",
            "Requirement already satisfied: idna<3,>=2.5 in /usr/local/lib/python3.7/dist-packages (from requests<3.0.0,>=2.13.0->spacy<3.5.0,>=3.4.0->en-core-web-trf==3.4.0) (2.10)\n",
            "Requirement already satisfied: urllib3!=1.25.0,!=1.25.1,<1.26,>=1.21.1 in /usr/local/lib/python3.7/dist-packages (from requests<3.0.0,>=2.13.0->spacy<3.5.0,>=3.4.0->en-core-web-trf==3.4.0) (1.24.3)\n",
            "Requirement already satisfied: certifi>=2017.4.17 in /usr/local/lib/python3.7/dist-packages (from requests<3.0.0,>=2.13.0->spacy<3.5.0,>=3.4.0->en-core-web-trf==3.4.0) (2022.6.15)\n",
            "Requirement already satisfied: chardet<4,>=3.0.2 in /usr/local/lib/python3.7/dist-packages (from requests<3.0.0,>=2.13.0->spacy<3.5.0,>=3.4.0->en-core-web-trf==3.4.0) (3.0.4)\n",
            "Requirement already satisfied: torch>=1.6.0 in /usr/local/lib/python3.7/dist-packages (from spacy-transformers<1.2.0,>=1.1.2->en-core-web-trf==3.4.0) (1.12.1+cu113)\n",
            "Requirement already satisfied: spacy-alignments<1.0.0,>=0.7.2 in /usr/local/lib/python3.7/dist-packages (from spacy-transformers<1.2.0,>=1.1.2->en-core-web-trf==3.4.0) (0.8.5)\n",
            "Requirement already satisfied: transformers<4.22.0,>=3.4.0 in /usr/local/lib/python3.7/dist-packages (from spacy-transformers<1.2.0,>=1.1.2->en-core-web-trf==3.4.0) (4.21.1)\n",
            "Requirement already satisfied: blis<0.8.0,>=0.7.8 in /usr/local/lib/python3.7/dist-packages (from thinc<8.2.0,>=8.1.0->spacy<3.5.0,>=3.4.0->en-core-web-trf==3.4.0) (0.7.8)\n",
            "Requirement already satisfied: pyyaml>=5.1 in /usr/local/lib/python3.7/dist-packages (from transformers<4.22.0,>=3.4.0->spacy-transformers<1.2.0,>=1.1.2->en-core-web-trf==3.4.0) (6.0)\n",
            "Requirement already satisfied: huggingface-hub<1.0,>=0.1.0 in /usr/local/lib/python3.7/dist-packages (from transformers<4.22.0,>=3.4.0->spacy-transformers<1.2.0,>=1.1.2->en-core-web-trf==3.4.0) (0.8.1)\n",
            "Requirement already satisfied: tokenizers!=0.11.3,<0.13,>=0.11.1 in /usr/local/lib/python3.7/dist-packages (from transformers<4.22.0,>=3.4.0->spacy-transformers<1.2.0,>=1.1.2->en-core-web-trf==3.4.0) (0.12.1)\n",
            "Requirement already satisfied: regex!=2019.12.17 in /usr/local/lib/python3.7/dist-packages (from transformers<4.22.0,>=3.4.0->spacy-transformers<1.2.0,>=1.1.2->en-core-web-trf==3.4.0) (2022.6.2)\n",
            "Requirement already satisfied: importlib-metadata in /usr/local/lib/python3.7/dist-packages (from transformers<4.22.0,>=3.4.0->spacy-transformers<1.2.0,>=1.1.2->en-core-web-trf==3.4.0) (4.12.0)\n",
            "Requirement already satisfied: filelock in /usr/local/lib/python3.7/dist-packages (from transformers<4.22.0,>=3.4.0->spacy-transformers<1.2.0,>=1.1.2->en-core-web-trf==3.4.0) (3.8.0)\n",
            "Requirement already satisfied: click<9.0.0,>=7.1.1 in /usr/local/lib/python3.7/dist-packages (from typer<0.5.0,>=0.3.0->spacy<3.5.0,>=3.4.0->en-core-web-trf==3.4.0) (7.1.2)\n",
            "Requirement already satisfied: MarkupSafe>=0.23 in /usr/local/lib/python3.7/dist-packages (from jinja2->spacy<3.5.0,>=3.4.0->en-core-web-trf==3.4.0) (2.0.1)\n",
            "Installing collected packages: en-core-web-trf\n",
            "Successfully installed en-core-web-trf-3.4.0\n",
            "\u001b[38;5;2m✔ Download and installation successful\u001b[0m\n",
            "You can now load the package via spacy.load('en_core_web_trf')\n"
          ]
        }
      ]
    },
    {
      "cell_type": "code",
      "source": [
        "def print_entities(pipeline, text):\n",
        "    \n",
        "    # Create a document \n",
        "    document = pipeline(text)\n",
        "    \n",
        "    # Entity text & label extraction\n",
        "    for entity in document.ents:\n",
        "        print(entity.text + '->', entity.label_)\n",
        "        \n",
        "        \n",
        "def visualize_entities(pipeline, text):\n",
        "    \n",
        "    # Create a document \n",
        "    document = pipeline(text)\n",
        "        \n",
        "    # Show entities in pretty manner\n",
        "    displacy.render(document, jupyter=True, style='ent')"
      ],
      "metadata": {
        "id": "ZgpMRmI7n5-9"
      },
      "execution_count": null,
      "outputs": []
    },
    {
      "cell_type": "markdown",
      "source": [
        "**spaCy Tradicional**"
      ],
      "metadata": {
        "id": "dPRUUGRFsKbP"
      }
    },
    {
      "cell_type": "code",
      "source": [
        "import spacy\n",
        "from spacy import displacy\n",
        "\n",
        "# Load English large model\n",
        "nlp_sm = spacy.load(\"en_core_web_lg\")"
      ],
      "metadata": {
        "id": "Ng9G7JH9oVxX"
      },
      "execution_count": null,
      "outputs": []
    },
    {
      "cell_type": "code",
      "source": [
        "print_entities(nlp_sm, short_text)"
      ],
      "metadata": {
        "colab": {
          "base_uri": "https://localhost:8080/"
        },
        "id": "Mx-HZwvWob5F",
        "outputId": "24e7d1fd-e07b-4484-c47e-b005bab1b925"
      },
      "execution_count": null,
      "outputs": [
        {
          "output_type": "stream",
          "name": "stdout",
          "text": [
            "Amy Schneider-> PERSON\n",
            "Oakland-> GPE\n",
            "California-> GPE\n",
            "first-> ORDINAL\n",
            "fourth-> ORDINAL\n",
            "Jeopardy-> WORK_OF_ART\n",
            "more than $1 million-> MONEY\n",
            "Friday-> DATE\n"
          ]
        }
      ]
    },
    {
      "cell_type": "code",
      "source": [
        "visualize_entities(nlp_sm, short_text)"
      ],
      "metadata": {
        "colab": {
          "base_uri": "https://localhost:8080/",
          "height": 122
        },
        "id": "BgBvuCrtpBxs",
        "outputId": "45e23be9-070d-4181-f4a8-22dd77f9098b"
      },
      "execution_count": null,
      "outputs": [
        {
          "output_type": "display_data",
          "data": {
            "text/plain": [
              "<IPython.core.display.HTML object>"
            ],
            "text/html": [
              "<span class=\"tex2jax_ignore\"><div class=\"entities\" style=\"line-height: 2.5; direction: ltr\">\n",
              "<mark class=\"entity\" style=\"background: #aa9cfc; padding: 0.45em 0.6em; margin: 0 0.25em; line-height: 1; border-radius: 0.35em;\">\n",
              "    Amy Schneider\n",
              "    <span style=\"font-size: 0.8em; font-weight: bold; line-height: 1; border-radius: 0.35em; vertical-align: middle; margin-left: 0.5rem\">PERSON</span>\n",
              "</mark>\n",
              ", an engineering manager from \n",
              "<mark class=\"entity\" style=\"background: #feca74; padding: 0.45em 0.6em; margin: 0 0.25em; line-height: 1; border-radius: 0.35em;\">\n",
              "    Oakland\n",
              "    <span style=\"font-size: 0.8em; font-weight: bold; line-height: 1; border-radius: 0.35em; vertical-align: middle; margin-left: 0.5rem\">GPE</span>\n",
              "</mark>\n",
              ", \n",
              "<mark class=\"entity\" style=\"background: #feca74; padding: 0.45em 0.6em; margin: 0 0.25em; line-height: 1; border-radius: 0.35em;\">\n",
              "    California\n",
              "    <span style=\"font-size: 0.8em; font-weight: bold; line-height: 1; border-radius: 0.35em; vertical-align: middle; margin-left: 0.5rem\">GPE</span>\n",
              "</mark>\n",
              ",</br>                became the \n",
              "<mark class=\"entity\" style=\"background: #e4e7d2; padding: 0.45em 0.6em; margin: 0 0.25em; line-height: 1; border-radius: 0.35em;\">\n",
              "    first\n",
              "    <span style=\"font-size: 0.8em; font-weight: bold; line-height: 1; border-radius: 0.35em; vertical-align: middle; margin-left: 0.5rem\">ORDINAL</span>\n",
              "</mark>\n",
              " woman and the \n",
              "<mark class=\"entity\" style=\"background: #e4e7d2; padding: 0.45em 0.6em; margin: 0 0.25em; line-height: 1; border-radius: 0.35em;\">\n",
              "    fourth\n",
              "    <span style=\"font-size: 0.8em; font-weight: bold; line-height: 1; border-radius: 0.35em; vertical-align: middle; margin-left: 0.5rem\">ORDINAL</span>\n",
              "</mark>\n",
              " person on “\n",
              "<mark class=\"entity\" style=\"background: #f0d0ff; padding: 0.45em 0.6em; margin: 0 0.25em; line-height: 1; border-radius: 0.35em;\">\n",
              "    Jeopardy\n",
              "    <span style=\"font-size: 0.8em; font-weight: bold; line-height: 1; border-radius: 0.35em; vertical-align: middle; margin-left: 0.5rem\">WORK_OF_ART</span>\n",
              "</mark>\n",
              "!” to earn \n",
              "<mark class=\"entity\" style=\"background: #e4e7d2; padding: 0.45em 0.6em; margin: 0 0.25em; line-height: 1; border-radius: 0.35em;\">\n",
              "    more than $1 million\n",
              "    <span style=\"font-size: 0.8em; font-weight: bold; line-height: 1; border-radius: 0.35em; vertical-align: middle; margin-left: 0.5rem\">MONEY</span>\n",
              "</mark>\n",
              " in winnings on \n",
              "<mark class=\"entity\" style=\"background: #bfe1d9; padding: 0.45em 0.6em; margin: 0 0.25em; line-height: 1; border-radius: 0.35em;\">\n",
              "    Friday\n",
              "    <span style=\"font-size: 0.8em; font-weight: bold; line-height: 1; border-radius: 0.35em; vertical-align: middle; margin-left: 0.5rem\">DATE</span>\n",
              "</mark>\n",
              "’s episode</div></span>"
            ]
          },
          "metadata": {}
        }
      ]
    },
    {
      "cell_type": "code",
      "source": [
        "print_entities(nlp_sm, long_text)"
      ],
      "metadata": {
        "colab": {
          "base_uri": "https://localhost:8080/"
        },
        "id": "FaFK4xalpLMf",
        "outputId": "641bf803-670e-4882-c3ea-fcde138293f2"
      },
      "execution_count": null,
      "outputs": [
        {
          "output_type": "stream",
          "name": "stdout",
          "text": [
            "Apple-> ORG\n",
            "the three months to December 31 2016-> DATE\n",
            "Luca Maestri-> PERSON\n",
            "nearly $15 billion-> MONEY\n",
            "the quarter-> DATE\n",
            "quarterly-> DATE\n",
            "57 cents-> MONEY\n",
            "the previous three quarters-> DATE\n",
            "52 cents-> MONEY\n",
            "the four quarters-> DATE\n",
            "Apple-> ORG\n",
            "January 31-> DATE\n",
            "Tim Cook-> PERSON\n",
            "Apple-> ORG\n",
            "the last three months of 2016-> DATE\n",
            "our holiday quarter-> DATE\n",
            "Apple-> ORG\n",
            "quarterly-> DATE\n",
            "iPhone, Services-> ORG\n",
            "Mac-> ORG\n",
            "Apple Watch-> ORG\n"
          ]
        }
      ]
    },
    {
      "cell_type": "code",
      "source": [
        "visualize_entities(nlp_sm, long_text)"
      ],
      "metadata": {
        "colab": {
          "base_uri": "https://localhost:8080/",
          "height": 262
        },
        "id": "_nPzmTFIpaCN",
        "outputId": "8a0242db-1fd1-49e7-c8c7-24cfaffb8e3b"
      },
      "execution_count": null,
      "outputs": [
        {
          "output_type": "display_data",
          "data": {
            "text/plain": [
              "<IPython.core.display.HTML object>"
            ],
            "text/html": [
              "<span class=\"tex2jax_ignore\"><div class=\"entities\" style=\"line-height: 2.5; direction: ltr\">Good news for consumers, undoubtedly, and good news also for investors. \n",
              "<mark class=\"entity\" style=\"background: #7aecec; padding: 0.45em 0.6em; margin: 0 0.25em; line-height: 1; border-radius: 0.35em;\">\n",
              "    Apple\n",
              "    <span style=\"font-size: 0.8em; font-weight: bold; line-height: 1; border-radius: 0.35em; vertical-align: middle; margin-left: 0.5rem\">ORG</span>\n",
              "</mark>\n",
              "’s recent results, covering \n",
              "<mark class=\"entity\" style=\"background: #bfe1d9; padding: 0.45em 0.6em; margin: 0 0.25em; line-height: 1; border-radius: 0.35em;\">\n",
              "    the three months to December 31 2016\n",
              "    <span style=\"font-size: 0.8em; font-weight: bold; line-height: 1; border-radius: 0.35em; vertical-align: middle; margin-left: 0.5rem\">DATE</span>\n",
              "</mark>\n",
              ", saw the company’s chief financial officer \n",
              "<mark class=\"entity\" style=\"background: #aa9cfc; padding: 0.45em 0.6em; margin: 0 0.25em; line-height: 1; border-radius: 0.35em;\">\n",
              "    Luca Maestri\n",
              "    <span style=\"font-size: 0.8em; font-weight: bold; line-height: 1; border-radius: 0.35em; vertical-align: middle; margin-left: 0.5rem\">PERSON</span>\n",
              "</mark>\n",
              " announce: ‘We returned \n",
              "<mark class=\"entity\" style=\"background: #e4e7d2; padding: 0.45em 0.6em; margin: 0 0.25em; line-height: 1; border-radius: 0.35em;\">\n",
              "    nearly $15 billion\n",
              "    <span style=\"font-size: 0.8em; font-weight: bold; line-height: 1; border-radius: 0.35em; vertical-align: middle; margin-left: 0.5rem\">MONEY</span>\n",
              "</mark>\n",
              " to investors through share re-purchases and dividends during \n",
              "<mark class=\"entity\" style=\"background: #bfe1d9; padding: 0.45em 0.6em; margin: 0 0.25em; line-height: 1; border-radius: 0.35em;\">\n",
              "    the quarter\n",
              "    <span style=\"font-size: 0.8em; font-weight: bold; line-height: 1; border-radius: 0.35em; vertical-align: middle; margin-left: 0.5rem\">DATE</span>\n",
              "</mark>\n",
              ".’ The \n",
              "<mark class=\"entity\" style=\"background: #bfe1d9; padding: 0.45em 0.6em; margin: 0 0.25em; line-height: 1; border-radius: 0.35em;\">\n",
              "    quarterly\n",
              "    <span style=\"font-size: 0.8em; font-weight: bold; line-height: 1; border-radius: 0.35em; vertical-align: middle; margin-left: 0.5rem\">DATE</span>\n",
              "</mark>\n",
              " dividend itself was \n",
              "<mark class=\"entity\" style=\"background: #e4e7d2; padding: 0.45em 0.6em; margin: 0 0.25em; line-height: 1; border-radius: 0.35em;\">\n",
              "    57 cents\n",
              "    <span style=\"font-size: 0.8em; font-weight: bold; line-height: 1; border-radius: 0.35em; vertical-align: middle; margin-left: 0.5rem\">MONEY</span>\n",
              "</mark>\n",
              " a share, identical to the dividend for \n",
              "<mark class=\"entity\" style=\"background: #bfe1d9; padding: 0.45em 0.6em; margin: 0 0.25em; line-height: 1; border-radius: 0.35em;\">\n",
              "    the previous three quarters\n",
              "    <span style=\"font-size: 0.8em; font-weight: bold; line-height: 1; border-radius: 0.35em; vertical-align: middle; margin-left: 0.5rem\">DATE</span>\n",
              "</mark>\n",
              " and up on the \n",
              "<mark class=\"entity\" style=\"background: #e4e7d2; padding: 0.45em 0.6em; margin: 0 0.25em; line-height: 1; border-radius: 0.35em;\">\n",
              "    52 cents\n",
              "    <span style=\"font-size: 0.8em; font-weight: bold; line-height: 1; border-radius: 0.35em; vertical-align: middle; margin-left: 0.5rem\">MONEY</span>\n",
              "</mark>\n",
              " paid for each of \n",
              "<mark class=\"entity\" style=\"background: #bfe1d9; padding: 0.45em 0.6em; margin: 0 0.25em; line-height: 1; border-radius: 0.35em;\">\n",
              "    the four quarters\n",
              "    <span style=\"font-size: 0.8em; font-weight: bold; line-height: 1; border-radius: 0.35em; vertical-align: middle; margin-left: 0.5rem\">DATE</span>\n",
              "</mark>\n",
              " before that.</br>Business is brisk at \n",
              "<mark class=\"entity\" style=\"background: #7aecec; padding: 0.45em 0.6em; margin: 0 0.25em; line-height: 1; border-radius: 0.35em;\">\n",
              "    Apple\n",
              "    <span style=\"font-size: 0.8em; font-weight: bold; line-height: 1; border-radius: 0.35em; vertical-align: middle; margin-left: 0.5rem\">ORG</span>\n",
              "</mark>\n",
              ". On \n",
              "<mark class=\"entity\" style=\"background: #bfe1d9; padding: 0.45em 0.6em; margin: 0 0.25em; line-height: 1; border-radius: 0.35em;\">\n",
              "    January 31\n",
              "    <span style=\"font-size: 0.8em; font-weight: bold; line-height: 1; border-radius: 0.35em; vertical-align: middle; margin-left: 0.5rem\">DATE</span>\n",
              "</mark>\n",
              ", \n",
              "<mark class=\"entity\" style=\"background: #aa9cfc; padding: 0.45em 0.6em; margin: 0 0.25em; line-height: 1; border-radius: 0.35em;\">\n",
              "    Tim Cook\n",
              "    <span style=\"font-size: 0.8em; font-weight: bold; line-height: 1; border-radius: 0.35em; vertical-align: middle; margin-left: 0.5rem\">PERSON</span>\n",
              "</mark>\n",
              ", \n",
              "<mark class=\"entity\" style=\"background: #7aecec; padding: 0.45em 0.6em; margin: 0 0.25em; line-height: 1; border-radius: 0.35em;\">\n",
              "    Apple\n",
              "    <span style=\"font-size: 0.8em; font-weight: bold; line-height: 1; border-radius: 0.35em; vertical-align: middle; margin-left: 0.5rem\">ORG</span>\n",
              "</mark>\n",
              "’s chief executive, said of \n",
              "<mark class=\"entity\" style=\"background: #bfe1d9; padding: 0.45em 0.6em; margin: 0 0.25em; line-height: 1; border-radius: 0.35em;\">\n",
              "    the last three months of 2016\n",
              "    <span style=\"font-size: 0.8em; font-weight: bold; line-height: 1; border-radius: 0.35em; vertical-align: middle; margin-left: 0.5rem\">DATE</span>\n",
              "</mark>\n",
              ": ‘We’re thrilled to report that \n",
              "<mark class=\"entity\" style=\"background: #bfe1d9; padding: 0.45em 0.6em; margin: 0 0.25em; line-height: 1; border-radius: 0.35em;\">\n",
              "    our holiday quarter\n",
              "    <span style=\"font-size: 0.8em; font-weight: bold; line-height: 1; border-radius: 0.35em; vertical-align: middle; margin-left: 0.5rem\">DATE</span>\n",
              "</mark>\n",
              " results generated \n",
              "<mark class=\"entity\" style=\"background: #7aecec; padding: 0.45em 0.6em; margin: 0 0.25em; line-height: 1; border-radius: 0.35em;\">\n",
              "    Apple\n",
              "    <span style=\"font-size: 0.8em; font-weight: bold; line-height: 1; border-radius: 0.35em; vertical-align: middle; margin-left: 0.5rem\">ORG</span>\n",
              "</mark>\n",
              "’s highest \n",
              "<mark class=\"entity\" style=\"background: #bfe1d9; padding: 0.45em 0.6em; margin: 0 0.25em; line-height: 1; border-radius: 0.35em;\">\n",
              "    quarterly\n",
              "    <span style=\"font-size: 0.8em; font-weight: bold; line-height: 1; border-radius: 0.35em; vertical-align: middle; margin-left: 0.5rem\">DATE</span>\n",
              "</mark>\n",
              " revenue ever, and broke multiple records along the way. We sold more iPhones than ever before and set all-time revenue records for \n",
              "<mark class=\"entity\" style=\"background: #7aecec; padding: 0.45em 0.6em; margin: 0 0.25em; line-height: 1; border-radius: 0.35em;\">\n",
              "    iPhone, Services\n",
              "    <span style=\"font-size: 0.8em; font-weight: bold; line-height: 1; border-radius: 0.35em; vertical-align: middle; margin-left: 0.5rem\">ORG</span>\n",
              "</mark>\n",
              ", \n",
              "<mark class=\"entity\" style=\"background: #7aecec; padding: 0.45em 0.6em; margin: 0 0.25em; line-height: 1; border-radius: 0.35em;\">\n",
              "    Mac\n",
              "    <span style=\"font-size: 0.8em; font-weight: bold; line-height: 1; border-radius: 0.35em; vertical-align: middle; margin-left: 0.5rem\">ORG</span>\n",
              "</mark>\n",
              " and \n",
              "<mark class=\"entity\" style=\"background: #7aecec; padding: 0.45em 0.6em; margin: 0 0.25em; line-height: 1; border-radius: 0.35em;\">\n",
              "    Apple Watch\n",
              "    <span style=\"font-size: 0.8em; font-weight: bold; line-height: 1; border-radius: 0.35em; vertical-align: middle; margin-left: 0.5rem\">ORG</span>\n",
              "</mark>\n",
              "</div></span>"
            ]
          },
          "metadata": {}
        }
      ]
    },
    {
      "cell_type": "markdown",
      "source": [
        "**Observação**: Para o texto curto, o resultado parece perfeito, pois todas as entidades foram identificadas corretamente. No entanto, para o segundo texto, o modelo cometeu os seguintes erros ao identificar erroneamente o `Apple Watch` como sendo um ORG (Organização) em vez de um Produto. O mesmo ocorrey ao identificar o `iPhone` e o `Mac`."
      ],
      "metadata": {
        "id": "7R7PIleTsZEi"
      }
    },
    {
      "cell_type": "markdown",
      "source": [
        "**spaCy Transformers — roBERTa**"
      ],
      "metadata": {
        "id": "q94mClp3pqP3"
      }
    },
    {
      "cell_type": "code",
      "source": [
        "# This is from spacy-transformerslibrary introduced by spaCy in 2019. \n",
        "# It aims to power spacy pipelines by connecting spaCy to HuggingFace’s transformer models.\n",
        "\n",
        "# Load the spacy transformer (roberta-base) model\n",
        "roberta_nlp = spacy.load(\"en_core_web_trf\")"
      ],
      "metadata": {
        "id": "3FQ2nWBvpxQc"
      },
      "execution_count": null,
      "outputs": []
    },
    {
      "cell_type": "code",
      "source": [
        "print_entities(roberta_nlp, short_text);"
      ],
      "metadata": {
        "colab": {
          "base_uri": "https://localhost:8080/"
        },
        "id": "N41NkL3op1z0",
        "outputId": "1e625d88-5875-441d-be16-aa3e7ddd2bfb"
      },
      "execution_count": null,
      "outputs": [
        {
          "output_type": "stream",
          "name": "stdout",
          "text": [
            "Amy Schneider-> PERSON\n",
            "Oakland-> GPE\n",
            "California-> GPE\n",
            "first-> ORDINAL\n",
            "fourth-> ORDINAL\n",
            "Jeopardy-> WORK_OF_ART\n",
            "$1 million-> MONEY\n",
            "Friday-> DATE\n"
          ]
        }
      ]
    },
    {
      "cell_type": "code",
      "source": [
        "visualize_entities(roberta_nlp, short_text)"
      ],
      "metadata": {
        "colab": {
          "base_uri": "https://localhost:8080/",
          "height": 122
        },
        "id": "AMqHwBerqYK3",
        "outputId": "c11fbafd-58f8-4c23-fb62-624a26168ef7"
      },
      "execution_count": null,
      "outputs": [
        {
          "output_type": "display_data",
          "data": {
            "text/plain": [
              "<IPython.core.display.HTML object>"
            ],
            "text/html": [
              "<span class=\"tex2jax_ignore\"><div class=\"entities\" style=\"line-height: 2.5; direction: ltr\">\n",
              "<mark class=\"entity\" style=\"background: #aa9cfc; padding: 0.45em 0.6em; margin: 0 0.25em; line-height: 1; border-radius: 0.35em;\">\n",
              "    Amy Schneider\n",
              "    <span style=\"font-size: 0.8em; font-weight: bold; line-height: 1; border-radius: 0.35em; vertical-align: middle; margin-left: 0.5rem\">PERSON</span>\n",
              "</mark>\n",
              ", an engineering manager from \n",
              "<mark class=\"entity\" style=\"background: #feca74; padding: 0.45em 0.6em; margin: 0 0.25em; line-height: 1; border-radius: 0.35em;\">\n",
              "    Oakland\n",
              "    <span style=\"font-size: 0.8em; font-weight: bold; line-height: 1; border-radius: 0.35em; vertical-align: middle; margin-left: 0.5rem\">GPE</span>\n",
              "</mark>\n",
              ", \n",
              "<mark class=\"entity\" style=\"background: #feca74; padding: 0.45em 0.6em; margin: 0 0.25em; line-height: 1; border-radius: 0.35em;\">\n",
              "    California\n",
              "    <span style=\"font-size: 0.8em; font-weight: bold; line-height: 1; border-radius: 0.35em; vertical-align: middle; margin-left: 0.5rem\">GPE</span>\n",
              "</mark>\n",
              ",</br>                became the \n",
              "<mark class=\"entity\" style=\"background: #e4e7d2; padding: 0.45em 0.6em; margin: 0 0.25em; line-height: 1; border-radius: 0.35em;\">\n",
              "    first\n",
              "    <span style=\"font-size: 0.8em; font-weight: bold; line-height: 1; border-radius: 0.35em; vertical-align: middle; margin-left: 0.5rem\">ORDINAL</span>\n",
              "</mark>\n",
              " woman and the \n",
              "<mark class=\"entity\" style=\"background: #e4e7d2; padding: 0.45em 0.6em; margin: 0 0.25em; line-height: 1; border-radius: 0.35em;\">\n",
              "    fourth\n",
              "    <span style=\"font-size: 0.8em; font-weight: bold; line-height: 1; border-radius: 0.35em; vertical-align: middle; margin-left: 0.5rem\">ORDINAL</span>\n",
              "</mark>\n",
              " person on “\n",
              "<mark class=\"entity\" style=\"background: #f0d0ff; padding: 0.45em 0.6em; margin: 0 0.25em; line-height: 1; border-radius: 0.35em;\">\n",
              "    Jeopardy\n",
              "    <span style=\"font-size: 0.8em; font-weight: bold; line-height: 1; border-radius: 0.35em; vertical-align: middle; margin-left: 0.5rem\">WORK_OF_ART</span>\n",
              "</mark>\n",
              "!” to earn more than \n",
              "<mark class=\"entity\" style=\"background: #e4e7d2; padding: 0.45em 0.6em; margin: 0 0.25em; line-height: 1; border-radius: 0.35em;\">\n",
              "    $1 million\n",
              "    <span style=\"font-size: 0.8em; font-weight: bold; line-height: 1; border-radius: 0.35em; vertical-align: middle; margin-left: 0.5rem\">MONEY</span>\n",
              "</mark>\n",
              " in winnings on \n",
              "<mark class=\"entity\" style=\"background: #bfe1d9; padding: 0.45em 0.6em; margin: 0 0.25em; line-height: 1; border-radius: 0.35em;\">\n",
              "    Friday\n",
              "    <span style=\"font-size: 0.8em; font-weight: bold; line-height: 1; border-radius: 0.35em; vertical-align: middle; margin-left: 0.5rem\">DATE</span>\n",
              "</mark>\n",
              "’s episode</div></span>"
            ]
          },
          "metadata": {}
        }
      ]
    },
    {
      "cell_type": "code",
      "source": [
        "print_entities(roberta_nlp, long_text)"
      ],
      "metadata": {
        "colab": {
          "base_uri": "https://localhost:8080/"
        },
        "id": "Ddj-Bw2pqcUM",
        "outputId": "dc32a381-d008-44c2-c2cd-3401c52a6203"
      },
      "execution_count": null,
      "outputs": [
        {
          "output_type": "stream",
          "name": "stdout",
          "text": [
            "Apple-> ORG\n",
            "the three months to December 31 2016-> DATE\n",
            "Luca Maestri-> PERSON\n",
            "nearly $15 billion-> MONEY\n",
            "the quarter-> DATE\n",
            "quarterly-> DATE\n",
            "57 cents-> MONEY\n",
            "the previous three quarters-> DATE\n",
            "the 52 cents-> MONEY\n",
            "each of the four quarters before that-> DATE\n",
            "Apple-> ORG\n",
            "January 31-> DATE\n",
            "Tim Cook-> PERSON\n",
            "Apple-> ORG\n",
            "the last three months of 2016-> DATE\n",
            "holiday quarter-> DATE\n",
            "Apple-> ORG\n",
            "quarterly-> DATE\n",
            "iPhones-> PRODUCT\n",
            "Apple Watch-> PRODUCT\n"
          ]
        }
      ]
    },
    {
      "cell_type": "code",
      "source": [
        "visualize_entities(roberta_nlp, long_text)"
      ],
      "metadata": {
        "colab": {
          "base_uri": "https://localhost:8080/",
          "height": 262
        },
        "id": "P2HkCogsqgz1",
        "outputId": "41eea33a-c4b6-4358-cbec-b6bfa0c4a9cb"
      },
      "execution_count": null,
      "outputs": [
        {
          "output_type": "display_data",
          "data": {
            "text/plain": [
              "<IPython.core.display.HTML object>"
            ],
            "text/html": [
              "<span class=\"tex2jax_ignore\"><div class=\"entities\" style=\"line-height: 2.5; direction: ltr\">Good news for consumers, undoubtedly, and good news also for investors. \n",
              "<mark class=\"entity\" style=\"background: #7aecec; padding: 0.45em 0.6em; margin: 0 0.25em; line-height: 1; border-radius: 0.35em;\">\n",
              "    Apple\n",
              "    <span style=\"font-size: 0.8em; font-weight: bold; line-height: 1; border-radius: 0.35em; vertical-align: middle; margin-left: 0.5rem\">ORG</span>\n",
              "</mark>\n",
              "’s recent results, covering \n",
              "<mark class=\"entity\" style=\"background: #bfe1d9; padding: 0.45em 0.6em; margin: 0 0.25em; line-height: 1; border-radius: 0.35em;\">\n",
              "    the three months to December 31 2016\n",
              "    <span style=\"font-size: 0.8em; font-weight: bold; line-height: 1; border-radius: 0.35em; vertical-align: middle; margin-left: 0.5rem\">DATE</span>\n",
              "</mark>\n",
              ", saw the company’s chief financial officer \n",
              "<mark class=\"entity\" style=\"background: #aa9cfc; padding: 0.45em 0.6em; margin: 0 0.25em; line-height: 1; border-radius: 0.35em;\">\n",
              "    Luca Maestri\n",
              "    <span style=\"font-size: 0.8em; font-weight: bold; line-height: 1; border-radius: 0.35em; vertical-align: middle; margin-left: 0.5rem\">PERSON</span>\n",
              "</mark>\n",
              " announce: ‘We returned \n",
              "<mark class=\"entity\" style=\"background: #e4e7d2; padding: 0.45em 0.6em; margin: 0 0.25em; line-height: 1; border-radius: 0.35em;\">\n",
              "    nearly $15 billion\n",
              "    <span style=\"font-size: 0.8em; font-weight: bold; line-height: 1; border-radius: 0.35em; vertical-align: middle; margin-left: 0.5rem\">MONEY</span>\n",
              "</mark>\n",
              " to investors through share re-purchases and dividends during \n",
              "<mark class=\"entity\" style=\"background: #bfe1d9; padding: 0.45em 0.6em; margin: 0 0.25em; line-height: 1; border-radius: 0.35em;\">\n",
              "    the quarter\n",
              "    <span style=\"font-size: 0.8em; font-weight: bold; line-height: 1; border-radius: 0.35em; vertical-align: middle; margin-left: 0.5rem\">DATE</span>\n",
              "</mark>\n",
              ".’ The \n",
              "<mark class=\"entity\" style=\"background: #bfe1d9; padding: 0.45em 0.6em; margin: 0 0.25em; line-height: 1; border-radius: 0.35em;\">\n",
              "    quarterly\n",
              "    <span style=\"font-size: 0.8em; font-weight: bold; line-height: 1; border-radius: 0.35em; vertical-align: middle; margin-left: 0.5rem\">DATE</span>\n",
              "</mark>\n",
              " dividend itself was \n",
              "<mark class=\"entity\" style=\"background: #e4e7d2; padding: 0.45em 0.6em; margin: 0 0.25em; line-height: 1; border-radius: 0.35em;\">\n",
              "    57 cents\n",
              "    <span style=\"font-size: 0.8em; font-weight: bold; line-height: 1; border-radius: 0.35em; vertical-align: middle; margin-left: 0.5rem\">MONEY</span>\n",
              "</mark>\n",
              " a share, identical to the dividend for \n",
              "<mark class=\"entity\" style=\"background: #bfe1d9; padding: 0.45em 0.6em; margin: 0 0.25em; line-height: 1; border-radius: 0.35em;\">\n",
              "    the previous three quarters\n",
              "    <span style=\"font-size: 0.8em; font-weight: bold; line-height: 1; border-radius: 0.35em; vertical-align: middle; margin-left: 0.5rem\">DATE</span>\n",
              "</mark>\n",
              " and up on \n",
              "<mark class=\"entity\" style=\"background: #e4e7d2; padding: 0.45em 0.6em; margin: 0 0.25em; line-height: 1; border-radius: 0.35em;\">\n",
              "    the 52 cents\n",
              "    <span style=\"font-size: 0.8em; font-weight: bold; line-height: 1; border-radius: 0.35em; vertical-align: middle; margin-left: 0.5rem\">MONEY</span>\n",
              "</mark>\n",
              " paid for \n",
              "<mark class=\"entity\" style=\"background: #bfe1d9; padding: 0.45em 0.6em; margin: 0 0.25em; line-height: 1; border-radius: 0.35em;\">\n",
              "    each of the four quarters before that\n",
              "    <span style=\"font-size: 0.8em; font-weight: bold; line-height: 1; border-radius: 0.35em; vertical-align: middle; margin-left: 0.5rem\">DATE</span>\n",
              "</mark>\n",
              ".</br>Business is brisk at \n",
              "<mark class=\"entity\" style=\"background: #7aecec; padding: 0.45em 0.6em; margin: 0 0.25em; line-height: 1; border-radius: 0.35em;\">\n",
              "    Apple\n",
              "    <span style=\"font-size: 0.8em; font-weight: bold; line-height: 1; border-radius: 0.35em; vertical-align: middle; margin-left: 0.5rem\">ORG</span>\n",
              "</mark>\n",
              ". On \n",
              "<mark class=\"entity\" style=\"background: #bfe1d9; padding: 0.45em 0.6em; margin: 0 0.25em; line-height: 1; border-radius: 0.35em;\">\n",
              "    January 31\n",
              "    <span style=\"font-size: 0.8em; font-weight: bold; line-height: 1; border-radius: 0.35em; vertical-align: middle; margin-left: 0.5rem\">DATE</span>\n",
              "</mark>\n",
              ", \n",
              "<mark class=\"entity\" style=\"background: #aa9cfc; padding: 0.45em 0.6em; margin: 0 0.25em; line-height: 1; border-radius: 0.35em;\">\n",
              "    Tim Cook\n",
              "    <span style=\"font-size: 0.8em; font-weight: bold; line-height: 1; border-radius: 0.35em; vertical-align: middle; margin-left: 0.5rem\">PERSON</span>\n",
              "</mark>\n",
              ", \n",
              "<mark class=\"entity\" style=\"background: #7aecec; padding: 0.45em 0.6em; margin: 0 0.25em; line-height: 1; border-radius: 0.35em;\">\n",
              "    Apple\n",
              "    <span style=\"font-size: 0.8em; font-weight: bold; line-height: 1; border-radius: 0.35em; vertical-align: middle; margin-left: 0.5rem\">ORG</span>\n",
              "</mark>\n",
              "’s chief executive, said of \n",
              "<mark class=\"entity\" style=\"background: #bfe1d9; padding: 0.45em 0.6em; margin: 0 0.25em; line-height: 1; border-radius: 0.35em;\">\n",
              "    the last three months of 2016\n",
              "    <span style=\"font-size: 0.8em; font-weight: bold; line-height: 1; border-radius: 0.35em; vertical-align: middle; margin-left: 0.5rem\">DATE</span>\n",
              "</mark>\n",
              ": ‘We’re thrilled to report that our \n",
              "<mark class=\"entity\" style=\"background: #bfe1d9; padding: 0.45em 0.6em; margin: 0 0.25em; line-height: 1; border-radius: 0.35em;\">\n",
              "    holiday quarter\n",
              "    <span style=\"font-size: 0.8em; font-weight: bold; line-height: 1; border-radius: 0.35em; vertical-align: middle; margin-left: 0.5rem\">DATE</span>\n",
              "</mark>\n",
              " results generated \n",
              "<mark class=\"entity\" style=\"background: #7aecec; padding: 0.45em 0.6em; margin: 0 0.25em; line-height: 1; border-radius: 0.35em;\">\n",
              "    Apple\n",
              "    <span style=\"font-size: 0.8em; font-weight: bold; line-height: 1; border-radius: 0.35em; vertical-align: middle; margin-left: 0.5rem\">ORG</span>\n",
              "</mark>\n",
              "’s highest \n",
              "<mark class=\"entity\" style=\"background: #bfe1d9; padding: 0.45em 0.6em; margin: 0 0.25em; line-height: 1; border-radius: 0.35em;\">\n",
              "    quarterly\n",
              "    <span style=\"font-size: 0.8em; font-weight: bold; line-height: 1; border-radius: 0.35em; vertical-align: middle; margin-left: 0.5rem\">DATE</span>\n",
              "</mark>\n",
              " revenue ever, and broke multiple records along the way. We sold more \n",
              "<mark class=\"entity\" style=\"background: #bfeeb7; padding: 0.45em 0.6em; margin: 0 0.25em; line-height: 1; border-radius: 0.35em;\">\n",
              "    iPhones\n",
              "    <span style=\"font-size: 0.8em; font-weight: bold; line-height: 1; border-radius: 0.35em; vertical-align: middle; margin-left: 0.5rem\">PRODUCT</span>\n",
              "</mark>\n",
              " than ever before and set all-time revenue records for iPhone, Services, Mac and \n",
              "<mark class=\"entity\" style=\"background: #bfeeb7; padding: 0.45em 0.6em; margin: 0 0.25em; line-height: 1; border-radius: 0.35em;\">\n",
              "    Apple Watch\n",
              "    <span style=\"font-size: 0.8em; font-weight: bold; line-height: 1; border-radius: 0.35em; vertical-align: middle; margin-left: 0.5rem\">PRODUCT</span>\n",
              "</mark>\n",
              "</div></span>"
            ]
          },
          "metadata": {}
        }
      ]
    },
    {
      "cell_type": "markdown",
      "source": [
        "A tabela de resumo a seguir contém o resultado do spaCy tradicional e do roBERTa no texto longo. Podemos observar claramente que o roBERTa superou o spaCy tradicional. roBERTa falhou apenas uma vez por não identificar o Mac."
      ],
      "metadata": {
        "id": "q4xWkoTBtPIK"
      }
    },
    {
      "cell_type": "markdown",
      "source": [
        "![image.png](data:image/png;base64,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)"
      ],
      "metadata": {
        "id": "OG1BN5UFqx6y"
      }
    },
    {
      "cell_type": "markdown",
      "source": [
        "**Mais informações em:**\n",
        "\n",
        "> https://towardsdatascience.com/named-entity-recognition-with-spacy-and-the-mighty-roberta-97d879f981"
      ],
      "metadata": {
        "id": "oZpv1_-Bt4WK"
      }
    }
  ]
}