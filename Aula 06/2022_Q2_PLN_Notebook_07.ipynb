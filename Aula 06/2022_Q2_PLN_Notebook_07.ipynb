{
  "nbformat": 4,
  "nbformat_minor": 0,
  "metadata": {
    "colab": {
      "name": "2022-Q2 PLN Notebook 07.ipynb",
      "provenance": [],
      "collapsed_sections": [],
      "authorship_tag": "ABX9TyOc42g2GQjPzhIrpmKaaYdm",
      "include_colab_link": true
    },
    "kernelspec": {
      "name": "python3",
      "display_name": "Python 3"
    }
  },
  "cells": [
    {
      "cell_type": "markdown",
      "metadata": {
        "id": "view-in-github",
        "colab_type": "text"
      },
      "source": [
        "<a href=\"https://colab.research.google.com/github/adalves-ufabc/2022.Q2-PLN/blob/main/2022_Q2_PLN_Notebook_07.ipynb\" target=\"_parent\"><img src=\"https://colab.research.google.com/assets/colab-badge.svg\" alt=\"Open In Colab\"/></a>"
      ]
    },
    {
      "cell_type": "markdown",
      "metadata": {
        "id": "K6bbwqE-58UQ"
      },
      "source": [
        "# **Processamento de Linguagem Natural [2022.Q2]**\n",
        "Prof. Alexandre Donizeti Alves"
      ]
    },
    {
      "cell_type": "markdown",
      "metadata": {
        "id": "1uZuWu6U76i4"
      },
      "source": [
        "### **Extração de n-gramas**"
      ]
    },
    {
      "cell_type": "markdown",
      "metadata": {
        "id": "2qW1FOsm8CXd"
      },
      "source": [
        "Neste exemplo, extrairemos n-gramas usando três métodos diferentes. Primeiro, usaremos funções personalizadas e, em seguida, as bibliotecas **nltk** e **textblob**."
      ]
    },
    {
      "cell_type": "code",
      "metadata": {
        "id": "6r2IBJqv8EMn"
      },
      "source": [
        "import re\n",
        "\n",
        "def n_gram_extractor(sentence, n):\n",
        "    tokens = re.sub(r'([^\\s\\w]|_)+', ' ', sentence).split()\n",
        "    for i in range(len(tokens)-n+1):\n",
        "        print(tokens[i:i+n])"
      ],
      "execution_count": 1,
      "outputs": []
    },
    {
      "cell_type": "code",
      "metadata": {
        "id": "k31hqgH0GfPX",
        "colab": {
          "base_uri": "https://localhost:8080/"
        },
        "outputId": "585df301-2e01-42d3-9dbd-7251c61ebb15"
      },
      "source": [
        "n_gram_extractor('O menino bonitinho está brincando com o gatinho.', 2)"
      ],
      "execution_count": 2,
      "outputs": [
        {
          "output_type": "stream",
          "name": "stdout",
          "text": [
            "['O', 'menino']\n",
            "['menino', 'bonitinho']\n",
            "['bonitinho', 'está']\n",
            "['está', 'brincando']\n",
            "['brincando', 'com']\n",
            "['com', 'o']\n",
            "['o', 'gatinho']\n"
          ]
        }
      ]
    },
    {
      "cell_type": "code",
      "metadata": {
        "id": "ImMwbdt5GnG_",
        "colab": {
          "base_uri": "https://localhost:8080/"
        },
        "outputId": "b938a7e0-96d0-4bcb-cf5f-e357828baebb"
      },
      "source": [
        "n_gram_extractor('O menino bonitinho está brincando com o gatinho.', 3)"
      ],
      "execution_count": 3,
      "outputs": [
        {
          "output_type": "stream",
          "name": "stdout",
          "text": [
            "['O', 'menino', 'bonitinho']\n",
            "['menino', 'bonitinho', 'está']\n",
            "['bonitinho', 'está', 'brincando']\n",
            "['está', 'brincando', 'com']\n",
            "['brincando', 'com', 'o']\n",
            "['com', 'o', 'gatinho']\n"
          ]
        }
      ]
    },
    {
      "cell_type": "markdown",
      "source": [
        "**`NLTK`**"
      ],
      "metadata": {
        "id": "rNdPr6iysDAM"
      }
    },
    {
      "cell_type": "code",
      "metadata": {
        "id": "GH92ghl1G4Cw",
        "colab": {
          "base_uri": "https://localhost:8080/"
        },
        "outputId": "9e1b26ec-9fde-42cf-83f8-fcd7f37e68e0"
      },
      "source": [
        "from nltk import ngrams\n",
        "list(ngrams('O menino bonitinho está brincando com o gatinho.'.split(), 2))"
      ],
      "execution_count": 4,
      "outputs": [
        {
          "output_type": "execute_result",
          "data": {
            "text/plain": [
              "[('O', 'menino'),\n",
              " ('menino', 'bonitinho'),\n",
              " ('bonitinho', 'está'),\n",
              " ('está', 'brincando'),\n",
              " ('brincando', 'com'),\n",
              " ('com', 'o'),\n",
              " ('o', 'gatinho.')]"
            ]
          },
          "metadata": {},
          "execution_count": 4
        }
      ]
    },
    {
      "cell_type": "code",
      "metadata": {
        "id": "bUz98SIXHAO3",
        "colab": {
          "base_uri": "https://localhost:8080/"
        },
        "outputId": "14a5754f-8518-4540-e1f6-0b6c1b7df122"
      },
      "source": [
        "list(ngrams('O menino bonitinho está brincando com o gatinho.'.split(), 3))"
      ],
      "execution_count": 5,
      "outputs": [
        {
          "output_type": "execute_result",
          "data": {
            "text/plain": [
              "[('O', 'menino', 'bonitinho'),\n",
              " ('menino', 'bonitinho', 'está'),\n",
              " ('bonitinho', 'está', 'brincando'),\n",
              " ('está', 'brincando', 'com'),\n",
              " ('brincando', 'com', 'o'),\n",
              " ('com', 'o', 'gatinho.')]"
            ]
          },
          "metadata": {},
          "execution_count": 5
        }
      ]
    },
    {
      "cell_type": "code",
      "source": [
        "import re\n",
        "from nltk.util import ngrams\n",
        "\n",
        "s = \"\"\"\n",
        "    Natural-language processing (NLP) is an area of\n",
        "    computer science and artificial intelligence\n",
        "    concerned with the interactions between computers\n",
        "    and human (natural) languages.\n",
        "\"\"\"\n",
        "\n",
        "s = s.lower()\n",
        "s = re.sub(r'[^a-zA-Z0-9\\s]', ' ', s)\n",
        "tokens = [token for token in s.split(\" \") if token != \"\"]\n",
        "output = list(ngrams(tokens, 5))\n",
        "\n",
        "for grams in output:\n",
        "    print(grams)"
      ],
      "metadata": {
        "colab": {
          "base_uri": "https://localhost:8080/"
        },
        "id": "8Dg0HYokP1n2",
        "outputId": "c904d42f-c225-4fff-865e-5085ffd203bd"
      },
      "execution_count": 6,
      "outputs": [
        {
          "output_type": "stream",
          "name": "stdout",
          "text": [
            "('\\n', 'natural', 'language', 'processing', 'nlp')\n",
            "('natural', 'language', 'processing', 'nlp', 'is')\n",
            "('language', 'processing', 'nlp', 'is', 'an')\n",
            "('processing', 'nlp', 'is', 'an', 'area')\n",
            "('nlp', 'is', 'an', 'area', 'of\\n')\n",
            "('is', 'an', 'area', 'of\\n', 'computer')\n",
            "('an', 'area', 'of\\n', 'computer', 'science')\n",
            "('area', 'of\\n', 'computer', 'science', 'and')\n",
            "('of\\n', 'computer', 'science', 'and', 'artificial')\n",
            "('computer', 'science', 'and', 'artificial', 'intelligence\\n')\n",
            "('science', 'and', 'artificial', 'intelligence\\n', 'concerned')\n",
            "('and', 'artificial', 'intelligence\\n', 'concerned', 'with')\n",
            "('artificial', 'intelligence\\n', 'concerned', 'with', 'the')\n",
            "('intelligence\\n', 'concerned', 'with', 'the', 'interactions')\n",
            "('concerned', 'with', 'the', 'interactions', 'between')\n",
            "('with', 'the', 'interactions', 'between', 'computers\\n')\n",
            "('the', 'interactions', 'between', 'computers\\n', 'and')\n",
            "('interactions', 'between', 'computers\\n', 'and', 'human')\n",
            "('between', 'computers\\n', 'and', 'human', 'natural')\n",
            "('computers\\n', 'and', 'human', 'natural', 'languages')\n",
            "('and', 'human', 'natural', 'languages', '\\n')\n"
          ]
        }
      ]
    },
    {
      "cell_type": "markdown",
      "source": [
        "**`TextBlob`**"
      ],
      "metadata": {
        "id": "twbk3_tfPxjd"
      }
    },
    {
      "cell_type": "code",
      "metadata": {
        "id": "fdqJA_MyHVb1",
        "colab": {
          "base_uri": "https://localhost:8080/"
        },
        "outputId": "297608cf-366b-41a0-a98a-8550b3e656ca"
      },
      "source": [
        "!pip install -U textblob"
      ],
      "execution_count": 7,
      "outputs": [
        {
          "output_type": "stream",
          "name": "stdout",
          "text": [
            "Looking in indexes: https://pypi.org/simple, https://us-python.pkg.dev/colab-wheels/public/simple/\n",
            "Requirement already satisfied: textblob in /usr/local/lib/python3.7/dist-packages (0.15.3)\n",
            "Collecting textblob\n",
            "  Downloading textblob-0.17.1-py2.py3-none-any.whl (636 kB)\n",
            "\u001b[K     |████████████████████████████████| 636 kB 5.2 MB/s \n",
            "\u001b[?25hRequirement already satisfied: nltk>=3.1 in /usr/local/lib/python3.7/dist-packages (from textblob) (3.7)\n",
            "Requirement already satisfied: joblib in /usr/local/lib/python3.7/dist-packages (from nltk>=3.1->textblob) (1.1.0)\n",
            "Requirement already satisfied: click in /usr/local/lib/python3.7/dist-packages (from nltk>=3.1->textblob) (7.1.2)\n",
            "Requirement already satisfied: regex>=2021.8.3 in /usr/local/lib/python3.7/dist-packages (from nltk>=3.1->textblob) (2022.6.2)\n",
            "Requirement already satisfied: tqdm in /usr/local/lib/python3.7/dist-packages (from nltk>=3.1->textblob) (4.64.0)\n",
            "Installing collected packages: textblob\n",
            "  Attempting uninstall: textblob\n",
            "    Found existing installation: textblob 0.15.3\n",
            "    Uninstalling textblob-0.15.3:\n",
            "      Successfully uninstalled textblob-0.15.3\n",
            "Successfully installed textblob-0.17.1\n"
          ]
        }
      ]
    },
    {
      "cell_type": "code",
      "source": [
        "import nltk\n",
        "\n",
        "nltk.download('punkt')"
      ],
      "metadata": {
        "colab": {
          "base_uri": "https://localhost:8080/"
        },
        "id": "qgNVBQcfPp0r",
        "outputId": "c93dbe97-1bae-4330-82a1-96b88bc35891"
      },
      "execution_count": 8,
      "outputs": [
        {
          "output_type": "stream",
          "name": "stderr",
          "text": [
            "[nltk_data] Downloading package punkt to /root/nltk_data...\n",
            "[nltk_data]   Unzipping tokenizers/punkt.zip.\n"
          ]
        },
        {
          "output_type": "execute_result",
          "data": {
            "text/plain": [
              "True"
            ]
          },
          "metadata": {},
          "execution_count": 8
        }
      ]
    },
    {
      "cell_type": "code",
      "metadata": {
        "id": "gGsKpNpDHDww",
        "colab": {
          "base_uri": "https://localhost:8080/"
        },
        "outputId": "c1a7cc52-47c6-4393-f122-d92f2bdee07f"
      },
      "source": [
        "from textblob import TextBlob\n",
        "blob = TextBlob(\"O menino bonitinho está brincando com o gatinho.\")\n",
        "blob.ngrams(n=2)"
      ],
      "execution_count": 10,
      "outputs": [
        {
          "output_type": "execute_result",
          "data": {
            "text/plain": [
              "[WordList(['O', 'menino']),\n",
              " WordList(['menino', 'bonitinho']),\n",
              " WordList(['bonitinho', 'está']),\n",
              " WordList(['está', 'brincando']),\n",
              " WordList(['brincando', 'com']),\n",
              " WordList(['com', 'o']),\n",
              " WordList(['o', 'gatinho'])]"
            ]
          },
          "metadata": {},
          "execution_count": 10
        }
      ]
    },
    {
      "cell_type": "code",
      "metadata": {
        "id": "cHGW4TDiH3tn",
        "colab": {
          "base_uri": "https://localhost:8080/"
        },
        "outputId": "e5e959f0-f553-4961-887d-462fd26f2ef8"
      },
      "source": [
        "blob.ngrams(n=3)"
      ],
      "execution_count": 11,
      "outputs": [
        {
          "output_type": "execute_result",
          "data": {
            "text/plain": [
              "[WordList(['O', 'menino', 'bonitinho']),\n",
              " WordList(['menino', 'bonitinho', 'está']),\n",
              " WordList(['bonitinho', 'está', 'brincando']),\n",
              " WordList(['está', 'brincando', 'com']),\n",
              " WordList(['brincando', 'com', 'o']),\n",
              " WordList(['com', 'o', 'gatinho'])]"
            ]
          },
          "metadata": {},
          "execution_count": 11
        }
      ]
    }
  ]
}