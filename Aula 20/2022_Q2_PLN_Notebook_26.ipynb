{
  "nbformat": 4,
  "nbformat_minor": 0,
  "metadata": {
    "colab": {
      "name": "2022-Q2 PLN Notebook 26.ipynb",
      "provenance": [],
      "collapsed_sections": [],
      "authorship_tag": "ABX9TyORfFXIMW47iecdoqaPO8UM",
      "include_colab_link": true
    },
    "kernelspec": {
      "name": "python3",
      "display_name": "Python 3"
    }
  },
  "cells": [
    {
      "cell_type": "markdown",
      "metadata": {
        "id": "view-in-github",
        "colab_type": "text"
      },
      "source": [
        "<a href=\"https://colab.research.google.com/github/adalves-ufabc/2022.Q2-PLN/blob/main/2022_Q2_PLN_Notebook_26.ipynb\" target=\"_parent\"><img src=\"https://colab.research.google.com/assets/colab-badge.svg\" alt=\"Open In Colab\"/></a>"
      ]
    },
    {
      "cell_type": "markdown",
      "metadata": {
        "id": "xv5MMb89fCa1"
      },
      "source": [
        "# **Processamento de Linguagem Natural [2022.Q2]**\n",
        "Prof. Alexandre Donizeti Alves"
      ]
    },
    {
      "cell_type": "markdown",
      "metadata": {
        "id": "f5B2Kb_cfDuQ"
      },
      "source": [
        "### **Sumarização Automática de Textos**"
      ]
    },
    {
      "cell_type": "markdown",
      "source": [
        "<img src='https://miro.medium.com/max/1064/1*GIVviyN9Q0cqObcy-q-juQ.png'>"
      ],
      "metadata": {
        "id": "jKzYNDaQZbmd"
      }
    },
    {
      "cell_type": "code",
      "source": [
        "# importando bibliotecas basicas\n",
        "import re\n",
        "import nltk\n",
        "import string\n",
        "import pandas as pd\n",
        "import numpy as np\n",
        "\n",
        "nltk.download('punkt')\n",
        "nltk.download('stopwords')"
      ],
      "metadata": {
        "colab": {
          "base_uri": "https://localhost:8080/"
        },
        "id": "IYv8ks78DY9U",
        "outputId": "f33e98b6-fd6a-4901-e5e5-a7da2a0bd284"
      },
      "execution_count": 1,
      "outputs": [
        {
          "output_type": "stream",
          "name": "stderr",
          "text": [
            "[nltk_data] Downloading package punkt to /root/nltk_data...\n",
            "[nltk_data]   Unzipping tokenizers/punkt.zip.\n",
            "[nltk_data] Downloading package stopwords to /root/nltk_data...\n",
            "[nltk_data]   Unzipping corpora/stopwords.zip.\n"
          ]
        },
        {
          "output_type": "execute_result",
          "data": {
            "text/plain": [
              "True"
            ]
          },
          "metadata": {},
          "execution_count": 1
        }
      ]
    },
    {
      "cell_type": "code",
      "source": [
        "texto_original = \"\"\"A grosso modo, Linguística Computacional é a intersecção entre Computação e Linguística. Sendo mais claro, por meio de processos computacionais, ou seja, da Linguística Computacional, é possível manipular a língua natural, seja o aspecto falado, seja o escrito.\n",
        "A partir dessa manipulação, pode-se estudar aspectos gramaticais de uma língua, os padrões de um gênero textual, as peculiaridades de uma classe de palavra, além da geração de softwares capazes de decodificar e codificar uma língua natural. A contribuição é desde para a Linguística quanto para o avanço tecnológico.\n",
        "Havendo essa relevância, o presente artigo demonstra o passo a passo de um possível uso da Linguística Computacional para o estudo linguístico.\n",
        "Para a demonstração, selecionei o estudo de caso em que os objetos de estudo são as preposições in, on, at e within. O foco é compreender um pouco a respeito do aspecto semântico dessas preposições no decorrer de aproximadamente 200 anos. Ressalto que por se tratar de uma demonstração, não realizarei um trabalho rigoroso.\n",
        "Para isso, selecionei o corpus inaugural, o qual contém os textos escritos de posse dos ex-presidentes estadunidenses. Deve-se considerar que os textos estão em um contexto de formalidade e foram escritos ao longo de mais ou menos 200 anos de história. Ao todo, o corpus apresenta 59 textos, número de presidentes da história estadunidense. A escolha foi justamente devido ambiente comum (posse de presidente) e a organização cronológica dos textos.\n",
        "Como se trata de textos referentes à posse de presidentes estadunidenses, o período entre a realização e/ou publicação entre um texto e outro é de quatro anos.\n",
        "Não trabalhei com todos os textos. Selecionarei apenas alguns, levando em consideração que as mudanças linguísticas significativas não são normalmente imediatas. Um espaço de tempo razoável para análise é a observância de textos com 20 anos de diferença de um para o outro.\n",
        "Dos selecionados, tendo como filtro esse período de diferença, faço outra seleção, selecionando apenas três textos de tempos longínquos entre si. O ideal é pegar o primeiro texto produzido, o mediano e o último dentre os selecionados pelo primeiro filtro. Essa distância pode evidenciar a mudança semântica das preposições.\n",
        "A partir dos textos selecionados por meio do primeiro filtro, gero gráficos, e, através dos três textos selecionados através do segundo filtro, estudo as preposições em contextos.\n",
        "\"\"\""
      ],
      "metadata": {
        "id": "Yqt77qInDmno"
      },
      "execution_count": null,
      "outputs": []
    },
    {
      "cell_type": "code",
      "source": [
        "texto_original"
      ],
      "metadata": {
        "colab": {
          "base_uri": "https://localhost:8080/",
          "height": 204
        },
        "id": "QtM2noN-Dt_P",
        "outputId": "11c8939e-2eff-4e8e-b794-2ca03fcbb940"
      },
      "execution_count": null,
      "outputs": [
        {
          "output_type": "execute_result",
          "data": {
            "text/plain": [
              "'A grosso modo, Linguística Computacional é a intersecção entre Computação e Linguística. Sendo mais claro, por meio de processos computacionais, ou seja, da Linguística Computacional, é possível manipular a língua natural, seja o aspecto falado, seja o escrito.\\nA partir dessa manipulação, pode-se estudar aspectos gramaticais de uma língua, os padrões de um gênero textual, as peculiaridades de uma classe de palavra, além da geração de softwares capazes de decodificar e codificar uma língua natural. A contribuição é desde para a Linguística quanto para o avanço tecnológico.\\nHavendo essa relevância, o presente artigo demonstra o passo a passo de um possível uso da Linguística Computacional para o estudo linguístico.\\nPara a demonstração, selecionei o estudo de caso em que os objetos de estudo são as preposições in, on, at e within. O foco é compreender um pouco a respeito do aspecto semântico dessas preposições no decorrer de aproximadamente 200 anos. Ressalto que por se tratar de uma demonstração, não realizarei um trabalho rigoroso.\\nPara isso, selecionei o corpus inaugural, o qual contém os textos escritos de posse dos ex-presidentes estadunidenses. Deve-se considerar que os textos estão em um contexto de formalidade e foram escritos ao longo de mais ou menos 200 anos de história. Ao todo, o corpus apresenta 59 textos, número de presidentes da história estadunidense. A escolha foi justamente devido ambiente comum (posse de presidente) e a organização cronológica dos textos.\\nComo se trata de textos referentes à posse de presidentes estadunidenses, o período entre a realização e/ou publicação entre um texto e outro é de quatro anos.\\nNão trabalhei com todos os textos. Selecionarei apenas alguns, levando em consideração que as mudanças linguísticas significativas não são normalmente imediatas. Um espaço de tempo razoável para análise é a observância de textos com 20 anos de diferença de um para o outro.\\nDos selecionados, tendo como filtro esse período de diferença, faço outra seleção, selecionando apenas três textos de tempos longínquos entre si. O ideal é pegar o primeiro texto produzido, o mediano e o último dentre os selecionados pelo primeiro filtro. Essa distância pode evidenciar a mudança semântica das preposições.\\nA partir dos textos selecionados por meio do primeiro filtro, gero gráficos, e, através dos três textos selecionados através do segundo filtro, estudo as preposições em contextos.\\n'"
            ],
            "application/vnd.google.colaboratory.intrinsic+json": {
              "type": "string"
            }
          },
          "metadata": {},
          "execution_count": 4
        }
      ]
    },
    {
      "cell_type": "code",
      "source": [
        "# retirando símbolo de quebra de linha\n",
        "texto_original = re.sub(r'\\n', '', texto_original)"
      ],
      "metadata": {
        "id": "_H-23vOdDyN4"
      },
      "execution_count": null,
      "outputs": []
    },
    {
      "cell_type": "code",
      "source": [
        "# resultado\n",
        "texto_original"
      ],
      "metadata": {
        "colab": {
          "base_uri": "https://localhost:8080/",
          "height": 205
        },
        "id": "Ra3H36zhD2Go",
        "outputId": "03f68f64-a9a1-4926-947f-710dae49180b"
      },
      "execution_count": null,
      "outputs": [
        {
          "output_type": "execute_result",
          "data": {
            "text/plain": [
              "'A grosso modo, Linguística Computacional é a intersecção entre Computação e Linguística. Sendo mais claro, por meio de processos computacionais, ou seja, da Linguística Computacional, é possível manipular a língua natural, seja o aspecto falado, seja o escrito.A partir dessa manipulação, pode-se estudar aspectos gramaticais de uma língua, os padrões de um gênero textual, as peculiaridades de uma classe de palavra, além da geração de softwares capazes de decodificar e codificar uma língua natural. A contribuição é desde para a Linguística quanto para o avanço tecnológico.Havendo essa relevância, o presente artigo demonstra o passo a passo de um possível uso da Linguística Computacional para o estudo linguístico.Para a demonstração, selecionei o estudo de caso em que os objetos de estudo são as preposições in, on, at e within. O foco é compreender um pouco a respeito do aspecto semântico dessas preposições no decorrer de aproximadamente 200 anos. Ressalto que por se tratar de uma demonstração, não realizarei um trabalho rigoroso.Para isso, selecionei o corpus inaugural, o qual contém os textos escritos de posse dos ex-presidentes estadunidenses. Deve-se considerar que os textos estão em um contexto de formalidade e foram escritos ao longo de mais ou menos 200 anos de história. Ao todo, o corpus apresenta 59 textos, número de presidentes da história estadunidense. A escolha foi justamente devido ambiente comum (posse de presidente) e a organização cronológica dos textos.Como se trata de textos referentes à posse de presidentes estadunidenses, o período entre a realização e/ou publicação entre um texto e outro é de quatro anos.Não trabalhei com todos os textos. Selecionarei apenas alguns, levando em consideração que as mudanças linguísticas significativas não são normalmente imediatas. Um espaço de tempo razoável para análise é a observância de textos com 20 anos de diferença de um para o outro.Dos selecionados, tendo como filtro esse período de diferença, faço outra seleção, selecionando apenas três textos de tempos longínquos entre si. O ideal é pegar o primeiro texto produzido, o mediano e o último dentre os selecionados pelo primeiro filtro. Essa distância pode evidenciar a mudança semântica das preposições.A partir dos textos selecionados por meio do primeiro filtro, gero gráficos, e, através dos três textos selecionados através do segundo filtro, estudo as preposições em contextos.'"
            ],
            "application/vnd.google.colaboratory.intrinsic+json": {
              "type": "string"
            }
          },
          "metadata": {},
          "execution_count": 6
        }
      ]
    },
    {
      "cell_type": "code",
      "source": [
        "# stop words\n",
        "stopwords = nltk.corpus.stopwords.words('portuguese')\n",
        "\n",
        "print(stopwords)"
      ],
      "metadata": {
        "colab": {
          "base_uri": "https://localhost:8080/"
        },
        "id": "_Px9BHpED9QP",
        "outputId": "afc25983-7145-4089-82cd-82b9b8fc483e"
      },
      "execution_count": null,
      "outputs": [
        {
          "output_type": "stream",
          "name": "stdout",
          "text": [
            "['a', 'à', 'ao', 'aos', 'aquela', 'aquelas', 'aquele', 'aqueles', 'aquilo', 'as', 'às', 'até', 'com', 'como', 'da', 'das', 'de', 'dela', 'delas', 'dele', 'deles', 'depois', 'do', 'dos', 'e', 'é', 'ela', 'elas', 'ele', 'eles', 'em', 'entre', 'era', 'eram', 'éramos', 'essa', 'essas', 'esse', 'esses', 'esta', 'está', 'estamos', 'estão', 'estar', 'estas', 'estava', 'estavam', 'estávamos', 'este', 'esteja', 'estejam', 'estejamos', 'estes', 'esteve', 'estive', 'estivemos', 'estiver', 'estivera', 'estiveram', 'estivéramos', 'estiverem', 'estivermos', 'estivesse', 'estivessem', 'estivéssemos', 'estou', 'eu', 'foi', 'fomos', 'for', 'fora', 'foram', 'fôramos', 'forem', 'formos', 'fosse', 'fossem', 'fôssemos', 'fui', 'há', 'haja', 'hajam', 'hajamos', 'hão', 'havemos', 'haver', 'hei', 'houve', 'houvemos', 'houver', 'houvera', 'houverá', 'houveram', 'houvéramos', 'houverão', 'houverei', 'houverem', 'houveremos', 'houveria', 'houveriam', 'houveríamos', 'houvermos', 'houvesse', 'houvessem', 'houvéssemos', 'isso', 'isto', 'já', 'lhe', 'lhes', 'mais', 'mas', 'me', 'mesmo', 'meu', 'meus', 'minha', 'minhas', 'muito', 'na', 'não', 'nas', 'nem', 'no', 'nos', 'nós', 'nossa', 'nossas', 'nosso', 'nossos', 'num', 'numa', 'o', 'os', 'ou', 'para', 'pela', 'pelas', 'pelo', 'pelos', 'por', 'qual', 'quando', 'que', 'quem', 'são', 'se', 'seja', 'sejam', 'sejamos', 'sem', 'ser', 'será', 'serão', 'serei', 'seremos', 'seria', 'seriam', 'seríamos', 'seu', 'seus', 'só', 'somos', 'sou', 'sua', 'suas', 'também', 'te', 'tem', 'tém', 'temos', 'tenha', 'tenham', 'tenhamos', 'tenho', 'terá', 'terão', 'terei', 'teremos', 'teria', 'teriam', 'teríamos', 'teu', 'teus', 'teve', 'tinha', 'tinham', 'tínhamos', 'tive', 'tivemos', 'tiver', 'tivera', 'tiveram', 'tivéramos', 'tiverem', 'tivermos', 'tivesse', 'tivessem', 'tivéssemos', 'tu', 'tua', 'tuas', 'um', 'uma', 'você', 'vocês', 'vos']\n"
          ]
        }
      ]
    },
    {
      "cell_type": "code",
      "source": [
        "pontuacoes = string.punctuation\n",
        "\n",
        "print(pontuacoes)"
      ],
      "metadata": {
        "colab": {
          "base_uri": "https://localhost:8080/"
        },
        "id": "TyCAVOoAET_e",
        "outputId": "8c551ce9-f0a6-4744-e5ad-6a3d5d971d7e"
      },
      "execution_count": null,
      "outputs": [
        {
          "output_type": "stream",
          "name": "stdout",
          "text": [
            "!\"#$%&'()*+,-./:;<=>?@[\\]^_`{|}~\n"
          ]
        }
      ]
    },
    {
      "cell_type": "code",
      "source": [
        "def pre_processamento(texto):\n",
        "    texto_formatado = texto.lower()\n",
        "    tokens = []\n",
        "    texto_limpo = []\n",
        "    for token in nltk.word_tokenize(texto_formatado):\n",
        "        tokens.append(token)\n",
        "    \n",
        "    for token in tokens:\n",
        "        if token not in stopwords and token not in pontuacoes:\n",
        "            texto_limpo.append(token)\n",
        "    \n",
        "    texto_limpo_unificado = ' '.join([str(elemento) for elemento in texto_limpo])\n",
        "    \n",
        "    return texto_limpo_unificado"
      ],
      "metadata": {
        "id": "8mX5ck4rEZg4"
      },
      "execution_count": null,
      "outputs": []
    },
    {
      "cell_type": "code",
      "source": [
        "# testando a função\n",
        "teste = \"JOAO é Muito DoIDo, Dá até GosTo de VER. ) ( .\"\n",
        "\n",
        "pre_processamento(teste)"
      ],
      "metadata": {
        "colab": {
          "base_uri": "https://localhost:8080/",
          "height": 36
        },
        "id": "saUg8jCkEiIm",
        "outputId": "5271fd32-663f-45ab-ace4-b14745eb8b95"
      },
      "execution_count": null,
      "outputs": [
        {
          "output_type": "execute_result",
          "data": {
            "text/plain": [
              "'joao doido dá gosto ver'"
            ],
            "application/vnd.google.colaboratory.intrinsic+json": {
              "type": "string"
            }
          },
          "metadata": {},
          "execution_count": 20
        }
      ]
    },
    {
      "cell_type": "code",
      "source": [
        "# limpando o texto original\n",
        "texto_limpo = pre_processamento(texto_original)\n",
        "\n",
        "print(texto_limpo)"
      ],
      "metadata": {
        "colab": {
          "base_uri": "https://localhost:8080/"
        },
        "id": "EINeW5s8FDSm",
        "outputId": "5451d544-7fdf-43c5-dde4-d6858d2bb4b1"
      },
      "execution_count": null,
      "outputs": [
        {
          "output_type": "stream",
          "name": "stdout",
          "text": [
            "grosso modo linguística computacional intersecção computação linguística sendo claro meio processos computacionais linguística computacional possível manipular língua natural aspecto falado escrito.a partir dessa manipulação pode-se estudar aspectos gramaticais língua padrões gênero textual peculiaridades classe palavra além geração softwares capazes decodificar codificar língua natural contribuição desde linguística quanto avanço tecnológico.havendo relevância presente artigo demonstra passo passo possível uso linguística computacional estudo linguístico.para demonstração selecionei estudo caso objetos estudo preposições in on at within foco compreender pouco respeito aspecto semântico dessas preposições decorrer aproximadamente 200 anos ressalto tratar demonstração realizarei trabalho rigoroso.para selecionei corpus inaugural contém textos escritos posse ex-presidentes estadunidenses deve-se considerar textos contexto formalidade escritos longo menos 200 anos história todo corpus apresenta 59 textos número presidentes história estadunidense escolha justamente devido ambiente comum posse presidente organização cronológica textos.como trata textos referentes posse presidentes estadunidenses período realização e/ou publicação texto outro quatro anos.não trabalhei todos textos selecionarei apenas alguns levando consideração mudanças linguísticas significativas normalmente imediatas espaço tempo razoável análise observância textos 20 anos diferença outro.dos selecionados tendo filtro período diferença faço outra seleção selecionando apenas três textos tempos longínquos si ideal pegar primeiro texto produzido mediano último dentre selecionados primeiro filtro distância pode evidenciar mudança semântica preposições.a partir textos selecionados meio primeiro filtro gero gráficos através três textos selecionados através segundo filtro estudo preposições contextos\n"
          ]
        }
      ]
    },
    {
      "cell_type": "markdown",
      "source": [
        "A lógica de funcionalidade do modelo baseia-se nos pesos de relevância das sentenças. Esses pesos são gerados a partir do peso de cada palavra que não é uma palavra-chave. Portanto, os pesos das palavras compõem os pesos das sentenças."
      ],
      "metadata": {
        "id": "nqblyftKvvZl"
      }
    },
    {
      "cell_type": "code",
      "source": [
        "freq_palavras = nltk.FreqDist(nltk.word_tokenize(texto_limpo))\n",
        "\n",
        "freq_palavras"
      ],
      "metadata": {
        "colab": {
          "base_uri": "https://localhost:8080/"
        },
        "id": "bjm_kK9sFNTP",
        "outputId": "9bfc2a12-8fff-47e6-f3b2-44a92bf56522"
      },
      "execution_count": null,
      "outputs": [
        {
          "output_type": "execute_result",
          "data": {
            "text/plain": [
              "FreqDist({'textos': 9, 'linguística': 5, 'estudo': 4, 'selecionados': 4, 'filtro': 4, 'computacional': 3, 'língua': 3, 'preposições': 3, 'anos': 3, 'posse': 3, ...})"
            ]
          },
          "metadata": {},
          "execution_count": 22
        }
      ]
    },
    {
      "cell_type": "code",
      "source": [
        "# frequencia maxima\n",
        "frq_max = max(freq_palavras.values())\n",
        "\n",
        "frq_max"
      ],
      "metadata": {
        "colab": {
          "base_uri": "https://localhost:8080/"
        },
        "id": "FELxqyhiFYVR",
        "outputId": "901591c8-07c1-4e8c-9b87-c98455df13a9"
      },
      "execution_count": null,
      "outputs": [
        {
          "output_type": "execute_result",
          "data": {
            "text/plain": [
              "9"
            ]
          },
          "metadata": {},
          "execution_count": 23
        }
      ]
    },
    {
      "cell_type": "markdown",
      "source": [
        "Os pesos das palavras são gerados pelo seguinte cálculo:"
      ],
      "metadata": {
        "id": "imFFyVm-vj4f"
      }
    },
    {
      "cell_type": "markdown",
      "source": [
        "![image.png](data:image/png;base64,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)"
      ],
      "metadata": {
        "id": "sH3c1AN7vZ2B"
      }
    },
    {
      "cell_type": "code",
      "source": [
        "# calculando o peso das palavras\n",
        "for palavra in freq_palavras.keys():\n",
        "    freq_palavras[palavra] = (freq_palavras[palavra]/frq_max)"
      ],
      "metadata": {
        "id": "_cO4qEoFFgMN"
      },
      "execution_count": null,
      "outputs": []
    },
    {
      "cell_type": "code",
      "source": [
        "# pesos das palavras\n",
        "freq_palavras"
      ],
      "metadata": {
        "colab": {
          "base_uri": "https://localhost:8080/"
        },
        "id": "aZ1V0gAPFmEX",
        "outputId": "4a29c56c-99f6-4c07-b63e-24be1e3d3882"
      },
      "execution_count": null,
      "outputs": [
        {
          "output_type": "execute_result",
          "data": {
            "text/plain": [
              "FreqDist({'textos': 1.0, 'linguística': 0.5555555555555556, 'estudo': 0.4444444444444444, 'selecionados': 0.4444444444444444, 'filtro': 0.4444444444444444, 'computacional': 0.3333333333333333, 'língua': 0.3333333333333333, 'preposições': 0.3333333333333333, 'anos': 0.3333333333333333, 'posse': 0.3333333333333333, ...})"
            ]
          },
          "metadata": {},
          "execution_count": 25
        }
      ]
    },
    {
      "cell_type": "code",
      "source": [
        "# tokenização de sentenças\n",
        "sent_tkn =  nltk.sent_tokenize(texto_original)\n",
        "\n",
        "sent_tkn"
      ],
      "metadata": {
        "colab": {
          "base_uri": "https://localhost:8080/"
        },
        "id": "xnCfosXxFrLH",
        "outputId": "aaeed3b3-4d28-41ff-8c51-e3102dbe9d82"
      },
      "execution_count": null,
      "outputs": [
        {
          "output_type": "execute_result",
          "data": {
            "text/plain": [
              "['A grosso modo, Linguística Computacional é a intersecção entre Computação e Linguística.',\n",
              " 'Sendo mais claro, por meio de processos computacionais, ou seja, da Linguística Computacional, é possível manipular a língua natural, seja o aspecto falado, seja o escrito.A partir dessa manipulação, pode-se estudar aspectos gramaticais de uma língua, os padrões de um gênero textual, as peculiaridades de uma classe de palavra, além da geração de softwares capazes de decodificar e codificar uma língua natural.',\n",
              " 'A contribuição é desde para a Linguística quanto para o avanço tecnológico.Havendo essa relevância, o presente artigo demonstra o passo a passo de um possível uso da Linguística Computacional para o estudo linguístico.Para a demonstração, selecionei o estudo de caso em que os objetos de estudo são as preposições in, on, at e within.',\n",
              " 'O foco é compreender um pouco a respeito do aspecto semântico dessas preposições no decorrer de aproximadamente 200 anos.',\n",
              " 'Ressalto que por se tratar de uma demonstração, não realizarei um trabalho rigoroso.Para isso, selecionei o corpus inaugural, o qual contém os textos escritos de posse dos ex-presidentes estadunidenses.',\n",
              " 'Deve-se considerar que os textos estão em um contexto de formalidade e foram escritos ao longo de mais ou menos 200 anos de história.',\n",
              " 'Ao todo, o corpus apresenta 59 textos, número de presidentes da história estadunidense.',\n",
              " 'A escolha foi justamente devido ambiente comum (posse de presidente) e a organização cronológica dos textos.Como se trata de textos referentes à posse de presidentes estadunidenses, o período entre a realização e/ou publicação entre um texto e outro é de quatro anos.Não trabalhei com todos os textos.',\n",
              " 'Selecionarei apenas alguns, levando em consideração que as mudanças linguísticas significativas não são normalmente imediatas.',\n",
              " 'Um espaço de tempo razoável para análise é a observância de textos com 20 anos de diferença de um para o outro.Dos selecionados, tendo como filtro esse período de diferença, faço outra seleção, selecionando apenas três textos de tempos longínquos entre si.',\n",
              " 'O ideal é pegar o primeiro texto produzido, o mediano e o último dentre os selecionados pelo primeiro filtro.',\n",
              " 'Essa distância pode evidenciar a mudança semântica das preposições.A partir dos textos selecionados por meio do primeiro filtro, gero gráficos, e, através dos três textos selecionados através do segundo filtro, estudo as preposições em contextos.']"
            ]
          },
          "metadata": {},
          "execution_count": 27
        }
      ]
    },
    {
      "cell_type": "code",
      "source": [
        "# contabilização dos pesos das sentenças\n",
        "pesos_sentencas = {}\n",
        "for sentenca in sent_tkn:\n",
        "    for palavra in sentenca.lower().split():\n",
        "        if palavra in freq_palavras.keys():\n",
        "            if sentenca not in pesos_sentencas.keys():\n",
        "                pesos_sentencas[sentenca]= freq_palavras[palavra]\n",
        "            else:\n",
        "                pesos_sentencas[sentenca] += freq_palavras[palavra]"
      ],
      "metadata": {
        "id": "eqLbVdfRFz_Q"
      },
      "execution_count": null,
      "outputs": []
    },
    {
      "cell_type": "code",
      "source": [
        "# criando dataframe com as sentenças e seus respectivos pesos\n",
        "df = pd.DataFrame({'sentenca':pesos_sentencas.keys(),\n",
        "                  'nota':pesos_sentencas.values()},\n",
        "                  index=range(len(pesos_sentencas))).sort_values('nota', ascending=False)\n",
        "             \n",
        "df.index = range(len(df.sentenca))\n",
        "df"
      ],
      "metadata": {
        "colab": {
          "base_uri": "https://localhost:8080/",
          "height": 425
        },
        "id": "Tj1jn2VCGC9W",
        "outputId": "a4b79bc5-228f-4e4e-c930-4de27a05f307"
      },
      "execution_count": null,
      "outputs": [
        {
          "output_type": "execute_result",
          "data": {
            "text/plain": [
              "                                             sentenca      nota\n",
              "0   Essa distância pode evidenciar a mudança semân...  6.000000\n",
              "1   A contribuição é desde para a Linguística quan...  5.444444\n",
              "2   Um espaço de tempo razoável para análise é a o...  5.111111\n",
              "3   Sendo mais claro, por meio de processos comput...  4.222222\n",
              "4   A escolha foi justamente devido ambiente comum...  4.000000\n",
              "5   Ressalto que por se tratar de uma demonstração...  2.777778\n",
              "6   Deve-se considerar que os textos estão em um c...  2.444444\n",
              "7   O ideal é pegar o primeiro texto produzido, o ...  1.888889\n",
              "8   O foco é compreender um pouco a respeito do as...  1.666667\n",
              "9   A grosso modo, Linguística Computacional é a i...  1.222222\n",
              "10  Selecionarei apenas alguns, levando em conside...  1.000000\n",
              "11  Ao todo, o corpus apresenta 59 textos, número ...  1.000000"
            ],
            "text/html": [
              "\n",
              "  <div id=\"df-89702960-3239-4889-8670-e56d00946211\">\n",
              "    <div class=\"colab-df-container\">\n",
              "      <div>\n",
              "<style scoped>\n",
              "    .dataframe tbody tr th:only-of-type {\n",
              "        vertical-align: middle;\n",
              "    }\n",
              "\n",
              "    .dataframe tbody tr th {\n",
              "        vertical-align: top;\n",
              "    }\n",
              "\n",
              "    .dataframe thead th {\n",
              "        text-align: right;\n",
              "    }\n",
              "</style>\n",
              "<table border=\"1\" class=\"dataframe\">\n",
              "  <thead>\n",
              "    <tr style=\"text-align: right;\">\n",
              "      <th></th>\n",
              "      <th>sentenca</th>\n",
              "      <th>nota</th>\n",
              "    </tr>\n",
              "  </thead>\n",
              "  <tbody>\n",
              "    <tr>\n",
              "      <th>0</th>\n",
              "      <td>Essa distância pode evidenciar a mudança semân...</td>\n",
              "      <td>6.000000</td>\n",
              "    </tr>\n",
              "    <tr>\n",
              "      <th>1</th>\n",
              "      <td>A contribuição é desde para a Linguística quan...</td>\n",
              "      <td>5.444444</td>\n",
              "    </tr>\n",
              "    <tr>\n",
              "      <th>2</th>\n",
              "      <td>Um espaço de tempo razoável para análise é a o...</td>\n",
              "      <td>5.111111</td>\n",
              "    </tr>\n",
              "    <tr>\n",
              "      <th>3</th>\n",
              "      <td>Sendo mais claro, por meio de processos comput...</td>\n",
              "      <td>4.222222</td>\n",
              "    </tr>\n",
              "    <tr>\n",
              "      <th>4</th>\n",
              "      <td>A escolha foi justamente devido ambiente comum...</td>\n",
              "      <td>4.000000</td>\n",
              "    </tr>\n",
              "    <tr>\n",
              "      <th>5</th>\n",
              "      <td>Ressalto que por se tratar de uma demonstração...</td>\n",
              "      <td>2.777778</td>\n",
              "    </tr>\n",
              "    <tr>\n",
              "      <th>6</th>\n",
              "      <td>Deve-se considerar que os textos estão em um c...</td>\n",
              "      <td>2.444444</td>\n",
              "    </tr>\n",
              "    <tr>\n",
              "      <th>7</th>\n",
              "      <td>O ideal é pegar o primeiro texto produzido, o ...</td>\n",
              "      <td>1.888889</td>\n",
              "    </tr>\n",
              "    <tr>\n",
              "      <th>8</th>\n",
              "      <td>O foco é compreender um pouco a respeito do as...</td>\n",
              "      <td>1.666667</td>\n",
              "    </tr>\n",
              "    <tr>\n",
              "      <th>9</th>\n",
              "      <td>A grosso modo, Linguística Computacional é a i...</td>\n",
              "      <td>1.222222</td>\n",
              "    </tr>\n",
              "    <tr>\n",
              "      <th>10</th>\n",
              "      <td>Selecionarei apenas alguns, levando em conside...</td>\n",
              "      <td>1.000000</td>\n",
              "    </tr>\n",
              "    <tr>\n",
              "      <th>11</th>\n",
              "      <td>Ao todo, o corpus apresenta 59 textos, número ...</td>\n",
              "      <td>1.000000</td>\n",
              "    </tr>\n",
              "  </tbody>\n",
              "</table>\n",
              "</div>\n",
              "      <button class=\"colab-df-convert\" onclick=\"convertToInteractive('df-89702960-3239-4889-8670-e56d00946211')\"\n",
              "              title=\"Convert this dataframe to an interactive table.\"\n",
              "              style=\"display:none;\">\n",
              "        \n",
              "  <svg xmlns=\"http://www.w3.org/2000/svg\" height=\"24px\"viewBox=\"0 0 24 24\"\n",
              "       width=\"24px\">\n",
              "    <path d=\"M0 0h24v24H0V0z\" fill=\"none\"/>\n",
              "    <path d=\"M18.56 5.44l.94 2.06.94-2.06 2.06-.94-2.06-.94-.94-2.06-.94 2.06-2.06.94zm-11 1L8.5 8.5l.94-2.06 2.06-.94-2.06-.94L8.5 2.5l-.94 2.06-2.06.94zm10 10l.94 2.06.94-2.06 2.06-.94-2.06-.94-.94-2.06-.94 2.06-2.06.94z\"/><path d=\"M17.41 7.96l-1.37-1.37c-.4-.4-.92-.59-1.43-.59-.52 0-1.04.2-1.43.59L10.3 9.45l-7.72 7.72c-.78.78-.78 2.05 0 2.83L4 21.41c.39.39.9.59 1.41.59.51 0 1.02-.2 1.41-.59l7.78-7.78 2.81-2.81c.8-.78.8-2.07 0-2.86zM5.41 20L4 18.59l7.72-7.72 1.47 1.35L5.41 20z\"/>\n",
              "  </svg>\n",
              "      </button>\n",
              "      \n",
              "  <style>\n",
              "    .colab-df-container {\n",
              "      display:flex;\n",
              "      flex-wrap:wrap;\n",
              "      gap: 12px;\n",
              "    }\n",
              "\n",
              "    .colab-df-convert {\n",
              "      background-color: #E8F0FE;\n",
              "      border: none;\n",
              "      border-radius: 50%;\n",
              "      cursor: pointer;\n",
              "      display: none;\n",
              "      fill: #1967D2;\n",
              "      height: 32px;\n",
              "      padding: 0 0 0 0;\n",
              "      width: 32px;\n",
              "    }\n",
              "\n",
              "    .colab-df-convert:hover {\n",
              "      background-color: #E2EBFA;\n",
              "      box-shadow: 0px 1px 2px rgba(60, 64, 67, 0.3), 0px 1px 3px 1px rgba(60, 64, 67, 0.15);\n",
              "      fill: #174EA6;\n",
              "    }\n",
              "\n",
              "    [theme=dark] .colab-df-convert {\n",
              "      background-color: #3B4455;\n",
              "      fill: #D2E3FC;\n",
              "    }\n",
              "\n",
              "    [theme=dark] .colab-df-convert:hover {\n",
              "      background-color: #434B5C;\n",
              "      box-shadow: 0px 1px 3px 1px rgba(0, 0, 0, 0.15);\n",
              "      filter: drop-shadow(0px 1px 2px rgba(0, 0, 0, 0.3));\n",
              "      fill: #FFFFFF;\n",
              "    }\n",
              "  </style>\n",
              "\n",
              "      <script>\n",
              "        const buttonEl =\n",
              "          document.querySelector('#df-89702960-3239-4889-8670-e56d00946211 button.colab-df-convert');\n",
              "        buttonEl.style.display =\n",
              "          google.colab.kernel.accessAllowed ? 'block' : 'none';\n",
              "\n",
              "        async function convertToInteractive(key) {\n",
              "          const element = document.querySelector('#df-89702960-3239-4889-8670-e56d00946211');\n",
              "          const dataTable =\n",
              "            await google.colab.kernel.invokeFunction('convertToInteractive',\n",
              "                                                     [key], {});\n",
              "          if (!dataTable) return;\n",
              "\n",
              "          const docLinkHtml = 'Like what you see? Visit the ' +\n",
              "            '<a target=\"_blank\" href=https://colab.research.google.com/notebooks/data_table.ipynb>data table notebook</a>'\n",
              "            + ' to learn more about interactive tables.';\n",
              "          element.innerHTML = '';\n",
              "          dataTable['output_type'] = 'display_data';\n",
              "          await google.colab.output.renderOutput(dataTable, element);\n",
              "          const docLink = document.createElement('div');\n",
              "          docLink.innerHTML = docLinkHtml;\n",
              "          element.appendChild(docLink);\n",
              "        }\n",
              "      </script>\n",
              "    </div>\n",
              "  </div>\n",
              "  "
            ]
          },
          "metadata": {},
          "execution_count": 32
        }
      ]
    },
    {
      "cell_type": "code",
      "source": [
        "# importando biblioteca para seleção de sentencas\n",
        "import heapq\n",
        "\n",
        "# selecionando as três sentenças com maior peso\n",
        "melhores_sents = heapq.nlargest(3, pesos_sentencas, key=pesos_sentencas.get)"
      ],
      "metadata": {
        "id": "j-9vhUDQGeW-"
      },
      "execution_count": null,
      "outputs": []
    },
    {
      "cell_type": "code",
      "source": [
        "# juntando as sentenças\n",
        "' '.join(melhores_sents)"
      ],
      "metadata": {
        "colab": {
          "base_uri": "https://localhost:8080/",
          "height": 167
        },
        "id": "C9Xei2yRGzCX",
        "outputId": "dcd10592-f853-45be-c98f-d71341667526"
      },
      "execution_count": null,
      "outputs": [
        {
          "output_type": "execute_result",
          "data": {
            "text/plain": [
              "'Essa distância pode evidenciar a mudança semântica das preposições.A partir dos textos selecionados por meio do primeiro filtro, gero gráficos, e, através dos três textos selecionados através do segundo filtro, estudo as preposições em contextos. A contribuição é desde para a Linguística quanto para o avanço tecnológico.Havendo essa relevância, o presente artigo demonstra o passo a passo de um possível uso da Linguística Computacional para o estudo linguístico.Para a demonstração, selecionei o estudo de caso em que os objetos de estudo são as preposições in, on, at e within. Um espaço de tempo razoável para análise é a observância de textos com 20 anos de diferença de um para o outro.Dos selecionados, tendo como filtro esse período de diferença, faço outra seleção, selecionando apenas três textos de tempos longínquos entre si.'"
            ],
            "application/vnd.google.colaboratory.intrinsic+json": {
              "type": "string"
            }
          },
          "metadata": {},
          "execution_count": 34
        }
      ]
    },
    {
      "cell_type": "code",
      "source": [
        "# importando módulo HTML\n",
        "from IPython.core.display import display, HTML\n",
        "\n",
        "display(HTML(f'<h1>Resumo do Texto</h1>'))\n",
        "\n",
        "texto = ''\n",
        "for sent in sent_tkn:\n",
        "    if sent in melhores_sents:\n",
        "        texto += str(sent).replace(sent, f\"<mark style='background-color: yellow'>{sent}</mark>\")\n",
        "    else:\n",
        "        texto += sent\n",
        "\n",
        "display(HTML(f\"\"\"{texto}\"\"\"))"
      ],
      "metadata": {
        "colab": {
          "base_uri": "https://localhost:8080/",
          "height": 370
        },
        "id": "JWKh0AGcG8ww",
        "outputId": "ff4fdc06-f990-4520-98f5-a3b535195fe7"
      },
      "execution_count": 46,
      "outputs": [
        {
          "output_type": "display_data",
          "data": {
            "text/plain": [
              "<IPython.core.display.HTML object>"
            ],
            "text/html": [
              "<h1>Resumo do Texto</h1>"
            ]
          },
          "metadata": {}
        },
        {
          "output_type": "display_data",
          "data": {
            "text/plain": [
              "<IPython.core.display.HTML object>"
            ],
            "text/html": [
              "A grosso modo, Linguística Computacional é a intersecção entre Computação e Linguística.Sendo mais claro, por meio de processos computacionais, ou seja, da Linguística Computacional, é possível manipular a língua natural, seja o aspecto falado, seja o escrito.A partir dessa manipulação, pode-se estudar aspectos gramaticais de uma língua, os padrões de um gênero textual, as peculiaridades de uma classe de palavra, além da geração de softwares capazes de decodificar e codificar uma língua natural.<mark style='background-color: yellow'>A contribuição é desde para a Linguística quanto para o avanço tecnológico.Havendo essa relevância, o presente artigo demonstra o passo a passo de um possível uso da Linguística Computacional para o estudo linguístico.Para a demonstração, selecionei o estudo de caso em que os objetos de estudo são as preposições in, on, at e within.</mark>O foco é compreender um pouco a respeito do aspecto semântico dessas preposições no decorrer de aproximadamente 200 anos.Ressalto que por se tratar de uma demonstração, não realizarei um trabalho rigoroso.Para isso, selecionei o corpus inaugural, o qual contém os textos escritos de posse dos ex-presidentes estadunidenses.Deve-se considerar que os textos estão em um contexto de formalidade e foram escritos ao longo de mais ou menos 200 anos de história.Ao todo, o corpus apresenta 59 textos, número de presidentes da história estadunidense.A escolha foi justamente devido ambiente comum (posse de presidente) e a organização cronológica dos textos.Como se trata de textos referentes à posse de presidentes estadunidenses, o período entre a realização e/ou publicação entre um texto e outro é de quatro anos.Não trabalhei com todos os textos.Selecionarei apenas alguns, levando em consideração que as mudanças linguísticas significativas não são normalmente imediatas.<mark style='background-color: yellow'>Um espaço de tempo razoável para análise é a observância de textos com 20 anos de diferença de um para o outro.Dos selecionados, tendo como filtro esse período de diferença, faço outra seleção, selecionando apenas três textos de tempos longínquos entre si.</mark>O ideal é pegar o primeiro texto produzido, o mediano e o último dentre os selecionados pelo primeiro filtro.<mark style='background-color: yellow'>Essa distância pode evidenciar a mudança semântica das preposições.A partir dos textos selecionados por meio do primeiro filtro, gero gráficos, e, através dos três textos selecionados através do segundo filtro, estudo as preposições em contextos.</mark>"
            ]
          },
          "metadata": {}
        }
      ]
    },
    {
      "cell_type": "markdown",
      "source": [
        "**Mais informações em:**\n",
        "\n",
        "> https://br-cienciadedados.medium.com/sumariza%C3%A7%C3%A3o-autom%C3%A1tica-de-texto-9f48223b2e83"
      ],
      "metadata": {
        "id": "49WcaR7dJT55"
      }
    }
  ]
}