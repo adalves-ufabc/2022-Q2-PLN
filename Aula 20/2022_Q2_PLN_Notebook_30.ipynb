{
  "nbformat": 4,
  "nbformat_minor": 0,
  "metadata": {
    "colab": {
      "name": "2022-Q2 PLN Notebook 30.ipynb",
      "provenance": [],
      "collapsed_sections": [],
      "authorship_tag": "ABX9TyNkJxlwfbdjcoY+8vSiqLP+",
      "include_colab_link": true
    },
    "kernelspec": {
      "name": "python3",
      "display_name": "Python 3"
    }
  },
  "cells": [
    {
      "cell_type": "markdown",
      "metadata": {
        "id": "view-in-github",
        "colab_type": "text"
      },
      "source": [
        "<a href=\"https://colab.research.google.com/github/adalves-ufabc/2022.Q2-PLN/blob/main/2022_Q2_PLN_Notebook_30.ipynb\" target=\"_parent\"><img src=\"https://colab.research.google.com/assets/colab-badge.svg\" alt=\"Open In Colab\"/></a>"
      ]
    },
    {
      "cell_type": "markdown",
      "metadata": {
        "id": "xv5MMb89fCa1"
      },
      "source": [
        "# **Processamento de Linguagem Natural [2022.Q2]**\n",
        "Prof. Alexandre Donizeti Alves"
      ]
    },
    {
      "cell_type": "markdown",
      "metadata": {
        "id": "f5B2Kb_cfDuQ"
      },
      "source": [
        "### **Sumarização Automática de Textos**"
      ]
    },
    {
      "cell_type": "markdown",
      "metadata": {
        "id": "4tDFS0_yQW4W"
      },
      "source": [
        "### **Usando o pacote Gensim**"
      ]
    },
    {
      "cell_type": "code",
      "metadata": {
        "id": "BovvAgSofcql"
      },
      "source": [
        "text=\"\"\"A vaccine for the coronavirus will likely be ready by early \n",
        "2021 but rolling it out safely across India’s 1.3 billion people will \n",
        "be the country’s biggest challenge in fighting its surging epidemic, \n",
        "a leading vaccine scientist told Bloomberg.\n",
        "\n",
        "India, which is host to some of the front-runner vaccine clinical \n",
        "trials, currently has no local infrastructure in place to go beyond \n",
        "immunizing babies and pregnant women, said Gagandeep Kang, professor \n",
        "of microbiology at the Vellore-based Christian Medical College and a \n",
        "member of the WHO’s Global Advisory Committee on Vaccine Safety.\n",
        "\n",
        "The timing of the vaccine is a contentious subject around the world. \n",
        "In the U.S., President Donald Trump has contradicted a top \n",
        "administration health expert by saying a vaccine would be available \n",
        "by October. In India, Prime Minister Narendra Modi’s government had \n",
        "promised an indigenous vaccine as early as mid-August, a claim the \n",
        "government and its apex medical research body has since walked back.\n",
        "\"\"\""
      ],
      "execution_count": 1,
      "outputs": []
    },
    {
      "cell_type": "code",
      "metadata": {
        "colab": {
          "base_uri": "https://localhost:8080/"
        },
        "id": "Ke93UMIxgy03",
        "outputId": "f4e22c85-1a3e-4afc-e273-4f2c228201af"
      },
      "source": [
        "from gensim.summarization.summarizer import summarize\n",
        "\n",
        "# summarize text using gensim\n",
        "gen_summary=summarize(text)\n",
        "print(gen_summary)"
      ],
      "execution_count": 2,
      "outputs": [
        {
          "output_type": "stream",
          "name": "stdout",
          "text": [
            "A vaccine for the coronavirus will likely be ready by early \n",
            "In India, Prime Minister Narendra Modi’s government had \n",
            "government and its apex medical research body has since walked back.\n"
          ]
        }
      ]
    },
    {
      "cell_type": "markdown",
      "metadata": {
        "id": "Oahyvop8RARg"
      },
      "source": [
        "### **Mais um exemplo usando Gemsim**\n"
      ]
    },
    {
      "cell_type": "code",
      "metadata": {
        "colab": {
          "base_uri": "https://localhost:8080/"
        },
        "id": "D7wZWAb_R5Ud",
        "outputId": "df070918-7cad-4f21-ed93-3a2533eea68e"
      },
      "source": [
        "!pip install wikipedia"
      ],
      "execution_count": 3,
      "outputs": [
        {
          "output_type": "stream",
          "name": "stdout",
          "text": [
            "Looking in indexes: https://pypi.org/simple, https://us-python.pkg.dev/colab-wheels/public/simple/\n",
            "Collecting wikipedia\n",
            "  Downloading wikipedia-1.4.0.tar.gz (27 kB)\n",
            "Requirement already satisfied: beautifulsoup4 in /usr/local/lib/python3.7/dist-packages (from wikipedia) (4.6.3)\n",
            "Requirement already satisfied: requests<3.0.0,>=2.0.0 in /usr/local/lib/python3.7/dist-packages (from wikipedia) (2.23.0)\n",
            "Requirement already satisfied: idna<3,>=2.5 in /usr/local/lib/python3.7/dist-packages (from requests<3.0.0,>=2.0.0->wikipedia) (2.10)\n",
            "Requirement already satisfied: certifi>=2017.4.17 in /usr/local/lib/python3.7/dist-packages (from requests<3.0.0,>=2.0.0->wikipedia) (2022.6.15)\n",
            "Requirement already satisfied: urllib3!=1.25.0,!=1.25.1,<1.26,>=1.21.1 in /usr/local/lib/python3.7/dist-packages (from requests<3.0.0,>=2.0.0->wikipedia) (1.24.3)\n",
            "Requirement already satisfied: chardet<4,>=3.0.2 in /usr/local/lib/python3.7/dist-packages (from requests<3.0.0,>=2.0.0->wikipedia) (3.0.4)\n",
            "Building wheels for collected packages: wikipedia\n",
            "  Building wheel for wikipedia (setup.py) ... \u001b[?25l\u001b[?25hdone\n",
            "  Created wheel for wikipedia: filename=wikipedia-1.4.0-py3-none-any.whl size=11695 sha256=3adac80c48cd470da6346e010e981f06b2c47dcb24fb74ce7bc76ce582ecfc2b\n",
            "  Stored in directory: /root/.cache/pip/wheels/15/93/6d/5b2c68b8a64c7a7a04947b4ed6d89fb557dcc6bc27d1d7f3ba\n",
            "Successfully built wikipedia\n",
            "Installing collected packages: wikipedia\n",
            "Successfully installed wikipedia-1.4.0\n"
          ]
        }
      ]
    },
    {
      "cell_type": "code",
      "metadata": {
        "colab": {
          "base_uri": "https://localhost:8080/"
        },
        "id": "ZWQxZ00xRwVF",
        "outputId": "2f33c5b1-c03c-4a0f-e388-8ff36b3b4513"
      },
      "source": [
        "from gensim.summarization.summarizer import summarize \n",
        "from gensim.summarization import keywords \n",
        "\n",
        "import wikipedia \n",
        "import spacy\n",
        "\n",
        "# get wiki content \n",
        "wikisearch = wikipedia.page(\"Ayrton Senna\") \n",
        "wikicontent = wikisearch.content \n",
        "\n",
        "#nlp = en_core_web_sm.load() \n",
        "nlp = spacy.load('en_core_web_sm')\n",
        "doc = nlp(wikicontent) \n",
        "\n",
        "# save the wiki content to a file \n",
        "f = open(\"wikicontent.txt\", \"w\") \n",
        "f.write(wikicontent) \n",
        "f.close() \n",
        "\n",
        "# summary (5% of the original content)\n",
        "summ_per = summarize(wikicontent, ratio = 0.05) \n",
        "print(\"Percent summary\") \n",
        "print(summ_per) \n",
        "\n",
        "# Summary (200 words) \n",
        "summ_words = summarize(wikicontent, word_count = 200) \n",
        "print(\"\\nWord count summary\") \n",
        "print(summ_words) \n"
      ],
      "execution_count": 5,
      "outputs": [
        {
          "output_type": "stream",
          "name": "stdout",
          "text": [
            "Percent summary\n",
            "Senna is one of three Formula One drivers from Brazil to win the World Championship and won 41 Grands Prix and 65 pole positions, with the latter being the record until 2006.\n",
            "In 1978, he was the teammate of Terry Fullerton, from whom Senna later felt was the rival he got the most satisfaction racing against also because of the lack of money and politics at that level.In 1981, Senna moved to Eaton near Norwich in England to begin single-seater racing, winning the RAC and Townsend Thoresen Formula Ford 1600 Championships that year with the Van Diemen team.\n",
            "In November that year, Senna also triumphed at the inaugural Macau Formula 3 Grand Prix with Teddy Yip's Toyota-powered Theodore Racing Team.Senna was managed for most of his career by Armando Teixeira, who was assisted by Domingo Piedade.\n",
            "He scored his first World Championship point when he finished 6th in his second race at the South African Grand Prix at Kyalami with severe cramp in his neck and shoulders, and replicated that result two weeks later at the Belgian Grand Prix.A combination of tyre issues and a fuel-pressure problem resulted in his failure to qualify for the San Marino Grand Prix, the only time this happened during his career.\n",
            "Senna was renowned throughout his career for his capacity to provide very specific technical details about the performance of his cars and track conditions long before the advent of telemetry; this skill led Senna's first F1 race engineer, Pat Symonds, to regard the Dallas Grand Prix in the United States as the initial highlight of Senna's debut season, instead of Monaco.\n",
            "He would later argue it was the best drive of his career, an opinion shared by race engineer Steve Hallam, who recognised Senna's \"truly special\" talent.Senna led at the San Marino, Monaco, British and German Grands Prix but retired from all these races either from engine failure or running out of fuel, and he had a huge accident at the French Grand Prix at the Paul Ricard circuit's fastest corner after engine failure in the middle of the corner.\n",
            "Until then I had a good relationship with Derek.\" Senna started the season well, coming second in Brazil behind the Williams-Honda of fellow countryman Nelson Piquet, and winning the Spanish Grand Prix by just 0.014s from Piquet's teammate Nigel Mansell in one of the closest finishes in Formula One history to find himself leading the World Championship after two races.\n",
            "The 1986 F1 cars were the most powerful cars in history, with Senna's 98T producing over 1,300 bhp (969 kW; 1,318 PS) in qualifying and 850 bhp (634 kW; 862 PS) in the race.After winning the Detroit Grand Prix from Frenchmen Prost and Jacques Laffite – which took place one day after Brazil was eliminated from the 1986 FIFA World Cup by France - Senna asked a trackside supporter for the Brazilian flag and he drove one lap waving it.\n",
            "Senna then won two races in a row, which helped him take the lead in the World Championship: the ensuing Monaco Grand Prix (the first of his record six victories at the Principality) and the Detroit Grand Prix, his second victory in two years at the angular Michigan street circuit and the first ever for an active suspension F1 car.\n",
            "As the championship progressed, however, it became evident that the Williams cars had the advantage over the rest of the field, the gap between the Honda-engined teams made most obvious at the British Grand Prix, where Mansell and Piquet in the superior Williams cars lapped the Lotuses of Senna and Nakajima who finished 3rd and 4th respectively.\n",
            "One notable incident of the year was at the Monaco Grand Prix, where Senna out-qualified Prost by 1.4 seconds and led for most of the race before crashing on lap 67.\n",
            "While Prost turned in, Senna kept his foot on the accelerator and the cars collided at 270 km/h (170 mph) and went off the track, went through the gravel trap and slammed into the tire barrier, making Senna world champion.Following the second championship-deciding collision in two years, Jackie Stewart interviewed Senna at the 1990 Australian Grand Prix (where Senna won pole and led for 61 laps before gearbox trouble forced him to slide off into a tyre barrier) and brought up a number of controversial collisions in which Senna had been involved over the last few years, stating that Senna had made more contact with other cars and drivers in the last four years than all the champions before him.\n",
            "At the British Grand Prix at Silverstone, Senna's car had come to a halt on the final lap, but he was not left stranded out on the circuit, as race-winner Mansell pulled over on his parade lap and allowed the Brazilian to ride on the Williams side-pod back to the pits.\n",
            "Senna was planning to move to the Williams team for the 1992 season, but Honda's CEO, Nobuhiko Kawamoto, personally requested that he remain at McLaren-Honda, which Senna did out of a sense of loyalty; in addition to Alain Prost's recommendation Honda had played an important part of bringing Senna with them to McLaren.That year, as had been the case in 1988 and 1990, Senna won the \"International Racing Driver Award\" granted by British magazine Autosport annually.\n",
            "A delay occurred in getting the new MP4/7A model running (it was McLaren's first car with a semi-automatic gearbox and it debuted in the third race of the season, the Brazilian Grand Prix) and in addition to lacking active suspension, the new car suffered from reliability issues and was unpredictable in fast corners, while its Honda V12 engine was no longer the most powerful on the circuit.\n",
            "He felt the McLaren cars were becoming less competitive than in previous years, especially given Honda's decision to abandon the sport at the end of 1992 due to economic issues and McLaren's lack of active suspension relating to rival Williams.Given this scenario, Senna secured an IndyCar testing session with the support of compatriot and Penske driver, Emerson Fittipaldi.\n",
            "Faced with this, during the post-race press conference of the 1992 Portuguese Grand Prix at the Estoril Circuit, an infuriated Senna called Prost a coward, leading to some commentators stating that what Prost had done was no different from Senna vetoing Derek Warwick from joining Lotus in 1986, but they did not take into account that Senna's chances of winning the championship were much higher in 1993.By this time, McLaren was forced to take a customer supply of Ford V8 engines, which were two specifications behind that of Ford's then factory team, Benetton.\n",
            "The decision created some polemic back in the day, both amongst drivers and in the press, considering that during all the 1993 season, Prost was under threat of a four-race ban for using words to criticize the president of the FIA, which means that punching a fellow driver in the face was not as bad as criticizing the FIA.The season concluded in Australia, with Senna's 41st and last F1 career win, as well as the last win for an active-suspension F1 car (ironically, Senna had the first victory for a car with this technology in Monaco 1987).\n",
            "Hill also retired with transmission problems, while Schumacher took the victory again.It was Senna's worst start to a Formula One season, failing to finish or score points in the first two races, despite taking pole position both times.\n",
            "For example, instead of returning to the pit area after his first lap retirement at the Pacific Grand Prix, Senna opted to stand near the first corner and watch the cars complete the race to see if he could detect whether any now banned traction control system was being used.\n",
            "Indeed, in an interview for the 20th anniversary of Ayrton Senna's death, his then teammate, Damon Hill, revealed that Senna had \"concluded that there was, what he regarded, as unusual noises from the engine\" with \"special tweak\" giving Benetton an advantage.The season ended at the Australian Grand Prix in Adelaide, where the first-corner chicane at the Adelaide Street Circuit was renamed the \"Senna Chicane\".\n",
            "However, Senna was so outraged by the editor dropping him from No. 1 to No. 2 in the 1990 listings as a result of Senna's first corner crash at Suzuka in 1990 with Alain Prost—a piece of driving the editor considered completely reckless—that despite being given the No. 1 driver award in 1991, Senna refused to write the usually customary foreword by the year's World Champion; Honda's Head of Racing wrote the foreword instead.\n",
            "An exhibition also took place that showcased Senna's victories around Monaco, along with his helmets that were borrowed from Senna's family and a selection of McLaren cars raced by Senna that were brought over from Motegi.On 21 March 2010, on the day that would have marked Senna's 50th birthday, the football team Corinthians, which Senna supported, played a tape in memory of Senna which was also part of the theme played at the São Paulo Motor Show.On 25 July 2010, the BBC motoring show, Top Gear paid an emotional tribute to Senna with British Formula One World Champion, Lewis Hamilton driving Senna's original MP4/4, with which he won the 1988 title.\n",
            "A half-Austrian, half-Brazilian flag was presented on the top step of the podium by the race winner of the 2019 Spanish Grand Prix in honour of Ratzenberger and Senna.A DLC for Codemasters' F1 2019 depicting Senna's rivalry with Alain Prost was released in June, complete with digitised depictions of the two drivers along with car liveries inspired by their helmet designs.On 19 September 2021, a bronze life-size statue of Ayrton Senna was unveiled in Walbrzych (Poland), standing in a street named after him.\n",
            "Bruno sported a modified helmet design for the final three races of the 2011 season to honour the 20th anniversary of Ayrton winning his last world championship.At the 1995 Brazilian Grand Prix, Rubens Barrichello incorporated part of Senna's helmet design into his own.\n",
            "\n",
            "Word count summary\n",
            "Until then I had a good relationship with Derek.\" Senna started the season well, coming second in Brazil behind the Williams-Honda of fellow countryman Nelson Piquet, and winning the Spanish Grand Prix by just 0.014s from Piquet's teammate Nigel Mansell in one of the closest finishes in Formula One history to find himself leading the World Championship after two races.\n",
            "The 1986 F1 cars were the most powerful cars in history, with Senna's 98T producing over 1,300 bhp (969 kW; 1,318 PS) in qualifying and 850 bhp (634 kW; 862 PS) in the race.After winning the Detroit Grand Prix from Frenchmen Prost and Jacques Laffite – which took place one day after Brazil was eliminated from the 1986 FIFA World Cup by France - Senna asked a trackside supporter for the Brazilian flag and he drove one lap waving it.\n",
            "While Prost turned in, Senna kept his foot on the accelerator and the cars collided at 270 km/h (170 mph) and went off the track, went through the gravel trap and slammed into the tire barrier, making Senna world champion.Following the second championship-deciding collision in two years, Jackie Stewart interviewed Senna at the 1990 Australian Grand Prix (where Senna won pole and led for 61 laps before gearbox trouble forced him to slide off into a tyre barrier) and brought up a number of controversial collisions in which Senna had been involved over the last few years, stating that Senna had made more contact with other cars and drivers in the last four years than all the champions before him.\n"
          ]
        }
      ]
    },
    {
      "cell_type": "markdown",
      "source": [
        "A biblioteca `gensim` também oferece suporte à extração de palavras-chave. A extração de palavras-chave funciona da mesma forma que a geração de resumo (ou seja, extração de sentenças), em que o algoritmo tenta encontrar palavras que são importantes ou parecem representativas de todo o texto. As palavras-chave nem sempre são palavras simples; no caso de palavras-chave com várias palavras, elas geralmente são todas substantivos."
      ],
      "metadata": {
        "id": "qcPlyiA-X9Xn"
      }
    },
    {
      "cell_type": "code",
      "source": [
        "from gensim.summarization import keywords\n",
        "\n",
        "print(keywords(wikicontent, ratio=0.005))"
      ],
      "metadata": {
        "colab": {
          "base_uri": "https://localhost:8080/"
        },
        "id": "2EIBpJJ3XPLV",
        "outputId": "2771d1e6-5b96-4d77-a6a9-cd8c3442f386"
      },
      "execution_count": 11,
      "outputs": [
        {
          "output_type": "stream",
          "name": "stdout",
          "text": [
            "senna\n",
            "races\n",
            "race\n",
            "raced\n",
            "racing driver\n",
            "drivers\n",
            "prost\n",
            "cars\n",
            "car\n",
            "team\n",
            "teams\n",
            "circuit\n",
            "circuits\n",
            "brazilian\n",
            "grands\n",
            "grand\n"
          ]
        }
      ]
    },
    {
      "cell_type": "markdown",
      "metadata": {
        "id": "IuvwiYyXfHAb"
      },
      "source": [
        "**Mais informações:**\n",
        "\n",
        "> https://avinashnavlani.medium.com/text-summarization-using-python-773e064377eb\n",
        "\n",
        "> https://www.geeksforgeeks.org/python-extractive-text-summarization-using-gensim/"
      ]
    }
  ]
}