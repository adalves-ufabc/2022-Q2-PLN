{
  "nbformat": 4,
  "nbformat_minor": 0,
  "metadata": {
    "colab": {
      "name": "2022-Q2 PLN Notebook 27.ipynb",
      "provenance": [],
      "collapsed_sections": [],
      "authorship_tag": "ABX9TyPllGCvoNw2HVvVg5ocldJ/",
      "include_colab_link": true
    },
    "kernelspec": {
      "name": "python3",
      "display_name": "Python 3"
    }
  },
  "cells": [
    {
      "cell_type": "markdown",
      "metadata": {
        "id": "view-in-github",
        "colab_type": "text"
      },
      "source": [
        "<a href=\"https://colab.research.google.com/github/adalves-ufabc/2022.Q2-PLN/blob/main/2022_Q2_PLN_Notebook_27.ipynb\" target=\"_parent\"><img src=\"https://colab.research.google.com/assets/colab-badge.svg\" alt=\"Open In Colab\"/></a>"
      ]
    },
    {
      "cell_type": "markdown",
      "metadata": {
        "id": "cPxfYOOVKa4k"
      },
      "source": [
        "# **Processamento de Linguagem Natural [2022.Q2]**\n",
        "Prof. Alexandre Donizeti Alves"
      ]
    },
    {
      "cell_type": "markdown",
      "metadata": {
        "id": "xhZ76gV5Kfc7"
      },
      "source": [
        "### **Sumarização Automática de Textos**\n",
        "\n",
        "Hoje em dia, várias organizações, sejam elas de compras on-line, organizações governamentais ou do setor privado, indústria de turismo ou outras instituições que oferecem serviços ao cliente, estão preocupadas com seus clientes e pedem *feedback* cada vez que usamos seus serviços. \n",
        "\n",
        ">\n",
        "Considere o fato de que essas empresas podem receber enormes quantidades de feedback dos usuários todos os dias. E seria muito tedioso para a gerência sentar e analisar cada um deles. Mas, as tecnologias hoje chegaram a um ponto em que podem fazer praticamente todas as tarefas dos seres humanos. \n",
        "\n",
        ">\n",
        "As máquinas tornaram-se capazes de compreender línguas humanas usando o Processamento de Linguagem Natural. Isso pode ser feito por meio de um algoritmo para reduzir o corpus do texto, mas mantendo seu significado original, ou dando uma grande visão do texto original."
      ]
    },
    {
      "cell_type": "code",
      "metadata": {
        "colab": {
          "base_uri": "https://localhost:8080/"
        },
        "id": "5e6oWrw-7skg",
        "outputId": "455ca099-d70a-4250-e4a8-5e773e72bc5c"
      },
      "source": [
        "import nltk\n",
        "\n",
        "nltk.download('stopwords')\n",
        "nltk.download('punkt')"
      ],
      "execution_count": 1,
      "outputs": [
        {
          "output_type": "stream",
          "name": "stderr",
          "text": [
            "[nltk_data] Downloading package stopwords to /root/nltk_data...\n",
            "[nltk_data]   Unzipping corpora/stopwords.zip.\n",
            "[nltk_data] Downloading package punkt to /root/nltk_data...\n",
            "[nltk_data]   Unzipping tokenizers/punkt.zip.\n"
          ]
        },
        {
          "output_type": "execute_result",
          "data": {
            "text/plain": [
              "True"
            ]
          },
          "metadata": {},
          "execution_count": 1
        }
      ]
    },
    {
      "cell_type": "code",
      "metadata": {
        "id": "i7qV0dS9aS7z"
      },
      "source": [
        "# importing required libraries \n",
        "from nltk.corpus import stopwords \n",
        "from nltk.tokenize import word_tokenize, sent_tokenize"
      ],
      "execution_count": 2,
      "outputs": []
    },
    {
      "cell_type": "code",
      "metadata": {
        "id": "drnzpVX5cXD9"
      },
      "source": [
        "# input text - to summarize  \n",
        "text = \"\"\"There are many techniques available to generate extractive summarization to keep it simple,\n",
        " I will be using an unsupervised learning approach to find the sentences similarity and rank them. \n",
        " Summarization can be defined as a task of producing a concise and fluent summary while preserving \n",
        " key information and overall meaning. One benefit of this will be, you don’t need to train and build a \n",
        " model prior start using it for your project. It’s good to understand Cosine similarity to make the best \n",
        " use of the code you are going to see. Cosine similarity is a measure of similarity between two non-zero \n",
        " vectors of an inner product space that measures the cosine of the angle between them. \n",
        " Its measures cosine of the angle between vectors. The angle will be 0 if sentences are similar \"\"\""
      ],
      "execution_count": 3,
      "outputs": []
    },
    {
      "cell_type": "code",
      "metadata": {
        "id": "K-n7aeRUaZ17"
      },
      "source": [
        "# tokenizing the text \n",
        "stopWords = set(stopwords.words(\"english\")) \n",
        "words = word_tokenize(text)"
      ],
      "execution_count": 4,
      "outputs": []
    },
    {
      "cell_type": "markdown",
      "metadata": {
        "id": "wZwei1_WbI8_"
      },
      "source": [
        "Um **dicionário** manterá um registro de quantas vezes cada palavra aparece no *feedback* depois de remover as *stop words*. Podemos usar o dicionário em cada frase para saber quais frases têm o conteúdo mais relevante no texto original."
      ]
    },
    {
      "cell_type": "code",
      "metadata": {
        "id": "m_t6cu69a0jT"
      },
      "source": [
        "# creating a frequency table to keep the score of each word \n",
        "freqTable = dict() \n",
        "for word in words: \n",
        "    word = word.lower() \n",
        "    if word in stopWords: \n",
        "        continue\n",
        "    if word in freqTable: \n",
        "        freqTable[word] += 1\n",
        "    else: \n",
        "        freqTable[word] = 1"
      ],
      "execution_count": 5,
      "outputs": []
    },
    {
      "cell_type": "markdown",
      "metadata": {
        "id": "AQU3MHB4bn4u"
      },
      "source": [
        "Podemos usar o método `sent_tokenize()` para criar o array de sentenças. Em seguida, precisaremos de um dicionário para guardar a pontuação de cada frase, e depois iremos percorrer o dicionário para gerar o resumo."
      ]
    },
    {
      "cell_type": "code",
      "metadata": {
        "id": "RpYS8fH0b3zP"
      },
      "source": [
        "# creating a dictionary to keep the score of each sentence \n",
        "sentences = sent_tokenize(text) \n",
        "sentenceValue = dict()"
      ],
      "execution_count": 6,
      "outputs": []
    },
    {
      "cell_type": "code",
      "metadata": {
        "id": "oFk4_hm-fRbt"
      },
      "source": [
        "for sentence in sentences: \n",
        "    for word, freq in freqTable.items(): \n",
        "        if word in sentence.lower(): \n",
        "            if sentence in sentenceValue: \n",
        "                sentenceValue[sentence] += freq \n",
        "            else: \n",
        "                sentenceValue[sentence] = freq "
      ],
      "execution_count": 7,
      "outputs": []
    },
    {
      "cell_type": "markdown",
      "metadata": {
        "id": "p_v5z80HeM87"
      },
      "source": [
        "Uma abordagem simples para comparar as pontuações seria encontrar a pontuação média das frases."
      ]
    },
    {
      "cell_type": "code",
      "metadata": {
        "id": "JrOeINW_cDij"
      },
      "source": [
        "sumValues = 0\n",
        "for sentence in sentenceValue: \n",
        "\tsumValues += sentenceValue[sentence] \n",
        "\n",
        "# average value of a sentence from the original text  \n",
        "average = int(sumValues / len(sentenceValue))"
      ],
      "execution_count": 8,
      "outputs": []
    },
    {
      "cell_type": "code",
      "metadata": {
        "colab": {
          "base_uri": "https://localhost:8080/"
        },
        "id": "Gp0fJ_nffn5j",
        "outputId": "8a741120-869e-4dc9-edde-b8c45e30c388"
      },
      "source": [
        "# storing sentences into our summary\n",
        "summary = '' \n",
        "for sentence in sentences: \n",
        "    if (sentence in sentenceValue) and (sentenceValue[sentence] > (1.2 * average)): \n",
        "        summary += \" \" + sentence \n",
        "\n",
        "print(summary) "
      ],
      "execution_count": 27,
      "outputs": [
        {
          "output_type": "stream",
          "name": "stdout",
          "text": [
            " There are many techniques available to generate extractive summarization to keep it simple,\n",
            " I will be using an unsupervised learning approach to find the sentences similarity and rank them. Cosine similarity is a measure of similarity between two non-zero \n",
            " vectors of an inner product space that measures the cosine of the angle between them.\n"
          ]
        }
      ]
    },
    {
      "cell_type": "code",
      "source": [
        "# importando biblioteca para seleção de sentencas\n",
        "import heapq\n",
        "\n",
        "# selecionando as três sentenças com maior peso\n",
        "melhores_sents = heapq.nlargest(3, sentenceValue, key=sentenceValue.get)"
      ],
      "metadata": {
        "id": "6MPupz07PoUh"
      },
      "execution_count": 32,
      "outputs": []
    },
    {
      "cell_type": "code",
      "source": [
        "# juntando as sentenças\n",
        "' '.join(melhores_sents)"
      ],
      "metadata": {
        "colab": {
          "base_uri": "https://localhost:8080/",
          "height": 111
        },
        "id": "LT8S4odCPwsK",
        "outputId": "c71c0e7a-4f51-4acb-9ad5-d79ff5b548ae"
      },
      "execution_count": 33,
      "outputs": [
        {
          "output_type": "execute_result",
          "data": {
            "text/plain": [
              "'There are many techniques available to generate extractive summarization to keep it simple,\\n I will be using an unsupervised learning approach to find the sentences similarity and rank them. Cosine similarity is a measure of similarity between two non-zero \\n vectors of an inner product space that measures the cosine of the angle between them. It’s good to understand Cosine similarity to make the best \\n use of the code you are going to see.'"
            ],
            "application/vnd.google.colaboratory.intrinsic+json": {
              "type": "string"
            }
          },
          "metadata": {},
          "execution_count": 33
        }
      ]
    },
    {
      "cell_type": "code",
      "source": [
        "# importando módulo HTML\n",
        "from IPython.core.display import display, HTML\n",
        "\n",
        "display(HTML(f'<h1>Resumo do Texto</h1>'))\n",
        "\n",
        "texto = ''\n",
        "for sent in sentences:\n",
        "    if sent in melhores_sents:\n",
        "        texto += str(sent).replace(sent, f\"<mark style='background-color: yellow'>{sent}</mark>\")\n",
        "    else:\n",
        "        texto += sent\n",
        "\n",
        "display(HTML(f\"\"\"{texto}\"\"\"))"
      ],
      "metadata": {
        "colab": {
          "base_uri": "https://localhost:8080/",
          "height": 179
        },
        "id": "ol-T1-CoP-TU",
        "outputId": "13040105-67cb-4289-de59-9c24c01d0fb4"
      },
      "execution_count": 34,
      "outputs": [
        {
          "output_type": "display_data",
          "data": {
            "text/plain": [
              "<IPython.core.display.HTML object>"
            ],
            "text/html": [
              "<h1>Resumo do Texto</h1>"
            ]
          },
          "metadata": {}
        },
        {
          "output_type": "display_data",
          "data": {
            "text/plain": [
              "<IPython.core.display.HTML object>"
            ],
            "text/html": [
              "<mark style='background-color: yellow'>There are many techniques available to generate extractive summarization to keep it simple,\n",
              " I will be using an unsupervised learning approach to find the sentences similarity and rank them.</mark>Summarization can be defined as a task of producing a concise and fluent summary while preserving \n",
              " key information and overall meaning.One benefit of this will be, you don’t need to train and build a \n",
              " model prior start using it for your project.<mark style='background-color: yellow'>It’s good to understand Cosine similarity to make the best \n",
              " use of the code you are going to see.</mark><mark style='background-color: yellow'>Cosine similarity is a measure of similarity between two non-zero \n",
              " vectors of an inner product space that measures the cosine of the angle between them.</mark>Its measures cosine of the angle between vectors.The angle will be 0 if sentences are similar"
            ]
          },
          "metadata": {}
        }
      ]
    },
    {
      "cell_type": "markdown",
      "metadata": {
        "id": "kutsZZu3hKk4"
      },
      "source": [
        "**Mais informações:**\n",
        "> https://www.geeksforgeeks.org/python-text-summarizer/\n",
        "\n",
        "> https://becominghuman.ai/text-summarization-in-5-steps-using-nltk-65b21e352b65"
      ]
    }
  ]
}