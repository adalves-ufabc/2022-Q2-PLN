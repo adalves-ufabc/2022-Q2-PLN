{
  "nbformat": 4,
  "nbformat_minor": 0,
  "metadata": {
    "colab": {
      "name": "2022-Q2 PLN Notebook 22.ipynb",
      "provenance": [],
      "collapsed_sections": [],
      "authorship_tag": "ABX9TyNGnLTZAzr8rzyp5ASSIbr8",
      "include_colab_link": true
    },
    "kernelspec": {
      "name": "python3",
      "display_name": "Python 3"
    }
  },
  "cells": [
    {
      "cell_type": "markdown",
      "metadata": {
        "id": "view-in-github",
        "colab_type": "text"
      },
      "source": [
        "<a href=\"https://colab.research.google.com/github/adalves-ufabc/2022.Q2-PLN/blob/main/2022_Q2_PLN_Notebook_22.ipynb\" target=\"_parent\"><img src=\"https://colab.research.google.com/assets/colab-badge.svg\" alt=\"Open In Colab\"/></a>"
      ]
    },
    {
      "cell_type": "markdown",
      "metadata": {
        "id": "-YbctlYsfEka"
      },
      "source": [
        "# **Processamento de Linguagem Natural [2022.Q2]**\n",
        "Prof. Alexandre Donizeti Alves"
      ]
    },
    {
      "cell_type": "markdown",
      "metadata": {
        "id": "z1d7whWKfLSx"
      },
      "source": [
        "### **Similaridade de Texto**"
      ]
    },
    {
      "cell_type": "markdown",
      "metadata": {
        "id": "0FDrNIhefPmq"
      },
      "source": [
        "O objetivo principal da **Similaridade de Texto** é analisar e medir a proximidade entre duas entidades de texto. Essas entidades de texto podem ser tokens ou termos simples, como palavras ou documentos inteiros, que podem incluir frases ou parágrafos de texto. Existem várias maneiras de analisar a similaridade do texto e podemos classificar a intenção da similaridade do texto amplamente nas duas áreas a seguir:\n",
        "\n"
      ]
    },
    {
      "cell_type": "markdown",
      "metadata": {
        "id": "23SzJs3dgAO1"
      },
      "source": [
        "* **Similaridade lexical**: envolve observar o conteúdo dos documentos de texto no que diz respeito à sua sintaxe, estrutura e conteúdo e\n",
        "medindo sua similaridade com base nesses parâmetros.\n",
        "* **Similaridade semântica**: envolve determinar a semântica,\n",
        "significado e contexto dos documentos e, em seguida, determinar como\n",
        "eles estão próximos um do outro. Gramáticas de dependência e Reconhecimento de Entidades são ferramentas úteis que podem ajudar nisso.\n",
        "\n",
        ">\n",
        "Nestes exemplos, cobrimos a similaridade lexical. As métricas de distância são normalmente usadas para medir pontuações de similaridade entre entidades de texto e cobrimos as seguintes áreas de similaridade de texto:\n",
        "* **Similaridade de termos**: semelhança entre tokens ou palavras individuais.\n",
        "* **Similaridade de documentos**: semelhança entre documentos de texto inteiros."
      ]
    },
    {
      "cell_type": "markdown",
      "metadata": {
        "id": "Fts3DNeWPbjh"
      },
      "source": [
        "### **Similiaridade de Termos**"
      ]
    },
    {
      "cell_type": "markdown",
      "metadata": {
        "id": "EGHe5uRoQIhG"
      },
      "source": [
        "Começaremos analisando similaridade de termos, ou similaridade entre tokens de palavras individuais, para ser mais preciso. Embora não seja muito usado em aplicações práticas, pode ser um excelente ponto de partida para entender a semelhança do texto. \n",
        "\n",
        ">\n",
        "Vários aplicativos e casos de uso como *autocompleters*, verificação ortográfica e corretores usam essas técnicas para corrigir termos com erros ortográficos. \n",
        ">\n",
        "Aqui, pegamos algumas palavras e medimos a semelhança entre elas, usando diferentes representações de palavras, bem como métricas de distância. "
      ]
    },
    {
      "cell_type": "markdown",
      "metadata": {
        "id": "iDuRIyxEQjIw"
      },
      "source": [
        "Aqui usaremos a **vetorização de caracteres**, que é um processo extremamente simples de apenas mapear cada caractere do termo para um número único correspondente. Podemos fazer isso usando a função descrita no trecho a seguir."
      ]
    },
    {
      "cell_type": "code",
      "metadata": {
        "id": "BQlGwxmffDgl"
      },
      "source": [
        "import numpy as np"
      ],
      "execution_count": 1,
      "outputs": []
    },
    {
      "cell_type": "code",
      "metadata": {
        "id": "InDZG19uhnd2"
      },
      "source": [
        "def vectorize_terms(terms):\n",
        "    terms = [term.lower() for term in terms]\n",
        "    terms = [np.array(list(term)) for term in terms]\n",
        "    terms = [np.array([ord(char) for char in term]) \n",
        "                for term in terms]\n",
        "    return terms"
      ],
      "execution_count": 2,
      "outputs": []
    },
    {
      "cell_type": "code",
      "metadata": {
        "colab": {
          "base_uri": "https://localhost:8080/"
        },
        "id": "ngPReHd8hs1v",
        "outputId": "c2cc2743-3f26-4e60-b085-015d4ebb9fdf"
      },
      "source": [
        "root  = 'Believe'\n",
        "term1 = 'beleive'\n",
        "term2 = 'bargain'\n",
        "term3 = 'Bwleivi'\n",
        "\n",
        "terms = [root, term1, term2, term3]\n",
        "terms"
      ],
      "execution_count": 4,
      "outputs": [
        {
          "output_type": "execute_result",
          "data": {
            "text/plain": [
              "['Believe', 'beleive', 'bargain', 'Bwleivi']"
            ]
          },
          "metadata": {},
          "execution_count": 4
        }
      ]
    },
    {
      "cell_type": "code",
      "metadata": {
        "colab": {
          "base_uri": "https://localhost:8080/"
        },
        "id": "Zoju_PNEh5FC",
        "outputId": "d0ef4fc9-b1f7-43e5-c98a-3b4a19bd1059"
      },
      "source": [
        "import pandas as pd\n",
        "\n",
        "# character vectorization\n",
        "term_vectors = vectorize_terms(terms)\n",
        "\n",
        "# show vector representations\n",
        "vec_df = pd.DataFrame(term_vectors, index=terms)\n",
        "print(vec_df)"
      ],
      "execution_count": 5,
      "outputs": [
        {
          "output_type": "stream",
          "name": "stdout",
          "text": [
            "          0    1    2    3    4    5    6\n",
            "Believe  98  101  108  105  101  118  101\n",
            "beleive  98  101  108  101  105  118  101\n",
            "bargain  98   97  114  103   97  105  110\n",
            "Bwleivi  98  119  108  101  105  118  105\n"
          ]
        }
      ]
    },
    {
      "cell_type": "markdown",
      "metadata": {
        "id": "y4h1rfjlTJJ4"
      },
      "source": [
        "Assim, você pode ver como podemos transformar facilmente cada termo do texto em uma representação vetorial numérica correspondente. \n",
        "\n",
        ">\n",
        "**IMPORTANTE**: valores `NaN` indicam que essas strings são mais curtas, em comparação com a última string. \n"
      ]
    },
    {
      "cell_type": "code",
      "metadata": {
        "id": "ExhxVxgdibL3"
      },
      "source": [
        "root_term = root\n",
        "other_terms = [term1, term2, term3]\n",
        "\n",
        "root_term_vec = vec_df[vec_df.index == root_term].dropna(axis=1).values[0]\n",
        "other_term_vecs = [vec_df[vec_df.index == term].dropna(axis=1).values[0]\n",
        "                      for term in other_terms]"
      ],
      "execution_count": 6,
      "outputs": []
    },
    {
      "cell_type": "code",
      "source": [
        "root_term_vec"
      ],
      "metadata": {
        "colab": {
          "base_uri": "https://localhost:8080/"
        },
        "id": "k6OVQmtOthkQ",
        "outputId": "e7a406af-ad46-45f3-8b21-59e4b64732f8"
      },
      "execution_count": 8,
      "outputs": [
        {
          "output_type": "execute_result",
          "data": {
            "text/plain": [
              "array([ 98, 101, 108, 105, 101, 118, 101])"
            ]
          },
          "metadata": {},
          "execution_count": 8
        }
      ]
    },
    {
      "cell_type": "code",
      "source": [
        "other_term_vecs"
      ],
      "metadata": {
        "colab": {
          "base_uri": "https://localhost:8080/"
        },
        "id": "xMcJwZM8tnuH",
        "outputId": "8abfcddc-9930-4a5c-96a5-902f55e439a6"
      },
      "execution_count": 9,
      "outputs": [
        {
          "output_type": "execute_result",
          "data": {
            "text/plain": [
              "[array([ 98, 101, 108, 101, 105, 118, 101]),\n",
              " array([ 98,  97, 114, 103,  97, 105, 110]),\n",
              " array([ 98, 119, 108, 101, 105, 118, 105])]"
            ]
          },
          "metadata": {},
          "execution_count": 9
        }
      ]
    },
    {
      "cell_type": "markdown",
      "metadata": {
        "id": "MimdPAvDTczV"
      },
      "source": [
        "Agora vamos usar várias métricas de distância para calcular a similaridade entre a palavra raiz e as outras três palavras, conforme apresentado no trecho de código anterior. Existem muitas métricas de distância que você pode usar para calcular e medir semelhanças. Aqui apresentamos cinco métricas."
      ]
    },
    {
      "cell_type": "markdown",
      "metadata": {
        "id": "tcf28WMoT29-"
      },
      "source": [
        "**Distância de Hamming**"
      ]
    },
    {
      "cell_type": "markdown",
      "metadata": {
        "id": "T2POEoX-UzoM"
      },
      "source": [
        "A [**distância de Hamming**](https://pt.wikipedia.org/wiki/Dist%C3%A2ncia_de_Hamming) é uma métrica de distância muito popular, usada com frequência em teoria da informação e sistemas de comunicação.  Formalmente, é definida como o número de posições que possuem caracteres ou símbolos diferentes entre duas cadeias de comprimento igual. Vista de outra forma, ela corresponde ao menor número de substituições necessárias para transformar uma string na outra, ou o número de erros que transformam uma na outra."
      ]
    },
    {
      "cell_type": "code",
      "metadata": {
        "id": "1aVThibDihTq"
      },
      "source": [
        "def hamming_distance(u, v, norm=False):\n",
        "    if u.shape != v.shape:\n",
        "        raise ValueError('The vectors must have equal lengths.')\n",
        "    return (u != v).sum() if not norm else (u != v).mean()"
      ],
      "execution_count": 10,
      "outputs": []
    },
    {
      "cell_type": "code",
      "metadata": {
        "colab": {
          "base_uri": "https://localhost:8080/"
        },
        "id": "qDuQ-3C9inG3",
        "outputId": "a9dc200e-25fa-4b00-ce37-db8d98a26d89"
      },
      "source": [
        "for term, term_vector in zip(other_terms, other_term_vecs):\n",
        "    print('Hamming distance between root: {} and term: {} is {}'.format(root_term,\n",
        "                                                                        term,\n",
        "                                                                        hamming_distance(root_term_vec, \n",
        "                                                                                         term_vector, norm=False)))"
      ],
      "execution_count": 11,
      "outputs": [
        {
          "output_type": "stream",
          "name": "stdout",
          "text": [
            "Hamming distance between root: Believe and term: beleive is 2\n",
            "Hamming distance between root: Believe and term: bargain is 6\n",
            "Hamming distance between root: Believe and term: Bwleivi is 4\n"
          ]
        }
      ]
    },
    {
      "cell_type": "code",
      "metadata": {
        "colab": {
          "base_uri": "https://localhost:8080/"
        },
        "id": "j86d84fykfzu",
        "outputId": "a02eec4d-4c60-4840-bc44-728072bb640b"
      },
      "source": [
        "for term, term_vector in zip(other_terms, other_term_vecs):\n",
        "    print('Normalized Hamming distance between root: {} and term: {} is {}'.format(root_term,\n",
        "                                                                                   term,\n",
        "                                                                                   round(hamming_distance(root_term_vec, \n",
        "                                                                                         term_vector, norm=True),\n",
        "                                                                                         2)\n",
        "                                                                                   ))"
      ],
      "execution_count": 12,
      "outputs": [
        {
          "output_type": "stream",
          "name": "stdout",
          "text": [
            "Normalized Hamming distance between root: Believe and term: beleive is 0.29\n",
            "Normalized Hamming distance between root: Believe and term: bargain is 0.86\n",
            "Normalized Hamming distance between root: Believe and term: Bwleivi is 0.57\n"
          ]
        }
      ]
    },
    {
      "cell_type": "markdown",
      "metadata": {
        "id": "cYsfJy6HVZYS"
      },
      "source": [
        "**Distância de Manhattan**"
      ]
    },
    {
      "cell_type": "markdown",
      "metadata": {
        "id": "AQMX5PEZVega"
      },
      "source": [
        "A **distância de Manhattan**, também conhecida como distância pombalina, distância de quarteirões ou distância de taxi, recebeu esse nome pois define a menor distância possível que um carro é capaz de percorrer numa malha urbana reticulada ortogonal, tal como se encontram em zonas como Manhattan ou a Baixa Pombalina."
      ]
    },
    {
      "cell_type": "markdown",
      "metadata": {
        "id": "Te55gsQgWKmc"
      },
      "source": [
        "É semelhante à distância de Hamming conceitualmente onde, em vez de contar o número de incompatibilidades, subtraímos a diferença entre cada par de caracteres em cada posição das duas strings. Formalmente é definida como a distância entre dois pontos em uma grade baseada em caminhos estritamente horizontais ou verticais. Em vez da distância diagonal convencionalmente calculada pela métrica da distância Euclidiana. Resumidamente, é apenas a soma das diferenças entre x e y em cada dimensão."
      ]
    },
    {
      "cell_type": "code",
      "metadata": {
        "id": "YETP3XRskn3Y"
      },
      "source": [
        "def manhattan_distance(u, v, norm=False):\n",
        "    if u.shape != v.shape:\n",
        "        raise ValueError('The vectors must have equal lengths.')\n",
        "    return abs(u - v).sum() if not norm else abs(u - v).mean()"
      ],
      "execution_count": 13,
      "outputs": []
    },
    {
      "cell_type": "code",
      "metadata": {
        "colab": {
          "base_uri": "https://localhost:8080/"
        },
        "id": "fX_5g50_kpci",
        "outputId": "59a5ff86-67a6-42e3-deea-5bc429f311c7"
      },
      "source": [
        "for term, term_vector in zip(other_terms, other_term_vecs):\n",
        "    print('Manhattan distance between root: {} and term: {} is {}'.format(root_term,\n",
        "                                                                          term,\n",
        "                                                                          manhattan_distance(root_term_vec, \n",
        "                                                                                             term_vector, norm=False)))"
      ],
      "execution_count": 14,
      "outputs": [
        {
          "output_type": "stream",
          "name": "stdout",
          "text": [
            "Manhattan distance between root: Believe and term: beleive is 8\n",
            "Manhattan distance between root: Believe and term: bargain is 38\n",
            "Manhattan distance between root: Believe and term: Bwleivi is 30\n"
          ]
        }
      ]
    },
    {
      "cell_type": "code",
      "metadata": {
        "colab": {
          "base_uri": "https://localhost:8080/"
        },
        "id": "uNwSL2OxkyoP",
        "outputId": "1fed5954-a037-4238-b137-a6f1e7f1ef5b"
      },
      "source": [
        "for term, term_vector in zip(other_terms, other_term_vecs):\n",
        "    print('Normalized Manhattan distance between root: {} and term: {} is {}'.format(root_term,\n",
        "                                                                                     term,\n",
        "                                                                                     round(manhattan_distance(root_term_vec, \n",
        "                                                                                           term_vector, norm=True),\n",
        "                                                                                           2)\n",
        "                                                                                     ))"
      ],
      "execution_count": 15,
      "outputs": [
        {
          "output_type": "stream",
          "name": "stdout",
          "text": [
            "Normalized Manhattan distance between root: Believe and term: beleive is 1.14\n",
            "Normalized Manhattan distance between root: Believe and term: bargain is 5.43\n",
            "Normalized Manhattan distance between root: Believe and term: Bwleivi is 4.29\n"
          ]
        }
      ]
    },
    {
      "cell_type": "markdown",
      "metadata": {
        "id": "iyBySMmHWpXQ"
      },
      "source": [
        "**Distância Euclidiana**"
      ]
    },
    {
      "cell_type": "markdown",
      "metadata": {
        "id": "F6jMSyx0Wshi"
      },
      "source": [
        "Formalmente, a distância euclidiana é definida como a distância em linha reta mais curta entre dois pontos. A Distância Euclidiana é definida como a soma da raiz quadrada da diferença entre x e y em suas respectivas dimensões."
      ]
    },
    {
      "cell_type": "code",
      "metadata": {
        "id": "EqtTZuLCk64d"
      },
      "source": [
        "def euclidean_distance(u,v):\n",
        "    if u.shape != v.shape:\n",
        "        raise ValueError('The vectors must have equal lengths.')\n",
        "    distance = np.sqrt(np.sum(np.square(u - v)))\n",
        "    return distance"
      ],
      "execution_count": 16,
      "outputs": []
    },
    {
      "cell_type": "code",
      "metadata": {
        "colab": {
          "base_uri": "https://localhost:8080/"
        },
        "id": "4zilMVpxlFEj",
        "outputId": "ccc322ec-bfe9-41a5-e774-d7be4065c916"
      },
      "source": [
        "for term, term_vector in zip(other_terms, other_term_vecs):\n",
        "    print('Euclidean distance between root: {} and term: {} is {}'.format(root_term,\n",
        "                                                                          term,\n",
        "                                                                          round(euclidean_distance(root_term_vec, \n",
        "                                                                                                   term_vector),\n",
        "                                                                                2)\n",
        "                                                                          ))"
      ],
      "execution_count": 17,
      "outputs": [
        {
          "output_type": "stream",
          "name": "stdout",
          "text": [
            "Euclidean distance between root: Believe and term: beleive is 5.66\n",
            "Euclidean distance between root: Believe and term: bargain is 17.94\n",
            "Euclidean distance between root: Believe and term: Bwleivi is 19.29\n"
          ]
        }
      ]
    },
    {
      "cell_type": "markdown",
      "metadata": {
        "id": "1Fiw69O3YJqB"
      },
      "source": [
        "**Distância Levenshtein**"
      ]
    },
    {
      "cell_type": "markdown",
      "metadata": {
        "id": "g1lJVZslYVzv"
      },
      "source": [
        "Em teoria da informação, a **distância Levenshtein** ou distância de edição entre duas \"strings\" (duas sequências de caracteres) é dada pelo número mínimo de operações necessárias para transformar uma string na outra. Entendemos por \"operações\" a inserção, deleção ou substituição de um caractere. O nome advém do cientista russo Vladimir Levenshtein, que considerou esta distância já em 1965. É muito útil para aplicações que precisam determinar quão semelhantes duas strings são, como é por exemplo o caso com os verificadores ortográficos. "
      ]
    },
    {
      "cell_type": "markdown",
      "metadata": {
        "id": "hbWGyIMxY6s3"
      },
      "source": [
        "A distância Levenshtein é usada para medir a distância entre duas sequências de strings com base em suas diferenças, semelhante ao conceito por trás da distância de Hamming. A distância de Levenshtein entre dois termos pode ser definida como o número mínimo de edições necessárias na forma de adições, exclusões ou substituições para alterar ou converter um termo em outro. Essas substituições são substituições baseadas em caracteres, onde um único caractere pode ser editado em uma única operação."
      ]
    },
    {
      "cell_type": "code",
      "metadata": {
        "id": "9T_gaHNxlTm6"
      },
      "source": [
        "import copy\n",
        "import pandas as pd\n",
        "\n",
        "def levenshtein_edit_distance(u, v):\n",
        "    # convert to lower case\n",
        "    u = u.lower()\n",
        "    v = v.lower()\n",
        "    # base cases\n",
        "    if u == v: return 0\n",
        "    elif len(u) == 0: return len(v)\n",
        "    elif len(v) == 0: return len(u)\n",
        "    # initialize edit distance matrix\n",
        "    edit_matrix = []\n",
        "    # initialize two distance matrices \n",
        "    du = [0] * (len(v) + 1)\n",
        "    dv = [0] * (len(v) + 1)\n",
        "    # du: the previous row of edit distances\n",
        "    for i in range(len(du)):\n",
        "        du[i] = i\n",
        "    # dv : the current row of edit distances    \n",
        "    for i in range(len(u)):\n",
        "        dv[0] = i + 1\n",
        "        # compute cost as per algorithm\n",
        "        for j in range(len(v)):\n",
        "            cost = 0 if u[i] == v[j] else 1\n",
        "            dv[j + 1] = min(dv[j] + 1, du[j + 1] + 1, du[j] + cost)\n",
        "        # assign dv to du for next iteration\n",
        "        for j in range(len(du)):\n",
        "            du[j] = dv[j]\n",
        "        # copy dv to the edit matrix\n",
        "        edit_matrix.append(copy.copy(dv))\n",
        "    # compute the final edit distance and edit matrix    \n",
        "    distance = dv[len(v)]\n",
        "    edit_matrix = np.array(edit_matrix)\n",
        "    edit_matrix = edit_matrix.T\n",
        "    edit_matrix = edit_matrix[1:,]\n",
        "    edit_matrix = pd.DataFrame(data=edit_matrix,\n",
        "                               index=list(v),\n",
        "                               columns=list(u))\n",
        "    return distance, edit_matrix"
      ],
      "execution_count": 18,
      "outputs": []
    },
    {
      "cell_type": "code",
      "metadata": {
        "colab": {
          "base_uri": "https://localhost:8080/"
        },
        "id": "XaMvdjGJlU4L",
        "outputId": "78a169e5-74c4-4b14-f8af-9c96e4317ccb"
      },
      "source": [
        "for term in other_terms:\n",
        "    edit_d, edit_m = levenshtein_edit_distance(root_term, term)\n",
        "    print('Computing distance between root: {} and term: {}'.format(root_term,\n",
        "                                                                    term))\n",
        "    print('Levenshtein edit distance is {}'.format(edit_d))\n",
        "    print('The complete edit distance matrix is depicted below')\n",
        "    print(edit_m)\n",
        "    print('-'*30)"
      ],
      "execution_count": 19,
      "outputs": [
        {
          "output_type": "stream",
          "name": "stdout",
          "text": [
            "Computing distance between root: Believe and term: beleive\n",
            "Levenshtein edit distance is 2\n",
            "The complete edit distance matrix is depicted below\n",
            "   b  e  l  i  e  v  e\n",
            "b  0  1  2  3  4  5  6\n",
            "e  1  0  1  2  3  4  5\n",
            "l  2  1  0  1  2  3  4\n",
            "e  3  2  1  1  1  2  3\n",
            "i  4  3  2  1  2  2  3\n",
            "v  5  4  3  2  2  2  3\n",
            "e  6  5  4  3  2  3  2\n",
            "------------------------------\n",
            "Computing distance between root: Believe and term: bargain\n",
            "Levenshtein edit distance is 6\n",
            "The complete edit distance matrix is depicted below\n",
            "   b  e  l  i  e  v  e\n",
            "b  0  1  2  3  4  5  6\n",
            "a  1  1  2  3  4  5  6\n",
            "r  2  2  2  3  4  5  6\n",
            "g  3  3  3  3  4  5  6\n",
            "a  4  4  4  4  4  5  6\n",
            "i  5  5  5  4  5  5  6\n",
            "n  6  6  6  5  5  6  6\n",
            "------------------------------\n",
            "Computing distance between root: Believe and term: Bwleivi\n",
            "Levenshtein edit distance is 4\n",
            "The complete edit distance matrix is depicted below\n",
            "   b  e  l  i  e  v  e\n",
            "b  0  1  2  3  4  5  6\n",
            "w  1  1  2  3  4  5  6\n",
            "l  2  2  1  2  3  4  5\n",
            "e  3  2  2  2  2  3  4\n",
            "i  4  3  3  2  3  3  4\n",
            "v  5  4  4  3  3  3  4\n",
            "i  6  5  5  4  4  4  4\n",
            "------------------------------\n"
          ]
        }
      ]
    },
    {
      "cell_type": "markdown",
      "metadata": {
        "id": "BwlS5rVfZt4z"
      },
      "source": [
        "**Distância cosseno e Similaridade por cosseno**"
      ]
    },
    {
      "cell_type": "markdown",
      "metadata": {
        "id": "fWgJxgRaZ5tj"
      },
      "source": [
        "A **distância cosseno** é uma métrica que pode ser derivada da similaridade por cosseno e vice-versa. Considerando que temos dois termos representados em suas formas vetorizadas (saco de vetores de caracteres, em que a ordem dos caracteres não importa). A **similaridade por cosseno** nos dá a medida do cosseno do ângulo entre eles quando são representados como vetores positivos diferentes de zero em um espaço de produto interno."
      ]
    },
    {
      "cell_type": "code",
      "metadata": {
        "id": "9Ff2KOo1lgCN"
      },
      "source": [
        "def boc_term_vectors(word_list):\n",
        "    word_list = [word.lower() for word in word_list]\n",
        "    unique_chars = np.unique(\n",
        "                        np.hstack([list(word) \n",
        "                        for word in word_list]))\n",
        "    word_list_term_counts = [{char: count \n",
        "                                  for char, count in np.stack(\n",
        "                                                         np.unique(list(word), \n",
        "                                                                   return_counts=True),\n",
        "                                                         axis=1)}\n",
        "                                 for word in word_list]\n",
        "    \n",
        "    boc_vectors = [np.array([int(word_term_counts.get(char, 0)) \n",
        "                            for char in unique_chars])\n",
        "                   for word_term_counts in word_list_term_counts]\n",
        "    return list(unique_chars), boc_vectors"
      ],
      "execution_count": 20,
      "outputs": []
    },
    {
      "cell_type": "code",
      "metadata": {
        "colab": {
          "base_uri": "https://localhost:8080/"
        },
        "id": "8p8L6-mnlhuQ",
        "outputId": "089df394-0641-44ec-afa0-233af417ff3c"
      },
      "source": [
        "# Bag of characters vectorization\n",
        "import pandas as pd\n",
        "\n",
        "feature_names, feature_vectors = boc_term_vectors(terms)\n",
        "boc_df = pd.DataFrame(feature_vectors, columns=feature_names, index=terms)\n",
        "print(boc_df)"
      ],
      "execution_count": 21,
      "outputs": [
        {
          "output_type": "stream",
          "name": "stdout",
          "text": [
            "         a  b  e  g  i  l  n  r  v  w\n",
            "Believe  0  1  3  0  1  1  0  0  1  0\n",
            "beleive  0  1  3  0  1  1  0  0  1  0\n",
            "bargain  2  1  0  1  1  0  1  1  0  0\n",
            "Bwleivi  0  1  1  0  2  1  0  0  1  1\n"
          ]
        }
      ]
    },
    {
      "cell_type": "code",
      "metadata": {
        "id": "YG4nMmSglssF"
      },
      "source": [
        "root_term_boc = boc_df[vec_df.index == root_term].values[0]\n",
        "other_term_bocs = [boc_df[vec_df.index == term].values[0]\n",
        "                      for term in other_terms]"
      ],
      "execution_count": 22,
      "outputs": []
    },
    {
      "cell_type": "code",
      "metadata": {
        "id": "4mumk58Clwwa"
      },
      "source": [
        "def cosine_distance(u, v):\n",
        "    distance = 1.0 - (np.dot(u, v) / \n",
        "                        (np.sqrt(sum(np.square(u))) * np.sqrt(sum(np.square(v))))\n",
        "                     )\n",
        "    return distance"
      ],
      "execution_count": 23,
      "outputs": []
    },
    {
      "cell_type": "code",
      "metadata": {
        "colab": {
          "base_uri": "https://localhost:8080/"
        },
        "id": "tMKB6k6Cl0xa",
        "outputId": "9fb9dcad-b9ae-4376-8bc7-ae928c51d332"
      },
      "source": [
        "for term, boc_term in zip(other_terms, other_term_bocs):\n",
        "    print('Analyzing similarity between root: {} and term: {}'.format(root_term,\n",
        "                                                                      term))\n",
        "    distance = round(cosine_distance(root_term_boc, boc_term), 2)\n",
        "    similarity = round(1 - distance, 2)                                                           \n",
        "    print('Cosine distance  is {}'.format(distance))\n",
        "    print('Cosine similarity  is {}'.format(similarity))\n",
        "    print('-'*40)"
      ],
      "execution_count": 24,
      "outputs": [
        {
          "output_type": "stream",
          "name": "stdout",
          "text": [
            "Analyzing similarity between root: Believe and term: beleive\n",
            "Cosine distance  is -0.0\n",
            "Cosine similarity  is 1.0\n",
            "----------------------------------------\n",
            "Analyzing similarity between root: Believe and term: bargain\n",
            "Cosine distance  is 0.82\n",
            "Cosine similarity  is 0.18\n",
            "----------------------------------------\n",
            "Analyzing similarity between root: Believe and term: Bwleivi\n",
            "Cosine distance  is 0.26\n",
            "Cosine similarity  is 0.74\n",
            "----------------------------------------\n"
          ]
        }
      ]
    },
    {
      "cell_type": "markdown",
      "metadata": {
        "id": "RWoA9cwGaraI"
      },
      "source": [
        "**Referência:**\n",
        "\n",
        "![image.png](data:image/png;base64,iVBORw0KGgoAAAANSUhEUgAAALwAAAEMCAYAAAB+9NxqAAAgAElEQVR4nO19f2wUV5ZuKZYtL3L7Vxg7uB0lLO3HzCTpPMaOY2zQS+upIyuyY0VKYtIEa5aYXr12yBI2Oz07tNEGMGieHyMDVggSYBNWIdESBaMNtoIEslkTrZj1yMjBqxELloiiUZRBwxB5NVGk8/6oOqfOvXWrurrd7jJQLX2yu6qr6ta93z33nHPPPVfTNA0eHBSCpmmw6YWfwto1Na6vq2s/BMG2E1DbfhweffEYgX8Ptp0ALXIAtKf3wpv7zsE3d+Yhm883d+ah7e0PQAsfgPLnrc9RIdh2AsqfPwbtQy9B7LM1sOFMkzuMPEOIfrQKBid3wfwP32VV7q/u3ITdF7ZC9KNV5r35Xwmbxp6C5/7vFqiOnkz7fjK0lvdAa9oPI+OzGZdT856E+Ue0qRSiTaWgaQUGnDtJXfuhtI2iRQ6AFjmgbIRLU3PQP3QZ2t7+ABo3HoFHXzwGazcMQ9vbH0D/0GW4fuu25ZqhM1dAaxyE8ucXl/BI0Ms3J6QSzMPst1dhcHIXbDv3Kl2z+WwbbDv3Kpy8+j58deempdwnr74P6z8shtjYs7Zk33CmCWKfrcmY8LXtx0FrHIS2tz+wCJRv7szDyPgsvLnvHLS8cQIeffEY1LUfgpY3TsCb+87B0Jkr8M2d+QeT8JGGcoi11xrfnQkfqP4JVXhd+yEl2bTIAdCa9sOlqTmhEUbGZ6Fx4xHQwgeIvBxay3ugNQ6CFj4ALW+csFx/aWoOtJb3SNLnmvBI9tlvrwrPvXxzAjafbYP1HxZD9KNV+u+k0QDP7Ty/VXk9XZNDwmvhA9D29gcWovcPXdbbIHwAtJb3oDp6Ul3PkQMPJuHDoRLY8sqPXf32R6siEGw74dwQCrJv3jkK2tN7qdJRQgXbThBB8b617cf1RgkfgP6hy5ZOoz29l67LGeEN4nIpPf/Dd7Dz/FYis0BYJLxE2vUfFsP6D4vh5NX3hXJfnPsU1n9YbEv6TAiP9dPyxgmrQDCIzkdCrCt+39r24/p9vCafF6ipLnZN+Jrwa1RZyoYIH4ChM1cEiVPXfgi0R/boUoWj5T17NA6C9vRe0B7ZA5t3jgoN2z90GbTGQaUdkRHhJSl9ce5TesZXd26SVHfSvfEcPmdwchdsONME6z8shsHJXUK5Byd3mTr9Aghf/rwuVLgac2lqDrRH9rhS+QTh5DX5vEAgEICezipXv61+7pe2krX8+WMWqfNS/GNo3HgEhs5cgaEzV6B/6AL0D102/sr/82P68Tf3nQMtfADe3HdO6ESNG4/YNm5GEn7kGVj/YTHsvrBVkOzbzr0qGpxpCB/9aBVsO/cqAAAZqzLp53/4zrbzuCV8sO0EaI2Dgm10/dZtGj0zMXYfWMJrmgZbXvkx1FQXZ014HGa5KtM/dBm08j3UOJem5pQGqdPn+q3bNEzzkWNkfJak/EIJH/1olaB3H5s6ZKof6ciOhDWMUm7QxsaehfUfFgsG8MW5T5X6vFvCa5ED0LjxiFBHazcMg9bynkVl8QmfhvDhUInxvdD2dyoPTW37cYt050QdGZ/Vv5fvsYwA9p956iRaRNdJ124YpmH8mzvz8Hh0v1KqZUJ4NDTx89Wdm2rJrvor/z/yDGw+2yb8Du9Fb4VSXpL0bgiPXhne8YfOXAEtfEBQM2X7xrEDeU08rxBtKnXlqbFzScoN0T90gXR1lPAj47MWYzbdBztObftx0Jr2C894q/88aE37F0x4rrvb6tl2fnRG9m3nXoXdF7ZajFtZygv+eQNu/fBay3uC7o6qJBIery1/Xh8NqqMnfQmvwspgkSvD1U7Cy+rM2g3DUB09CdXRk/DmvnOkzlyamssI/UMXQIscoEbkBuzI+CxoTfst5cnEaOWeGScdW1Y/uFqC6szJq++bEl7qVNxGUHls3Eh4LXJAGCEvTc2BFj5AbYDA0RZ98E66/QNLeE3TXBmuMuGxguvaD5HkQamMUqbt7Q9gZHyWgAasG7zVf54Ij8M0f47KcM3IS3OmiWZTZ7+9avGxyx0AZ2DRi4Od5tjUITh59X3b0WHz2Tb757glfMt78Fb/eTaKXqYOz128fBT45s48aE37BRVH8Ml7TTovkV7Cq2dZUaJgJeMEEbopUaUZOnNlQSpNbftx0CIHyPBFl6dsuLolPHpWkIg0QeSgyqC0vjj3KRF+wxl9skol3bnagyMJ2QkZSHgcRfm8xJv7zgkjHLppa9uPi4SPHBBcuI0bj8BL8Y91d7HXpPMGus4ea6+FSEN51oQXhlokvBHjgUarPDOY7oNGKyc8dhokvDxkZ0v4s//xLxbCbz7bBgC65wbP8Qmm9R8Ww+y3V03vi4Oez1UnmfDpdHiVwdr29gfCCIf+ee6jR8Lj+bUbhkVh4j35vEN6PT57wuPxbN2SThJ+oYTHj1LCn2kydXOmghybOgQ7z28l3dxJ58+lhHcifNvbH0Db2x8I6iUSHlVP7tJ84Amvaen0eHvCc5fh9Vu3SW/EzsD1cvVkkxpv7jsnhCLUth8nwvPOkK0O76hbGxBCCwyS8hAEO9+6na2QDeFRh+cqTf/QZZqZ5hNzQ2euCEJBa9pPMUo+4SVsef0xR3/841HRK4KSQ5a83DX2Vv95uH7rNiEbL43K139pag60xsGFGa2SqiG4GpnbEsN9cVZ29tursO3cq6bu7uDZkb00qpHEDeGVXiojQIwbszLhW944QQLEUn9eE85riJGTVsgSnnsG+HQ3GlToh//mzjyFpWbyQSmOz1BJuKz98IoYGu4j5zHx2Cku35yAyzcnyF+fLgpyw5kmSzDZ4OQuM0bHpQ6PbknupfrmzrwuuZv220r467duS/Mjl8WR2GvCeYsCPZDs9cdsf1P93C8thFdJH9TjkfDZGq3cxVn+/DHBBsB4moVOPMnSF33k2869KoQG43dUSVxFYiqiMOXZWLcS/tEXj4H29F7B0/XmvnOgPbLHVsL7hHeBLa8/BiuDRdQJ+MyrUyyNTEhcqYSS/5s78xmvfOIhCrxRL03NKSedMiW8rNYAzFPg2O4LW2Hz2TaS4iTRFe5KJ7IfmzokdCiVYeyW8LJguX7rtiW4Dhd32BFeuNZrsi0FWBeEiIR38iJwUuLE0Evxj5mhejkjbN45Sh4f3lna3v5Aqc5ko8NHP1olqBxf3blJ0l9JbBfBZKjKoFsTP0IUZoaExwU3WviAIFhwNRjWWePGI7B55yjVn67Dm+fe3HcO+ocu6HXrNdmWAkS1RoyrqQm/ZhsejBNNfMjF6W/t6b3O8e8yDH8yGmW8gZ0iJTMlPJ6XIyb5KiXbCSWH+6KOzlUZ8vMrOozbWBp0zcoRk2/uOwda+R4oajlhzqI27Rf+J1exUccP/Ewrhxg9aZJeXvGEjUPemrB1HeulqTn9nOFR4UFOOCUuH8e477r2QwLZr9+6Tc8Ktp2wXWaYyYonjI2R17FevjkhSvp0kp2NGJvPtglkF6IwbcrgmvBGvcjqYf/QBYqLl+tY5Up+9EWf8IS1a2pg0yuPW44Hqn9iITyR3WHl/PVbt/Uh1IigxEZBLw+SFDuG1jgIb/WfFxoVF37YqTLZ6vAqsnOiysv8Yp+t0e9rs65VznYw/8N3gi2QLeHRU8XnPOTPyPisHh9vjIy8fi313LTfJzzHrneeUBwvVJLLbZqIS1Nz8Fb/eV26oNrCsHbDsDJzASd7zrIWpCE7/2DGApT4MjafbVNmLsAgs3SjhNuJJyeyy8RHO0eoY8ONiZOBPuEZYu21sOmFn1qOc198OrLjBJLqI09C2YUdjIzPwuPR/UJk4IIJn4bs6G+XP+iTn/32Kly+OQGz315VpufAe1DqDxchx06El2ez5Q/3zPDPN3fmhXq+fuu28Duf8BJMKW/11KgWZeBKJQDTdag9sgfe3HcuqzganoTJ7bK1tIRXTDjJROVrUu0IbffBWVjBV7+AREz43Y7s/UMX9EXyRltk4vr1CU/k1gm+6ZXHLRGUNeHXBI+BqoL50jzUPbWn90Lb2x/QxAj3y+P/6Dd+Kf4x6aGZLk62JfzIM0JCJFVWMSGHDPO9Y0jwV3duwvwP31kw++1VOHn1fSK6G6nuVsJrLe/ZTtihoUqqpZFvhi+6ke0glPhv9Z/3Ca+jkKCaef3RqohJeIU6w8kuSylqlKb98Hh0PzRuPAKNG4/ohlbkAJ3DaXQkcE4In0adsU2YxIiPs7Cbz7YRuF6fCcnTEb62/Tipj49H96u9MmFTqODvyT4yUqE8+uIxque69kPCOZ/wmgam+mLknpSkPM8+xtUaTO+GUpk3ghxwhh4aDDCTXZPcXZkJ2dMSnq0w2nCmiaS2JeJRsUBbdj86nssB4WVB0fLGCZLYmL5E/q2cdImHVaMQ4naQT3gFVgaLLGHDfKURTWYYkxtOE1OZkjcbZOqlWah0zgXcTDxRmjyjnnNRVz7hbbDl9ceMhKv6dznEYCES2TPC20lwD5DJxJMbT5VP+AWiprpY8MujHr8UkXX24HuA8LmGT3gldF0+1l7LgsoK89YoPuF9wucZppuSS3m7yEmvcS8SfiEbIviEX0REGsrJTfmjVRGLZ2UpwEJ4lVdlqeBME2wYeUYgvMpjtVjwCa9EAfD1rT2dVYabshBq249ThrGlgqKWE1DUcgLah16CTWNPUbDXUgYSvqjlRF7ryie8C6wMFpFq89TGv4FndvwDNP7jL5YcWt79W3ju/265J/C//18MWt7927zXkU/4tND1eTRga9ZVwKaxp5YkVr62L+8ScyEj0jM7/iHvdeQT3hXhdfWmp7MKwsv/CjafbYPY2LNmnIrHOjGqCat+/q5FJ1bFh7uFbCfkCo++eAyqoyeh8R9/AZvGnsprffmEzwA11cU66btWp92lLq8wgsRW/fxdS+BZOiMuk99mex/VOSQ8Gdl5qiuf8Bki0lAOu955QpesS4X0jPDVUef86EsBSHhUaXzCL3FseeXH8E8fGiqN12T3Ce8TPh/Y8+5fw46Jn3lPdp/wPuEXF/oM7PJlRXDoxP/QG0xBQMt3VaPmqqHzQHg5hFk1O+o2yGvRCe9wP5/wC0CkoRw+mnhSGR9O6o7xXbUQ2pLZK9tIxhwRXo4GxZhy2keW7zXrkMU4L4RndcXDKRzr2ffSZAMxw/Ced/9aSXrM/YIJigYnd8HFuU8FnLz6vr4p2JkFriDKoYTnyxPr2g9RQli+fU//0AXK1Y4pSHgakrxJeEmQbD7bpqznY1OHaHtNn/A56AAHxxrhNxfLhEZAkvPsXvafeZj99irsPL/VfRKkHBO+tv04LTXMZAH6pak5feF5Bos0ciXhkeS4iittLf/wnU/4XCDctRo+mngSUh9rtAA605X/+Jn99qq4zaMbMmRJeFRJatuPg/b0Xnhz37mMk7/i59LUnL4QvXHQoh7lnPAjZhYG1cJ0TnD54xM+JyiEFwafgd9cLIOJ6ZSlkr+6cxNOXn0fdp7fCjvPb4Vt516FbedepeHX2jnmzT2WFpnwuMZWlWcHMyrgdpAvxT+Gtrc/gLf6zwspqvkHF1pjWkC7zMvZEl6V1g/JffnmBBybOgS7L5h1vPP8Vjg2dQgu35zwJXwuUbOuQs/7cmcM/vLn3wGAKK0xLZ0ddp63jgppt5ZZIOG1yAHQmvZbEkcJaoqh5vCc9WTE2qg/Q2eugPbIHltJny3h5U3ZeD1htjOebQHBnQM+4XOI4WFjx7g/noWJ6ZS1wh28NfhbnsbaNekzJDwalyqyY3YAnuKPuyMfffEYZWWgFCRP77XsdNI/dJnUm1wQXkV2TOvH63jz2TbYfWErDE7uIqcA31/WJ3yOMTExAbsvbIXUxxqkPtZg94WtroGNNzi5SyCP7fbwWRCeyB4+IGwW8M2deV2qP7KHcuWogsi4P55clsYGDvx+AEC57hdM+BHrriK4IRuSHY1Xld6O22buvrDVJ3yuUfnTQnNbmTtjOlx+5n/4Do5NHYL1HxYLu2jg5mNOeSMzIXz588csmb027xwF7ZE98FL8Y3I94haZ8oRSbbuepmTzzlHapVBrec9C+uu3bgsRklkRfsSaJpBv4IA7jjgZr5hwCsA3WhcF4a7VpjS6MwbwpxO2jSF/sDHXf1gsZAo7efV9y8Zg2RAe89BzVaZ/6DJoj+wRtpZBwta1HyJyv9V/nrKl9Q9dEH6LOwxqj+yx3lvKgJwJ4VF6m4Q2t+hZ/2GxTb5M0dOEaQNnv73qEz63MBOwjn5mSva//Pl3BunTu/wwtzpuH4MNPf/Dd/YzsRkQXt4Kk/Y1bdqv9LoMnblCeyr1D12gFN+qD+r/fLcOvhV8toTnpL449ynZO7Lqx2pRqM8NZ5ooH6ZP+EXExMSE2Ah/OkEeHLsPd0dGP1oFZ//jX+ic4J/PkvBy9uP+ocu6kWqTJHZkfJayIaO05h2GkwsNVXkbIMzbzo1gV4Q3Ore8IyBKfXTfOuW7xxlt/PiEX0SEw2HyC+O27Z9dXA8T0ynyyaPBOji5y9wAzCCAaovJhRAe42O4JEepL2/zTgQzdjFBwmN+fNm7882deVi7YZj0e77LHt+jii8ASUd49MzgZ/bbq2SkotTfdu5VQSjIH3kS0Cf8IqNmXQURGo2s31wsg99cLBPckkh8gdAGEZy2cM+E8KhWCPuWNu0X/PKYJPb6rdu6imIkiuWEL39ed03iBsyU1x43EYsotnw3vD6ZSHjcTgc/J6++L2y8dvLq+zD77VVbg3X+h+8sOr5P+DwgHo/D7LdXhWF6x8TP4KOJJ2HHxM+oYcn9KBEAJRQatNkSXoscENQRlLyoaqBvHiekcAcSnGDqH7pAUZL0G/zL3I94XthBm+nxmRCeqyOyQKB9qM40kWHKyW/drWTeJ3y+wNfB8pVSn11cDwfHGkUJLxmnGICGBli2hJcNVkz1jYSvjp4UXI1DZ64QcAsZfgzxVv95CgumhEdMdcqK8Ap35LZzrwrGPBqil29OUFTk4OQuOPsf/wJf3blJmzkg2eFPJ3zCe0V6wQNxZww+u7geDl962Rpbzwi/WBKedwiulqC6I0h4JvXpf7Yn6mISHgWCvPmxSpXhUv4/f38Afn/17+CrOzd9wucb62P/E2Jjz8KmsadoON58tg22nXsVPru4HlIfaxbC50qlwY3C8IO+c5Twsg7/Vv95IWSYjNaW96Bx4xG4NDVn0eFVO3hcv3VbWDCSrUrDZ5ydJprwQ+7gO2MUZuAT3iPSj/7hYxj9w8dwbOoQHJs6BBfnPoXdF7bCprGn4KOJJ+HgWKNl0gWn07MlvJ1ujZ4XlZem7e0PlF4a2202jXADPpLgZm+Z+uExqA4/3AdvrjNQzW3o6os89zF26V99wnuFZDKplEoYLLZj4meWcGPyUizED9/ynhAK3PLGCdp/ynaztvABBz+8+aEQA2kmtn/ogjCSZOSHZ9IcY2Lk0AuB6MbMtjzfMTExgXXvfeM/OCgQvnd0dFhIhoYpSnL441lqQFymtlDCv9V/np43Mj4L2tN7QWt5b8EzrZt3juoq0NN7hXs1bjwilCsTwsubse2+YO4Sbnpg5kl9UU3sDQ8P83r3mgQPNurr6wVy8Fgaczifh//8/QH4zcUydWoQYw2t21iauvZDQkdreeMEkZp/vrkzr8fSkEpzwXaS6tLUHAWQ8Q6Fx7OKpTEIzyffUK3D405EBwBIpVKywPG+0X1gGMK8jQQzDbaDY42k48seHbfx8FrjoEBYCvxqHKR9ZfuHLkDjxiPkbpTDhLWm/fDmvnMwMj6rqzKRA1DUomct4J1p885RZfq/TKMleV3887+nIPWxZrvCDDtrR0eHqq69b2wfOsJdq/X87mPPCou/hZACwz+PxCepP/IMrHxtHyVTdSI8EpaPLENnruiqjeFidNqdEDsAGrA8dQe/58j4rGWryYwJz0IMuNfln/89RZJ+cHKX4LWZmJiAQCBgV8/eN7QPE5U/LRRiQ3jst4oYb420EPnj/9QNjRuPkAuS7x0ruye1p/da1rGOjM+SG5IbmDweXhXbrjUOQl37ISG+5vqt2/B4dL8yTw1PpppOpUHj/aOJJ421BebogVkeMGz68s0JGBgYSFfH3jeyDxmFMDw8DPM/fCcGlKUZ+l/5+wQkk0n41bvbIJlMwsrX9lnIXx09qdxNnKs3LW+cEHa1RpJaVCPDQN28c9Sy3Tu6KB998Zhyo+ailhN69mA5P6dBcuzEqY81eGukxTYLxMW5TyE29iy8MPgMVP600E39et24Puyw5n89AS8MPkNqjtOwjypNUYsugVf9/F1IJpMQ/6du+NW722BDIgUrX9sHWviA0t8uf0bGZ4V8M7Sg23A7YkCZKmqy5Y0TpBLJKfqw0yHhN409JRAc7ZO3RlpIjUuX8uRX727LpF69b1gfzgh3rRY3YZDIHvtsjeCWRP0a0bjxCGxIpOCVv0/AlX/rIz1Y92zMA4A+WyqTFwl8aWqOMo+NjM/SDKv8uTQ1J2Qjw+WEOLrUtR+Cla/tgw2JFGxIpGDP8U4iONohXG9XpePAz+y3V2FiYgLC4bCizgqc6tP7BvXhBL3xaqqL4fnep3WCS3krcVMBJLxSZxfWm+p+67/8+XcAfzwLV/6tD3717jaIx+PwySe/pnO8Q1gB9P83d+bhzX3n4PHofmjceEQgdTKZJDULVa0NiRQ0bjwCLe/+rf3IJS384J+xS/8KNesqMiG5T/h7FZU/LRSJzyIrZbekkFnMZkXT9Vu3KY6mceMRqH7ulxDbtB1SqRR88smv9RHhj2fNBel/PAv/+fsDcOXf+uCTT34Nn3zya0gmk5BIJIjQiUQCNiRSsOrn78LK1/ZB48Yj8Hh0P1RHT5LE5yqNbJvIvnde1mQyudA69L4RfWSOH/11qUD8TWNPKf3wde2HyMCUVRYM6sJFHqhf4+QS+tXXbhiGljdOEJDAqNvjtVyNksHLYuuWlMKi7YnuWpr7hL+3Ie4fKxP/if/Tp1RpUILXtR8iP/mlqTkircoTgwam4N0xOgYe47/jOWxkd6YqzYct4Y0OHBt7Fj755NcQj8cV9eDKG2MHrxvRRy4QCATgR6siUP3cL4WZUe4pwTySazcMk2S2S3oqEzTd7K3qev58lO74nfvhkeCxsWdh89k2eL73afjRX5cuVl1531g+cotA9U+gJvwaVD/3S4FoSDacWMqGyNlCNWKQhD/TBM/3Pm0YogtSV9zA+wbysVAUSH9NBKp/QpKfk181i5prgsuSnmchezy6H57a+DdQs67CJgygQPk+OYDXjeVj4XBPDFn6y6pGtrDb0BiN1ernfgk14dfgR6siDgTP7p0yhNeN5cNLBAIBGgWwI/DOwDuFkzR/PLpfIDaRu/onnr+jBM8L4GOJQpfEhRCo/okjFug1yTc8L4CPJYFF05mXGjwvgA9PUQDpyV6Y5vw9Bc8L4MNHPuF5AXz4yCc8L4APH/lErm6UidHDdcJ7VTeUdd979T0WgnvKO4PI5ctn0/j3ZKWBSfalVv5CWL6sCJYvK3JayJyj9i5k/98z7ZnrCkAUpAH/reeVkMW7yu/hdZl09HRWwd3JANydDMD40bI8PLMAVgaLoLe7Aga2r4BIQ7nndZAGubvZwPYVcO10JYwfLUuLa6cr4dTeSsiPKpC7Z0SbSi3vOLB9hdeNSOjprAKY1QBuaDD3+cM5ene7e+jHx4+WAXytP/Pa6Xy1adbI3c3oxWcZZgxMS8e/xspZzJcTR5SVwSKItddCOFSS9T1P7a0EuMHeaxaJtTSkfE9nlV7XM7kinz6ChUMl0BkthuXLioTjmqa/P9bHUqoLG+TuZod36EPp3OcPE+CLhwCuaACTmnB87vOHYfTgYg65XL8uhGunDaJ+rUFntDiLe7H7TOvvc3cyoL/blGYM5d5LtlwTPhwqAZjS6w1mNFgZ5ITX701C4Ia2yG2aE+TqRrIOr+PuZEBvgCldHVD/brFfslDvfMaIkznhNdC0AqipLqb3GT9aBqMHy4hcvd3yomJvkDvC6+0SDpXQ6Hx3MmAQnnun9DaMNpWy9vW+HhywGDfVK2P5siKB8K3riqWKcnLrFdj8r36W/Tld0s99/rBejmlOeLcdTn9GZ7SYhu7DOwLQ211B5HKWbKp3LARxFHL7Tqr3cyK87EkpsPmufn44VKKPYtM64Wuqed2p7pWJa1pVBjtvX85Gz8UgvA6B8FeQ8OpK55b+wPYV0NNZZSGDXtmqkYFXkH5O1jWJ8CThMx9hDu8I0CjR01kF0aZSuqdad1WNZmYnjDaVQme02FCHVGUxfxtpKIfWdcXQGS2GaFMpI54IK+H1++j1Ib+z3OHM8xgpKRM+vPyvFPdxM2LrbYLvHG0qldpIE8rKf2c+854mvCnhiEiGdwH/vzsZMK7RX3Zw92qAGY3sBDmoqaezymI8jR8t049d0XR7AnXvGQ3mv1zPypPufQz9fUYfrcKhEggEAgqVTbwuEAiQOqWPAoVk63Aj/trpSkYAHSuDReYzuRPA+B/vl47wNdXFpmE5qym8SgUQDpXA9799EmBKr59Ye615zaS17ri6xNtPNdItX1akq39TkuNiVjMEm16/K4NFentNS1y4oSrzPUV4E4d3BPQXmzKJencyIHxHIqwMFplEUVTCtdOV0rkC01hlhIdpszLdkb3AfLakKlCHmlbr8dQpWEelhjQ6D3zxEDP4TALXVBsqFHqFphmm9OO6a9eJ8Mx1aJBM98+LKiW5M2fNOr87abQN1tsXD+nl+Foc0choVRK+0GyXafbOxn10wjO1k70r1ht8fc8TXq9oMoimTcIEAgEIh0pMb4ggBZg0mRYrPdJQrh+f0o/jLGNPZxUMbF9helSuaHD8F6XQ211hEDTdUMkIMWPV1w/vCFADmYQVdc+5zx/WG/mK6R/v7a6Ans4qnYhTGklWUcoXkoqHw3tntNisG+MaPqNqp8P3dob5oqUAACAASURBVFcIRNKvMQl/am+l9H6F0NNZpb+fUW93JwOSylkg1oHClhnYvoIEGl6P79HbXUEu4l3vPEG/m/v8YWhdVwzhUAlEGsqht7silxNaXkn4Ar0RjB6tSx1TZ028bA57h3eYDUqeEmN4RKk6erCMKt2UBqaOyY1WsRxudENR7Uq8bJ5rXWcasnZ6PBF+WicW6seoxyPhYVqTGlZt1NI1qFezeQU7CR9pKBeeI9cBV534SLV8WZHwLJVRSYS3SPhCwUfP21Gu/9GDZZKas2gePK8IXyi8pDxkhUMlNpVoSA0mzcn9KZBONMa+GjFHE9EtmaH+Pq0JBEuvx5ud7e5kgJ3Xn0uqknG9lfDW8nD36N3JgHCNvVuSdTypvsOhErMM09zXzvzw09wtKZbPjvB0X4PwTlKaVMNZTRg9MmunJU54LlW4LoeWOjacGBNSYBLc0H+vna7Uh13BHy4S3uqWdF+BvOFEKa6XlRta+vNFPzUnvGzHcMKL5JXjdHSPSThUAtGm0gwIb3pkTu01dWlOTLpm2uq752qnlfCaI+E7o8XCtfYuR80sm6E6uVM370XCG+fk+BROYlUQVG93BVUQSkf7aW07P7w7kP4+bRp8K4NF5CY9vCPg4I9nz56yGu72hDcnfg7vCJjGPBqvxgx2esKbgmLL649ZRkYim0HY478QRyDZLakTXqxjO8LzjuQcclBoChWjfGg8m8S/p92SjPDopUBvBIdxTDWBEg6VmIQ3OobpsZCl98IIT9Lni4cAvniIohE5YNKu02VDeFPvFrw6xm/uTgaEsqSX8IXUHqTHs3AI7iAwJwcXg/DOoyoG5gkeHRuX7b1LeKNCDu8IQGe0GHo6qyyQvTuCGsEa0OrlyA3hqZxfPGT6hzl4x7MYntlLeHIlGiqIbjsUOlzjTHh6lxlufJv2j6l2mOXLj4QX26qns8oMBbmiMVfq/UB4QYdHUqvuZ3osWtcVC0SgkWKWS3l7KZtehzfPca/Q3ckAHN5huuY4vhopIf+y6I/PjvDcbhBHOKdO4qTSMHLOmiMieW9swiPUhFfc006HN+5t7UzpQkt0lyy5c2flNr3nCC9a5laXlT0hueSLNpWakyZTVjddesKr4j/M751Rs3M5BWNxt6g4sZMd4XnYgk4is8Nn56Vh78OcAfR7wR1pr9KY4R0mAe0IH2koN20sybtlXi86AOTzXCguJKx7SRCe3Iu2PmwrGXkAFx+yuctNnn2UVRo+kaWuaBOkv8+o7ms2ujyxo5wDyJTwU7yjmbE45KWZypzw1CYzGnw1UkIRn6agEIPaiPBTcrSkE+H1e1BYhVGewd2rFW3MY4ysdctDInKkx3tBeDYZwqaax4+WQay9loKkDu8IwOjBMhYoVWCjBjGvjYUEVik7frQMok2lsOX1xxzWfVqjLJ1CgFvXFZv2hOBzLlBEjKYnPNWdcb+B7SsgHCoxZ41tJqucCc/snxnT0yN2KlHFWBksEmylU3sraVS1EF4YjfTraa7F6DR8pvX4L0qpA+GMeLSplGZYKf6GBGJ6AbU0CD/LPQBccheYcRgYWMSCx3DZGA5liZfN8ypvCLntbshqhejnxfgM+FqDtWtqbMvPJ79gxnlI5UFicMNU0WhiyvA6yQaz4I6bFclrqRusk2kWZzKjIDwLSFOVlUZWJLxSpTQhG5C4GMQSS6NYACLEP/H3MBbj4EQcXyYo8MCo/1h7ba54ubiE5yucxFlIc8gf3L1aDBqbNg2d8aNlRLTxo2XkllNJW5R++DxOUCHykN1fTXi9k2DEIJbDTs/knQp/j+pPIBCAa6crqVzyTCyWC8+bZdZHmFN7K80RwpDasfZa6O2ukK4xY37EMlvbhdyd6FmasvNcmU4CUi2mTYmLIy/WO39v+Xn4juRuNO6B9SG/J7bPtdOVWS7YyTvh9QarqS6mtBFqspidI9pUCq3riqF1nR4jLhpIBdK91BNMeB5/K48C+IxoU6nSxcbLHggE6D5msJWTnSE+H/VTPCbqoKInSHyvQuGe4VAJlZkLiprqYmmNQAHVpfV5YpkjDeXC7LH1t6I7MxAIUN1FGsrZ7wuE51lVROt7iPcw4+hXBouE9jFtCrG+lijhZTLYnXdzD7fHOSF5zH02ZXR7vaosdteo7uemfAupa/X1XNc3A/cybV87YZEJB5yMVrs6WxBydiMfSxLqTmaN/1mUuJWlCM8L4CMP4CHJPZ1VQgTk4mYoW3LwvAA+FhWm65BSp7DFKE7emfsUnhfAx6JCV2fmPn/Y4vaTw4e9L2te4HkBfCw6CiDxsu76Q4iritQrq+5TeF4AH4uKdJI7516QpQ7PC5CDRkuHQule+WrgpUykpVy2RYXnBVhAg7n1YRcKsfaqENfMnqu5eHb+6yPSUE7vaCZ38rpcSw6eF8AVEi/rhte105VStKMTzFk8ime5kW1uSQ6d7DXVxbAyWKSEObOcvxFl9KAZj6JP8fuEV8DzArgAS9KTNgd5mjBTRQBXNuWhFUkz5rI7GddOVy7Gmkyw60QUIKcMkfZhwPMCuEChEIkoEz7SUA4D21fAqb2VNhmqxNwwCyM8ko0twcOANzld4AyPIFwY4Zcv03NvopdFFSfDkyn5hLeF5wVwhd7uCpo4kRP1HN4RoHBfM0KQS8CFrWkVYerwND1vLDXs6ayihLC07NAIqVXlnczkmZGGchrh7Nbu+oR3Bc8LkAbyOkjZ4yKm31OHxC4i4RXZujTNDI3GBQwLndGMNJQLOV58wmcNzwuwYNCChmn1QuRFJ7wlvZ/u27bma8z+HXkGMLsMALkjPE8Cdd8Zvrm72do1NZSkVJXfPRwqgd7uCki8rHtdersrLHnOly8rItWgp7OKAptw0UNvdwWpB+FQCfR0Vpk7cUxp5MXp7a5gizsKhQUMGFfe01kFp/ZWwujBMji8IyDFm7skvKG7W/NZqtd64nv3dlco3aM11cXC+68MFkFntNhcwT9lZuZKvCx23lN7KynkF0eUaFMpLZUUZ1hVs6uF0NtdQZkgMDnW4R0BKTbdWlZcdVVTXSzYGua1S8aNm7ubxdprhSRK8pI4yiQ7Yxp0sosx2lRKhh+XZKMHy+je2Jg9nVW05A0TE/FlaDztHk9319tdIaTWJmNzxs1SMrVKozKW+VpPdBNy96iczoPeySgPLqymazBtNXtHHg9DXhpj7SkJAsmINndPFBeN8JTaQs4doyzyyEgZm7/W74l2lpBIy1iOaXZuz4mfqxsxf7fxonLSUmFB7xU1UWgxtpR8h66dkQjPiWDkMEeCWAg/pYn54Y1MYWRczrjJkOWW8IVC6g5UMTipVOm1ed4YXFZIHirs1PiOs3ztLlNpsH5vmEvl6B2NdaVyYlO+fhaXB44eLBOW3cmqFKXhMK7BjkLZ0Vju+yU0L5DbG9IwLxhqemdAqYprU0VSS40mJTTi5OELpDWN5XaUcj+acd6M8F88BDCtPweX+A1sX0GZFXB3D9eEt6g0OiiVhtGxcSQb2L6CVCtrYlaWjW3GTMwaCOhJWLnRipNbXCWkujNSF147XUlqGi3pk9KMa5o1ezDP20PJVKX3IMJjnbL88fguXNVU7dhyXxCeD+Nc+lDyIIOwSH45vTUttJ4RU1qoJLzwzFkn41D0w8srfHhiIzHltdOSOSbhmVsy8bImptKQsm7xfPByOhEinlFO3vGIeHQ/a92TDj8l1r0wb2ARRmKyWBUxSdhIE1qyhJfrjZI+TanT+N0XhI+115LHhEsw0s0NyYUE5gmAeKeQK0gl4S2Ed+OWFHLD6PcnF6IhyTImPNoOaJvMMigSP3EDmktaNfH0Z5FbcsaFW3Ka15EZT8SJy0ckpx08NE1MmMXrlwhvaa8Cs80tmyncZ4TXtEIzcQ8lCSo0dfMZ03OAjYO54Xl6OTmnSs4Ir3BLyttrZkx4NCQxxYRBWEz4JIcCqHR74T0UoQEZEX6GG6ZSUiQF4bl3R5WBmdpuWrGrCEvDJ2dlkNWw+5TwmqCHonTjHgR0PWLjIoG5wSqTerEJTzuE2OzGZ0t4piIEAgEhb7z1Gh307tN6ujuLOicY/IxcGRNeJBgnPK9DftzMDy+VVxh5WCe0JbxmEv5+VmkEcjNyos6ODUxp9pjhyoOfZHflYhLeXod3QXgHt6Td9TXVxYIeL2+BKZJnIYQXz9vVIT+uInziZc0nvFODkruQGa4qrwy627ASeTCW7ClZbMJnLeEzIrx5Ld+EAHfo4zk25VFhMQnPdwBRXWdVaXzCC6CcjGzIVlU0Ehwr46uREltfuFvCZxNakD/CSwFvxiiI20Cq43IWX8LzEVlVf9z+UhqtDzrh5ZnNWHstVTQnGzX6FPNbz6ojHu0JXyD44c0Gcx8tmT/Cm+AbfuG0PwoJ1W535PMWyCUaw5kTXr+Wzw1YswjbjwA+4RlIPfniIfICKHOZz+gVQhvg2pBHTXgpXbOlwcwAqEUl/EzmhOcu2LnPH5ZGNysxZMKL6cCzJbx+PSemdetMtmPirOlR8wkvQUjJbLPhF83+GbN0WHmqaEb1xJNe8cKOfl88RDsBmoZvtm5Jl4TPQsLzFVPcj28X5SjkaTd2PcQALSyTa8LPykKDzQ0Y7TSwfYUZcySEFpijik94+WWlXO/ibtt6ZVNgFJuoUQUaUf7wr62NKeRYxziZr7l647ymlaStcd7cyU5NVBw9rp2upDJlE+9+eAcLCjNCHpzW644fNQLops06hRksE1vTqqgjuQ7l8pKKxXKyy/9zAaJpYqAfzFh36OiMFguBZPc14QMBfQMwa/If/I0pnflvzFiMAtvfiZsY6xUZbSql/V0RvIFwCSBu5CWXlZ83w1mdg8h4mbJJ2B8OGVvOsOl53Yevfu7yZUVwam+l8I46cc1ISzEMWKxrHg6tKm+koRzGj5ZRfnnMPz9+tEy5Q3g4VCKEAcuEX7umRjh/XxM+PdK9vLzSyUo4uwXbYodZSMCSUzpo96mpnSBvMuaOFNw+UT0705TV1vd2zsPvpnwLq5dFxGLd2Fzs7J4w6SqJX1vInuHU2NmUm0cwqgmRq0bkerezHeCm3uRy8U4hX++U9SHdM+yeqXp+JvfOCxb7AZ6/4BKCSAh5l7scbcuYZ7hZO7Ck4HkBHiDoIRXRplKyOVC62+8h5SPH8LwADxCYZ2eGQViBtCQMu/sZnhfgAQLLoDZj+rZFd58v5RcZnhfgAYKu0mBi185osTImxseiwvMCPEDwJfcSgOcFeEAgpsWwnvO6fA8MPC/AAwSf2EsAnhfAh498wvMC+PCRT3heAB8+8gnPC+DDRz7heQF8+MgnPC+ADx/5hOcFyAjBYJAlSdURCASgubkZ6uvrs7pnKBQS7hkMBiEYDGZdxkgkAl1dXY7nW1tbLe+hevZC3suHEp4XICOMfjYGyWRSONbV1QUDAwOQSCSgr6/P9b3i8ThomgYdHR1QV1cHsVgMNE0nWWtra9ZljMfj0NHRoTyXSqUgkUhALBaDuro6y3nsDPzdnDpPV1eXsuP4sIXnBXCNuro6GBgYsJC6q6uLyDo8PAzBYBDi8Tg0NzdDJBKBZDJJUrKrqwvi8TiEQiGYmJiA5uZmGjVGPxuDeDwOwWAQQqEQBINBSCaTkEgkQNP0jhCLxSCZTEIoFAJN08mN5yORCCQSCZLQiURCIGs4HLaUnT8f/8cRJ5FIwMDAAL1bMpmkTqpp+mgwMTFB5xOJBCSTSb8DOMPzArhGLBaDjo4O6OvrI8Lh8b6+PojH45BKpSAWi8HAwAAEAnq+x/r6eujr66O/eHx4eJiI0tzcDAMDA1BfXw8dHR3Q1dUFqVQKIpEIxONxGkW6urqgtbUVkskkdHR0QCwWg1gsRuc5+eLxuEC+5uZmSCQSEAgEqNNhZwyFQtDX1wetra0Qi8Xo2fgcLGMymRRGgIGBAboPlkceAX3co4QfGBggwiOxNM1UaSKRCHUAPI/kRLJyVQOlLZIplUpBIBAgwuP5cDgMyWSSJHsoFIJEIgGpVIqOx+NxSCaTJN0jkQgMDw9TmfAYjgb4+0QiAeFwGILBIJEcO6ym6epWa2srDAwMQDweh76+PuEdUqkU1Y2madRxvG6rJQzPC+Aaw8PD0NraCvF4nBoYycNVB9R7g8EgSfS+vj5B9eEkQcLjb2XC19fXQzKZhFQqBeFwGOrq6ojoXNrKIw+WGXV1rtLU19eTClJXV0eERwmPZcNRDSW5rK7g/XBEq6ur8wnvDM8L4Ao4vHMi4f+yYYcSPhAIkGQcGBiAYDAIw8PDJCGHh4ehubkZ4vE41NfXQyqVIpUlFouRFObqBRI+kUhAJBIhiRsIBCCVShHhw+EwEZd7Xfr6+ojo8Xic1JdkMgl9fX0QiUSgo6ODOhSOaqiq4LPwfni+q6uLruGd2sc9SnjUu/E7J5F8jn8Ph8PQ3NxM3+vr60nNqKurg/r6ejoXDAbpt3gsEomQwSs/Q9M0MoxV5WttbVW6NyORiEXVqauro3vwZ/MRIxKJQHNzs3CvUChE5Wtubrac93GPEt6HjxzB8wL48JFPeF4AT6GaufVxX8PzArjGwMAA6aixWMziEdE0XWfP5J5oOOL3WCyW8T1yDfQQpVKpnIcV4OSZ123pITwvgGuMfjZG7jp0EQYCASJoXV2d4L2RgQYh+tI1zUr4VColGH7BYNDSAfh3fL7dKCFfj9+5oSx33L6+PjK20cWIIxF/X/58/J+HK6B/H+sG3Zq8rE5lu0/heQFcI5VKwcDAAE0E1dXVkbsQiToxMQHhcJgmZFpbW6GrqwsSiQT5xNGvzWdK8RnJZFIgfEdHB8W/hMNhGB4epil/9O8nk0nBxYn3CYVC0NraKlyfSqWgr6+P3gPfiXttsDPju2HZ0Y+Pbkx0u3Z1dZH/PZVK0cwsvgu6PltbW+k7xh1h2dAt29fX5yg07gN4XoCMCI9SL5FIkDTDWU0kmqZpwkwl+tORVBhrgz5rJ8LjRBSSEu+PxEL/P5aNn0dXY2trK80OowsTiYyxPXyOATsEztxiB+BlxTAGfH4ikYBEIkEdlM/IIqlRAGBnQJcshmVg2e7ziSvPC+AafFYRZzVxsoirOpzwODOLUgwlGZ+ksSM8ztTixBXGwuDvMDYHJSbOniIBMVwBdXL8nkgkKOQhmUxCV1eXoKvLujuOZjwKk98Hn4dxRNix8T3xPJYBR7z6+nohpIFHcnrd1j7hGYmbm5vh+q3bwlQ9Snj8DaocKEmRgChRURLK4QYYwIWdBSW1SsKjioMk5Dr38PAwzY4Gg0HqMDy+xo5cGOgmdwCcgcX3w/JpmkYklu/F1RMemoEdGzu1KvbnPoXnBXANHreCDY8Rkkg6VF2QfPF4nAxANNpQkjU3N0M4HBYMN65zB4NBGv5x1hSlP86WYqdB4uHvsTz4nYcM4DEkcyqVEmZkI5GI7XeU1NghcJTA/zG8AYPs0BbAjozvgPcMBAK0YEUu230KzwtwzwJVJRwBVG5SDuyY4XBYCH5bCsAOUV9fv+TKlmN4XoB7FoFAgFQkNzEsoVAI4vE4xcJ7XX4ONOSXYtlyDM8L4MNHPuF5AXz4yCc8L4BrhMNhci1y3OdDsI/cwvMCuAYaiTIWkmHAxwMHzwvgw0c+4XkBfPjIJzwvgA8f+YTnBfDhI5/wvAAZI5fx2m4WWMgx6D7uaXheANfAhEQ84dFCIcd+Dw8PU55KPIZx683NzRQagGG/93lk4f0IzwvgGjI5g8GgkJSUp79obW2l/1FC84xdSF4e+42hw/wZmC2M53TEqEMcaTBmHkcBHqDldZ35sMDzArgGRhbid1zkgKG7GEWI/nqM/+arhDA0GKMMOeH5vTTNTF6Kobi4imn0szHKRobhtTxTGYYG8zW4PpYMPC9ARsAldfX19TA8PExx4Dx5Kl/thETEMFhcKIEqCZfc2Ek6OjpocQceR+mP4cWapgkZyfA7j4mX18f6WBLwvAAZA/V4vswPSc7VEoxDRwKidMfvfNmfpmnUMTRNo3WhmqZRjDkuBsEMwBgLz1ch4RI6vJ8f9rDk4HkBXAHTXuP6UFRbkFDDw8MUW4OqxMDAgJBcFAmI5ycmJoRn4Iofvmiio6MDRj8bowSquEAEF5KjeoS5KHEF1QOwNvRehecFcAXcIIDnXOcbDuB6U8zpiP/zNBmoXmAmA9moxLWp6HlB6Y1rPzHtBcaM4+jCsxfjb3CDA6/rzYcFnhfAh498wvMC+PCRT3heAB8+8gnPC+DDRz7heQFcA1PjdXR0EGKxmG8c+sgEnhfANXzC+8gBPC+ADx/5hOcF8OEjn/C8AGlQYEBjfzkKjeOFGd630OZ+uSqz1/XmwwaeF8AFOOntzmdK+Ewg37sgzXHVOR9LBJ4XwAV0Qi9fVgThUAmsDBYBkqumuhiykaj6dW5+WwhI3nCoBMKhEnAaVcKhEli7pmYJ1JkPG3hegDQwpfvg7tWw5fXHYNc7T0BPZxVomgZbXvkxWAlfYPO/iS2v/NjoOHbXice2vP4YbHn9Mdj0yuOwfFmR7X03vfBTo0xe15sPG3hegDQwiTWwfQX9P7h7NWiaZpC2ECIN5bDl9ccg2lQKmqbB2jU1sOX1xwyJXACRhnLY9MrjEGuvFa5bu6YGejqrSHJHGsoh1l5r/E5/9vJlRfQ8xMpgEfR0VkHrumLQtEIIh0roulh7LawM6qNRpKEcejqrqHPh/b2v1wcWnhcgDUzC73rnCfq+650noKa6GHq7K2D5siI4tbcSIg3lMLh7NawMFkFNdTFEGsph1ztPEGHXrqmBwd2rIRwqgV3vPGH5naZpdJ9d7zwBkYZyKkNPZxUM7l5tqEKFUFNdDOFQCQzuXg3LlxXBwPYV0NNZRYRW378ABnevZvf14QE8L0AayIQ3/+eE7+2uAE3TSMqHQyVE0uXLiuhaJCUSEsmPEpzu88qPabTAMmCHCodKYPmyIoi118KpvZWwMqg/PxAIQKShHK6driQ9HkeQwd2rIRAI0P19eAbPC5AGpmHICY8EHdi+QiB8T2cVSVgkek11sYXwqMbI16PaFGuvZYQ3y4CdBdWl3u4KIjxK81N7KyHWXkvPxXLw5/jwDJ4XIA1Msg3uXg09nVXQ01lFBEaCIslQcu965wmItddaJPyW1x8T9OqB7Svod/x+ooTXBFUFSb/plcdJhcKOFW0qpd9Fm0qpHNixeKf14Qk8L4AL6CpFOFQCreuKDR1Y7wg11cWwfFkRHN4RgGhTKRmHa9fUsO8F9BfdkVyl4dfhX7yv/nzduI211xrGrX6+dV0xGcV43+XLigg11cU25fC6Ph9oeF4AF7Dzs5u+eO7Bsb9W/59LfvG3bieL0vn97WZx/RnYJQDPC5B3rAwWLfL26j6xlzA8L4APH/mE5wXw4SOf8LwAPnzkE54XwIePfMLzAvjwkU94XgAfPvIJzwvgw0c+4XkBfPjIJzwvgA8f+YTnBfDhI5/wvAA+fOQTnhfAh498wvMC+PCRT3heAB8+8gnPC+DDRz7heQF8+MgnPC+ADx/5RLYXpsv3mO09Pa8QH/czok2lsHZNDYRDJSxPo5lPMXdwygJcIGEJVIyP+xMwrQFMawBTGsAVDe5OBghznz8Mc58/DNdOV8K105UwfrQMxo+WwejBMji1txIO7wjAwPYV0NtdAb3dFZQTJtpUCpGGckpYZHYgDjfE9snvI8eAKzrRCVMKYKeYMTDL/k+HKU3oQF+NlKTtPD2dVdAZLYbOaDFlEcMRSF98vRi53f3R5X5FIBCAYDCobyQNXzwESkxq6uNO4B0Hv6s6znRmHYZ3Guwwqk4jjzadUT13zNo1NSxTAXaWfBLc70zZkDQUCkE4HIbm5maIRCLQ2tpK+3p1dXXR33g8DolEApLJJCGVSkEqlYJkMgmJRIJgJbxM9EktPTLpME7XyJ2Gjzr4d1oBedTB/6fFziKraeNH7UeXSEP5AtJ5PNj2CErUcDgMkUiESMqJyUnoRNR4PA6xWIw2s2ttbSU0NzdDfX091NXVQSgUgmAwmL69/nJzO/zl5nb47//6Ofz3f/0c8Lsd8Hf//V8/h++/fBnmv1wP81+uh+9/+yR8/9snBXLdnQyIRHbTeeQO4aaD2XUglZrGbRZ5pJE6CkyL6hh2Eq6GYSfBLGRm7nhur3hPwkzJiipAc3MzdHR0QFdXFyQSCUilUtDX10ek5CTFc319fZBMJomsra2tEIlEoL6+HsLhMITDYYGgi5sjSIIraW3g7mSAiP39b5/Uif7ly/D9ly+77jBOnQjvxTuQDEtnctt57L6rOo1qhFGNKAjeaabNjsLtldGDZTSScOPeapssnKx1dXVQX19PqoAsZZPJpEBMGUjeRCJBhG1uboa6ujp3UnQpI2M9PVN1x0VH4h2IdyLekWS4GX1kyB1J2RGuKMrs4h1cd5QZ6diUtXOgqrXrnSfg7Z4XoKuriwj7ds8LkEgkdB1203bYkDDJuSGRgng8Dl1dXSSRZdKGw2EIBoPeE++eJLzbTuGGKPJvJxXH0tzTaQSy60SZdBpZdbOU06GzY9nSdWgsB/xhkwBehvkv15OKNXqwDI7/ohR6uysg8bJG9oc1b6aP/BA+153DqZPI0tjJJnAYpVBlclLffn/17wD+dALgzhj85c+/A7gzBvCnEyZh/3jWPP7Hs3RO1XHuTgayGy1Vo4g0n8I7BnqyuM2R/baf9yg8J3k6oqvUCScjNZ20lYhtsRNcqlIyce3KrpLsdqOKfMzOnqHRRX5fuS64aiXbHZJKNff5w4Ktgca4egLRaRM5JyyBTuU52Z0kuOzXV6k5NqoDJ69sVKtILBNMaRin60wOo0Y6u4Y/T7Zp7Dof7ySyCiZ3FMFjZlfXcsdw6BSq0QL3v7InnNwxFnNz6KVO+DSEcJLATh4fmcS2I4STB0ceQdyMNk7v53Q/uYM7XQGt4wAABCpJREFUGf42Hd3JTkhXV8pRRJ5IlOdBWIfgKhSOFGhXiB3CI2m/YHLanXcj6XhDpXFv2g3xaY1HFaGdiMob2Gk0ceO5yVRVc1OPboSF3fsqRhWVh8ypc8hzMNQGKu8U90pd0QSbYvyoVXVafIlfkIbwcuOnaziFbuxUiRYpoyJxpiTzkR2ysHm4uuVmgpLsHYcJP3TRjh/VvU98O1Bx1/VMO4Yx820rGRQEU+nHTj5xW1ee03PcSmIf+ekA6TqE6rzMFUnwqUYMeeZ+/sv14sy3MUrgfEV6lUm2FSQJb6cjOw1pFqlsR1z+f7oRw8e9Dztbx8XIoZq9l50LODfBOwdyEA1r2ajGTecssTS27rYMPA7CNZkc97E0YWcwf/GQGdHKBdqsZsYuoZSeNNRjORJ20vj/imbOIyCnWPwT2QnTmqVjwB82WSfubnfrYJN2105XKmJpfDL6SAfkyJS+r+2105VE1vGjZXTs1N5K6OmsgtGDZQCzujoysH0FGayHdwQAbmgwerAMdr3zBPR2V8Dc5w8TwQe2r4CB7Sv03xnER71+YPsKgGmN1BvL5N0XD1lGDfjDJslo9cnuwy1mdLJpWiG0rismqX53Ug+Ci7XXknqhaYVwam8lwKwe+hAOlcCpvZUUcdoZLQb4WqPf3p0MwNo1NTB+tAzghr57Okzrf0/trQS4oW8wPff5w9SpTu2ttEbk8vIaxzRfp/aRMQzXY293BZH+2ulKUl+WLysigiNhO6PFADc0SLxsEPhrXd3BXcxR79Y0vSNFm0qhM1ps3ndWvy7aVGoeu6LRSDL3+cN62VB1UpX5i4eW0MSTj6UPJNK0Lo3XrqmB0YO6VEZCw4zuFRk9WEYux97uCog0lBPhe7srAG7gaKDB4R0BWsU29/nDpOv3dleY954276VphRBpKNfVGMN741Zw+4T34R6TJuE7o8UwfrSMqS0FuuS9oUv40YO6OgJfa9C6rlgn+dci4WFKl/CHdwR0iX9Do3XPowfLAL42VaRTeyvpGMxqEA6V6NfNuic7fOET3kcmMDwnh3cEdInNFrvUVOsL7r//7ZMQDpVAZ7SYdOya6mKKFYo0lEOkoVyX5LMajRCo0/d0VsHdyQCEl/8VjB8tg2unK2Htmhr4/rdPQrSplNSXcEj3xwteHRfv4BPeR0a4OxkgIn41UgIwpQkL6+9OBmBlsAgGtq+A0YNlpgdlWvzdtdOV5MLEjsF/e3cyQJ2AH8PANfTmZGqD+oT3kRnQKJySiIZ+9BtMh78h+da/eMj0rXOi4m/4cTlVDD5jyub5LuET3kfmsHP7TZkqCrolLYF4uZrryfIePuF95BTkOcFjS2xuxye8j9wAJfcVhcqyhOAT3scDBZ/wPh4o+IT38UDBJ7yPBwqaZUGuDx/3MTT40wnw4eNBwf8HRzIS2sEOvewAAAAASUVORK5CYII=)\n"
      ]
    },
    {
      "cell_type": "markdown",
      "metadata": {
        "id": "7RXByrF_ppY2"
      },
      "source": [
        "**Disponível em:**\n",
        "\n",
        "> https://github.com/Apress/text-analytics-w-python-2e"
      ]
    }
  ]
}