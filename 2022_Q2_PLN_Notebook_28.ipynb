{
  "nbformat": 4,
  "nbformat_minor": 0,
  "metadata": {
    "colab": {
      "name": "2022-Q2 PLN Notebook 28.ipynb",
      "provenance": [],
      "collapsed_sections": [],
      "authorship_tag": "ABX9TyPweNHN67VVwrGKp4naVwoV",
      "include_colab_link": true
    },
    "kernelspec": {
      "name": "python3",
      "display_name": "Python 3"
    }
  },
  "cells": [
    {
      "cell_type": "markdown",
      "metadata": {
        "id": "view-in-github",
        "colab_type": "text"
      },
      "source": [
        "<a href=\"https://colab.research.google.com/github/adalves-ufabc/2022.Q2-PLN/blob/main/2022_Q2_PLN_Notebook_28.ipynb\" target=\"_parent\"><img src=\"https://colab.research.google.com/assets/colab-badge.svg\" alt=\"Open In Colab\"/></a>"
      ]
    },
    {
      "cell_type": "markdown",
      "metadata": {
        "id": "IvbVHh_WZ34Z"
      },
      "source": [
        "# **Processamento de Linguagem Natural [2022.Q2]**\n",
        "Prof. Alexandre Donizeti Alves"
      ]
    },
    {
      "cell_type": "markdown",
      "metadata": {
        "id": "OFJxpLDFZ6cg"
      },
      "source": [
        "### **Sumarização Automática de Textos**"
      ]
    },
    {
      "cell_type": "code",
      "metadata": {
        "colab": {
          "base_uri": "https://localhost:8080/"
        },
        "id": "zl2fbQ9_Z14H",
        "outputId": "215d7f24-49b0-4c54-c6e1-00521665a267"
      },
      "source": [
        "import bs4 as bs\n",
        "import urllib.request\n",
        "import re\n",
        "\n",
        "import nltk\n",
        "nltk.download('punkt')\n",
        "nltk.download('stopwords')"
      ],
      "execution_count": 1,
      "outputs": [
        {
          "output_type": "stream",
          "name": "stderr",
          "text": [
            "[nltk_data] Downloading package punkt to /root/nltk_data...\n",
            "[nltk_data]   Unzipping tokenizers/punkt.zip.\n",
            "[nltk_data] Downloading package stopwords to /root/nltk_data...\n",
            "[nltk_data]   Unzipping corpora/stopwords.zip.\n"
          ]
        },
        {
          "output_type": "execute_result",
          "data": {
            "text/plain": [
              "True"
            ]
          },
          "metadata": {},
          "execution_count": 1
        }
      ]
    },
    {
      "cell_type": "code",
      "metadata": {
        "id": "eTVOPzeCbXMl"
      },
      "source": [
        "scraped_data = urllib.request.urlopen('https://en.wikipedia.org/wiki/Severe_acute_respiratory_syndrome_coronavirus_2')\n",
        "article = scraped_data.read()\n",
        "\n",
        "parsed_article = bs.BeautifulSoup(article,'lxml')\n",
        "\n",
        "paragraphs = parsed_article.find_all('p')"
      ],
      "execution_count": 2,
      "outputs": []
    },
    {
      "cell_type": "code",
      "metadata": {
        "colab": {
          "base_uri": "https://localhost:8080/"
        },
        "id": "Bz-j6tgDbqBG",
        "outputId": "e99815d3-4ff4-4aad-b804-ff28d4856357"
      },
      "source": [
        "len(paragraphs)"
      ],
      "execution_count": 13,
      "outputs": [
        {
          "output_type": "execute_result",
          "data": {
            "text/plain": [
              "60"
            ]
          },
          "metadata": {},
          "execution_count": 13
        }
      ]
    },
    {
      "cell_type": "code",
      "metadata": {
        "id": "Vxr4bGYAbgpF"
      },
      "source": [
        "article_text = \"\"\n",
        "\n",
        "for p in paragraphs:\n",
        "    article_text += p.text\n",
        "\n",
        "# removing square brackets and extra spaces\n",
        "article_text = re.sub(r'\\[[0-9]*\\]', ' ', article_text)\n",
        "article_text = re.sub(r'\\s+', ' ', article_text)\n",
        "\n",
        "# removing special characters and digits\n",
        "formatted_article_text = re.sub('[^a-zA-Z]', ' ', article_text )\n",
        "formatted_article_text = re.sub(r'\\s+', ' ', formatted_article_text)"
      ],
      "execution_count": 14,
      "outputs": []
    },
    {
      "cell_type": "code",
      "metadata": {
        "colab": {
          "base_uri": "https://localhost:8080/",
          "height": 205
        },
        "id": "u912fWa1cQtG",
        "outputId": "b81a47aa-98bd-4435-f6b6-95b437302a25"
      },
      "source": [
        "formatted_article_text"
      ],
      "execution_count": 15,
      "outputs": [
        {
          "output_type": "execute_result",
          "data": {
            "text/plain": [
              "' Severe acute respiratory syndrome coronavirus SARS CoV is a strain of coronavirus that causes COVID coronavirus disease the respiratory illness responsible for the ongoing COVID pandemic The virus previously had a provisional name novel coronavirus nCoV and has also been called human coronavirus HCoV or hCoV First identified in the city of Wuhan Hubei China the World Health Organization declared the outbreak a Public Health Emergency of International Concern on January and a pandemic on March SARS CoV is a positive sense single stranded RNA virus that is contagious in humans SARS CoV is a virus of the species severe acute respiratory syndrome related coronavirus SARSr CoV related to the SARS CoV virus that caused the SARS outbreak Available evidence indicates that it is most likely of zoonotic origins and has close genetic similarity to bat coronaviruses suggesting it emerged from a bat borne virus Research is ongoing as to whether SARS CoV came directly from bats or indirectly through any intermediate hosts The virus shows little genetic diversity indicating that the spillover event introducing SARS CoV to humans is likely to have occurred in late Epidemiological studies estimate that in the December September period each infection resulted in an average of to new ones when no members of the community are immune and no preventive measures are taken However some subsequent variants have become more infectious The virus primarily spreads between people through close contact and via aerosols and respiratory droplets that are exhaled when talking breathing or otherwise exhaling as well as those produced from coughs or sneezes It enters human cells by binding to angiotensin converting enzyme ACE a membrane protein that regulates the renin angiotensin system During the initial outbreak in Wuhan China various names were used for the virus some names used by different sources included the coronavirus or Wuhan coronavirus In January the World Health Organization WHO recommended novel coronavirus nCoV as the provisional name for the virus This was in accordance with WHO s guidance against using geographical locations animal species or groups of people in disease and virus names On February the International Committee on Taxonomy of Viruses adopted the official name severe acute respiratory syndrome coronavirus SARS CoV To avoid confusion with the disease SARS the WHO sometimes refers to SARS CoV as the COVID virus in public health communications and the name HCoV was included in some research articles Referring to COVID as the Wuhan virus has been described as dangerous by WHO officials and as xenophobic by University of California at Berkeley Asian American studies lecturer Harvey Dong Human to human transmission of SARS CoV was confirmed on January during the COVID pandemic Transmission was initially assumed to occur primarily via respiratory droplets from coughs and sneezes within a range of about metres ft Laser light scattering experiments suggest that speaking is an additional mode of transmission and a far reaching one indoors with little air flow Other studies have suggested that the virus may be airborne as well with aerosols potentially being able to transmit the virus During human to human transmission between and infectious SARS CoV virions are thought to initiate a new infection If confirmed aerosol transmission has biosafety implications because a major concern associated with the risk of working with emerging viruses in the laboratory is the generation of aerosols from various laboratory activities which are not immediately recognizable and may affect other scientific personnel Indirect contact via contaminated surfaces is another possible cause of infection Preliminary research indicates that the virus may remain viable on plastic polypropylene and stainless steel AISI for up to three days but it does not survive on cardboard for more than one day or on copper for more than four hours The virus is inactivated by soap which destabilizes its lipid bilayer Viral RNA has also been found in stool samples and semen from infected individuals The degree to which the virus is infectious during the incubation period is uncertain but research has indicated that the pharynx reaches peak viral load approximately four days after infection or in the first week of symptoms and declines thereafter The duration of SARS CoV RNA shedding is generally between and days after symptom onset A study by a team of researchers from the University of North Carolina found that the nasal cavity is seemingly the dominant initial site of infection with subsequent aspiration mediated virus seeding into the lungs in SARS CoV pathogenesis They found that there was an infection gradient from high in proximal towards low in distal pulmonary epithelial cultures with a focal infection in ciliated cells and type pneumocytes in the airway and alveolar regions respectively Studies have identified a range of animals such as cats ferrets hamsters non human primates minks tree shrews raccoon dogs fruit bats and rabbits that are susceptible and permissive to SARS CoV infection Some institutions have advised that those infected with SARS CoV restrict their contact with animals On February the World Health Organization WHO indicated that transmission from asymptomatic cases is likely not a major driver of transmission One meta analysis found that of infections are asymptomatic and asymptomatic individuals were less likely to transmit the virus However an epidemiological model of the beginning of the outbreak in China suggested that pre symptomatic shedding may be typical among documented infections and that subclinical infections may have been the source of a majority of infections That may explain how out of on board a cruise liner that docked at Montevideo only of who tested positive for viral RNA showed symptoms Similarly a study of ninety four patients hospitalized in January and February estimated patients began shedding virus two to three days before symptoms appear and that a substantial proportion of transmission probably occurred before first symptoms in the index case The authors later published a correction that showed that shedding began earlier than first estimated four to five days before symptoms appear There is uncertainty about reinfection and long term immunity It is not known how common reinfection is but reports have indicated that it is occurring with variable severity The first reported case of reinfection was a year old man from Hong Kong who first tested positive on March was discharged on April after two negative tests and tested positive again on August days later which was confirmed by whole genome sequencing showing that the viral genomes between the episodes belong to different clades The findings had the implications that herd immunity may not eliminate the virus if reinfection is not an uncommon occurrence and that vaccines may not be able to provide lifelong protection against the virus Another case study described a year old man from Nevada who tested positive for SARS CoV on April and on June separated by two negative tests Since genomic analyses showed significant genetic differences between the SARS CoV variant sampled on those two dates the case study authors determined this was a reinfection The man s second infection was symptomatically more severe than the first infection but the mechanisms that could account for this are not known Prior to the emergence of SARS CoV as a pathogen infecting humans there had been two previous zoonosis based conoravirus epidemics those caused by SARS CoV and MERS CoV The first known infections from SARS CoV were discovered in Wuhan China The original source of viral transmission to humans remains unclear as does whether the virus became pathogenic before or after the spillover event Because many of the early infectees were workers at the Huanan Seafood Market it has been suggested that the virus might have originated from the market However other research indicates that visitors may have introduced the virus to the market which then facilitated rapid expansion of the infections A March WHO convened report stated that human spillover via an intermediate animal host was the most likely explanation with direct spillover from bats next most likely Introduction through the food supply chain and the Huanan Seafood Market was considered another possible but less likely explanation An analysis in November however said that the earliest known case had been misidentified and that the preponderance of early cases linked to the Huanan Market argued for it being the source For a virus recently acquired through a cross species transmission rapid evolution is expected The mutation rate estimated from early cases of SARS CoV was of per site per year Coronaviruses in general have high genetic plasticity but SARS CoV s viral evolution is slowed by the RNA proofreading capability of its replication machinery For comparison the viral mutation rate in vivo of SARS CoV has been found to be lower than that of influenza Research into the natural reservoir of the virus that caused the SARS outbreak has resulted in the discovery of many SARS like bat coronaviruses most originating in horseshoe bats The closest match by far published on Nature journal in February were viruses BANAL resemblance to SARS CoV BANAL and BANAL collected in three different species of bats in Feuang Laos An earlier source published in February identified the virus RaTG collected in bats in Mojiang Yunnan China to be the closest to SARS CoV with resemblance None of the above are its direct ancestor Bats are considered the most likely natural reservoir of SARS CoV Differences between the bat coronavirus and SARS CoV suggest that humans may have been infected via an intermediate host although the source of introduction into humans remains unknown Although the role of pangolins as an intermediate host was initially posited a study published in July suggested that pangolins are an intermediate host of SARS CoV like coronaviruses subsequent studies have not substantiated their contribution to the spillover Evidence against this hypothesis includes the fact that pangolin virus samples are too distant to SARS CoV isolates obtained from pangolins seized in Guangdong were only identical in sequence to the SARS CoV genome matches above percent may sound high but in genomic terms it is a wide evolutionary gap In addition despite similarities in a few critical amino acids pangolin virus samples exhibit poor binding to the human ACE receptor SARS CoV belongs to the broad family of viruses known as coronaviruses It is a positive sense single stranded RNA ssRNA virus with a single linear RNA segment Coronaviruses infect humans other mammals including livestock and companion animals and avian species Human coronaviruses are capable of causing illnesses ranging from the common cold to more severe diseases such as Middle East respiratory syndrome MERS fatality rate SARS CoV is the seventh known coronavirus to infect people after E NL OC HKU MERS CoV and the original SARS CoV Like the SARS related coronavirus implicated in the SARS outbreak SARS CoV is a member of the subgenus Sarbecovirus beta CoV lineage B Coronaviruses undergo frequent recombination The mechanism of recombination in unsegmented RNA viruses such as SARS CoV is generally by copy choice replication in which gene material switches from one RNA template molecule to another during replication The SARS CoV RNA sequence is approximately bases in length relatively long for a coronavirus which in turn carry the largest genomes among all RNA families Its genome consists nearly entirely of protein coding sequences a trait shared with other coronaviruses A distinguishing feature of SARS CoV is its incorporation of a polybasic site cleaved by furin which appears to be an important element enhancing its virulence It was suggested that the acquisition of the furin cleavage site in the SARS CoV S protein was essential for zoonotic transfer to humans The furin protease recognizes the canonical peptide sequence RX R K R X where the cleavage site is indicated by a down arrow and X is any amino acid In SARS CoV the recognition site is formed by the incorporated codon nucleotide sequence CCT CGG CGG GCA which corresponds to the amino acid sequence P RR A This sequence is upstream of an arginine and serine which forms the S S cleavage site P RR A R S of the spike protein Although such sites are a common naturally occurring feature of other viruses within the Subfamily Orthocoronavirinae it appears in few other viruses from the Beta CoV genus and it is unique among members of its subgenus for such a site The furin cleavage site PRRAR is identical to that of the feline coronavirus an alphacoronavirus strain Viral genetic sequence data can provide critical information about whether viruses separated by time and space are likely to be epidemiologically linked With a sufficient number of sequenced genomes it is possible to reconstruct a phylogenetic tree of the mutation history of a family of viruses By January five genomes of SARS CoV had been isolated from Wuhan and reported by the Chinese Center for Disease Control and Prevention CCDC and other institutions the number of genomes increased to by January A phylogenetic analysis of those samples showed they were highly related with at most seven mutations relative to a common ancestor implying that the first human infection occurred in November or December Examination of the topology of the phylogenetic tree at the start of the pandemic also found high similarities between human isolates As of August update SARS CoV genomes belonging to strains sampled on all continents except Antarctica were publicly available On February the International Committee on Taxonomy of Viruses announced that according to existing rules that compute hierarchical relationships among coronaviruses based on five conserved sequences of nucleic acids the differences between what was then called nCoV and the virus from the SARS outbreak were insufficient to make them separate viral species Therefore they identified nCoV as a virus of Severe acute respiratory syndrome related coronavirus In July scientists reported that a more infectious SARS CoV variant with spike protein variant G has replaced D as the dominant form in the pandemic Coronavirus genomes and subgenomes encode six open reading frames ORFs In October researchers discovered a possible overlapping gene named ORF d in the SARS CoV genome It is unknown if the protein produced by ORF d has any function but it provokes a strong immune response ORF d has been identified before in a variant of coronavirus that infects pangolins A phylogenetic tree based on whole genome sequences of SARS CoV and related coronaviruses is Bat Rc o to SARS CoV Rhinolophus cornutus Iwate Japan Bat SL ZXC to SARS CoV Rhinolophus pusillus Zhoushan Zhejiang Bat SL ZC to SARS CoV Rhinolophus pusillus Zhoushan Zhejiang Pangolin SARSr CoV GX to SARS CoV Manis javanica smuggled from Southeast Asia Pangolin SARSr CoV GD to SARS CoV Manis javanica smuggled from Southeast Asia Bat RshSTT to SARS CoV Rhinolophus shameli Steung Treng Cambodia Bat RshSTT to SARS CoV Rhinolophus shameli Steung Treng Cambodia Bat RacCS to SARS CoV Rhinolophus acuminatus Chachoengsao Thailand Bat RmYN to SARS CoV Rhinolophus malayanus Mengla Yunnan Bat RpYN to SARS CoV Rhinolophus pusillus Xishuangbanna Yunnan Bat RaTG to SARS CoV Rhinolophus affinis Mojiang Yunnan Bat BANAL to SARS CoV Rhinolophus malayanus Vientiane Laos SARS CoV SARS CoV to SARS CoV There are many thousands of variants of SARS CoV which can be grouped into the much larger clades Several different clade nomenclatures have been proposed Nextstrain divides the variants into five clades A B A B and C while GISAID divides them into seven L O V S G GH and GR Several notable variants of SARS CoV emerged in late The World Health Organization has currently declared five variants of concern which are as follows Other notable variants include other WHO designated variants under investigation and Cluster which emerged among mink in Denmark and resulted in a mink euthanasia campaign rendering it virtually extinct Each SARS CoV virion is nanometres in in diameter its mass within the global human populace has been estimated as being between and kilograms Like other coronaviruses SARS CoV has four structural proteins known as the S spike E envelope M membrane and N nucleocapsid proteins the N protein holds the RNA genome and the S E and M proteins together create the viral envelope Coronavirus S proteins are glycoproteins and also type I membrane proteins membranes containing a single transmembrane domain oriented on the extracellular side They are divided into two functional parts S and S In SARS CoV the spike protein which has been imaged at the atomic level using cryogenic electron microscopy is the protein responsible for allowing the virus to attach to and fuse with the membrane of a host cell specifically its S subunit catalyzes attachment the S subunit fusion As of early about million SARS CoV genomes had been sequenced and deposited into public databases and another or so were added each month SARS CoV has a linear positive sense single stranded RNA genome about bases long Its genome has a bias against cytosine C and guanine G nucleotides like other coronaviruses The genome has the highest composition of U followed by A and a similar composition of G and C The nucleotide bias arises from the mutation of guanines and cytosines to adenosines and uracils respectively The mutation of CG dinucleotides is thought to arise to avoid the zinc finger antiviral protein related defense mechanism of cells and to lower the energy to unbind the genome during replication and translation adenosine and uracil base pair via two hydrogen bonds cytosine and guanine via three The depletion of CG dinucleotides in its genome has led the virus to have a noticeable codon usage bias For instance arginine s six different codons have a relative synonymous codon usage of AGA CGU AGG CGC CGA and CGG A similar codon usage bias trend is seen in other SARS related coronaviruses Virus infections start when viral particles bind to host surface cellular receptors Protein modeling experiments on the spike protein of the virus soon suggested that SARS CoV has sufficient affinity to the receptor angiotensin converting enzyme ACE on human cells to use them as a mechanism of cell entry By January a group in China working with the full virus genome and a group in the United States using reverse genetics methods independently and experimentally demonstrated that ACE could act as the receptor for SARS CoV Studies have shown that SARS CoV has a higher affinity to human ACE than the original SARS virus SARS CoV may also use basigin to assist in cell entry Initial spike protein priming by transmembrane protease serine TMPRSS is essential for entry of SARS CoV The host protein neuropilin NRP may aid the virus in host cell entry using ACE After a SARS CoV virion attaches to a target cell the cell s TMPRSS cuts open the spike protein of the virus exposing a fusion peptide in the S subunit and the host receptor ACE After fusion an endosome forms around the virion separating it from the rest of the host cell The virion escapes when the pH of the endosome drops or when cathepsin a host cysteine protease cleaves it The virion then releases RNA into the cell and forces the cell to produce and disseminate copies of the virus which infect more cells SARS CoV produces at least three virulence factors that promote shedding of new virions from host cells and inhibit immune response Whether they include downregulation of ACE as seen in similar coronaviruses remains under investigation as of May Very few drugs are known to effectively inhibit SARS CoV Masitinib is a clinically safe drug and was recently found to inhibit its main protease CLpro and showed fold reduction in viral titers in the lungs and nose in mice However it is not approved for the treatment of COVID in humans as of August needs update In December the United States granted emergency use authorization to Nirmatrelvir ritonavir for the treatment of the virus the European Union United Kingdom and Canada followed suit with full authorization soon after One study found that Nirmatrelvir ritonavir reduced the risk of hospitalization and death by COVID Moonshot is an international collaborative open science project started in March with the goal of developing an un patented oral antiviral drug for treatment of SARS CoV Retrospective tests collected within the Chinese surveillance system revealed no clear indication of substantial unrecognized circulation of SARS CoV in Wuhan during the latter part of A meta analysis from November estimated the basic reproduction number R displaystyle R of the virus to be between and This means each infection from the virus is expected to result in to new infections when no members of the community are immune and no preventive measures are taken The reproduction number may be higher in densely populated conditions such as those found on cruise ships Human behavior affects the R value and hence estimates of R differ between different countries cultures and social norms For instance one study found relatively low R in Sweden Belgium and the Netherlands while Spain and the US had significantly higher R values to respectively There have been about confirmed cases of infection in mainland China While the proportion of infections that result in confirmed cases or progress to diagnosable disease remains unclear one mathematical model estimated that people were infected on January in Wuhan alone at a time when the number of confirmed cases worldwide was only Before February over of all deaths from COVID worldwide had occurred in Hubei province where Wuhan is located As of August the percentage had decreased to As of August there have been total confirmed cases of SARS CoV infection in the ongoing pandemic The total number of deaths attributed to the virus is '"
            ],
            "application/vnd.google.colaboratory.intrinsic+json": {
              "type": "string"
            }
          },
          "metadata": {},
          "execution_count": 15
        }
      ]
    },
    {
      "cell_type": "code",
      "metadata": {
        "id": "BD2_vxawcEwN"
      },
      "source": [
        "sentence_list = nltk.sent_tokenize(article_text)\n",
        "stopwords = nltk.corpus.stopwords.words('english')\n",
        "\n",
        "word_frequencies = {}\n",
        "for word in nltk.word_tokenize(formatted_article_text):\n",
        "    if word not in stopwords:\n",
        "        if word not in word_frequencies.keys():\n",
        "            word_frequencies[word] = 1\n",
        "        else:\n",
        "            word_frequencies[word] += 1\n",
        "    maximum_frequency = max(word_frequencies.values())\n",
        "\n",
        "for word in word_frequencies.keys():\n",
        "    word_frequencies[word] = (word_frequencies[word]/maximum_frequency)\n",
        "    sentence_scores = {}\n",
        "\n",
        "# we calculate the score for only sentences with less than 30 words\n",
        "for sent in sentence_list:\n",
        "    for word in nltk.word_tokenize(sent.lower()):\n",
        "        if word in word_frequencies.keys():\n",
        "            if len(sent.split(' ')) < 30:\n",
        "                if sent not in sentence_scores.keys():\n",
        "                    sentence_scores[sent] = word_frequencies[word]\n",
        "                else:\n",
        "                    sentence_scores[sent] += word_frequencies[word]"
      ],
      "execution_count": 16,
      "outputs": []
    },
    {
      "cell_type": "code",
      "metadata": {
        "colab": {
          "base_uri": "https://localhost:8080/"
        },
        "id": "5cvr2BTbch7O",
        "outputId": "c5f0f2ba-010b-4131-a4d7-eee1d332aeb4"
      },
      "source": [
        "import heapq\n",
        "\n",
        "summary_sentences = heapq.nlargest(5, sentence_scores, key=sentence_scores.get)\n",
        "summary_sentences"
      ],
      "execution_count": 17,
      "outputs": [
        {
          "output_type": "execute_result",
          "data": {
            "text/plain": [
              "['SARS‑CoV‑2 is a virus of the species severe acute respiratory syndrome–related coronavirus (SARSr-CoV), related to the SARS-CoV-1 virus that caused the 2002–2004 SARS outbreak.',\n",
              " 'Other studies have suggested that the virus may be airborne as well, with aerosols potentially being able to transmit the virus.',\n",
              " 'The host protein neuropilin 1 (NRP1) may aid the virus in host cell entry using ACE2.',\n",
              " 'During the initial outbreak in Wuhan, China, various names were used for the virus; some names used by different sources included \"the coronavirus\" or \"Wuhan coronavirus\".',\n",
              " 'The virus previously had a provisional name, 2019 novel coronavirus (2019-nCoV), and has also been called human coronavirus 2019 (HCoV-19 or hCoV-19).']"
            ]
          },
          "metadata": {},
          "execution_count": 17
        }
      ]
    },
    {
      "cell_type": "code",
      "metadata": {
        "id": "quNwDL0GcqGb",
        "colab": {
          "base_uri": "https://localhost:8080/"
        },
        "outputId": "0501f512-3b29-4b88-a3e3-0248b5bf0e1c"
      },
      "source": [
        "summary = ' '.join(summary_sentences)\n",
        "print(summary)"
      ],
      "execution_count": 18,
      "outputs": [
        {
          "output_type": "stream",
          "name": "stdout",
          "text": [
            "SARS‑CoV‑2 is a virus of the species severe acute respiratory syndrome–related coronavirus (SARSr-CoV), related to the SARS-CoV-1 virus that caused the 2002–2004 SARS outbreak. Other studies have suggested that the virus may be airborne as well, with aerosols potentially being able to transmit the virus. The host protein neuropilin 1 (NRP1) may aid the virus in host cell entry using ACE2. During the initial outbreak in Wuhan, China, various names were used for the virus; some names used by different sources included \"the coronavirus\" or \"Wuhan coronavirus\". The virus previously had a provisional name, 2019 novel coronavirus (2019-nCoV), and has also been called human coronavirus 2019 (HCoV-19 or hCoV-19).\n"
          ]
        }
      ]
    },
    {
      "cell_type": "code",
      "source": [
        "# importando módulo HTML\n",
        "from IPython.core.display import display, HTML\n",
        "\n",
        "display(HTML(f'<h1>Resumo do Texto</h1>'))\n",
        "\n",
        "texto = ''\n",
        "for sent in sentence_list:\n",
        "    if sent in summary:\n",
        "        texto += str(sent).replace(sent, f\"<mark style='background-color: yellow'>{sent}</mark>\")\n",
        "    else:\n",
        "        texto += sent\n",
        "\n",
        "display(HTML(f\"\"\"{texto}\"\"\"))"
      ],
      "metadata": {
        "colab": {
          "base_uri": "https://localhost:8080/",
          "height": 1000
        },
        "id": "oBiqQOx1TX5t",
        "outputId": "224c4b72-a6a6-45ed-efae-7781e48e7b9b"
      },
      "execution_count": 19,
      "outputs": [
        {
          "output_type": "display_data",
          "data": {
            "text/plain": [
              "<IPython.core.display.HTML object>"
            ],
            "text/html": [
              "<h1>Resumo do Texto</h1>"
            ]
          },
          "metadata": {}
        },
        {
          "output_type": "display_data",
          "data": {
            "text/plain": [
              "<IPython.core.display.HTML object>"
            ],
            "text/html": [
              " Severe acute respiratory syndrome coronavirus 2 (SARS‑CoV‑2) is a strain of coronavirus that causes COVID-19 (coronavirus disease 2019), the respiratory illness responsible for the ongoing COVID-19 pandemic.<mark style='background-color: yellow'>The virus previously had a provisional name, 2019 novel coronavirus (2019-nCoV), and has also been called human coronavirus 2019 (HCoV-19 or hCoV-19).</mark>First identified in the city of Wuhan, Hubei, China, the World Health Organization declared the outbreak a Public Health Emergency of International Concern on 30 January 2020, and a pandemic on 11 March 2020.SARS‑CoV‑2 is a positive-sense single-stranded RNA virus that is contagious in humans.<mark style='background-color: yellow'>SARS‑CoV‑2 is a virus of the species severe acute respiratory syndrome–related coronavirus (SARSr-CoV), related to the SARS-CoV-1 virus that caused the 2002–2004 SARS outbreak.</mark>Available evidence indicates that it is most likely of zoonotic origins and has close genetic similarity to bat coronaviruses, suggesting it emerged from a bat-borne virus.Research is ongoing as to whether SARS‑CoV‑2 came directly from bats or indirectly through any intermediate hosts.The virus shows little genetic diversity, indicating that the spillover event introducing SARS‑CoV‑2 to humans is likely to have occurred in late 2019.Epidemiological studies estimate that, in the December 2019 – September 2020 period, each infection resulted in an average of 2.4 to 3.4 new ones when no members of the community are immune and no preventive measures are taken.However, some subsequent variants have become more infectious.The virus primarily spreads between people through close contact and via aerosols and respiratory droplets that are exhaled when talking, breathing, or otherwise exhaling, as well as those produced from coughs or sneezes.It enters human cells by binding to angiotensin-converting enzyme 2 (ACE2), a membrane protein that regulates the renin–angiotensin system.<mark style='background-color: yellow'>During the initial outbreak in Wuhan, China, various names were used for the virus; some names used by different sources included \"the coronavirus\" or \"Wuhan coronavirus\".</mark>In January 2020, the World Health Organization (WHO) recommended \"2019 novel coronavirus\" (2019-nCoV) as the provisional name for the virus.This was in accordance with WHO's 2015 guidance against using geographical locations, animal species, or groups of people in disease and virus names.On 11 February 2020, the International Committee on Taxonomy of Viruses adopted the official name \"severe acute respiratory syndrome coronavirus 2\" (SARS‑CoV‑2).To avoid confusion with the disease SARS, the WHO sometimes refers to SARS‑CoV‑2 as \"the COVID-19 virus\" in public health communications and the name HCoV-19 was included in some research articles.Referring to COVID-19 as the \"Wuhan virus\" has been described as dangerous by WHO officials, and as xenophobic by University of California at Berkeley Asian American studies lecturer Harvey Dong.Human-to-human transmission of SARS‑CoV‑2 was confirmed on 20 January 2020 during the COVID-19 pandemic.Transmission was initially assumed to occur primarily via respiratory droplets from coughs and sneezes within a range of about 1.8 metres (6 ft).Laser light scattering experiments suggest that speaking is an additional mode of transmission and a far-reaching one, indoors, with little air flow.<mark style='background-color: yellow'>Other studies have suggested that the virus may be airborne as well, with aerosols potentially being able to transmit the virus.</mark>During human-to-human transmission, between 200 and 800 infectious SARS‑CoV‑2 virions are thought to initiate a new infection.If confirmed, aerosol transmission has biosafety implications because a major concern associated with the risk of working with emerging viruses in the laboratory is the generation of aerosols from various laboratory activities which are not immediately recognizable and may affect other scientific personnel.Indirect contact via contaminated surfaces is another possible cause of infection.Preliminary research indicates that the virus may remain viable on plastic (polypropylene) and stainless steel (AISI 304) for up to three days, but it does not survive on cardboard for more than one day or on copper for more than four hours.The virus is inactivated by soap, which destabilizes its lipid bilayer.Viral RNA has also been found in stool samples and semen from infected individuals.The degree to which the virus is infectious during the incubation period is uncertain, but research has indicated that the pharynx reaches peak viral load approximately four days after infection or in the first week of symptoms and declines thereafter.The duration of SARS-CoV-2 RNA shedding is generally between 3 and 46 days after symptom onset.A study by a team of researchers from the University of North Carolina found that the nasal cavity is seemingly the dominant initial site of infection, with subsequent aspiration-mediated virus-seeding into the lungs in SARS‑CoV‑2 pathogenesis.They found that there was an infection gradient from high in proximal towards low in distal pulmonary epithelial cultures, with a focal infection in ciliated cells and type 2 pneumocytes in the airway and alveolar regions respectively.Studies have identified a range of animals—such as cats, ferrets, hamsters, non-human primates, minks, tree shrews, raccoon dogs, fruit bats, and rabbits—that are susceptible and permissive to SARS-CoV-2 infection.Some institutions have advised that those infected with SARS‑CoV‑2 restrict their contact with animals.On 1 February 2020, the World Health Organization (WHO) indicated that \"transmission from asymptomatic cases is likely not a major driver of transmission\".One meta-analysis found that 17% of infections are asymptomatic, and asymptomatic individuals were 42% less likely to transmit the virus.However, an epidemiological model of the beginning of the outbreak in China suggested that \"pre-symptomatic shedding may be typical among documented infections\" and that subclinical infections may have been the source of a majority of infections.That may explain how out of 217 on board a cruise liner that docked at Montevideo, only 24 of 128 who tested positive for viral RNA showed symptoms.Similarly, a study of ninety-four patients hospitalized in January and February 2020 estimated patients began shedding virus two to three days before symptoms appear and that \"a substantial proportion of transmission probably occurred before first symptoms in the index case\".The authors later published a correction that showed that shedding began earlier than first estimated, four to five days before symptoms appear.There is uncertainty about reinfection and long-term immunity.It is not known how common reinfection is, but reports have indicated that it is occurring with variable severity.The first reported case of reinfection was a 33-year-old man from Hong Kong who first tested positive on 26 March 2020, was discharged on 15 April 2020 after two negative tests, and tested positive again on 15 August 2020 (142 days later), which was confirmed by whole-genome sequencing showing that the viral genomes between the episodes belong to different clades.The findings had the implications that herd immunity may not eliminate the virus if reinfection is not an uncommon occurrence and that vaccines may not be able to provide lifelong protection against the virus.Another case study described a 25-year-old man from Nevada who tested positive for SARS‑CoV‑2 on 18 April 2020 and on 5 June 2020 (separated by two negative tests).Since genomic analyses showed significant genetic differences between the SARS‑CoV‑2 variant sampled on those two dates, the case study authors determined this was a reinfection.The man's second infection was symptomatically more severe than the first infection, but the mechanisms that could account for this are not known.Prior to the emergence of SARS-CoV-2 as a pathogen infecting humans, there had been two previous zoonosis-based conoravirus epidemics, those caused by SARS-CoV-1 and MERS-CoV.The first known infections from SARS‑CoV‑2 were discovered in Wuhan, China.The original source of viral transmission to humans remains unclear, as does whether the virus became pathogenic before or after the spillover event.Because many of the early infectees were workers at the Huanan Seafood Market, it has been suggested that the virus might have originated from the market.However, other research indicates that visitors may have introduced the virus to the market, which then facilitated rapid expansion of the infections.A March 2021 WHO-convened report stated that human spillover via an intermediate animal host was the most likely explanation, with direct spillover from bats next most likely.Introduction through the food supply chain and the Huanan Seafood Market was considered another possible, but less likely, explanation.An analysis in November 2021, however, said that the earliest-known case had been misidentified and that the preponderance of early cases linked to the Huanan Market argued for it being the source.For a virus recently acquired through a cross-species transmission, rapid evolution is expected.The mutation rate estimated from early cases of SARS-CoV-2 was of 6.54×10−4 per site per year.Coronaviruses in general have high genetic plasticity, but SARS-CoV-2's viral evolution is slowed by the RNA proofreading capability of its replication machinery.For comparison, the viral mutation rate in vivo of SARS-CoV-2 has been found to be lower than that of influenza.Research into the natural reservoir of the virus that caused the 2002–2004 SARS outbreak has resulted in the discovery of many SARS-like bat coronaviruses, most originating in horseshoe bats.The closest match by far, published on Nature (journal) in February 2022, were viruses BANAL-52 (96.8% resemblance to SARS‑CoV‑2), BANAL-103 and BANAL-236, collected in three different species of bats in Feuang, Laos.An earlier source published in February 2020 identified the virus RaTG13, collected in bats in Mojiang, Yunnan, China to be the closest to SARS‑CoV‑2, with 96.1% resemblance.None of the above are its direct ancestor.Bats are considered the most likely natural reservoir of SARS‑CoV‑2.Differences between the bat coronavirus and SARS‑CoV‑2 suggest that humans may have been infected via an intermediate host; although the source of introduction into humans remains unknown.Although the role of pangolins as an intermediate host was initially posited (a study published in July 2020 suggested that pangolins are an intermediate host of SARS‑CoV‑2-like coronaviruses ), subsequent studies have not substantiated their contribution to the spillover.Evidence against this hypothesis includes the fact that pangolin virus samples are too distant to SARS-CoV-2: isolates obtained from pangolins seized in Guangdong were only 92% identical in sequence to the SARS‑CoV‑2 genome (matches above 90 percent may sound high, but in genomic terms it is a wide evolutionary gap ).In addition, despite similarities in a few critical amino acids, pangolin virus samples exhibit poor binding to the human ACE2 receptor.SARS‑CoV‑2 belongs to the broad family of viruses known as coronaviruses.It is a positive-sense single-stranded RNA (+ssRNA) virus, with a single linear RNA segment.Coronaviruses infect humans, other mammals, including livestock and companion animals, and avian species.Human coronaviruses are capable of causing illnesses ranging from the common cold to more severe diseases such as Middle East respiratory syndrome (MERS, fatality rate ~34%).SARS-CoV-2 is the seventh known coronavirus to infect people, after 229E, NL63, OC43, HKU1, MERS-CoV, and the original SARS-CoV.Like the SARS-related coronavirus implicated in the 2003 SARS outbreak, SARS‑CoV‑2 is a member of the subgenus Sarbecovirus (beta-CoV lineage B).Coronaviruses undergo frequent recombination.The mechanism of recombination in unsegmented RNA viruses such as SARS-CoV-2 is generally by copy-choice replication, in which gene material switches from one RNA template molecule to another during replication.The SARS-CoV-2 RNA sequence is approximately 30,000 bases in length, relatively long for a coronavirus—which in turn carry the largest genomes among all RNA families.Its genome consists nearly entirely of protein-coding sequences, a trait shared with other coronaviruses.A distinguishing feature of SARS‑CoV‑2 is its incorporation of a polybasic site cleaved by furin, which appears to be an important element enhancing its virulence.It was suggested that the acquisition of the furin-cleavage site in the SARS-CoV-2 S protein was essential for zoonotic transfer to humans.The furin protease recognizes the canonical peptide sequence RX[R/K] R↓X where the cleavage site is indicated by a down arrow and X is any amino acid.In SARS-CoV-2 the recognition site is formed by the incorporated 12 codon nucleotide sequence CCT CGG CGG GCA which corresponds to the amino acid sequence P RR A.This sequence is upstream of an arginine and serine which forms the S1/S2 cleavage site (P RR A R↓S) of the spike protein.Although such sites are a common naturally-occurring feature of other viruses within the Subfamily Orthocoronavirinae, it appears in few other viruses from the Beta-CoV genus, and it is unique among members of its subgenus for such a site.The furin cleavage site PRRAR↓ is identical to that of the feline coronavirus, an alphacoronavirus 1 strain.Viral genetic sequence data can provide critical information about whether viruses separated by time and space are likely to be epidemiologically linked.With a sufficient number of sequenced genomes, it is possible to reconstruct a phylogenetic tree of the mutation history of a family of viruses.By 12 January 2020, five genomes of SARS‑CoV‑2 had been isolated from Wuhan and reported by the Chinese Center for Disease Control and Prevention (CCDC) and other institutions; the number of genomes increased to 42 by 30 January 2020.A phylogenetic analysis of those samples showed they were \"highly related with at most seven mutations relative to a common ancestor\", implying that the first human infection occurred in November or December 2019.Examination of the topology of the phylogenetic tree at the start of the pandemic also found high similarities between human isolates.As of 21 August 2021,[update] 3,422 SARS‑CoV‑2 genomes, belonging to 19 strains, sampled on all continents except Antarctica were publicly available.On 11 February 2020, the International Committee on Taxonomy of Viruses announced that according to existing rules that compute hierarchical relationships among coronaviruses based on five conserved sequences of nucleic acids, the differences between what was then called 2019-nCoV and the virus from the 2003 SARS outbreak were insufficient to make them separate viral species.Therefore, they identified 2019-nCoV as a virus of Severe acute respiratory syndrome–related coronavirus.In July 2020, scientists reported that a more infectious SARS‑CoV‑2 variant with spike protein variant G614 has replaced D614 as the dominant form in the pandemic.Coronavirus genomes and subgenomes encode six open reading frames (ORFs).In October 2020, researchers discovered a possible overlapping gene named ORF3d, in the SARS‑CoV‑2 genome.It is unknown if the protein produced by ORF3d has any function, but it provokes a strong immune response.ORF3d has been identified before, in a variant of coronavirus that infects pangolins.A phylogenetic tree based on whole-genome sequences of SARS-CoV-2 and related coronaviruses is: (Bat) Rc-o319, 81% to SARS-CoV-2, Rhinolophus cornutus, Iwate, Japan Bat SL-ZXC21, 88% to SARS-CoV-2, Rhinolophus pusillus, Zhoushan, Zhejiang Bat SL-ZC45, 88% to SARS-CoV-2, Rhinolophus pusillus, Zhoushan, Zhejiang Pangolin SARSr-CoV-GX, 85.3% to SARS-CoV-2, Manis javanica, smuggled from Southeast Asia Pangolin SARSr-CoV-GD, 90.1% to SARS-CoV-2, Manis javanica, smuggled from Southeast Asia Bat RshSTT182, 92.6% to SARS-CoV-2, Rhinolophus shameli, Steung Treng, Cambodia Bat RshSTT200, 92.6% to SARS-CoV-2, Rhinolophus shameli, Steung Treng, Cambodia (Bat) RacCS203, 91.5% to SARS-CoV-2, Rhinolophus acuminatus, Chachoengsao, Thailand (Bat) RmYN02, 93.3% to SARS-CoV-2, Rhinolophus malayanus, Mengla, Yunnan (Bat) RpYN06, 94.4% to SARS-CoV-2, Rhinolophus pusillus, Xishuangbanna, Yunnan (Bat) RaTG13, 96.1% to SARS-CoV-2, Rhinolophus affinis, Mojiang, Yunnan (Bat) BANAL-52, 96.8% to SARS-CoV-2, Rhinolophus malayanus, Vientiane, Laos SARS-CoV-2 SARS-CoV-1, 79% to SARS-CoV-2 There are many thousands of variants of SARS-CoV-2, which can be grouped into the much larger clades.Several different clade nomenclatures have been proposed.Nextstrain divides the variants into five clades (19A, 19B, 20A, 20B, and 20C), while GISAID divides them into seven (L, O, V, S, G, GH, and GR).Several notable variants of SARS-CoV-2 emerged in late 2020.The World Health Organization has currently declared five variants of concern, which are as follows: Other notable variants include 6 other WHO-designated variants under investigation and Cluster 5, which emerged among mink in Denmark and resulted in a mink euthanasia campaign rendering it virtually extinct.Each SARS-CoV-2 virion is 60–140 nanometres (2.4×10−6–5.5×10−6 in) in diameter; its mass within the global human populace has been estimated as being between 0.1 and 10 kilograms.Like other coronaviruses, SARS-CoV-2 has four structural proteins, known as the S (spike), E (envelope), M (membrane), and N (nucleocapsid) proteins; the N protein holds the RNA genome, and the S, E, and M proteins together create the viral envelope.Coronavirus S proteins are glycoproteins and also type I membrane proteins (membranes containing a single transmembrane domain oriented on the extracellular side).They are divided into two functional parts (S1 and S2).In SARS-CoV-2, the spike protein, which has been imaged at the atomic level using cryogenic electron microscopy, is the protein responsible for allowing the virus to attach to and fuse with the membrane of a host cell; specifically, its S1 subunit catalyzes attachment, the S2 subunit fusion.As of early 2022, about 7 million SARS-CoV-2 genomes had been sequenced and deposited into public databases and another 800,000 or so were added each month.SARS-CoV-2 has a linear, positive-sense, single-stranded RNA genome about 30,000 bases long.Its genome has a bias against cytosine (C) and guanine (G) nucleotides, like other coronaviruses.The genome has the highest composition of U (32.2%), followed by A (29.9%), and a similar composition of G (19.6%) and C (18.3%).The nucleotide bias arises from the mutation of guanines and cytosines to adenosines and uracils, respectively.The mutation of CG dinucleotides is thought to arise to avoid the zinc finger antiviral protein related defense mechanism of cells, and to lower the energy to unbind the genome during replication and translation (adenosine and uracil base pair via two hydrogen bonds, cytosine and guanine via three).The depletion of CG dinucleotides in its genome has led the virus to have a noticeable codon usage bias.For instance, arginine's six different codons have a relative synonymous codon usage of AGA (2.67), CGU (1.46), AGG (.81), CGC (.58), CGA (.29), and CGG (.19).A similar codon usage bias trend is seen in other SARS–related coronaviruses.Virus infections start when viral particles bind to host surface cellular receptors.Protein modeling experiments on the spike protein of the virus soon suggested that SARS‑CoV‑2 has sufficient affinity to the receptor angiotensin converting enzyme 2 (ACE2) on human cells to use them as a mechanism of cell entry.By 22 January 2020, a group in China working with the full virus genome and a group in the United States using reverse genetics methods independently and experimentally demonstrated that ACE2 could act as the receptor for SARS‑CoV‑2.Studies have shown that SARS‑CoV‑2 has a higher affinity to human ACE2 than the original SARS virus.SARS‑CoV‑2 may also use basigin to assist in cell entry.Initial spike protein priming by transmembrane protease, serine 2 (TMPRSS2) is essential for entry of SARS‑CoV‑2.<mark style='background-color: yellow'>The host protein neuropilin 1 (NRP1) may aid the virus in host cell entry using ACE2.</mark>After a SARS‑CoV‑2 virion attaches to a target cell, the cell's TMPRSS2 cuts open the spike protein of the virus, exposing a fusion peptide in the S2 subunit, and the host receptor ACE2.After fusion, an endosome forms around the virion, separating it from the rest of the host cell.The virion escapes when the pH of the endosome drops or when cathepsin, a host cysteine protease, cleaves it.The virion then releases RNA into the cell and forces the cell to produce and disseminate copies of the virus, which infect more cells.SARS‑CoV‑2 produces at least three virulence factors that promote shedding of new virions from host cells and inhibit immune response.Whether they include downregulation of ACE2, as seen in similar coronaviruses, remains under investigation (as of May 2020).Very few drugs are known to effectively inhibit SARS‑CoV‑2.Masitinib is a clinically safe drug and was recently found to inhibit its main protease, 3CLpro and showed >200-fold reduction in viral titers in the lungs and nose in mice.However, it is not approved for the treatment of COVID-19 in humans as of August 2021.[needs update] In December 2021, the United States granted emergency use authorization to Nirmatrelvir/ritonavir for the treatment of the virus; the European Union, United Kingdom, and Canada followed suit with full authorization soon after.One study found that Nirmatrelvir/ritonavir reduced the risk of hospitalization and death by 88%.COVID Moonshot is an international collaborative open-science project started in March 2020 with the goal of developing an un-patented oral antiviral drug for treatment of SARS-CoV-2.Retrospective tests collected within the Chinese surveillance system revealed no clear indication of substantial unrecognized circulation of SARS‑CoV‑2 in Wuhan during the latter part of 2019.A meta-analysis from November 2020 estimated the basic reproduction number ( R 0 {\\displaystyle R_{0}} ) of the virus to be between 2.39 and 3.44.This means each infection from the virus is expected to result in 2.39 to 3.44 new infections when no members of the community are immune and no preventive measures are taken.The reproduction number may be higher in densely populated conditions such as those found on cruise ships.Human behavior affects the R0 value and hence estimates of R0 differ between different countries, cultures, and social norms.For instance, one study found relatively low R0 (~3.5) in Sweden, Belgium and the Netherlands, while Spain and the US had significantly higher R0 values (5.9 to 6.4, respectively).There have been about 96,000 confirmed cases of infection in mainland China.While the proportion of infections that result in confirmed cases or progress to diagnosable disease remains unclear, one mathematical model estimated that 75,815 people were infected on 25 January 2020 in Wuhan alone, at a time when the number of confirmed cases worldwide was only 2,015.Before 24 February 2020, over 95% of all deaths from COVID-19 worldwide had occurred in Hubei province, where Wuhan is located.As of 15 August 2022, the percentage had decreased to 0.050%.As of 15 August 2022, there have been 590,355,410 total confirmed cases of SARS‑CoV‑2 infection in the ongoing pandemic.The total number of deaths attributed to the virus is 6,435,672."
            ]
          },
          "metadata": {}
        }
      ]
    },
    {
      "cell_type": "markdown",
      "metadata": {
        "id": "WL2OTha-aBzA"
      },
      "source": [
        "**Mais informações:**\n",
        "\n",
        "> https://www.kaggle.com/imkrkannan/text-summarization-with-nltk-in-python"
      ]
    }
  ]
}