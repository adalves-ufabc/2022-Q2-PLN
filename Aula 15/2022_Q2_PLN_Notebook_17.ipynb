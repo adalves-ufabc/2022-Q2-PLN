{
  "nbformat": 4,
  "nbformat_minor": 0,
  "metadata": {
    "colab": {
      "name": "2022-Q2 PLN Notebook 17.ipynb",
      "provenance": [],
      "collapsed_sections": [],
      "include_colab_link": true
    },
    "kernelspec": {
      "name": "python3",
      "display_name": "Python 3"
    }
  },
  "cells": [
    {
      "cell_type": "markdown",
      "metadata": {
        "id": "view-in-github",
        "colab_type": "text"
      },
      "source": [
        "<a href=\"https://colab.research.google.com/github/adalves-ufabc/2022.Q2-PLN/blob/main/2022_Q2_PLN_Notebook_17.ipynb\" target=\"_parent\"><img src=\"https://colab.research.google.com/assets/colab-badge.svg\" alt=\"Open In Colab\"/></a>"
      ]
    },
    {
      "cell_type": "markdown",
      "metadata": {
        "id": "w076Gmh8L3nF"
      },
      "source": [
        "# **Processamento de Linguagem Natural [2022.Q2]**\n",
        "Prof. Alexandre Donizeti Alves"
      ]
    },
    {
      "cell_type": "markdown",
      "metadata": {
        "id": "bbdVzJK4Jb6n"
      },
      "source": [
        "### **Chatbots simples com Python e NLTK**"
      ]
    },
    {
      "cell_type": "markdown",
      "metadata": {
        "id": "b6ifx4USLmyn"
      },
      "source": [
        "### **01. Testes com o chatbot Eliza**\n",
        "\n",
        "\n",
        "- Mais chatbots: https://www.nltk.org/api/nltk.chat.html"
      ]
    },
    {
      "cell_type": "code",
      "metadata": {
        "id": "7H9-kcRp4HLL"
      },
      "source": [
        "#pip install nltk\n",
        "#nltk.download()\n",
        "import nltk"
      ],
      "execution_count": 1,
      "outputs": []
    },
    {
      "cell_type": "code",
      "metadata": {
        "id": "fMiKNY3a4VEt",
        "colab": {
          "base_uri": "https://localhost:8080/"
        },
        "outputId": "ae5a90af-7508-4379-8fab-1aaa77e19982"
      },
      "source": [
        "nltk.chat.eliza.demo()"
      ],
      "execution_count": 2,
      "outputs": [
        {
          "output_type": "stream",
          "name": "stdout",
          "text": [
            "Therapist\n",
            "---------\n",
            "Talk to the program by typing in plain English, using normal upper-\n",
            "and lower-case letters and punctuation.  Enter \"quit\" when done.\n",
            "========================================================================\n",
            "Hello.  How are you feeling today?\n",
            ">I am fine\n",
            "How do you feel about being fine?\n",
            ">quit\n",
            "Thank you for talking with me.\n"
          ]
        }
      ]
    },
    {
      "cell_type": "markdown",
      "metadata": {
        "id": "DqGDlGUpJslb"
      },
      "source": [
        "### **02. Pacote chat do NLTK**\n",
        "\n",
        "- **`Chat`**: lógica usada pelo chatbot\n",
        "- **`reflections`**: dicionário com entradas e suas respectivas saídas"
      ]
    },
    {
      "cell_type": "code",
      "metadata": {
        "id": "lZwa0wZN5XpM"
      },
      "source": [
        "import nltk\n",
        "from nltk.chat.util import Chat, reflections"
      ],
      "execution_count": 3,
      "outputs": []
    },
    {
      "cell_type": "code",
      "metadata": {
        "id": "7JVJSBqF5nId",
        "colab": {
          "base_uri": "https://localhost:8080/"
        },
        "outputId": "e4e9f9f3-6a08-428d-dd13-87fca7ff130e"
      },
      "source": [
        "reflections"
      ],
      "execution_count": 4,
      "outputs": [
        {
          "output_type": "execute_result",
          "data": {
            "text/plain": [
              "{'i': 'you',\n",
              " 'i am': 'you are',\n",
              " 'i was': 'you were',\n",
              " \"i'd\": 'you would',\n",
              " \"i'll\": 'you will',\n",
              " \"i'm\": 'you are',\n",
              " \"i've\": 'you have',\n",
              " 'me': 'you',\n",
              " 'my': 'your',\n",
              " 'you': 'me',\n",
              " 'you are': 'I am',\n",
              " 'you were': 'I was',\n",
              " \"you'll\": 'I will',\n",
              " \"you've\": 'I have',\n",
              " 'your': 'my',\n",
              " 'yours': 'mine'}"
            ]
          },
          "metadata": {},
          "execution_count": 4
        }
      ]
    },
    {
      "cell_type": "code",
      "metadata": {
        "id": "rimuIlYWMkIl"
      },
      "source": [
        "reflections_pt = {'eu': 'você',\n",
        "                  'eu sou': 'você é',\n",
        "                  'eu era': 'você era',\n",
        "                  \"eu iria\": 'você iria',\n",
        "                  \"eu irei\": 'você irá',\n",
        "                  'meu': 'seu',\n",
        "                  'você': 'eu',\n",
        "                  'você é': 'eu sou',\n",
        "                  'você era': 'eu era',\n",
        "                  \"você irá\": 'eu irei',\n",
        "                  'seu': 'meu'}"
      ],
      "execution_count": 5,
      "outputs": []
    },
    {
      "cell_type": "code",
      "metadata": {
        "id": "sU5XwnNE6FKv"
      },
      "source": [
        "pares = [\n",
        "    [\n",
        "     r'oi|olá|opa',\n",
        "     ['olá', 'como vai?', 'tudo bem?']\n",
        "    ],\n",
        "    [\n",
        "     r'qual é o seu nome?',\n",
        "     ['Meu nome é Chat e eu sou um chatbot']\n",
        "    ],  \n",
        "    [\n",
        "     r'(.*) idade?',\n",
        "     ['Não tenho idade pois sou um chatbot']\n",
        "    ], \n",
        "    [\n",
        "     r'meu nome é (.*)',\n",
        "     ['Olá %1, como você está hoje?']\n",
        "    ],  \n",
        "    [\n",
        "     r'eu trabalho na empresa (.*)',\n",
        "     ['Eu conheço a empresa %1']\n",
        "    ], \n",
        "    [\n",
        "     r'(.*) (cidade|país)',\n",
        "     ['Santo André, Brasil']\n",
        "    ], \n",
        "    [\n",
        "     r'quit',\n",
        "     ['Até breve', 'Foi bom conversar com você. Até breve!']\n",
        "    ]     \n",
        "]"
      ],
      "execution_count": 6,
      "outputs": []
    },
    {
      "cell_type": "code",
      "metadata": {
        "id": "ocerTWVf6a47",
        "colab": {
          "base_uri": "https://localhost:8080/"
        },
        "outputId": "e21a683c-4d04-4d48-be1e-454f0da03410"
      },
      "source": [
        "print('Olá, sou o chat!')\n",
        "chat = Chat(pares, reflections_pt)\n",
        "chat.converse()"
      ],
      "execution_count": 9,
      "outputs": [
        {
          "output_type": "stream",
          "name": "stdout",
          "text": [
            "Olá, sou o chat!\n",
            ">oi\n",
            "olá\n",
            ">qual é o seu nome?\n",
            "Meu nome é Chat e eu sou um chatbot\n",
            ">Meu nome é Alexandre\n",
            "Olá alexandre, como você está hoje?\n",
            ">quit\n",
            "Até breve\n"
          ]
        }
      ]
    },
    {
      "cell_type": "markdown",
      "metadata": {
        "id": "X_AEkLSuo-gt"
      },
      "source": [
        "**Referência**:\n",
        "\n",
        "Notebook disponibilizado no Curso [Chatbots com Python e Dialogflow: O Guia para Iniciantes](https://iaexpert.academy/courses/chatbots-python-dialogflow-guia-iniciantes/).\n"
      ]
    },
    {
      "cell_type": "markdown",
      "metadata": {
        "id": "yF_kCi8FtMu5"
      },
      "source": [
        "**Mais informações**: [Build Your First Chatbot Using Python & NLTK](https://www.kdnuggets.com/2019/05/build-chatbot-python-nltk.html)."
      ]
    }
  ]
}