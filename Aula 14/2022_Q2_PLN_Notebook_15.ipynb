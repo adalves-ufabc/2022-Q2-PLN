{
  "nbformat": 4,
  "nbformat_minor": 0,
  "metadata": {
    "colab": {
      "name": "2022-Q2 PLN Notebook 15.ipynb",
      "provenance": [],
      "collapsed_sections": [],
      "authorship_tag": "ABX9TyMqDpwKobtgk7qM9z0XHore",
      "include_colab_link": true
    },
    "kernelspec": {
      "name": "python3",
      "display_name": "Python 3"
    }
  },
  "cells": [
    {
      "cell_type": "markdown",
      "metadata": {
        "id": "view-in-github",
        "colab_type": "text"
      },
      "source": [
        "<a href=\"https://colab.research.google.com/github/adalves-ufabc/2022.Q2-PLN/blob/main/2022_Q2_PLN_Notebook_15.ipynb\" target=\"_parent\"><img src=\"https://colab.research.google.com/assets/colab-badge.svg\" alt=\"Open In Colab\"/></a>"
      ]
    },
    {
      "cell_type": "markdown",
      "metadata": {
        "id": "rUAjrMQ-vqc0"
      },
      "source": [
        "# **Processamento de Linguagem Natural [2022.Q2]**\n",
        "Prof. Alexandre Donizeti Alves"
      ]
    },
    {
      "cell_type": "markdown",
      "metadata": {
        "id": "lIlFC3phvwVy"
      },
      "source": [
        "### **Análise de Sentimentos usando a biblioteca TextBlob**\n",
        "\n",
        "**TextBlob** é uma biblioteca Python simples que oferece acesso  para diferentes tarefas de PLN, como análise de sentimento, correção ortográfica etc.\n"
      ]
    },
    {
      "cell_type": "markdown",
      "metadata": {
        "id": "vSBMCFvSy_co"
      },
      "source": [
        "O analisador de sentimentos da biblioteca `Textblob` retorna duas propriedades para uma determinada frase de entrada:\n",
        "\n",
        "*   ***Polarity***: define a positividade ou negatividade do texto; retorna um valor flutuante no intervalo de \"-1.0 a 1.0\", onde '0.0' indica neutro, '+1' indica um sentimento muito positivo e '-1' representa um sentimento muito negativo.\n",
        "*    ***Subjectivity***: frases subjetivas geralmente se referem a opinião pessoal, emoção ou julgamento, enquanto que objetivas se referem a informações factuais. A subjetividade também é um float que fica na faixa de [0,1], sendo que '0.0' é muito objetivo e '1.0' é muito subjetivo."
      ]
    },
    {
      "cell_type": "code",
      "metadata": {
        "id": "h8w17cLExYir"
      },
      "source": [
        "import nltk\n",
        "from textblob import TextBlob"
      ],
      "execution_count": 4,
      "outputs": []
    },
    {
      "cell_type": "code",
      "metadata": {
        "id": "kQunqicYxZSG",
        "colab": {
          "base_uri": "https://localhost:8080/"
        },
        "outputId": "f4cc89ec-0bdc-48cc-bf01-f1545f0d573c"
      },
      "source": [
        "sentiment_1 = TextBlob(\"The food was great!\")\n",
        "print(sentiment_1.sentiment)"
      ],
      "execution_count": 5,
      "outputs": [
        {
          "output_type": "stream",
          "name": "stdout",
          "text": [
            "Sentiment(polarity=1.0, subjectivity=0.75)\n"
          ]
        }
      ]
    },
    {
      "cell_type": "code",
      "metadata": {
        "id": "icyjX2515MuZ",
        "colab": {
          "base_uri": "https://localhost:8080/"
        },
        "outputId": "1ce59722-d992-4af2-f97e-34deb204b498"
      },
      "source": [
        "sentiment_2 = TextBlob(\"I hate Cars\")\n",
        "print(format(sentiment_2.sentiment))"
      ],
      "execution_count": 8,
      "outputs": [
        {
          "output_type": "stream",
          "name": "stdout",
          "text": [
            "Sentiment(polarity=-0.8, subjectivity=0.9)\n"
          ]
        }
      ]
    },
    {
      "cell_type": "code",
      "metadata": {
        "id": "osoCfoil5mY5",
        "colab": {
          "base_uri": "https://localhost:8080/"
        },
        "outputId": "6394f3c8-d434-465c-e917-f73c3f2db3c2"
      },
      "source": [
        "sentiment_3 = TextBlob(\"I am travelling\")\n",
        "print(format(sentiment_3.sentiment))"
      ],
      "execution_count": 10,
      "outputs": [
        {
          "output_type": "stream",
          "name": "stdout",
          "text": [
            "Sentiment(polarity=0.0, subjectivity=0.0)\n"
          ]
        }
      ]
    },
    {
      "cell_type": "code",
      "metadata": {
        "id": "DAY1EmCf7OZd",
        "colab": {
          "base_uri": "https://localhost:8080/"
        },
        "outputId": "184e82e3-e9fc-450b-fd1f-23d93c051642"
      },
      "source": [
        "sentiment_4 = TextBlob(\"I hate monday\")\n",
        "print(format(sentiment_4.sentiment))"
      ],
      "execution_count": 11,
      "outputs": [
        {
          "output_type": "stream",
          "name": "stdout",
          "text": [
            "Sentiment(polarity=-0.8, subjectivity=0.9)\n"
          ]
        }
      ]
    },
    {
      "cell_type": "code",
      "metadata": {
        "id": "Z0jE31Kz7eV1",
        "colab": {
          "base_uri": "https://localhost:8080/"
        },
        "outputId": "851e5b39-cf86-49e8-dc7e-f7846c7a7c54"
      },
      "source": [
        "sentiment_5 = TextBlob(\"I love California\")\n",
        "print(format(sentiment_5.sentiment))"
      ],
      "execution_count": 12,
      "outputs": [
        {
          "output_type": "stream",
          "name": "stdout",
          "text": [
            "Sentiment(polarity=0.5, subjectivity=0.6)\n"
          ]
        }
      ]
    },
    {
      "cell_type": "code",
      "metadata": {
        "id": "9vFNUYtd7xzP",
        "colab": {
          "base_uri": "https://localhost:8080/"
        },
        "outputId": "3a5d58ce-f7ac-4ea2-e42c-715275f2ba1f"
      },
      "source": [
        "sentiment_6 = TextBlob(\"I hate monday but I love California\")\n",
        "print(format(sentiment_6.sentiment))"
      ],
      "execution_count": 13,
      "outputs": [
        {
          "output_type": "stream",
          "name": "stdout",
          "text": [
            "Sentiment(polarity=-0.15000000000000002, subjectivity=0.75)\n"
          ]
        }
      ]
    },
    {
      "cell_type": "code",
      "metadata": {
        "id": "xVIcCoqS7-EY",
        "colab": {
          "base_uri": "https://localhost:8080/"
        },
        "outputId": "f4e26fe2-92d6-4a64-93b2-252930850d95"
      },
      "source": [
        "sentiment_7 = TextBlob(\"I love monday but I hate California\")\n",
        "print(format(sentiment_7.sentiment))"
      ],
      "execution_count": 14,
      "outputs": [
        {
          "output_type": "stream",
          "name": "stdout",
          "text": [
            "Sentiment(polarity=-0.15000000000000002, subjectivity=0.75)\n"
          ]
        }
      ]
    },
    {
      "cell_type": "code",
      "metadata": {
        "id": "tVqOaZbe8LTe",
        "colab": {
          "base_uri": "https://localhost:8080/"
        },
        "outputId": "c63b1e8a-00d5-44e7-a650-6c821fb0d7e7"
      },
      "source": [
        "sentiment_8 = TextBlob(\"Miss Universe is beautiful\")\n",
        "print(format(sentiment_8.sentiment))"
      ],
      "execution_count": 15,
      "outputs": [
        {
          "output_type": "stream",
          "name": "stdout",
          "text": [
            "Sentiment(polarity=0.85, subjectivity=1.0)\n"
          ]
        }
      ]
    }
  ]
}