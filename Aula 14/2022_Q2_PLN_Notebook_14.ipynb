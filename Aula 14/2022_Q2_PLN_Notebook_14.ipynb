{
  "nbformat": 4,
  "nbformat_minor": 0,
  "metadata": {
    "kernelspec": {
      "display_name": "Python 3",
      "language": "python",
      "name": "python3"
    },
    "language_info": {
      "codemirror_mode": {
        "name": "ipython",
        "version": 3
      },
      "file_extension": ".py",
      "mimetype": "text/x-python",
      "name": "python",
      "nbconvert_exporter": "python",
      "pygments_lexer": "ipython3",
      "version": "3.7.6"
    },
    "colab": {
      "name": "2022-Q2 PLN Notebook 14.ipynb",
      "provenance": [],
      "collapsed_sections": [],
      "include_colab_link": true
    },
    "accelerator": "GPU",
    "widgets": {
      "application/vnd.jupyter.widget-state+json": {
        "2c1002b1324b4effb0d5cdabd6ec62b8": {
          "model_module": "@jupyter-widgets/controls",
          "model_name": "HBoxModel",
          "model_module_version": "1.5.0",
          "state": {
            "_dom_classes": [],
            "_model_module": "@jupyter-widgets/controls",
            "_model_module_version": "1.5.0",
            "_model_name": "HBoxModel",
            "_view_count": null,
            "_view_module": "@jupyter-widgets/controls",
            "_view_module_version": "1.5.0",
            "_view_name": "HBoxView",
            "box_style": "",
            "children": [
              "IPY_MODEL_8075dec3101d4fc8a9ad826cfe389ae8",
              "IPY_MODEL_79325b5953b94cec965c3b8b95d3e98b",
              "IPY_MODEL_06b202eb06f545cc9d36f59202c5361b"
            ],
            "layout": "IPY_MODEL_6affb274949b489da0e29fe60d5a3b73"
          }
        },
        "8075dec3101d4fc8a9ad826cfe389ae8": {
          "model_module": "@jupyter-widgets/controls",
          "model_name": "HTMLModel",
          "model_module_version": "1.5.0",
          "state": {
            "_dom_classes": [],
            "_model_module": "@jupyter-widgets/controls",
            "_model_module_version": "1.5.0",
            "_model_name": "HTMLModel",
            "_view_count": null,
            "_view_module": "@jupyter-widgets/controls",
            "_view_module_version": "1.5.0",
            "_view_name": "HTMLView",
            "description": "",
            "description_tooltip": null,
            "layout": "IPY_MODEL_e1908b87f65b491da6826507d79424a4",
            "placeholder": "​",
            "style": "IPY_MODEL_f5f79816b37b49869d8e16ed0f3ac67c",
            "value": "Downloading: 100%"
          }
        },
        "79325b5953b94cec965c3b8b95d3e98b": {
          "model_module": "@jupyter-widgets/controls",
          "model_name": "FloatProgressModel",
          "model_module_version": "1.5.0",
          "state": {
            "_dom_classes": [],
            "_model_module": "@jupyter-widgets/controls",
            "_model_module_version": "1.5.0",
            "_model_name": "FloatProgressModel",
            "_view_count": null,
            "_view_module": "@jupyter-widgets/controls",
            "_view_module_version": "1.5.0",
            "_view_name": "ProgressView",
            "bar_style": "success",
            "description": "",
            "description_tooltip": null,
            "layout": "IPY_MODEL_7676f093de2a4041817b1ecba6023a7b",
            "max": 4107,
            "min": 0,
            "orientation": "horizontal",
            "style": "IPY_MODEL_289eea21c7ab46bb936d64272f42e894",
            "value": 4107
          }
        },
        "06b202eb06f545cc9d36f59202c5361b": {
          "model_module": "@jupyter-widgets/controls",
          "model_name": "HTMLModel",
          "model_module_version": "1.5.0",
          "state": {
            "_dom_classes": [],
            "_model_module": "@jupyter-widgets/controls",
            "_model_module_version": "1.5.0",
            "_model_name": "HTMLModel",
            "_view_count": null,
            "_view_module": "@jupyter-widgets/controls",
            "_view_module_version": "1.5.0",
            "_view_name": "HTMLView",
            "description": "",
            "description_tooltip": null,
            "layout": "IPY_MODEL_3ecc9d8621f045a197bacc100fb3387e",
            "placeholder": "​",
            "style": "IPY_MODEL_18991b2c878b490fbe2ea6b19d2c060d",
            "value": " 4.11k/4.11k [00:00&lt;00:00, 48.4kB/s]"
          }
        },
        "6affb274949b489da0e29fe60d5a3b73": {
          "model_module": "@jupyter-widgets/base",
          "model_name": "LayoutModel",
          "model_module_version": "1.2.0",
          "state": {
            "_model_module": "@jupyter-widgets/base",
            "_model_module_version": "1.2.0",
            "_model_name": "LayoutModel",
            "_view_count": null,
            "_view_module": "@jupyter-widgets/base",
            "_view_module_version": "1.2.0",
            "_view_name": "LayoutView",
            "align_content": null,
            "align_items": null,
            "align_self": null,
            "border": null,
            "bottom": null,
            "display": null,
            "flex": null,
            "flex_flow": null,
            "grid_area": null,
            "grid_auto_columns": null,
            "grid_auto_flow": null,
            "grid_auto_rows": null,
            "grid_column": null,
            "grid_gap": null,
            "grid_row": null,
            "grid_template_areas": null,
            "grid_template_columns": null,
            "grid_template_rows": null,
            "height": null,
            "justify_content": null,
            "justify_items": null,
            "left": null,
            "margin": null,
            "max_height": null,
            "max_width": null,
            "min_height": null,
            "min_width": null,
            "object_fit": null,
            "object_position": null,
            "order": null,
            "overflow": null,
            "overflow_x": null,
            "overflow_y": null,
            "padding": null,
            "right": null,
            "top": null,
            "visibility": null,
            "width": null
          }
        },
        "e1908b87f65b491da6826507d79424a4": {
          "model_module": "@jupyter-widgets/base",
          "model_name": "LayoutModel",
          "model_module_version": "1.2.0",
          "state": {
            "_model_module": "@jupyter-widgets/base",
            "_model_module_version": "1.2.0",
            "_model_name": "LayoutModel",
            "_view_count": null,
            "_view_module": "@jupyter-widgets/base",
            "_view_module_version": "1.2.0",
            "_view_name": "LayoutView",
            "align_content": null,
            "align_items": null,
            "align_self": null,
            "border": null,
            "bottom": null,
            "display": null,
            "flex": null,
            "flex_flow": null,
            "grid_area": null,
            "grid_auto_columns": null,
            "grid_auto_flow": null,
            "grid_auto_rows": null,
            "grid_column": null,
            "grid_gap": null,
            "grid_row": null,
            "grid_template_areas": null,
            "grid_template_columns": null,
            "grid_template_rows": null,
            "height": null,
            "justify_content": null,
            "justify_items": null,
            "left": null,
            "margin": null,
            "max_height": null,
            "max_width": null,
            "min_height": null,
            "min_width": null,
            "object_fit": null,
            "object_position": null,
            "order": null,
            "overflow": null,
            "overflow_x": null,
            "overflow_y": null,
            "padding": null,
            "right": null,
            "top": null,
            "visibility": null,
            "width": null
          }
        },
        "f5f79816b37b49869d8e16ed0f3ac67c": {
          "model_module": "@jupyter-widgets/controls",
          "model_name": "DescriptionStyleModel",
          "model_module_version": "1.5.0",
          "state": {
            "_model_module": "@jupyter-widgets/controls",
            "_model_module_version": "1.5.0",
            "_model_name": "DescriptionStyleModel",
            "_view_count": null,
            "_view_module": "@jupyter-widgets/base",
            "_view_module_version": "1.2.0",
            "_view_name": "StyleView",
            "description_width": ""
          }
        },
        "7676f093de2a4041817b1ecba6023a7b": {
          "model_module": "@jupyter-widgets/base",
          "model_name": "LayoutModel",
          "model_module_version": "1.2.0",
          "state": {
            "_model_module": "@jupyter-widgets/base",
            "_model_module_version": "1.2.0",
            "_model_name": "LayoutModel",
            "_view_count": null,
            "_view_module": "@jupyter-widgets/base",
            "_view_module_version": "1.2.0",
            "_view_name": "LayoutView",
            "align_content": null,
            "align_items": null,
            "align_self": null,
            "border": null,
            "bottom": null,
            "display": null,
            "flex": null,
            "flex_flow": null,
            "grid_area": null,
            "grid_auto_columns": null,
            "grid_auto_flow": null,
            "grid_auto_rows": null,
            "grid_column": null,
            "grid_gap": null,
            "grid_row": null,
            "grid_template_areas": null,
            "grid_template_columns": null,
            "grid_template_rows": null,
            "height": null,
            "justify_content": null,
            "justify_items": null,
            "left": null,
            "margin": null,
            "max_height": null,
            "max_width": null,
            "min_height": null,
            "min_width": null,
            "object_fit": null,
            "object_position": null,
            "order": null,
            "overflow": null,
            "overflow_x": null,
            "overflow_y": null,
            "padding": null,
            "right": null,
            "top": null,
            "visibility": null,
            "width": null
          }
        },
        "289eea21c7ab46bb936d64272f42e894": {
          "model_module": "@jupyter-widgets/controls",
          "model_name": "ProgressStyleModel",
          "model_module_version": "1.5.0",
          "state": {
            "_model_module": "@jupyter-widgets/controls",
            "_model_module_version": "1.5.0",
            "_model_name": "ProgressStyleModel",
            "_view_count": null,
            "_view_module": "@jupyter-widgets/base",
            "_view_module_version": "1.2.0",
            "_view_name": "StyleView",
            "bar_color": null,
            "description_width": ""
          }
        },
        "3ecc9d8621f045a197bacc100fb3387e": {
          "model_module": "@jupyter-widgets/base",
          "model_name": "LayoutModel",
          "model_module_version": "1.2.0",
          "state": {
            "_model_module": "@jupyter-widgets/base",
            "_model_module_version": "1.2.0",
            "_model_name": "LayoutModel",
            "_view_count": null,
            "_view_module": "@jupyter-widgets/base",
            "_view_module_version": "1.2.0",
            "_view_name": "LayoutView",
            "align_content": null,
            "align_items": null,
            "align_self": null,
            "border": null,
            "bottom": null,
            "display": null,
            "flex": null,
            "flex_flow": null,
            "grid_area": null,
            "grid_auto_columns": null,
            "grid_auto_flow": null,
            "grid_auto_rows": null,
            "grid_column": null,
            "grid_gap": null,
            "grid_row": null,
            "grid_template_areas": null,
            "grid_template_columns": null,
            "grid_template_rows": null,
            "height": null,
            "justify_content": null,
            "justify_items": null,
            "left": null,
            "margin": null,
            "max_height": null,
            "max_width": null,
            "min_height": null,
            "min_width": null,
            "object_fit": null,
            "object_position": null,
            "order": null,
            "overflow": null,
            "overflow_x": null,
            "overflow_y": null,
            "padding": null,
            "right": null,
            "top": null,
            "visibility": null,
            "width": null
          }
        },
        "18991b2c878b490fbe2ea6b19d2c060d": {
          "model_module": "@jupyter-widgets/controls",
          "model_name": "DescriptionStyleModel",
          "model_module_version": "1.5.0",
          "state": {
            "_model_module": "@jupyter-widgets/controls",
            "_model_module_version": "1.5.0",
            "_model_name": "DescriptionStyleModel",
            "_view_count": null,
            "_view_module": "@jupyter-widgets/base",
            "_view_module_version": "1.2.0",
            "_view_name": "StyleView",
            "description_width": ""
          }
        },
        "a74005deceaf4d3193965a88e53c4249": {
          "model_module": "@jupyter-widgets/controls",
          "model_name": "HBoxModel",
          "model_module_version": "1.5.0",
          "state": {
            "_dom_classes": [],
            "_model_module": "@jupyter-widgets/controls",
            "_model_module_version": "1.5.0",
            "_model_name": "HBoxModel",
            "_view_count": null,
            "_view_module": "@jupyter-widgets/controls",
            "_view_module_version": "1.5.0",
            "_view_name": "HBoxView",
            "box_style": "",
            "children": [
              "IPY_MODEL_9a876a9816f1457893e141053020830a",
              "IPY_MODEL_66bf347acdd3400697e8610302a19cd2",
              "IPY_MODEL_e120620eec824004896ee9b4f307788d"
            ],
            "layout": "IPY_MODEL_8c1dd6cf99d94ff6a718a94d3f74d444"
          }
        },
        "9a876a9816f1457893e141053020830a": {
          "model_module": "@jupyter-widgets/controls",
          "model_name": "HTMLModel",
          "model_module_version": "1.5.0",
          "state": {
            "_dom_classes": [],
            "_model_module": "@jupyter-widgets/controls",
            "_model_module_version": "1.5.0",
            "_model_name": "HTMLModel",
            "_view_count": null,
            "_view_module": "@jupyter-widgets/controls",
            "_view_module_version": "1.5.0",
            "_view_name": "HTMLView",
            "description": "",
            "description_tooltip": null,
            "layout": "IPY_MODEL_61eb7c68b29a42d9af6580eabaf9e7bc",
            "placeholder": "​",
            "style": "IPY_MODEL_347852776ae14972a9a7eb74a693c824",
            "value": "Downloading: 100%"
          }
        },
        "66bf347acdd3400697e8610302a19cd2": {
          "model_module": "@jupyter-widgets/controls",
          "model_name": "FloatProgressModel",
          "model_module_version": "1.5.0",
          "state": {
            "_dom_classes": [],
            "_model_module": "@jupyter-widgets/controls",
            "_model_module_version": "1.5.0",
            "_model_name": "FloatProgressModel",
            "_view_count": null,
            "_view_module": "@jupyter-widgets/controls",
            "_view_module_version": "1.5.0",
            "_view_name": "ProgressView",
            "bar_style": "success",
            "description": "",
            "description_tooltip": null,
            "layout": "IPY_MODEL_56918c8663954a8a994ecf13e25c334d",
            "max": 1635,
            "min": 0,
            "orientation": "horizontal",
            "style": "IPY_MODEL_7e4ec1df48b64ba7a7fd1d1890207013",
            "value": 1635
          }
        },
        "e120620eec824004896ee9b4f307788d": {
          "model_module": "@jupyter-widgets/controls",
          "model_name": "HTMLModel",
          "model_module_version": "1.5.0",
          "state": {
            "_dom_classes": [],
            "_model_module": "@jupyter-widgets/controls",
            "_model_module_version": "1.5.0",
            "_model_name": "HTMLModel",
            "_view_count": null,
            "_view_module": "@jupyter-widgets/controls",
            "_view_module_version": "1.5.0",
            "_view_name": "HTMLView",
            "description": "",
            "description_tooltip": null,
            "layout": "IPY_MODEL_be9d4aff576a4a39b03dcceaa96e1351",
            "placeholder": "​",
            "style": "IPY_MODEL_2a4d5871f4244c898a780cc54a093ae4",
            "value": " 1.64k/1.64k [00:00&lt;00:00, 8.46kB/s]"
          }
        },
        "8c1dd6cf99d94ff6a718a94d3f74d444": {
          "model_module": "@jupyter-widgets/base",
          "model_name": "LayoutModel",
          "model_module_version": "1.2.0",
          "state": {
            "_model_module": "@jupyter-widgets/base",
            "_model_module_version": "1.2.0",
            "_model_name": "LayoutModel",
            "_view_count": null,
            "_view_module": "@jupyter-widgets/base",
            "_view_module_version": "1.2.0",
            "_view_name": "LayoutView",
            "align_content": null,
            "align_items": null,
            "align_self": null,
            "border": null,
            "bottom": null,
            "display": null,
            "flex": null,
            "flex_flow": null,
            "grid_area": null,
            "grid_auto_columns": null,
            "grid_auto_flow": null,
            "grid_auto_rows": null,
            "grid_column": null,
            "grid_gap": null,
            "grid_row": null,
            "grid_template_areas": null,
            "grid_template_columns": null,
            "grid_template_rows": null,
            "height": null,
            "justify_content": null,
            "justify_items": null,
            "left": null,
            "margin": null,
            "max_height": null,
            "max_width": null,
            "min_height": null,
            "min_width": null,
            "object_fit": null,
            "object_position": null,
            "order": null,
            "overflow": null,
            "overflow_x": null,
            "overflow_y": null,
            "padding": null,
            "right": null,
            "top": null,
            "visibility": null,
            "width": null
          }
        },
        "61eb7c68b29a42d9af6580eabaf9e7bc": {
          "model_module": "@jupyter-widgets/base",
          "model_name": "LayoutModel",
          "model_module_version": "1.2.0",
          "state": {
            "_model_module": "@jupyter-widgets/base",
            "_model_module_version": "1.2.0",
            "_model_name": "LayoutModel",
            "_view_count": null,
            "_view_module": "@jupyter-widgets/base",
            "_view_module_version": "1.2.0",
            "_view_name": "LayoutView",
            "align_content": null,
            "align_items": null,
            "align_self": null,
            "border": null,
            "bottom": null,
            "display": null,
            "flex": null,
            "flex_flow": null,
            "grid_area": null,
            "grid_auto_columns": null,
            "grid_auto_flow": null,
            "grid_auto_rows": null,
            "grid_column": null,
            "grid_gap": null,
            "grid_row": null,
            "grid_template_areas": null,
            "grid_template_columns": null,
            "grid_template_rows": null,
            "height": null,
            "justify_content": null,
            "justify_items": null,
            "left": null,
            "margin": null,
            "max_height": null,
            "max_width": null,
            "min_height": null,
            "min_width": null,
            "object_fit": null,
            "object_position": null,
            "order": null,
            "overflow": null,
            "overflow_x": null,
            "overflow_y": null,
            "padding": null,
            "right": null,
            "top": null,
            "visibility": null,
            "width": null
          }
        },
        "347852776ae14972a9a7eb74a693c824": {
          "model_module": "@jupyter-widgets/controls",
          "model_name": "DescriptionStyleModel",
          "model_module_version": "1.5.0",
          "state": {
            "_model_module": "@jupyter-widgets/controls",
            "_model_module_version": "1.5.0",
            "_model_name": "DescriptionStyleModel",
            "_view_count": null,
            "_view_module": "@jupyter-widgets/base",
            "_view_module_version": "1.2.0",
            "_view_name": "StyleView",
            "description_width": ""
          }
        },
        "56918c8663954a8a994ecf13e25c334d": {
          "model_module": "@jupyter-widgets/base",
          "model_name": "LayoutModel",
          "model_module_version": "1.2.0",
          "state": {
            "_model_module": "@jupyter-widgets/base",
            "_model_module_version": "1.2.0",
            "_model_name": "LayoutModel",
            "_view_count": null,
            "_view_module": "@jupyter-widgets/base",
            "_view_module_version": "1.2.0",
            "_view_name": "LayoutView",
            "align_content": null,
            "align_items": null,
            "align_self": null,
            "border": null,
            "bottom": null,
            "display": null,
            "flex": null,
            "flex_flow": null,
            "grid_area": null,
            "grid_auto_columns": null,
            "grid_auto_flow": null,
            "grid_auto_rows": null,
            "grid_column": null,
            "grid_gap": null,
            "grid_row": null,
            "grid_template_areas": null,
            "grid_template_columns": null,
            "grid_template_rows": null,
            "height": null,
            "justify_content": null,
            "justify_items": null,
            "left": null,
            "margin": null,
            "max_height": null,
            "max_width": null,
            "min_height": null,
            "min_width": null,
            "object_fit": null,
            "object_position": null,
            "order": null,
            "overflow": null,
            "overflow_x": null,
            "overflow_y": null,
            "padding": null,
            "right": null,
            "top": null,
            "visibility": null,
            "width": null
          }
        },
        "7e4ec1df48b64ba7a7fd1d1890207013": {
          "model_module": "@jupyter-widgets/controls",
          "model_name": "ProgressStyleModel",
          "model_module_version": "1.5.0",
          "state": {
            "_model_module": "@jupyter-widgets/controls",
            "_model_module_version": "1.5.0",
            "_model_name": "ProgressStyleModel",
            "_view_count": null,
            "_view_module": "@jupyter-widgets/base",
            "_view_module_version": "1.2.0",
            "_view_name": "StyleView",
            "bar_color": null,
            "description_width": ""
          }
        },
        "be9d4aff576a4a39b03dcceaa96e1351": {
          "model_module": "@jupyter-widgets/base",
          "model_name": "LayoutModel",
          "model_module_version": "1.2.0",
          "state": {
            "_model_module": "@jupyter-widgets/base",
            "_model_module_version": "1.2.0",
            "_model_name": "LayoutModel",
            "_view_count": null,
            "_view_module": "@jupyter-widgets/base",
            "_view_module_version": "1.2.0",
            "_view_name": "LayoutView",
            "align_content": null,
            "align_items": null,
            "align_self": null,
            "border": null,
            "bottom": null,
            "display": null,
            "flex": null,
            "flex_flow": null,
            "grid_area": null,
            "grid_auto_columns": null,
            "grid_auto_flow": null,
            "grid_auto_rows": null,
            "grid_column": null,
            "grid_gap": null,
            "grid_row": null,
            "grid_template_areas": null,
            "grid_template_columns": null,
            "grid_template_rows": null,
            "height": null,
            "justify_content": null,
            "justify_items": null,
            "left": null,
            "margin": null,
            "max_height": null,
            "max_width": null,
            "min_height": null,
            "min_width": null,
            "object_fit": null,
            "object_position": null,
            "order": null,
            "overflow": null,
            "overflow_x": null,
            "overflow_y": null,
            "padding": null,
            "right": null,
            "top": null,
            "visibility": null,
            "width": null
          }
        },
        "2a4d5871f4244c898a780cc54a093ae4": {
          "model_module": "@jupyter-widgets/controls",
          "model_name": "DescriptionStyleModel",
          "model_module_version": "1.5.0",
          "state": {
            "_model_module": "@jupyter-widgets/controls",
            "_model_module_version": "1.5.0",
            "_model_name": "DescriptionStyleModel",
            "_view_count": null,
            "_view_module": "@jupyter-widgets/base",
            "_view_module_version": "1.2.0",
            "_view_name": "StyleView",
            "description_width": ""
          }
        },
        "adb71b4ea85446cbb2a75338b0c1b9a9": {
          "model_module": "@jupyter-widgets/controls",
          "model_name": "HBoxModel",
          "model_module_version": "1.5.0",
          "state": {
            "_dom_classes": [],
            "_model_module": "@jupyter-widgets/controls",
            "_model_module_version": "1.5.0",
            "_model_name": "HBoxModel",
            "_view_count": null,
            "_view_module": "@jupyter-widgets/controls",
            "_view_module_version": "1.5.0",
            "_view_name": "HBoxView",
            "box_style": "",
            "children": [
              "IPY_MODEL_1d0e4a58ee494ee8892c3f53cc443fb2",
              "IPY_MODEL_c59073a59df94a93abfbdc9f31daef22",
              "IPY_MODEL_90ed51b285e14437af62151f934b695c"
            ],
            "layout": "IPY_MODEL_a71667c785e54b5bba480de69610422f"
          }
        },
        "1d0e4a58ee494ee8892c3f53cc443fb2": {
          "model_module": "@jupyter-widgets/controls",
          "model_name": "HTMLModel",
          "model_module_version": "1.5.0",
          "state": {
            "_dom_classes": [],
            "_model_module": "@jupyter-widgets/controls",
            "_model_module_version": "1.5.0",
            "_model_name": "HTMLModel",
            "_view_count": null,
            "_view_module": "@jupyter-widgets/controls",
            "_view_module_version": "1.5.0",
            "_view_name": "HTMLView",
            "description": "",
            "description_tooltip": null,
            "layout": "IPY_MODEL_535d5fe58c27488ea90ceb70c31e3052",
            "placeholder": "​",
            "style": "IPY_MODEL_3c6b2e04f41f49d5bc0a92aef41f78fa",
            "value": "Downloading: 100%"
          }
        },
        "c59073a59df94a93abfbdc9f31daef22": {
          "model_module": "@jupyter-widgets/controls",
          "model_name": "FloatProgressModel",
          "model_module_version": "1.5.0",
          "state": {
            "_dom_classes": [],
            "_model_module": "@jupyter-widgets/controls",
            "_model_module_version": "1.5.0",
            "_model_name": "FloatProgressModel",
            "_view_count": null,
            "_view_module": "@jupyter-widgets/controls",
            "_view_module_version": "1.5.0",
            "_view_name": "ProgressView",
            "bar_style": "success",
            "description": "",
            "description_tooltip": null,
            "layout": "IPY_MODEL_bea82d75dee04051a1fff49b24957904",
            "max": 81363704,
            "min": 0,
            "orientation": "horizontal",
            "style": "IPY_MODEL_a29df130c015423b83dcb406e86f8fa1",
            "value": 81363704
          }
        },
        "90ed51b285e14437af62151f934b695c": {
          "model_module": "@jupyter-widgets/controls",
          "model_name": "HTMLModel",
          "model_module_version": "1.5.0",
          "state": {
            "_dom_classes": [],
            "_model_module": "@jupyter-widgets/controls",
            "_model_module_version": "1.5.0",
            "_model_name": "HTMLModel",
            "_view_count": null,
            "_view_module": "@jupyter-widgets/controls",
            "_view_module_version": "1.5.0",
            "_view_name": "HTMLView",
            "description": "",
            "description_tooltip": null,
            "layout": "IPY_MODEL_0d0aa4501d204e6ab8ef57b1ea8d067e",
            "placeholder": "​",
            "style": "IPY_MODEL_c1661b6297a14c96854ef2459bb6ae00",
            "value": " 81.4M/81.4M [00:03&lt;00:00, 35.9MB/s]"
          }
        },
        "a71667c785e54b5bba480de69610422f": {
          "model_module": "@jupyter-widgets/base",
          "model_name": "LayoutModel",
          "model_module_version": "1.2.0",
          "state": {
            "_model_module": "@jupyter-widgets/base",
            "_model_module_version": "1.2.0",
            "_model_name": "LayoutModel",
            "_view_count": null,
            "_view_module": "@jupyter-widgets/base",
            "_view_module_version": "1.2.0",
            "_view_name": "LayoutView",
            "align_content": null,
            "align_items": null,
            "align_self": null,
            "border": null,
            "bottom": null,
            "display": null,
            "flex": null,
            "flex_flow": null,
            "grid_area": null,
            "grid_auto_columns": null,
            "grid_auto_flow": null,
            "grid_auto_rows": null,
            "grid_column": null,
            "grid_gap": null,
            "grid_row": null,
            "grid_template_areas": null,
            "grid_template_columns": null,
            "grid_template_rows": null,
            "height": null,
            "justify_content": null,
            "justify_items": null,
            "left": null,
            "margin": null,
            "max_height": null,
            "max_width": null,
            "min_height": null,
            "min_width": null,
            "object_fit": null,
            "object_position": null,
            "order": null,
            "overflow": null,
            "overflow_x": null,
            "overflow_y": null,
            "padding": null,
            "right": null,
            "top": null,
            "visibility": null,
            "width": null
          }
        },
        "535d5fe58c27488ea90ceb70c31e3052": {
          "model_module": "@jupyter-widgets/base",
          "model_name": "LayoutModel",
          "model_module_version": "1.2.0",
          "state": {
            "_model_module": "@jupyter-widgets/base",
            "_model_module_version": "1.2.0",
            "_model_name": "LayoutModel",
            "_view_count": null,
            "_view_module": "@jupyter-widgets/base",
            "_view_module_version": "1.2.0",
            "_view_name": "LayoutView",
            "align_content": null,
            "align_items": null,
            "align_self": null,
            "border": null,
            "bottom": null,
            "display": null,
            "flex": null,
            "flex_flow": null,
            "grid_area": null,
            "grid_auto_columns": null,
            "grid_auto_flow": null,
            "grid_auto_rows": null,
            "grid_column": null,
            "grid_gap": null,
            "grid_row": null,
            "grid_template_areas": null,
            "grid_template_columns": null,
            "grid_template_rows": null,
            "height": null,
            "justify_content": null,
            "justify_items": null,
            "left": null,
            "margin": null,
            "max_height": null,
            "max_width": null,
            "min_height": null,
            "min_width": null,
            "object_fit": null,
            "object_position": null,
            "order": null,
            "overflow": null,
            "overflow_x": null,
            "overflow_y": null,
            "padding": null,
            "right": null,
            "top": null,
            "visibility": null,
            "width": null
          }
        },
        "3c6b2e04f41f49d5bc0a92aef41f78fa": {
          "model_module": "@jupyter-widgets/controls",
          "model_name": "DescriptionStyleModel",
          "model_module_version": "1.5.0",
          "state": {
            "_model_module": "@jupyter-widgets/controls",
            "_model_module_version": "1.5.0",
            "_model_name": "DescriptionStyleModel",
            "_view_count": null,
            "_view_module": "@jupyter-widgets/base",
            "_view_module_version": "1.2.0",
            "_view_name": "StyleView",
            "description_width": ""
          }
        },
        "bea82d75dee04051a1fff49b24957904": {
          "model_module": "@jupyter-widgets/base",
          "model_name": "LayoutModel",
          "model_module_version": "1.2.0",
          "state": {
            "_model_module": "@jupyter-widgets/base",
            "_model_module_version": "1.2.0",
            "_model_name": "LayoutModel",
            "_view_count": null,
            "_view_module": "@jupyter-widgets/base",
            "_view_module_version": "1.2.0",
            "_view_name": "LayoutView",
            "align_content": null,
            "align_items": null,
            "align_self": null,
            "border": null,
            "bottom": null,
            "display": null,
            "flex": null,
            "flex_flow": null,
            "grid_area": null,
            "grid_auto_columns": null,
            "grid_auto_flow": null,
            "grid_auto_rows": null,
            "grid_column": null,
            "grid_gap": null,
            "grid_row": null,
            "grid_template_areas": null,
            "grid_template_columns": null,
            "grid_template_rows": null,
            "height": null,
            "justify_content": null,
            "justify_items": null,
            "left": null,
            "margin": null,
            "max_height": null,
            "max_width": null,
            "min_height": null,
            "min_width": null,
            "object_fit": null,
            "object_position": null,
            "order": null,
            "overflow": null,
            "overflow_x": null,
            "overflow_y": null,
            "padding": null,
            "right": null,
            "top": null,
            "visibility": null,
            "width": null
          }
        },
        "a29df130c015423b83dcb406e86f8fa1": {
          "model_module": "@jupyter-widgets/controls",
          "model_name": "ProgressStyleModel",
          "model_module_version": "1.5.0",
          "state": {
            "_model_module": "@jupyter-widgets/controls",
            "_model_module_version": "1.5.0",
            "_model_name": "ProgressStyleModel",
            "_view_count": null,
            "_view_module": "@jupyter-widgets/base",
            "_view_module_version": "1.2.0",
            "_view_name": "StyleView",
            "bar_color": null,
            "description_width": ""
          }
        },
        "0d0aa4501d204e6ab8ef57b1ea8d067e": {
          "model_module": "@jupyter-widgets/base",
          "model_name": "LayoutModel",
          "model_module_version": "1.2.0",
          "state": {
            "_model_module": "@jupyter-widgets/base",
            "_model_module_version": "1.2.0",
            "_model_name": "LayoutModel",
            "_view_count": null,
            "_view_module": "@jupyter-widgets/base",
            "_view_module_version": "1.2.0",
            "_view_name": "LayoutView",
            "align_content": null,
            "align_items": null,
            "align_self": null,
            "border": null,
            "bottom": null,
            "display": null,
            "flex": null,
            "flex_flow": null,
            "grid_area": null,
            "grid_auto_columns": null,
            "grid_auto_flow": null,
            "grid_auto_rows": null,
            "grid_column": null,
            "grid_gap": null,
            "grid_row": null,
            "grid_template_areas": null,
            "grid_template_columns": null,
            "grid_template_rows": null,
            "height": null,
            "justify_content": null,
            "justify_items": null,
            "left": null,
            "margin": null,
            "max_height": null,
            "max_width": null,
            "min_height": null,
            "min_width": null,
            "object_fit": null,
            "object_position": null,
            "order": null,
            "overflow": null,
            "overflow_x": null,
            "overflow_y": null,
            "padding": null,
            "right": null,
            "top": null,
            "visibility": null,
            "width": null
          }
        },
        "c1661b6297a14c96854ef2459bb6ae00": {
          "model_module": "@jupyter-widgets/controls",
          "model_name": "DescriptionStyleModel",
          "model_module_version": "1.5.0",
          "state": {
            "_model_module": "@jupyter-widgets/controls",
            "_model_module_version": "1.5.0",
            "_model_name": "DescriptionStyleModel",
            "_view_count": null,
            "_view_module": "@jupyter-widgets/base",
            "_view_module_version": "1.2.0",
            "_view_name": "StyleView",
            "description_width": ""
          }
        },
        "2ef96a7427544f15bc380cfc28bcfd07": {
          "model_module": "@jupyter-widgets/controls",
          "model_name": "HBoxModel",
          "model_module_version": "1.5.0",
          "state": {
            "_dom_classes": [],
            "_model_module": "@jupyter-widgets/controls",
            "_model_module_version": "1.5.0",
            "_model_name": "HBoxModel",
            "_view_count": null,
            "_view_module": "@jupyter-widgets/controls",
            "_view_module_version": "1.5.0",
            "_view_name": "HBoxView",
            "box_style": "",
            "children": [
              "IPY_MODEL_3ce39b9b0f3f4653afe342af58949fda",
              "IPY_MODEL_0de2c8031ce243a18aba5e6b93066781",
              "IPY_MODEL_92f916b09184424bba0d089c404adfd9"
            ],
            "layout": "IPY_MODEL_c668af90740849298f0257a41b491325"
          }
        },
        "3ce39b9b0f3f4653afe342af58949fda": {
          "model_module": "@jupyter-widgets/controls",
          "model_name": "HTMLModel",
          "model_module_version": "1.5.0",
          "state": {
            "_dom_classes": [],
            "_model_module": "@jupyter-widgets/controls",
            "_model_module_version": "1.5.0",
            "_model_name": "HTMLModel",
            "_view_count": null,
            "_view_module": "@jupyter-widgets/controls",
            "_view_module_version": "1.5.0",
            "_view_name": "HTMLView",
            "description": "",
            "description_tooltip": null,
            "layout": "IPY_MODEL_07885c6885d24b709e16015ecc7a9ba0",
            "placeholder": "​",
            "style": "IPY_MODEL_37f4da78ece048b1a0010a9e7718145d",
            "value": ""
          }
        },
        "0de2c8031ce243a18aba5e6b93066781": {
          "model_module": "@jupyter-widgets/controls",
          "model_name": "FloatProgressModel",
          "model_module_version": "1.5.0",
          "state": {
            "_dom_classes": [],
            "_model_module": "@jupyter-widgets/controls",
            "_model_module_version": "1.5.0",
            "_model_name": "FloatProgressModel",
            "_view_count": null,
            "_view_module": "@jupyter-widgets/controls",
            "_view_module_version": "1.5.0",
            "_view_name": "ProgressView",
            "bar_style": "info",
            "description": "",
            "description_tooltip": null,
            "layout": "IPY_MODEL_ecb7ba5bfc7a4dbbb489d534ef0cf506",
            "max": 1,
            "min": 0,
            "orientation": "horizontal",
            "style": "IPY_MODEL_11a236bd378347a4943b1d79539ccf8d",
            "value": 1
          }
        },
        "92f916b09184424bba0d089c404adfd9": {
          "model_module": "@jupyter-widgets/controls",
          "model_name": "HTMLModel",
          "model_module_version": "1.5.0",
          "state": {
            "_dom_classes": [],
            "_model_module": "@jupyter-widgets/controls",
            "_model_module_version": "1.5.0",
            "_model_name": "HTMLModel",
            "_view_count": null,
            "_view_module": "@jupyter-widgets/controls",
            "_view_module_version": "1.5.0",
            "_view_name": "HTMLView",
            "description": "",
            "description_tooltip": null,
            "layout": "IPY_MODEL_74de97208b064b2fa803547ffaa213e2",
            "placeholder": "​",
            "style": "IPY_MODEL_d9ae2295061e4ed48e05a0561bcd535e",
            "value": " 1596742/0 [00:42&lt;00:00, 36306.24 examples/s]"
          }
        },
        "c668af90740849298f0257a41b491325": {
          "model_module": "@jupyter-widgets/base",
          "model_name": "LayoutModel",
          "model_module_version": "1.2.0",
          "state": {
            "_model_module": "@jupyter-widgets/base",
            "_model_module_version": "1.2.0",
            "_model_name": "LayoutModel",
            "_view_count": null,
            "_view_module": "@jupyter-widgets/base",
            "_view_module_version": "1.2.0",
            "_view_name": "LayoutView",
            "align_content": null,
            "align_items": null,
            "align_self": null,
            "border": null,
            "bottom": null,
            "display": null,
            "flex": null,
            "flex_flow": null,
            "grid_area": null,
            "grid_auto_columns": null,
            "grid_auto_flow": null,
            "grid_auto_rows": null,
            "grid_column": null,
            "grid_gap": null,
            "grid_row": null,
            "grid_template_areas": null,
            "grid_template_columns": null,
            "grid_template_rows": null,
            "height": null,
            "justify_content": null,
            "justify_items": null,
            "left": null,
            "margin": null,
            "max_height": null,
            "max_width": null,
            "min_height": null,
            "min_width": null,
            "object_fit": null,
            "object_position": null,
            "order": null,
            "overflow": null,
            "overflow_x": null,
            "overflow_y": null,
            "padding": null,
            "right": null,
            "top": null,
            "visibility": null,
            "width": null
          }
        },
        "07885c6885d24b709e16015ecc7a9ba0": {
          "model_module": "@jupyter-widgets/base",
          "model_name": "LayoutModel",
          "model_module_version": "1.2.0",
          "state": {
            "_model_module": "@jupyter-widgets/base",
            "_model_module_version": "1.2.0",
            "_model_name": "LayoutModel",
            "_view_count": null,
            "_view_module": "@jupyter-widgets/base",
            "_view_module_version": "1.2.0",
            "_view_name": "LayoutView",
            "align_content": null,
            "align_items": null,
            "align_self": null,
            "border": null,
            "bottom": null,
            "display": null,
            "flex": null,
            "flex_flow": null,
            "grid_area": null,
            "grid_auto_columns": null,
            "grid_auto_flow": null,
            "grid_auto_rows": null,
            "grid_column": null,
            "grid_gap": null,
            "grid_row": null,
            "grid_template_areas": null,
            "grid_template_columns": null,
            "grid_template_rows": null,
            "height": null,
            "justify_content": null,
            "justify_items": null,
            "left": null,
            "margin": null,
            "max_height": null,
            "max_width": null,
            "min_height": null,
            "min_width": null,
            "object_fit": null,
            "object_position": null,
            "order": null,
            "overflow": null,
            "overflow_x": null,
            "overflow_y": null,
            "padding": null,
            "right": null,
            "top": null,
            "visibility": null,
            "width": null
          }
        },
        "37f4da78ece048b1a0010a9e7718145d": {
          "model_module": "@jupyter-widgets/controls",
          "model_name": "DescriptionStyleModel",
          "model_module_version": "1.5.0",
          "state": {
            "_model_module": "@jupyter-widgets/controls",
            "_model_module_version": "1.5.0",
            "_model_name": "DescriptionStyleModel",
            "_view_count": null,
            "_view_module": "@jupyter-widgets/base",
            "_view_module_version": "1.2.0",
            "_view_name": "StyleView",
            "description_width": ""
          }
        },
        "ecb7ba5bfc7a4dbbb489d534ef0cf506": {
          "model_module": "@jupyter-widgets/base",
          "model_name": "LayoutModel",
          "model_module_version": "1.2.0",
          "state": {
            "_model_module": "@jupyter-widgets/base",
            "_model_module_version": "1.2.0",
            "_model_name": "LayoutModel",
            "_view_count": null,
            "_view_module": "@jupyter-widgets/base",
            "_view_module_version": "1.2.0",
            "_view_name": "LayoutView",
            "align_content": null,
            "align_items": null,
            "align_self": null,
            "border": null,
            "bottom": null,
            "display": null,
            "flex": null,
            "flex_flow": null,
            "grid_area": null,
            "grid_auto_columns": null,
            "grid_auto_flow": null,
            "grid_auto_rows": null,
            "grid_column": null,
            "grid_gap": null,
            "grid_row": null,
            "grid_template_areas": null,
            "grid_template_columns": null,
            "grid_template_rows": null,
            "height": null,
            "justify_content": null,
            "justify_items": null,
            "left": null,
            "margin": null,
            "max_height": null,
            "max_width": null,
            "min_height": null,
            "min_width": null,
            "object_fit": null,
            "object_position": null,
            "order": null,
            "overflow": null,
            "overflow_x": null,
            "overflow_y": null,
            "padding": null,
            "right": null,
            "top": null,
            "visibility": null,
            "width": "20px"
          }
        },
        "11a236bd378347a4943b1d79539ccf8d": {
          "model_module": "@jupyter-widgets/controls",
          "model_name": "ProgressStyleModel",
          "model_module_version": "1.5.0",
          "state": {
            "_model_module": "@jupyter-widgets/controls",
            "_model_module_version": "1.5.0",
            "_model_name": "ProgressStyleModel",
            "_view_count": null,
            "_view_module": "@jupyter-widgets/base",
            "_view_module_version": "1.2.0",
            "_view_name": "StyleView",
            "bar_color": null,
            "description_width": ""
          }
        },
        "74de97208b064b2fa803547ffaa213e2": {
          "model_module": "@jupyter-widgets/base",
          "model_name": "LayoutModel",
          "model_module_version": "1.2.0",
          "state": {
            "_model_module": "@jupyter-widgets/base",
            "_model_module_version": "1.2.0",
            "_model_name": "LayoutModel",
            "_view_count": null,
            "_view_module": "@jupyter-widgets/base",
            "_view_module_version": "1.2.0",
            "_view_name": "LayoutView",
            "align_content": null,
            "align_items": null,
            "align_self": null,
            "border": null,
            "bottom": null,
            "display": null,
            "flex": null,
            "flex_flow": null,
            "grid_area": null,
            "grid_auto_columns": null,
            "grid_auto_flow": null,
            "grid_auto_rows": null,
            "grid_column": null,
            "grid_gap": null,
            "grid_row": null,
            "grid_template_areas": null,
            "grid_template_columns": null,
            "grid_template_rows": null,
            "height": null,
            "justify_content": null,
            "justify_items": null,
            "left": null,
            "margin": null,
            "max_height": null,
            "max_width": null,
            "min_height": null,
            "min_width": null,
            "object_fit": null,
            "object_position": null,
            "order": null,
            "overflow": null,
            "overflow_x": null,
            "overflow_y": null,
            "padding": null,
            "right": null,
            "top": null,
            "visibility": null,
            "width": null
          }
        },
        "d9ae2295061e4ed48e05a0561bcd535e": {
          "model_module": "@jupyter-widgets/controls",
          "model_name": "DescriptionStyleModel",
          "model_module_version": "1.5.0",
          "state": {
            "_model_module": "@jupyter-widgets/controls",
            "_model_module_version": "1.5.0",
            "_model_name": "DescriptionStyleModel",
            "_view_count": null,
            "_view_module": "@jupyter-widgets/base",
            "_view_module_version": "1.2.0",
            "_view_name": "StyleView",
            "description_width": ""
          }
        },
        "5fc1ff8eb9804532aba2e01aaa996788": {
          "model_module": "@jupyter-widgets/controls",
          "model_name": "HBoxModel",
          "model_module_version": "1.5.0",
          "state": {
            "_dom_classes": [],
            "_model_module": "@jupyter-widgets/controls",
            "_model_module_version": "1.5.0",
            "_model_name": "HBoxModel",
            "_view_count": null,
            "_view_module": "@jupyter-widgets/controls",
            "_view_module_version": "1.5.0",
            "_view_name": "HBoxView",
            "box_style": "",
            "children": [
              "IPY_MODEL_fd60ffddc05c420c82cdd8fa3901b540",
              "IPY_MODEL_5cd5ff05c08a48b99a0e0230fb424850",
              "IPY_MODEL_25aed09c22b04394afc982fc7b28a68b"
            ],
            "layout": "IPY_MODEL_dab050b0f7bf48959524fde7726a4ae1"
          }
        },
        "fd60ffddc05c420c82cdd8fa3901b540": {
          "model_module": "@jupyter-widgets/controls",
          "model_name": "HTMLModel",
          "model_module_version": "1.5.0",
          "state": {
            "_dom_classes": [],
            "_model_module": "@jupyter-widgets/controls",
            "_model_module_version": "1.5.0",
            "_model_name": "HTMLModel",
            "_view_count": null,
            "_view_module": "@jupyter-widgets/controls",
            "_view_module_version": "1.5.0",
            "_view_name": "HTMLView",
            "description": "",
            "description_tooltip": null,
            "layout": "IPY_MODEL_0de40e9811e84779a3a747a1488aca5c",
            "placeholder": "​",
            "style": "IPY_MODEL_d01693ce9bea45cd93e44d48a8d7edd3",
            "value": ""
          }
        },
        "5cd5ff05c08a48b99a0e0230fb424850": {
          "model_module": "@jupyter-widgets/controls",
          "model_name": "FloatProgressModel",
          "model_module_version": "1.5.0",
          "state": {
            "_dom_classes": [],
            "_model_module": "@jupyter-widgets/controls",
            "_model_module_version": "1.5.0",
            "_model_name": "FloatProgressModel",
            "_view_count": null,
            "_view_module": "@jupyter-widgets/controls",
            "_view_module_version": "1.5.0",
            "_view_name": "ProgressView",
            "bar_style": "info",
            "description": "",
            "description_tooltip": null,
            "layout": "IPY_MODEL_e516c377e13d4b03bafab9ab1b2b96ce",
            "max": 1,
            "min": 0,
            "orientation": "horizontal",
            "style": "IPY_MODEL_88718aa90d114bb9a47a1ab7a13e5906",
            "value": 1
          }
        },
        "25aed09c22b04394afc982fc7b28a68b": {
          "model_module": "@jupyter-widgets/controls",
          "model_name": "HTMLModel",
          "model_module_version": "1.5.0",
          "state": {
            "_dom_classes": [],
            "_model_module": "@jupyter-widgets/controls",
            "_model_module_version": "1.5.0",
            "_model_name": "HTMLModel",
            "_view_count": null,
            "_view_module": "@jupyter-widgets/controls",
            "_view_module_version": "1.5.0",
            "_view_name": "HTMLView",
            "description": "",
            "description_tooltip": null,
            "layout": "IPY_MODEL_17dfc6fc41be42f7a5569e134ffb7d40",
            "placeholder": "​",
            "style": "IPY_MODEL_8a6648b36fcb48e5b75fdba4db2785ef",
            "value": " 0/0 [00:00&lt;?, ? examples/s]"
          }
        },
        "dab050b0f7bf48959524fde7726a4ae1": {
          "model_module": "@jupyter-widgets/base",
          "model_name": "LayoutModel",
          "model_module_version": "1.2.0",
          "state": {
            "_model_module": "@jupyter-widgets/base",
            "_model_module_version": "1.2.0",
            "_model_name": "LayoutModel",
            "_view_count": null,
            "_view_module": "@jupyter-widgets/base",
            "_view_module_version": "1.2.0",
            "_view_name": "LayoutView",
            "align_content": null,
            "align_items": null,
            "align_self": null,
            "border": null,
            "bottom": null,
            "display": null,
            "flex": null,
            "flex_flow": null,
            "grid_area": null,
            "grid_auto_columns": null,
            "grid_auto_flow": null,
            "grid_auto_rows": null,
            "grid_column": null,
            "grid_gap": null,
            "grid_row": null,
            "grid_template_areas": null,
            "grid_template_columns": null,
            "grid_template_rows": null,
            "height": null,
            "justify_content": null,
            "justify_items": null,
            "left": null,
            "margin": null,
            "max_height": null,
            "max_width": null,
            "min_height": null,
            "min_width": null,
            "object_fit": null,
            "object_position": null,
            "order": null,
            "overflow": null,
            "overflow_x": null,
            "overflow_y": null,
            "padding": null,
            "right": null,
            "top": null,
            "visibility": null,
            "width": null
          }
        },
        "0de40e9811e84779a3a747a1488aca5c": {
          "model_module": "@jupyter-widgets/base",
          "model_name": "LayoutModel",
          "model_module_version": "1.2.0",
          "state": {
            "_model_module": "@jupyter-widgets/base",
            "_model_module_version": "1.2.0",
            "_model_name": "LayoutModel",
            "_view_count": null,
            "_view_module": "@jupyter-widgets/base",
            "_view_module_version": "1.2.0",
            "_view_name": "LayoutView",
            "align_content": null,
            "align_items": null,
            "align_self": null,
            "border": null,
            "bottom": null,
            "display": null,
            "flex": null,
            "flex_flow": null,
            "grid_area": null,
            "grid_auto_columns": null,
            "grid_auto_flow": null,
            "grid_auto_rows": null,
            "grid_column": null,
            "grid_gap": null,
            "grid_row": null,
            "grid_template_areas": null,
            "grid_template_columns": null,
            "grid_template_rows": null,
            "height": null,
            "justify_content": null,
            "justify_items": null,
            "left": null,
            "margin": null,
            "max_height": null,
            "max_width": null,
            "min_height": null,
            "min_width": null,
            "object_fit": null,
            "object_position": null,
            "order": null,
            "overflow": null,
            "overflow_x": null,
            "overflow_y": null,
            "padding": null,
            "right": null,
            "top": null,
            "visibility": null,
            "width": null
          }
        },
        "d01693ce9bea45cd93e44d48a8d7edd3": {
          "model_module": "@jupyter-widgets/controls",
          "model_name": "DescriptionStyleModel",
          "model_module_version": "1.5.0",
          "state": {
            "_model_module": "@jupyter-widgets/controls",
            "_model_module_version": "1.5.0",
            "_model_name": "DescriptionStyleModel",
            "_view_count": null,
            "_view_module": "@jupyter-widgets/base",
            "_view_module_version": "1.2.0",
            "_view_name": "StyleView",
            "description_width": ""
          }
        },
        "e516c377e13d4b03bafab9ab1b2b96ce": {
          "model_module": "@jupyter-widgets/base",
          "model_name": "LayoutModel",
          "model_module_version": "1.2.0",
          "state": {
            "_model_module": "@jupyter-widgets/base",
            "_model_module_version": "1.2.0",
            "_model_name": "LayoutModel",
            "_view_count": null,
            "_view_module": "@jupyter-widgets/base",
            "_view_module_version": "1.2.0",
            "_view_name": "LayoutView",
            "align_content": null,
            "align_items": null,
            "align_self": null,
            "border": null,
            "bottom": null,
            "display": null,
            "flex": null,
            "flex_flow": null,
            "grid_area": null,
            "grid_auto_columns": null,
            "grid_auto_flow": null,
            "grid_auto_rows": null,
            "grid_column": null,
            "grid_gap": null,
            "grid_row": null,
            "grid_template_areas": null,
            "grid_template_columns": null,
            "grid_template_rows": null,
            "height": null,
            "justify_content": null,
            "justify_items": null,
            "left": null,
            "margin": null,
            "max_height": null,
            "max_width": null,
            "min_height": null,
            "min_width": null,
            "object_fit": null,
            "object_position": null,
            "order": null,
            "overflow": null,
            "overflow_x": null,
            "overflow_y": null,
            "padding": null,
            "right": null,
            "top": null,
            "visibility": null,
            "width": "20px"
          }
        },
        "88718aa90d114bb9a47a1ab7a13e5906": {
          "model_module": "@jupyter-widgets/controls",
          "model_name": "ProgressStyleModel",
          "model_module_version": "1.5.0",
          "state": {
            "_model_module": "@jupyter-widgets/controls",
            "_model_module_version": "1.5.0",
            "_model_name": "ProgressStyleModel",
            "_view_count": null,
            "_view_module": "@jupyter-widgets/base",
            "_view_module_version": "1.2.0",
            "_view_name": "StyleView",
            "bar_color": null,
            "description_width": ""
          }
        },
        "17dfc6fc41be42f7a5569e134ffb7d40": {
          "model_module": "@jupyter-widgets/base",
          "model_name": "LayoutModel",
          "model_module_version": "1.2.0",
          "state": {
            "_model_module": "@jupyter-widgets/base",
            "_model_module_version": "1.2.0",
            "_model_name": "LayoutModel",
            "_view_count": null,
            "_view_module": "@jupyter-widgets/base",
            "_view_module_version": "1.2.0",
            "_view_name": "LayoutView",
            "align_content": null,
            "align_items": null,
            "align_self": null,
            "border": null,
            "bottom": null,
            "display": null,
            "flex": null,
            "flex_flow": null,
            "grid_area": null,
            "grid_auto_columns": null,
            "grid_auto_flow": null,
            "grid_auto_rows": null,
            "grid_column": null,
            "grid_gap": null,
            "grid_row": null,
            "grid_template_areas": null,
            "grid_template_columns": null,
            "grid_template_rows": null,
            "height": null,
            "justify_content": null,
            "justify_items": null,
            "left": null,
            "margin": null,
            "max_height": null,
            "max_width": null,
            "min_height": null,
            "min_width": null,
            "object_fit": null,
            "object_position": null,
            "order": null,
            "overflow": null,
            "overflow_x": null,
            "overflow_y": null,
            "padding": null,
            "right": null,
            "top": null,
            "visibility": null,
            "width": null
          }
        },
        "8a6648b36fcb48e5b75fdba4db2785ef": {
          "model_module": "@jupyter-widgets/controls",
          "model_name": "DescriptionStyleModel",
          "model_module_version": "1.5.0",
          "state": {
            "_model_module": "@jupyter-widgets/controls",
            "_model_module_version": "1.5.0",
            "_model_name": "DescriptionStyleModel",
            "_view_count": null,
            "_view_module": "@jupyter-widgets/base",
            "_view_module_version": "1.2.0",
            "_view_name": "StyleView",
            "description_width": ""
          }
        }
      }
    }
  },
  "cells": [
    {
      "cell_type": "markdown",
      "metadata": {
        "id": "view-in-github",
        "colab_type": "text"
      },
      "source": [
        "<a href=\"https://colab.research.google.com/github/adalves-ufabc/2022.Q2-PLN/blob/main/2022_Q2_PLN_Notebook_14.ipynb\" target=\"_parent\"><img src=\"https://colab.research.google.com/assets/colab-badge.svg\" alt=\"Open In Colab\"/></a>"
      ]
    },
    {
      "cell_type": "markdown",
      "metadata": {
        "id": "kQrfphFhOxEP"
      },
      "source": [
        "# **Processamento de Linguagem Natural [2022.Q2]**\n",
        "Prof. Alexandre Donizeti Alves"
      ]
    },
    {
      "cell_type": "markdown",
      "metadata": {
        "id": "HF_W2J7COstj"
      },
      "source": [
        "# **Análise de Sentimentos**\n",
        "\n",
        "A **Análise de Sentimentos** é uma área do processamento de linguagem natural que visa sistematicamente extrair, quantificar, e estudar estados afetivos expressos em documentos. Existe diversas abordagens para se realizar análise de sentimento. Uma das mais usadas é a **Classificação de Sentimentos**."
      ]
    },
    {
      "cell_type": "markdown",
      "metadata": {
        "id": "Ja5Pbtj2QZ38"
      },
      "source": [
        "### **Classificação de Sentimentos**\n",
        "\n",
        ">\n",
        "Na **Classificação de Sentimentos** usamos a classificação de documentos para classificar automaticamente se o sentimento expresso em um texto está associado a uma determinada emoção. Uma abordagem comum é tentar classificar documentos nas categorias `positivo` e `negativo`, cujo intuito é classificar se um determinado documento contém um sentimento positivo ou negativo. \n",
        "\n",
        "\n",
        "A **Classificação de Sentimentos** é muito usada em análise de redes sociais, para verificar a repercusão social a respeito de alguma entidade (por exemplo, um produto, serviço ou personalidade).\n",
        "\n",
        ">\n",
        "Vamos usar a matriz termo-documento e a classificação de documentos para gerar um Classificador de Sentimentos. Para fazer isso, vamos usar *tweets* de um corpus de análise de sentimentos diponibilizado pela biblioteca python `nlp`."
      ]
    },
    {
      "cell_type": "code",
      "metadata": {
        "id": "5NNNWe4XOstl",
        "colab": {
          "base_uri": "https://localhost:8080/",
          "height": 590,
          "referenced_widgets": [
            "2c1002b1324b4effb0d5cdabd6ec62b8",
            "8075dec3101d4fc8a9ad826cfe389ae8",
            "79325b5953b94cec965c3b8b95d3e98b",
            "06b202eb06f545cc9d36f59202c5361b",
            "6affb274949b489da0e29fe60d5a3b73",
            "e1908b87f65b491da6826507d79424a4",
            "f5f79816b37b49869d8e16ed0f3ac67c",
            "7676f093de2a4041817b1ecba6023a7b",
            "289eea21c7ab46bb936d64272f42e894",
            "3ecc9d8621f045a197bacc100fb3387e",
            "18991b2c878b490fbe2ea6b19d2c060d",
            "a74005deceaf4d3193965a88e53c4249",
            "9a876a9816f1457893e141053020830a",
            "66bf347acdd3400697e8610302a19cd2",
            "e120620eec824004896ee9b4f307788d",
            "8c1dd6cf99d94ff6a718a94d3f74d444",
            "61eb7c68b29a42d9af6580eabaf9e7bc",
            "347852776ae14972a9a7eb74a693c824",
            "56918c8663954a8a994ecf13e25c334d",
            "7e4ec1df48b64ba7a7fd1d1890207013",
            "be9d4aff576a4a39b03dcceaa96e1351",
            "2a4d5871f4244c898a780cc54a093ae4",
            "adb71b4ea85446cbb2a75338b0c1b9a9",
            "1d0e4a58ee494ee8892c3f53cc443fb2",
            "c59073a59df94a93abfbdc9f31daef22",
            "90ed51b285e14437af62151f934b695c",
            "a71667c785e54b5bba480de69610422f",
            "535d5fe58c27488ea90ceb70c31e3052",
            "3c6b2e04f41f49d5bc0a92aef41f78fa",
            "bea82d75dee04051a1fff49b24957904",
            "a29df130c015423b83dcb406e86f8fa1",
            "0d0aa4501d204e6ab8ef57b1ea8d067e",
            "c1661b6297a14c96854ef2459bb6ae00",
            "2ef96a7427544f15bc380cfc28bcfd07",
            "3ce39b9b0f3f4653afe342af58949fda",
            "0de2c8031ce243a18aba5e6b93066781",
            "92f916b09184424bba0d089c404adfd9",
            "c668af90740849298f0257a41b491325",
            "07885c6885d24b709e16015ecc7a9ba0",
            "37f4da78ece048b1a0010a9e7718145d",
            "ecb7ba5bfc7a4dbbb489d534ef0cf506",
            "11a236bd378347a4943b1d79539ccf8d",
            "74de97208b064b2fa803547ffaa213e2",
            "d9ae2295061e4ed48e05a0561bcd535e",
            "5fc1ff8eb9804532aba2e01aaa996788",
            "fd60ffddc05c420c82cdd8fa3901b540",
            "5cd5ff05c08a48b99a0e0230fb424850",
            "25aed09c22b04394afc982fc7b28a68b",
            "dab050b0f7bf48959524fde7726a4ae1",
            "0de40e9811e84779a3a747a1488aca5c",
            "d01693ce9bea45cd93e44d48a8d7edd3",
            "e516c377e13d4b03bafab9ab1b2b96ce",
            "88718aa90d114bb9a47a1ab7a13e5906",
            "17dfc6fc41be42f7a5569e134ffb7d40",
            "8a6648b36fcb48e5b75fdba4db2785ef"
          ]
        },
        "outputId": "e5c5d5ee-0da7-418a-dd84-00cd9f859a14"
      },
      "source": [
        "!pip install nlp\n",
        "\n",
        "import nlp\n",
        "\n",
        "# na primeira vez que executar, vai baixar o corpus\n",
        "sentiment140 = nlp.load_dataset('sentiment140')"
      ],
      "execution_count": 1,
      "outputs": [
        {
          "output_type": "stream",
          "name": "stdout",
          "text": [
            "Looking in indexes: https://pypi.org/simple, https://us-python.pkg.dev/colab-wheels/public/simple/\n",
            "Collecting nlp\n",
            "  Downloading nlp-0.4.0-py3-none-any.whl (1.7 MB)\n",
            "\u001b[K     |████████████████████████████████| 1.7 MB 22.9 MB/s \n",
            "\u001b[?25hRequirement already satisfied: numpy in /usr/local/lib/python3.7/dist-packages (from nlp) (1.21.6)\n",
            "Requirement already satisfied: requests>=2.19.0 in /usr/local/lib/python3.7/dist-packages (from nlp) (2.23.0)\n",
            "Requirement already satisfied: filelock in /usr/local/lib/python3.7/dist-packages (from nlp) (3.7.1)\n",
            "Requirement already satisfied: pyarrow>=0.16.0 in /usr/local/lib/python3.7/dist-packages (from nlp) (6.0.1)\n",
            "Collecting xxhash\n",
            "  Downloading xxhash-3.0.0-cp37-cp37m-manylinux_2_17_x86_64.manylinux2014_x86_64.whl (212 kB)\n",
            "\u001b[K     |████████████████████████████████| 212 kB 53.0 MB/s \n",
            "\u001b[?25hRequirement already satisfied: dill in /usr/local/lib/python3.7/dist-packages (from nlp) (0.3.5.1)\n",
            "Requirement already satisfied: tqdm>=4.27 in /usr/local/lib/python3.7/dist-packages (from nlp) (4.64.0)\n",
            "Requirement already satisfied: pandas in /usr/local/lib/python3.7/dist-packages (from nlp) (1.3.5)\n",
            "Requirement already satisfied: chardet<4,>=3.0.2 in /usr/local/lib/python3.7/dist-packages (from requests>=2.19.0->nlp) (3.0.4)\n",
            "Requirement already satisfied: idna<3,>=2.5 in /usr/local/lib/python3.7/dist-packages (from requests>=2.19.0->nlp) (2.10)\n",
            "Requirement already satisfied: certifi>=2017.4.17 in /usr/local/lib/python3.7/dist-packages (from requests>=2.19.0->nlp) (2022.6.15)\n",
            "Requirement already satisfied: urllib3!=1.25.0,!=1.25.1,<1.26,>=1.21.1 in /usr/local/lib/python3.7/dist-packages (from requests>=2.19.0->nlp) (1.24.3)\n",
            "Requirement already satisfied: pytz>=2017.3 in /usr/local/lib/python3.7/dist-packages (from pandas->nlp) (2022.1)\n",
            "Requirement already satisfied: python-dateutil>=2.7.3 in /usr/local/lib/python3.7/dist-packages (from pandas->nlp) (2.8.2)\n",
            "Requirement already satisfied: six>=1.5 in /usr/local/lib/python3.7/dist-packages (from python-dateutil>=2.7.3->pandas->nlp) (1.15.0)\n",
            "Installing collected packages: xxhash, nlp\n",
            "Successfully installed nlp-0.4.0 xxhash-3.0.0\n"
          ]
        },
        {
          "output_type": "display_data",
          "data": {
            "text/plain": [
              "Downloading:   0%|          | 0.00/4.11k [00:00<?, ?B/s]"
            ],
            "application/vnd.jupyter.widget-view+json": {
              "version_major": 2,
              "version_minor": 0,
              "model_id": "2c1002b1324b4effb0d5cdabd6ec62b8"
            }
          },
          "metadata": {}
        },
        {
          "output_type": "display_data",
          "data": {
            "text/plain": [
              "Downloading:   0%|          | 0.00/1.64k [00:00<?, ?B/s]"
            ],
            "application/vnd.jupyter.widget-view+json": {
              "version_major": 2,
              "version_minor": 0,
              "model_id": "a74005deceaf4d3193965a88e53c4249"
            }
          },
          "metadata": {}
        },
        {
          "output_type": "stream",
          "name": "stdout",
          "text": [
            "Downloading and preparing dataset sentiment140/sentiment140 (download: 77.59 MiB, generated: 215.36 MiB, post-processed: Unknown sizetotal: 292.95 MiB) to /root/.cache/huggingface/datasets/sentiment140/sentiment140/1.0.0/2ad0bb6460a543b63240b86e18ec4b50cd40dd36f3d72ded82a9d695d34548d1...\n"
          ]
        },
        {
          "output_type": "display_data",
          "data": {
            "text/plain": [
              "Downloading:   0%|          | 0.00/81.4M [00:00<?, ?B/s]"
            ],
            "application/vnd.jupyter.widget-view+json": {
              "version_major": 2,
              "version_minor": 0,
              "model_id": "adb71b4ea85446cbb2a75338b0c1b9a9"
            }
          },
          "metadata": {}
        },
        {
          "output_type": "display_data",
          "data": {
            "text/plain": [
              "0 examples [00:00, ? examples/s]"
            ],
            "application/vnd.jupyter.widget-view+json": {
              "version_major": 2,
              "version_minor": 0,
              "model_id": "2ef96a7427544f15bc380cfc28bcfd07"
            }
          },
          "metadata": {}
        },
        {
          "output_type": "display_data",
          "data": {
            "text/plain": [
              "0 examples [00:00, ? examples/s]"
            ],
            "application/vnd.jupyter.widget-view+json": {
              "version_major": 2,
              "version_minor": 0,
              "model_id": "5fc1ff8eb9804532aba2e01aaa996788"
            }
          },
          "metadata": {}
        },
        {
          "output_type": "stream",
          "name": "stdout",
          "text": [
            "Dataset sentiment140 downloaded and prepared to /root/.cache/huggingface/datasets/sentiment140/sentiment140/1.0.0/2ad0bb6460a543b63240b86e18ec4b50cd40dd36f3d72ded82a9d695d34548d1. Subsequent calls will reuse this data.\n"
          ]
        }
      ]
    },
    {
      "cell_type": "markdown",
      "metadata": {
        "id": "EziUzD8oOstx"
      },
      "source": [
        "Esse **corpus** já está dividido em um conjunto de `treino` e `teste`. Uma descrição do conteúdo do corpus pode ser vista [aqui](https://www.kaggle.com/kazanova/sentiment140), que também contém links para o artigo original.  O conjunto de teste tem **1.600.000** ***tweets*** no conjunto de `treino`, e 498 *tweets* no conjunto de `teste`:"
      ]
    },
    {
      "cell_type": "code",
      "metadata": {
        "id": "lI8VfLpvOsty",
        "colab": {
          "base_uri": "https://localhost:8080/"
        },
        "outputId": "cfb2d559-e841-43f2-ec92-42eb8f311d76"
      },
      "source": [
        "print(sentiment140['train'].num_rows)"
      ],
      "execution_count": 2,
      "outputs": [
        {
          "output_type": "stream",
          "name": "stdout",
          "text": [
            "1600000\n"
          ]
        }
      ]
    },
    {
      "cell_type": "code",
      "metadata": {
        "id": "ON-Ybt0yOst5",
        "colab": {
          "base_uri": "https://localhost:8080/"
        },
        "outputId": "2b755cca-381a-4413-d62b-66c2d8973574"
      },
      "source": [
        "print(sentiment140['test'].num_rows)"
      ],
      "execution_count": 3,
      "outputs": [
        {
          "output_type": "stream",
          "name": "stdout",
          "text": [
            "498\n"
          ]
        }
      ]
    },
    {
      "cell_type": "markdown",
      "metadata": {
        "id": "a9UIgXyfOsuA"
      },
      "source": [
        "Os autores do corpus usaram uma escala de 0 (negativo) a 4 (positivo) para designar o sentimento associado a cada *tweet*. No conjunto de `treino`, apenas essas duas classes estão presentes:"
      ]
    },
    {
      "cell_type": "code",
      "metadata": {
        "id": "DIlvPDDiOsuB",
        "colab": {
          "base_uri": "https://localhost:8080/",
          "height": 265
        },
        "outputId": "49454c7e-742d-4e6b-8b5b-a19ea2b959f7"
      },
      "source": [
        "import seaborn as sns\n",
        "\n",
        "sns.countplot(x = sentiment140['train']['sentiment']);"
      ],
      "execution_count": 4,
      "outputs": [
        {
          "output_type": "display_data",
          "data": {
            "text/plain": [
              "<Figure size 432x288 with 1 Axes>"
            ],
            "image/png": "[encoded data removed]"
          },
          "metadata": {
            "needs_background": "light"
          }
        }
      ]
    },
    {
      "cell_type": "markdown",
      "metadata": {
        "id": "jMQd68gwOsuH"
      },
      "source": [
        "O conjunto de `teste` também contém alguns *tweets* rotulados na classe 2 (neutro):"
      ]
    },
    {
      "cell_type": "code",
      "metadata": {
        "id": "PMHPAqjKOsuJ",
        "colab": {
          "base_uri": "https://localhost:8080/",
          "height": 265
        },
        "outputId": "db22778a-bd75-4ae1-8844-db5a32ce8a21"
      },
      "source": [
        "sns.countplot(x = sentiment140['test']['sentiment']);"
      ],
      "execution_count": 5,
      "outputs": [
        {
          "output_type": "display_data",
          "data": {
            "text/plain": [
              "<Figure size 432x288 with 1 Axes>"
            ],
            "image/png": "[encoded data removed]"
          },
          "metadata": {
            "needs_background": "light"
          }
        }
      ]
    },
    {
      "cell_type": "markdown",
      "metadata": {
        "id": "75crkKXmOsuQ"
      },
      "source": [
        "Como nas redes sociais as postagens geralmente usam uma linguagem informal, além de *emoticons* e *hashtags*, vamos usar um tokenizador que tenta fazer o parsing desses tipos de postagens. O pacote `nltk` tem um tokenizador especialmente desenvolvido, chamado de `TweetTokenizer`. "
      ]
    },
    {
      "cell_type": "code",
      "metadata": {
        "id": "TJOgZV_OOsuR"
      },
      "source": [
        "from nltk.tokenize import TweetTokenizer\n",
        "\n",
        "# preserve_case - mantem maiusculas\n",
        "# reduce_len - remove algumas duplicações\n",
        "tknzr = TweetTokenizer(preserve_case=False, reduce_len=True)"
      ],
      "execution_count": 6,
      "outputs": []
    },
    {
      "cell_type": "markdown",
      "metadata": {
        "id": "CjR21UR5OsuV"
      },
      "source": [
        "Uma amostra desse método pode ser vista aplicando-se a um dos *tweets* da base:"
      ]
    },
    {
      "cell_type": "code",
      "metadata": {
        "id": "Yk_3PmT5OsuW",
        "colab": {
          "base_uri": "https://localhost:8080/"
        },
        "outputId": "1d1476d4-1a51-4ea4-9a93-f190bfa36960"
      },
      "source": [
        "print(sentiment140['train']['text'][0])"
      ],
      "execution_count": 7,
      "outputs": [
        {
          "output_type": "stream",
          "name": "stdout",
          "text": [
            "@switchfoot http://twitpic.com/2y1zl - Awww, that's a bummer.  You shoulda got David Carr of Third Day to do it. ;D\n"
          ]
        }
      ]
    },
    {
      "cell_type": "code",
      "metadata": {
        "id": "USdtYbnqUPYn",
        "colab": {
          "base_uri": "https://localhost:8080/"
        },
        "outputId": "0afb4781-899a-469a-c0a2-e947371f141a"
      },
      "source": [
        "tknzr.tokenize(sentiment140['train']['text'][0])"
      ],
      "execution_count": 8,
      "outputs": [
        {
          "output_type": "execute_result",
          "data": {
            "text/plain": [
              "['@switchfoot',\n",
              " 'http://twitpic.com/2y1zl',\n",
              " '-',\n",
              " 'awww',\n",
              " ',',\n",
              " \"that's\",\n",
              " 'a',\n",
              " 'bummer',\n",
              " '.',\n",
              " 'you',\n",
              " 'shoulda',\n",
              " 'got',\n",
              " 'david',\n",
              " 'carr',\n",
              " 'of',\n",
              " 'third',\n",
              " 'day',\n",
              " 'to',\n",
              " 'do',\n",
              " 'it',\n",
              " '.',\n",
              " ';D']"
            ]
          },
          "metadata": {},
          "execution_count": 8
        }
      ]
    },
    {
      "cell_type": "markdown",
      "metadata": {
        "id": "oQ5RCsuB0xX5"
      },
      "source": [
        "**Matriz termo-documento**\n",
        "\n",
        "Na **matriz termo-documento** uma representação vetorial é usada  para representar um documento. Cada elemento está relacionao à frequência dos termos naqueles documentos. A similaridade entre documentos é calculada a partir da distância entre os vetores que representam os documentos. "
      ]
    },
    {
      "cell_type": "markdown",
      "metadata": {
        "id": "VNhjJ2HdOsua"
      },
      "source": [
        "Vamos agora construir a **matriz termo-documento**. Inicialmente, vamos criar uma matriz com a frequência absoluta desses termos. Como temos o corpus com um grande número de *tweets*, para evitar crair uma matriz muito grande, mantemos somente os tokens que aparecem no mínimo em 30 *tweets*. Por questões de custo computacional vamos trabalhar com 10% da base."
      ]
    },
    {
      "cell_type": "code",
      "metadata": {
        "id": "VN_JBNQ-Osuc"
      },
      "source": [
        "import random\n",
        "random.seed(42)\n",
        "\n",
        "# 10% da base\n",
        "subset = random.sample(list(range(sentiment140['train'].num_rows)),k=int(0.1*sentiment140['train'].num_rows))"
      ],
      "execution_count": 9,
      "outputs": []
    },
    {
      "cell_type": "code",
      "metadata": {
        "id": "B9h0h4OGOsuh"
      },
      "source": [
        "train_tweets = [sentiment140['train'][i]['text'] for i in subset]\n",
        "sentiment = [sentiment140['train'][i]['sentiment'] for i in subset]"
      ],
      "execution_count": 10,
      "outputs": []
    },
    {
      "cell_type": "code",
      "metadata": {
        "id": "MmFo4TJpOsul"
      },
      "source": [
        "from sklearn.feature_extraction.text import CountVectorizer\n",
        "\n",
        "# tokens que aparecem no minimo em 30 tweets\n",
        "counter_vectorizer = CountVectorizer(tokenizer=tknzr.tokenize, stop_words='english', min_df=30)\n",
        "\n",
        "counts = counter_vectorizer.fit_transform(train_tweets)"
      ],
      "execution_count": 11,
      "outputs": []
    },
    {
      "cell_type": "code",
      "metadata": {
        "id": "ascIYE1wVUYd",
        "colab": {
          "base_uri": "https://localhost:8080/"
        },
        "outputId": "90412ac2-9d7e-4725-f048-d8f391abc92e"
      },
      "source": [
        "counts"
      ],
      "execution_count": 12,
      "outputs": [
        {
          "output_type": "execute_result",
          "data": {
            "text/plain": [
              "<160000x3882 sparse matrix of type '<class 'numpy.int64'>'\n",
              "\twith 1092770 stored elements in Compressed Sparse Row format>"
            ]
          },
          "metadata": {},
          "execution_count": 12
        }
      ]
    },
    {
      "cell_type": "markdown",
      "metadata": {
        "id": "J7dsba-NOsur"
      },
      "source": [
        "Como resultado desse processamento, construímos uma matriz com 3882 termos e 160000 documentos (*tweets*)."
      ]
    },
    {
      "cell_type": "markdown",
      "metadata": {
        "id": "j77f4RtvOsus"
      },
      "source": [
        "Vamos agora repetir o processo, mas usando a representação TF-IDF:"
      ]
    },
    {
      "cell_type": "code",
      "metadata": {
        "id": "rm0D5FG8Osut"
      },
      "source": [
        "from sklearn.feature_extraction.text import TfidfVectorizer\n",
        "\n",
        "tfidf_vectorizer = TfidfVectorizer(tokenizer=tknzr.tokenize, stop_words='english', min_df=30)\n",
        "\n",
        "tfidf = tfidf_vectorizer.fit_transform(train_tweets)"
      ],
      "execution_count": 13,
      "outputs": []
    },
    {
      "cell_type": "code",
      "metadata": {
        "id": "QO5p4XA7WLMT",
        "colab": {
          "base_uri": "https://localhost:8080/"
        },
        "outputId": "0b1a4fea-3b5b-478d-9f5c-15b81ccf358e"
      },
      "source": [
        "tfidf"
      ],
      "execution_count": 14,
      "outputs": [
        {
          "output_type": "execute_result",
          "data": {
            "text/plain": [
              "<160000x3882 sparse matrix of type '<class 'numpy.float64'>'\n",
              "\twith 1092770 stored elements in Compressed Sparse Row format>"
            ]
          },
          "metadata": {},
          "execution_count": 14
        }
      ]
    },
    {
      "cell_type": "markdown",
      "metadata": {
        "id": "B-voYtVaOsu3"
      },
      "source": [
        "As dimensões da matriz são as mesmas, mas uma armazena a frequência absoluta dos termos, e a outra armazena o logaritmo da frequência ponderada pelo inverso da frequência no corpus inteiro. Podemos ter uma ideia da diferença entre as duas contagems criando um plot dos valores:"
      ]
    },
    {
      "cell_type": "code",
      "metadata": {
        "id": "57KphWNwOsu4",
        "colab": {
          "base_uri": "https://localhost:8080/",
          "height": 278
        },
        "outputId": "64c67630-8ae7-43f0-8654-a6f467dd04db"
      },
      "source": [
        "import matplotlib.pyplot as plt\n",
        "\n",
        "plt.plot(sorted(counts.data),label=\"Counts\");\n",
        "plt.plot(sorted(tfidf.data),label=\"TF-IDF\");\n",
        "plt.legend();"
      ],
      "execution_count": 15,
      "outputs": [
        {
          "output_type": "display_data",
          "data": {
            "text/plain": [
              "<Figure size 432x288 with 1 Axes>"
            ],
            "image/png": "[encoded data removed]"
          },
          "metadata": {
            "needs_background": "light"
          }
        }
      ]
    },
    {
      "cell_type": "markdown",
      "metadata": {
        "id": "FltRGh2vOsu9"
      },
      "source": [
        "Como pode ser observado no gráfico, para a contagem simples alguns termos muito frequentes têm valores maiores que 80 (o que pode ser considerado bem alto, considerando que um *tweet* tem 140 caracteres). Já a contagem TF-IDF tem valores menores, devido à ponderação logaritmica dos termos e o fator multiplicativo da frequência inversa em todos os documentos."
      ]
    },
    {
      "cell_type": "markdown",
      "metadata": {
        "id": "FXuKwNQwOsu-"
      },
      "source": [
        "Vamos treinar um classificador para fazer a classificação automática dos *tweets*. Para isso, vamos usar o algoritmo de [Florestas Aleatórias](https://en.wikipedia.org/wiki/Random_forest), do pacote [scikit-learn](https://scikit-learn.org/stable/). \n",
        "\n",
        "> \n",
        "Floresta Aleatória (*Random Forest*) é um algoritmo de aprendizagem supervisionada. Como você pode perceber pelo seu nome, ele cria uma floresta de um modo aleatório. A \"floresta\" que ele cria é uma combinação de árvores de decisão, na maioria dos casos treinados com o método de *bagging*. A ideia principal do método de *bagging* é que a combinação dos modelos de aprendizado aumenta o resultado geral.\n",
        ">\n",
        "Dizendo de modo simples: o algoritmo de florestas aleatórias cria várias árvores de decisão e as combina para obter uma predição com maior acurácia e mais estável.\n",
        "\n",
        ">**Mais informações em**: https://medium.com/machina-sapiens/o-algoritmo-da-floresta-aleat%C3%B3ria-3545f6babdf8"
      ]
    },
    {
      "cell_type": "markdown",
      "metadata": {
        "id": "vh2mYL0pOsvA"
      },
      "source": [
        "Inicialmente, vamos construir um classificador para a contagem de palavras:"
      ]
    },
    {
      "cell_type": "code",
      "metadata": {
        "id": "EOe6g_DnOsvB",
        "colab": {
          "base_uri": "https://localhost:8080/"
        },
        "outputId": "2950b26c-6fd5-458f-a96e-5b7a3324e60c"
      },
      "source": [
        "from sklearn.ensemble import RandomForestClassifier\n",
        "\n",
        "clf_counts = RandomForestClassifier(n_estimators=100, random_state=42)\n",
        "clf_counts.fit(counts, sentiment)"
      ],
      "execution_count": 16,
      "outputs": [
        {
          "output_type": "execute_result",
          "data": {
            "text/plain": [
              "RandomForestClassifier(random_state=42)"
            ]
          },
          "metadata": {},
          "execution_count": 16
        }
      ]
    },
    {
      "cell_type": "markdown",
      "metadata": {
        "id": "PkGOXn2MOsvH"
      },
      "source": [
        "E repetir o processo para a representação TF-IDF:"
      ]
    },
    {
      "cell_type": "code",
      "metadata": {
        "id": "kVn3O00xOsvH",
        "colab": {
          "base_uri": "https://localhost:8080/"
        },
        "outputId": "e1de850f-b040-43d2-ce94-bd5a533ba402"
      },
      "source": [
        "clf_tfidf = RandomForestClassifier(n_estimators=100, random_state=42)\n",
        "clf_tfidf.fit(tfidf, sentiment)"
      ],
      "execution_count": 17,
      "outputs": [
        {
          "output_type": "execute_result",
          "data": {
            "text/plain": [
              "RandomForestClassifier(random_state=42)"
            ]
          },
          "metadata": {},
          "execution_count": 17
        }
      ]
    },
    {
      "cell_type": "markdown",
      "metadata": {
        "id": "HzgIXP8GOsvL"
      },
      "source": [
        "Uma das razões para usarmos o *Random Forest* nesse exemplo é que ele estima a importância de cada palavra (no jargão de aprendizado de máquina, as palavras na matriz termo-documento são conhecidas como *features*). Vamos analisar os 20 termos mais importantes para classificação de sentimento, de acordo com os modelos gerados."
      ]
    },
    {
      "cell_type": "code",
      "metadata": {
        "id": "bhjgRa2uOsvM"
      },
      "source": [
        "nwords = 20\n",
        "counts_importance_idx = clf_counts.feature_importances_.argsort()[-nwords:]\n",
        "tfidf_importance_idx = clf_tfidf.feature_importances_.argsort()[-nwords:]"
      ],
      "execution_count": 18,
      "outputs": []
    },
    {
      "cell_type": "markdown",
      "metadata": {
        "id": "cmCeAC1BOsvR"
      },
      "source": [
        "O trecho a seguir faz um plot desses 20 termos, de acordo com a sua importância (estimada pelo modelos de classificação de sentimentos)."
      ]
    },
    {
      "cell_type": "code",
      "metadata": {
        "id": "6RaB-34IOsvS",
        "colab": {
          "base_uri": "https://localhost:8080/",
          "height": 820
        },
        "outputId": "01ffab69-117c-4c36-a38c-37af98869484"
      },
      "source": [
        "import numpy as np\n",
        "\n",
        "# variavel para ajustar os plots\n",
        "tree_indices = np.arange(0, nwords) + 0.5\n",
        "\n",
        "fig, (ax1, ax2) = plt.subplots(1, 2, figsize=(12, 12))\n",
        "ax1.barh(tree_indices,\n",
        "         clf_counts.feature_importances_[counts_importance_idx], height=0.7)\n",
        "ax1.set_yticklabels(np.array(counter_vectorizer.get_feature_names())[counts_importance_idx])\n",
        "ax1.set_yticks(tree_indices)\n",
        "ax1.set_ylim((0, nwords))\n",
        "ax1.set_title(\"Counts\")\n",
        "\n",
        "ax2.barh(tree_indices,\n",
        "         clf_tfidf.feature_importances_[tfidf_importance_idx], height=0.7)\n",
        "ax2.set_yticklabels(np.array(tfidf_vectorizer.get_feature_names())[tfidf_importance_idx])\n",
        "ax2.set_yticks(tree_indices)\n",
        "ax2.set_ylim((0, nwords))\n",
        "ax2.set_title(\"TF-IDF\")\n",
        "\n",
        "fig.tight_layout()\n",
        "plt.show()"
      ],
      "execution_count": 19,
      "outputs": [
        {
          "output_type": "stream",
          "name": "stderr",
          "text": [
            "/usr/local/lib/python3.7/dist-packages/sklearn/utils/deprecation.py:87: FutureWarning: Function get_feature_names is deprecated; get_feature_names is deprecated in 1.0 and will be removed in 1.2. Please use get_feature_names_out instead.\n",
            "  warnings.warn(msg, category=FutureWarning)\n"
          ]
        },
        {
          "output_type": "display_data",
          "data": {
            "text/plain": [
              "<Figure size 864x864 with 2 Axes>"
            ],
            "image/png": "[encoded data removed]"
          },
          "metadata": {
            "needs_background": "light"
          }
        }
      ]
    },
    {
      "cell_type": "markdown",
      "metadata": {
        "id": "19Q4l5isOsvV"
      },
      "source": [
        "Observe que ambos modelos compartilham diversos termos entre os mais importantes, apesar de que em vários deles a ordem é diferente. Entretanto, há alguns termos que só aparecem para alguns modelos, como podemos ver a seguir:"
      ]
    },
    {
      "cell_type": "code",
      "metadata": {
        "id": "QMsre4mpOsvW"
      },
      "source": [
        "counts_importance_terms = set(np.array(counter_vectorizer.get_feature_names_out())[counts_importance_idx])\n",
        "tfidf_importance_terms = set(np.array(tfidf_vectorizer.get_feature_names_out())[tfidf_importance_idx])"
      ],
      "execution_count": 21,
      "outputs": []
    },
    {
      "cell_type": "markdown",
      "metadata": {
        "id": "6MCzWdBAOsva"
      },
      "source": [
        "Palavras que só aparecem no modelo gerado a partir da contagem:"
      ]
    },
    {
      "cell_type": "code",
      "metadata": {
        "id": "j0N1IvlCOsvb",
        "colab": {
          "base_uri": "https://localhost:8080/"
        },
        "outputId": "511859a6-c776-425b-8955-f43ef58f2084"
      },
      "source": [
        "counts_importance_terms - tfidf_importance_terms"
      ],
      "execution_count": 29,
      "outputs": [
        {
          "output_type": "execute_result",
          "data": {
            "text/plain": [
              "{'thank'}"
            ]
          },
          "metadata": {},
          "execution_count": 29
        }
      ]
    },
    {
      "cell_type": "markdown",
      "metadata": {
        "id": "-LGPkarxOsvg"
      },
      "source": [
        "Palavras que só aparecem no modelo gerado a partir da representação TF-IDF:"
      ]
    },
    {
      "cell_type": "code",
      "metadata": {
        "id": "6dpQMfJuOsvi",
        "colab": {
          "base_uri": "https://localhost:8080/"
        },
        "outputId": "0aeef052-731d-455d-eba9-77f3612dae9c"
      },
      "source": [
        "tfidf_importance_terms - counts_importance_terms"
      ],
      "execution_count": 30,
      "outputs": [
        {
          "output_type": "execute_result",
          "data": {
            "text/plain": [
              "{\"i'm\"}"
            ]
          },
          "metadata": {},
          "execution_count": 30
        }
      ]
    },
    {
      "cell_type": "markdown",
      "metadata": {
        "id": "GtUk9jwROsvm"
      },
      "source": [
        "Vamos avaliar o desempenho desses modelos. Inicialmente, vamos usar o conjunto de `teste`. Como o conjunto de `teste` tem uma classe que não estava presente no conjunto de treino (a classe neutra), os modelos não irão classificar corretamente os *tweets* dessa classe.  Vamos analisar a [matriz de confusão](https://en.wikipedia.org/wiki/Confusion_matrix) e o relatório de classificação gerado pelo `scikit-learn`:"
      ]
    },
    {
      "cell_type": "markdown",
      "metadata": {
        "id": "f22Hlr0POsvr"
      },
      "source": [
        "Vamos inicialmente analisar a contagem simples. Para facilitar o processo, o `scikit-learn` permite a criação de um pipeline, que aplica o processamento de texto e o modelo em sequência:"
      ]
    },
    {
      "cell_type": "code",
      "metadata": {
        "id": "SlNAkRSoOsvs"
      },
      "source": [
        "from sklearn.pipeline import Pipeline\n",
        "from sklearn.metrics import plot_confusion_matrix, classification_report\n",
        "\n",
        "pipeline_counts = Pipeline([\n",
        "    ('vect', counter_vectorizer),\n",
        "    ('clf', clf_counts)\n",
        "])"
      ],
      "execution_count": 31,
      "outputs": []
    },
    {
      "cell_type": "code",
      "metadata": {
        "id": "HzemCS16jMWp",
        "colab": {
          "base_uri": "https://localhost:8080/",
          "height": 336
        },
        "outputId": "c27b71f7-2f12-44a6-fa1d-8c223331a8eb"
      },
      "source": [
        "plot_confusion_matrix(pipeline_counts, sentiment140['test']['text'], sentiment140['test']['sentiment'],\n",
        "                                 display_labels=['negative','neutral','positive'],\n",
        "                                 cmap=plt.cm.Blues,\n",
        "                                 normalize='true');"
      ],
      "execution_count": 35,
      "outputs": [
        {
          "output_type": "stream",
          "name": "stderr",
          "text": [
            "/usr/local/lib/python3.7/dist-packages/sklearn/utils/deprecation.py:87: FutureWarning: Function plot_confusion_matrix is deprecated; Function `plot_confusion_matrix` is deprecated in 1.0 and will be removed in 1.2. Use one of the class methods: ConfusionMatrixDisplay.from_predictions or ConfusionMatrixDisplay.from_estimator.\n",
            "  warnings.warn(msg, category=FutureWarning)\n"
          ]
        },
        {
          "output_type": "display_data",
          "data": {
            "text/plain": [
              "<Figure size 432x288 with 2 Axes>"
            ],
            "image/png": "[encoded data removed]"
          },
          "metadata": {
            "needs_background": "light"
          }
        }
      ]
    },
    {
      "cell_type": "code",
      "metadata": {
        "id": "0yUaO76VjRUh",
        "colab": {
          "base_uri": "https://localhost:8080/"
        },
        "outputId": "a2bbc4a2-abf0-45db-f694-d2b8c7f478c8"
      },
      "source": [
        "print(classification_report(sentiment140['test']['sentiment'], pipeline_counts.predict(sentiment140['test']['text']),zero_division=0))"
      ],
      "execution_count": 36,
      "outputs": [
        {
          "output_type": "stream",
          "name": "stdout",
          "text": [
            "              precision    recall  f1-score   support\n",
            "\n",
            "           0       0.65      0.71      0.68       177\n",
            "           2       0.00      0.00      0.00       139\n",
            "           4       0.50      0.85      0.63       182\n",
            "\n",
            "    accuracy                           0.56       498\n",
            "   macro avg       0.39      0.52      0.44       498\n",
            "weighted avg       0.42      0.56      0.47       498\n",
            "\n"
          ]
        }
      ]
    },
    {
      "cell_type": "markdown",
      "metadata": {
        "id": "hZ7bDhO8Osvw"
      },
      "source": [
        "Podemos repetir o processo para o TF-IDF:"
      ]
    },
    {
      "cell_type": "code",
      "metadata": {
        "id": "5XWwcfiHOsvy",
        "colab": {
          "base_uri": "https://localhost:8080/",
          "height": 518
        },
        "outputId": "7143e2ed-4dba-4421-96f2-4049d1654a1e"
      },
      "source": [
        "pipeline_tfidf = Pipeline([\n",
        "    ('vect', tfidf_vectorizer),\n",
        "    ('clf', clf_tfidf)\n",
        "])\n",
        "\n",
        "plot_confusion_matrix(pipeline_tfidf, sentiment140['test']['text'], sentiment140['test']['sentiment'],\n",
        "                                 display_labels=['negative','neutral','positive'],\n",
        "                                 cmap=plt.cm.Blues,\n",
        "                                 normalize='true')\n",
        "\n",
        "print(classification_report(sentiment140['test']['sentiment'], pipeline_tfidf.predict(sentiment140['test']['text']),zero_division=0))"
      ],
      "execution_count": 37,
      "outputs": [
        {
          "output_type": "stream",
          "name": "stderr",
          "text": [
            "/usr/local/lib/python3.7/dist-packages/sklearn/utils/deprecation.py:87: FutureWarning: Function plot_confusion_matrix is deprecated; Function `plot_confusion_matrix` is deprecated in 1.0 and will be removed in 1.2. Use one of the class methods: ConfusionMatrixDisplay.from_predictions or ConfusionMatrixDisplay.from_estimator.\n",
            "  warnings.warn(msg, category=FutureWarning)\n"
          ]
        },
        {
          "output_type": "stream",
          "name": "stdout",
          "text": [
            "              precision    recall  f1-score   support\n",
            "\n",
            "           0       0.65      0.67      0.66       177\n",
            "           2       0.00      0.00      0.00       139\n",
            "           4       0.48      0.83      0.61       182\n",
            "\n",
            "    accuracy                           0.54       498\n",
            "   macro avg       0.38      0.50      0.42       498\n",
            "weighted avg       0.41      0.54      0.46       498\n",
            "\n"
          ]
        },
        {
          "output_type": "display_data",
          "data": {
            "text/plain": [
              "<Figure size 432x288 with 2 Axes>"
            ],
            "image/png": "[encoded data removed]"
          },
          "metadata": {
            "needs_background": "light"
          }
        }
      ]
    },
    {
      "cell_type": "markdown",
      "metadata": {
        "id": "Fa8twMQiOsv1"
      },
      "source": [
        "Analisando os resultados, podemos ver que no conjunto de `teste`, há uma tendência um pouco maior do classificador gerado a partir do processamento TF-IDF a predizer a classe positiva. "
      ]
    },
    {
      "cell_type": "markdown",
      "metadata": {
        "id": "W4ZQCrRqOsv2"
      },
      "source": [
        "Para essa base em particular, o conjunte de `teste` é relativamente pequeno. Como usamos apenas 10% dos *tweets* do conjunto de treino para gerar o modelo, há vários *tweets* que não foram usados nesta etapa. Podemos usar exemplos desse conjunto para fazer uma avaliação com mais dados. No trecho de código a seguir, são gerados 10 conjuntos aleatórios com 10% dos *tweets*. A acurácia do modelo é avaliada para cada um desses conjuntos, e finalmente calculamos a **média** e **desvio padrão** para essas 10 execuções:"
      ]
    },
    {
      "cell_type": "code",
      "metadata": {
        "id": "SPH7tnlMOsv4"
      },
      "source": [
        "from sklearn.metrics import accuracy_score\n",
        "\n",
        "accuracies_count = []\n",
        "accuracies_tfidf = []\n",
        "\n",
        "for i in range(10):\n",
        "    random.seed(i)\n",
        "    subset = random.sample(list(range(sentiment140['train'].num_rows)),k=int(0.1*sentiment140['train'].num_rows))\n",
        "    \n",
        "    val_tweets = [sentiment140['train'][i]['text'] for i in subset]\n",
        "    sentiment = [sentiment140['train'][i]['sentiment'] for i in subset]\n",
        "    \n",
        "    accuracies_count.append(accuracy_score(sentiment,pipeline_counts.predict(val_tweets)))\n",
        "    accuracies_tfidf.append(accuracy_score(sentiment,pipeline_tfidf.predict(val_tweets)))"
      ],
      "execution_count": 38,
      "outputs": []
    },
    {
      "cell_type": "code",
      "metadata": {
        "id": "sHBKXrkjOsv7",
        "colab": {
          "base_uri": "https://localhost:8080/"
        },
        "outputId": "de3dddb0-51c1-46ed-a10a-d251b6c2e3d7"
      },
      "source": [
        "print(\"Acurárcia média para a contagem simples: {0:.2f} ({1:.2f})\".format(\n",
        "    np.mean(accuracies_count)*100, np.std(accuracies_count)*100))\n",
        "\n",
        "print(\"Acurárcia média para a contagem tf-idf: {0:.2f} ({1:.2f})\".format(\n",
        "    np.mean(accuracies_tfidf)*100, np.std(accuracies_tfidf)*100))\n"
      ],
      "execution_count": null,
      "outputs": [
        {
          "output_type": "stream",
          "text": [
            "Acurárcia média para a contagem simples: 76.30 (0.08)\n",
            "Acurárcia média para a contagem tf-idf: 76.66 (0.08)\n"
          ],
          "name": "stdout"
        }
      ]
    },
    {
      "cell_type": "markdown",
      "metadata": {
        "id": "t8SVwFkPOswA"
      },
      "source": [
        "Como pode ser observado, há uma pequena melhora com a abordagem TF-IDF quando avaliamos com o conjunto maior. Entretanto, os resultados são bastante parecidos. Isso acontece pois, em textos curtos, a ponderação IDF (que leva em consideração o log) tem pouco efeito. Mas em muitas aplicações, há algum ganho usando-se TF-IDF em comparação com a contagem simples."
      ]
    },
    {
      "cell_type": "markdown",
      "metadata": {
        "id": "7qeO01jZe9nk"
      },
      "source": [
        "**Referência**:\n",
        "\n",
        "Este notebook foi criado pelo prof. **Ronaldo Prati** [UFABC], tendo sido apenas reestruturado por mim."
      ]
    }
  ]
}