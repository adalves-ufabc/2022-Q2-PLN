{
  "nbformat": 4,
  "nbformat_minor": 0,
  "metadata": {
    "colab": {
      "name": "2022-Q2 PLN Notebook 16.ipynb",
      "provenance": [],
      "collapsed_sections": [],
      "authorship_tag": "ABX9TyNfrKDZQFn10kV7d8NZ8b51",
      "include_colab_link": true
    },
    "kernelspec": {
      "name": "python3",
      "display_name": "Python 3"
    }
  },
  "cells": [
    {
      "cell_type": "markdown",
      "metadata": {
        "id": "view-in-github",
        "colab_type": "text"
      },
      "source": [
        "<a href=\"https://colab.research.google.com/github/adalves-ufabc/2022.Q2-PLN/blob/main/2022_Q2_PLN_Notebook_16.ipynb\" target=\"_parent\"><img src=\"https://colab.research.google.com/assets/colab-badge.svg\" alt=\"Open In Colab\"/></a>"
      ]
    },
    {
      "cell_type": "markdown",
      "metadata": {
        "id": "rUAjrMQ-vqc0"
      },
      "source": [
        "# **Processamento de Linguagem Natural [2022.Q2]**\n",
        "Prof. Alexandre Donizeti Alves"
      ]
    },
    {
      "cell_type": "markdown",
      "metadata": {
        "id": "lIlFC3phvwVy"
      },
      "source": [
        "### **Análise de Sentimentos**\n",
        "\n"
      ]
    },
    {
      "cell_type": "markdown",
      "source": [
        "**Modelos** de aprendizado de máquina **pré-treinados** podem ser usados com sucesso se os dados que você vai prever forem muito semelhantes aos dados em que o modelo foi treinado. Por exemplo, se você quiser prever o sentimento em tweets em inglês, precisará de um modelo treinado em tweets em inglês (ou em tweets em vários idiomas que contenham inglês)."
      ],
      "metadata": {
        "id": "-zzJRXhy5Lnk"
      }
    },
    {
      "cell_type": "markdown",
      "source": [
        "Novos modelos de **aprendizado profundo** (*deep learning*) são introduzidos em uma taxa crescente e às vezes é difícil acompanhar todas as novidades. Dito isso, um modelo de rede neural específico provou ser especialmente eficaz para tarefas comuns de processamento de linguagem natural. O modelo é chamado de **Transformer**."
      ],
      "metadata": {
        "id": "Zw6LvFzdCDr4"
      }
    },
    {
      "cell_type": "markdown",
      "source": [
        "Um **Transformer** é um modelo de aprendizado profundo que adota o mecanismo de autoatenção, ponderando diferencialmente o significado de cada parte dos dados de entrada."
      ],
      "metadata": {
        "id": "koH-7z8GDEGl"
      }
    },
    {
      "cell_type": "markdown",
      "source": [
        "A **autoatenção** é um mecanismo de atenção que relaciona diferentes posições de uma única sequência para computar uma representação da mesma sequência. O mecanismo de atenção fornece **contexto** para qualquer posição na sequência de entrada."
      ],
      "metadata": {
        "id": "2K-jrpGZGkqS"
      }
    },
    {
      "cell_type": "markdown",
      "source": [
        "A motivação é que a rede deve dedicar mais foco às partes pequenas, mas importantes, dos dados. Aprender qual parte dos dados é mais importante que outra depende do contexto. O efeito melhora algumas partes dos dados de entrada enquanto diminui outras partes."
      ],
      "metadata": {
        "id": "Hn5LpwH4FFAA"
      }
    },
    {
      "cell_type": "markdown",
      "source": [
        "A biblioteca `transformers` fornece a funcionalidade para criar e usar modelos compartilhados. A plataforma **Hugging Face Hub** contém milhares de modelos pré-treinados que qualquer pessoa pode baixar e usar. Você também pode enviar seus próprios modelos para o Hub!\n",
        "\n",
        "> https://huggingface.co/docs/hub/index"
      ],
      "metadata": {
        "id": "-8HoP048-tRb"
      }
    },
    {
      "cell_type": "markdown",
      "source": [
        "O objeto mais básico da biblioteca `transformers` é a função `pipeline()`. Ele conecta um modelo com suas etapas necessárias de pré-processamento e pós-processamento, permitindo inserir diretamente qualquer texto e obter uma resposta:"
      ],
      "metadata": {
        "id": "Xmzdw_CC-Hz6"
      }
    },
    {
      "cell_type": "code",
      "source": [
        "from transformers import pipeline\n",
        "\n",
        "classifier = pipeline(\"sentiment-analysis\")\n",
        "classifier(\"I've been waiting for a HuggingFace course my whole life.\")"
      ],
      "metadata": {
        "colab": {
          "base_uri": "https://localhost:8080/"
        },
        "id": "sBk8adkn-Smy",
        "outputId": "cb078d92-d966-4594-d049-e91074745cf8"
      },
      "execution_count": 20,
      "outputs": [
        {
          "output_type": "stream",
          "name": "stderr",
          "text": [
            "No model was supplied, defaulted to distilbert-base-uncased-finetuned-sst-2-english (https://huggingface.co/distilbert-base-uncased-finetuned-sst-2-english)\n"
          ]
        },
        {
          "output_type": "execute_result",
          "data": {
            "text/plain": [
              "[{'label': 'POSITIVE', 'score': 0.9598049521446228}]"
            ]
          },
          "metadata": {},
          "execution_count": 20
        }
      ]
    },
    {
      "cell_type": "markdown",
      "source": [
        "Podemos até passar várias frases!"
      ],
      "metadata": {
        "id": "ey8Dl8E0AsAj"
      }
    },
    {
      "cell_type": "code",
      "source": [
        "classifier(\n",
        "    [\"I've been waiting for a HuggingFace course my whole life.\", \n",
        "     \"I hate this so much!\"]\n",
        ")"
      ],
      "metadata": {
        "colab": {
          "base_uri": "https://localhost:8080/"
        },
        "id": "6AzWfCC2ApZb",
        "outputId": "b1cdf998-0214-40f5-ed69-472bcc914d80"
      },
      "execution_count": 17,
      "outputs": [
        {
          "output_type": "execute_result",
          "data": {
            "text/plain": [
              "[{'label': 'POSITIVE', 'score': 0.9598049521446228},\n",
              " {'label': 'NEGATIVE', 'score': 0.9994558691978455}]"
            ]
          },
          "metadata": {},
          "execution_count": 17
        }
      ]
    },
    {
      "cell_type": "markdown",
      "source": [
        "Você pode encontrar muitos modelos públicos pré-treinados para **análise de sentimentos** no **Hugging Face**:\n",
        "\n",
        "> https://huggingface.co/models?search=sentiment"
      ],
      "metadata": {
        "id": "_-aNDf9I5Zpq"
      }
    },
    {
      "cell_type": "markdown",
      "source": [
        "Um bom modelo de análise de sentimento para tweets é o `twitter-xlm-roberta-base-sentiment`, que funciona em oito idiomas (Ar, En, Fr, De, Hi, It, Sp, Pt). Visitando sua página, você verá trechos de código que mostram como usá-lo:\n",
        "\n",
        "> https://huggingface.co/cardiffnlp/twitter-xlm-roberta-base-sentiment"
      ],
      "metadata": {
        "id": "61_gYmSV5u3M"
      }
    },
    {
      "cell_type": "markdown",
      "source": [
        "Primeiro, precisamos instalar a biblioteca `transformers` do **Hugging Face**, junto com o tokenizador `SentencePiece` que será usado pelo nosso modelo."
      ],
      "metadata": {
        "id": "uT9Hd8iq6_jM"
      }
    },
    {
      "cell_type": "code",
      "source": [
        "!pip install transformers[sentencepiece]"
      ],
      "metadata": {
        "colab": {
          "base_uri": "https://localhost:8080/"
        },
        "id": "D1SXME7j3ov0",
        "outputId": "a05fba59-c83f-4d4b-eaf9-0da02c777415"
      },
      "execution_count": 10,
      "outputs": [
        {
          "output_type": "stream",
          "name": "stdout",
          "text": [
            "Looking in indexes: https://pypi.org/simple, https://us-python.pkg.dev/colab-wheels/public/simple/\n",
            "Requirement already satisfied: transformers[sentencepiece] in /usr/local/lib/python3.7/dist-packages (4.20.1)\n",
            "Requirement already satisfied: numpy>=1.17 in /usr/local/lib/python3.7/dist-packages (from transformers[sentencepiece]) (1.21.6)\n",
            "Requirement already satisfied: requests in /usr/local/lib/python3.7/dist-packages (from transformers[sentencepiece]) (2.23.0)\n",
            "Requirement already satisfied: packaging>=20.0 in /usr/local/lib/python3.7/dist-packages (from transformers[sentencepiece]) (21.3)\n",
            "Requirement already satisfied: tokenizers!=0.11.3,<0.13,>=0.11.1 in /usr/local/lib/python3.7/dist-packages (from transformers[sentencepiece]) (0.12.1)\n",
            "Requirement already satisfied: filelock in /usr/local/lib/python3.7/dist-packages (from transformers[sentencepiece]) (3.7.1)\n",
            "Requirement already satisfied: importlib-metadata in /usr/local/lib/python3.7/dist-packages (from transformers[sentencepiece]) (4.12.0)\n",
            "Requirement already satisfied: pyyaml>=5.1 in /usr/local/lib/python3.7/dist-packages (from transformers[sentencepiece]) (6.0)\n",
            "Requirement already satisfied: tqdm>=4.27 in /usr/local/lib/python3.7/dist-packages (from transformers[sentencepiece]) (4.64.0)\n",
            "Requirement already satisfied: regex!=2019.12.17 in /usr/local/lib/python3.7/dist-packages (from transformers[sentencepiece]) (2022.6.2)\n",
            "Requirement already satisfied: huggingface-hub<1.0,>=0.1.0 in /usr/local/lib/python3.7/dist-packages (from transformers[sentencepiece]) (0.8.1)\n",
            "Requirement already satisfied: sentencepiece!=0.1.92,>=0.1.91 in /usr/local/lib/python3.7/dist-packages (from transformers[sentencepiece]) (0.1.96)\n",
            "Requirement already satisfied: protobuf<=3.20.1 in /usr/local/lib/python3.7/dist-packages (from transformers[sentencepiece]) (3.17.3)\n",
            "Requirement already satisfied: typing-extensions>=3.7.4.3 in /usr/local/lib/python3.7/dist-packages (from huggingface-hub<1.0,>=0.1.0->transformers[sentencepiece]) (4.1.1)\n",
            "Requirement already satisfied: pyparsing!=3.0.5,>=2.0.2 in /usr/local/lib/python3.7/dist-packages (from packaging>=20.0->transformers[sentencepiece]) (3.0.9)\n",
            "Requirement already satisfied: six>=1.9 in /usr/local/lib/python3.7/dist-packages (from protobuf<=3.20.1->transformers[sentencepiece]) (1.15.0)\n",
            "Requirement already satisfied: zipp>=0.5 in /usr/local/lib/python3.7/dist-packages (from importlib-metadata->transformers[sentencepiece]) (3.8.1)\n",
            "Requirement already satisfied: idna<3,>=2.5 in /usr/local/lib/python3.7/dist-packages (from requests->transformers[sentencepiece]) (2.10)\n",
            "Requirement already satisfied: urllib3!=1.25.0,!=1.25.1,<1.26,>=1.21.1 in /usr/local/lib/python3.7/dist-packages (from requests->transformers[sentencepiece]) (1.24.3)\n",
            "Requirement already satisfied: chardet<4,>=3.0.2 in /usr/local/lib/python3.7/dist-packages (from requests->transformers[sentencepiece]) (3.0.4)\n",
            "Requirement already satisfied: certifi>=2017.4.17 in /usr/local/lib/python3.7/dist-packages (from requests->transformers[sentencepiece]) (2022.6.15)\n"
          ]
        }
      ]
    },
    {
      "cell_type": "code",
      "source": [
        "from transformers import pipeline\n",
        "\n",
        "model_path = \"cardiffnlp/twitter-xlm-roberta-base-sentiment\"\n",
        "sentiment_task = pipeline(\"sentiment-analysis\", model=model_path, tokenizer=model_path)"
      ],
      "metadata": {
        "id": "CT1KMuP84I2T"
      },
      "execution_count": 5,
      "outputs": []
    },
    {
      "cell_type": "markdown",
      "source": [
        "Em seguida, usaremos o código a seguir (muito semelhante ao trecho de código fornecido pelo **Hugging Face**) para extrair o sentimento de duas frases."
      ],
      "metadata": {
        "id": "fmJqcejg7YoL"
      }
    },
    {
      "cell_type": "code",
      "source": [
        "sentences = [\n",
        "  \"I really liked the video!\",\n",
        "  \"I'm not happy with the results.\"\n",
        "]\n",
        "sentiments = sentiment_task(sentences)\n",
        "for sentiment_dict, sentence in zip(sentiments, sentences):\n",
        "  print(f\"Text: {sentence}\\nSentiment: {sentiment_dict}\")"
      ],
      "metadata": {
        "colab": {
          "base_uri": "https://localhost:8080/"
        },
        "id": "ySob7IH94khS",
        "outputId": "793570c5-a86f-4958-fb44-e16ceb94483e"
      },
      "execution_count": 18,
      "outputs": [
        {
          "output_type": "stream",
          "name": "stdout",
          "text": [
            "Text: I really liked the video!\n",
            "Sentiment: {'label': 'Positive', 'score': 0.9351463913917542}\n",
            "Text: I'm not happy with the results.\n",
            "Sentiment: {'label': 'Negative', 'score': 0.9008225202560425}\n"
          ]
        }
      ]
    },
    {
      "cell_type": "code",
      "source": [
        "sentences = [\n",
        "  \"Gostei muito do vídeo!\",\n",
        "  \"Não estou feliz com os resultados.\"\n",
        "]\n",
        "sentiments = sentiment_task(sentences)\n",
        "for sentiment_dict, sentence in zip(sentiments, sentences):\n",
        "  print(f\"Text: {sentence}\\nSentiment: {sentiment_dict}\")"
      ],
      "metadata": {
        "colab": {
          "base_uri": "https://localhost:8080/"
        },
        "id": "f--z4XiG7wmD",
        "outputId": "b2d789bc-793c-4f3b-ac78-d7c1b46e163a"
      },
      "execution_count": 19,
      "outputs": [
        {
          "output_type": "stream",
          "name": "stdout",
          "text": [
            "Text: Gostei muito do vídeo!\n",
            "Sentiment: {'label': 'Positive', 'score': 0.9314153790473938}\n",
            "Text: Não estou feliz com os resultados.\n",
            "Sentiment: {'label': 'Negative', 'score': 0.8356583118438721}\n"
          ]
        }
      ]
    },
    {
      "cell_type": "markdown",
      "source": [
        "**Referência:**\n",
        "\n",
        "\n",
        "Two minutes NLP — Quick Intro to Sentiment Analysis\n",
        "> https://medium.com/nlplanet/two-minutes-nlp-quick-intro-to-sentiment-analysis-106b6947b2fd"
      ],
      "metadata": {
        "id": "U1Zqr49lHfkQ"
      }
    }
  ]
}