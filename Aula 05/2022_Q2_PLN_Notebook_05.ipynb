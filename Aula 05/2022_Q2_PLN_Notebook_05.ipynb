{
  "nbformat": 4,
  "nbformat_minor": 0,
  "metadata": {
    "colab": {
      "name": "2022-Q2 PLN Notebook 05.ipynb",
      "provenance": [],
      "collapsed_sections": [],
      "authorship_tag": "ABX9TyPACxcyHWKNIpyk71+cnmi/",
      "include_colab_link": true
    },
    "kernelspec": {
      "name": "python3",
      "display_name": "Python 3"
    }
  },
  "cells": [
    {
      "cell_type": "markdown",
      "metadata": {
        "id": "view-in-github",
        "colab_type": "text"
      },
      "source": [
        "<a href=\"https://colab.research.google.com/github/adalves-ufabc/2022.Q2-PLN/blob/main/2022_Q2_PLN_Notebook_05.ipynb\" target=\"_parent\"><img src=\"https://colab.research.google.com/assets/colab-badge.svg\" alt=\"Open In Colab\"/></a>"
      ]
    },
    {
      "cell_type": "markdown",
      "metadata": {
        "id": "x_wfEq7o3IdZ"
      },
      "source": [
        "# **Processamento de Linguagem Natural [2022.Q2]**\n",
        "Prof. Alexandre Donizeti Alves"
      ]
    },
    {
      "cell_type": "markdown",
      "metadata": {
        "id": "onY6dVr-FuFT"
      },
      "source": [
        "### **NLTK**\n",
        "\n",
        "---"
      ]
    },
    {
      "cell_type": "markdown",
      "metadata": {
        "id": "e2hIRXbrWkpE"
      },
      "source": [
        "O *Natural Language Toolkit*, ou mais comumente o **NLTK**, é um conjunto de bibliotecas e programas para processamento simbólico e estatístico da linguagem natural, escrito na linguagem de programação Python.\n",
        "\n",
        "Ele fornece interfaces fáceis de usar para mais de 50 corpora e recursos lexicais, como WordNet, junto com um conjunto de bibliotecas de processamento de texto para classificação, tokenização, lematização, marcação, análise e raciocínio semântico etc.\n",
        "\n",
        "O NLTK inclui uma grande quantidade de código, dados e documentação, todos disponíveis gratuitamente para download em http://www.nltk.org/"
      ]
    },
    {
      "cell_type": "markdown",
      "metadata": {
        "id": "q--R8-IQONrz"
      },
      "source": [
        "Uma das primeiras coisas a se testar é se o NLTK está disponível no Google Colab. Para isso, execute a seguinte instrução:"
      ]
    },
    {
      "cell_type": "code",
      "metadata": {
        "id": "rKnti_tKFyeh"
      },
      "source": [
        "import nltk"
      ],
      "execution_count": null,
      "outputs": []
    },
    {
      "cell_type": "markdown",
      "metadata": {
        "id": "rx8kimPcrx9q"
      },
      "source": [
        "O NLTK possui uma série de pacotes adicionais ou [corpora](#myfootnote1)  que podem ser facilmente adicionados à instalação básica da biblioteca.\n",
        "\n",
        "Para ter acesso ao download destes pacotes adicionais, basta utilizar o comando: \n",
        "\n",
        "`nltk.download()`\n",
        "\n",
        "<a name=\"myfootnote1\">Corpora</a>: plural de \"corpus\", que em latim significa um conjunto de uma obra. Termo que serve para designar um conjunto de textos, ou registros orais de uma língua para fins de análise."
      ]
    },
    {
      "cell_type": "code",
      "metadata": {
        "id": "kfWFi8dBO42I",
        "colab": {
          "base_uri": "https://localhost:8080/"
        },
        "outputId": "492cdfc0-8f5a-482d-f4c4-249e1306fe3d"
      },
      "source": [
        "nltk.download()"
      ],
      "execution_count": null,
      "outputs": [
        {
          "name": "stdout",
          "output_type": "stream",
          "text": [
            "NLTK Downloader\n",
            "---------------------------------------------------------------------------\n",
            "    d) Download   l) List    u) Update   c) Config   h) Help   q) Quit\n",
            "---------------------------------------------------------------------------\n",
            "Downloader> l\n",
            "\n",
            "Packages:\n",
            "  [ ] abc................. Australian Broadcasting Commission 2006\n",
            "  [ ] alpino.............. Alpino Dutch Treebank\n",
            "  [ ] averaged_perceptron_tagger Averaged Perceptron Tagger\n",
            "  [ ] averaged_perceptron_tagger_ru Averaged Perceptron Tagger (Russian)\n",
            "  [ ] basque_grammars..... Grammars for Basque\n",
            "  [ ] biocreative_ppi..... BioCreAtIvE (Critical Assessment of Information\n",
            "                           Extraction Systems in Biology)\n",
            "  [ ] bllip_wsj_no_aux.... BLLIP Parser: WSJ Model\n",
            "  [ ] book_grammars....... Grammars from NLTK Book\n",
            "  [ ] brown............... Brown Corpus\n",
            "  [ ] brown_tei........... Brown Corpus (TEI XML Version)\n",
            "  [ ] cess_cat............ CESS-CAT Treebank\n",
            "  [ ] cess_esp............ CESS-ESP Treebank\n",
            "  [ ] chat80.............. Chat-80 Data Files\n",
            "  [ ] city_database....... City Database\n",
            "  [ ] cmudict............. The Carnegie Mellon Pronouncing Dictionary (0.6)\n",
            "  [ ] comparative_sentences Comparative Sentence Dataset\n",
            "  [ ] comtrans............ ComTrans Corpus Sample\n",
            "  [ ] conll2000........... CONLL 2000 Chunking Corpus\n",
            "  [ ] conll2002........... CONLL 2002 Named Entity Recognition Corpus\n",
            "Hit Enter to continue: q\n",
            "\n",
            "---------------------------------------------------------------------------\n",
            "    d) Download   l) List    u) Update   c) Config   h) Help   q) Quit\n",
            "---------------------------------------------------------------------------\n",
            "Downloader> q\n"
          ]
        },
        {
          "output_type": "execute_result",
          "data": {
            "text/plain": [
              "True"
            ]
          },
          "metadata": {},
          "execution_count": 2
        }
      ]
    },
    {
      "cell_type": "markdown",
      "metadata": {
        "id": "yWJOIxcpPG-l"
      },
      "source": [
        "Um dos corpora disponibilizados pelo NLTK é a obra completa de Machado de Assis. O nome desse pacote é \"machado\"."
      ]
    },
    {
      "cell_type": "code",
      "metadata": {
        "id": "RLTOud0nPId0"
      },
      "source": [
        "from nltk.corpus import machado"
      ],
      "execution_count": null,
      "outputs": []
    },
    {
      "cell_type": "markdown",
      "metadata": {
        "id": "XEMce0AVPPcL"
      },
      "source": [
        "Aparentemente está disponível, mas caso não estivesse, bastaria realizar o download."
      ]
    },
    {
      "cell_type": "code",
      "metadata": {
        "id": "gAwq1sB4PRjQ",
        "colab": {
          "base_uri": "https://localhost:8080/"
        },
        "outputId": "f8e75a5e-8fbc-4999-eb44-fd06b33748a9"
      },
      "source": [
        "nltk.download(\"machado\")"
      ],
      "execution_count": null,
      "outputs": [
        {
          "output_type": "stream",
          "name": "stderr",
          "text": [
            "[nltk_data] Downloading package machado to /root/nltk_data...\n"
          ]
        },
        {
          "output_type": "execute_result",
          "data": {
            "text/plain": [
              "True"
            ]
          },
          "metadata": {},
          "execution_count": 4
        }
      ]
    },
    {
      "cell_type": "markdown",
      "metadata": {
        "id": "00mSruUDPYs-"
      },
      "source": [
        "Agora é possível, por exemplo, obter algumas informações sobre o corpus:"
      ]
    },
    {
      "cell_type": "code",
      "metadata": {
        "id": "i7n-Cv4IPcg6",
        "colab": {
          "base_uri": "https://localhost:8080/"
        },
        "outputId": "56624a41-ec6f-4f72-8114-5389940d2882"
      },
      "source": [
        "print (\"Número de arquivos no corpus:\", len(machado.fileids()))\n",
        "print (\"Primeiros cinco textos do corpus\", machado.fileids()[0:5])\n",
        "print (\"Quantas palavras existem nesse corpus?\", len(machado.words()))"
      ],
      "execution_count": null,
      "outputs": [
        {
          "output_type": "stream",
          "name": "stdout",
          "text": [
            "Número de arquivos no corpus: 246\n",
            "Primeiros cinco textos do corpus ['contos/macn001.txt', 'contos/macn002.txt', 'contos/macn003.txt', 'contos/macn004.txt', 'contos/macn005.txt']\n",
            "Quantas palavras existem nesse corpus? 3121944\n"
          ]
        }
      ]
    },
    {
      "cell_type": "markdown",
      "metadata": {
        "id": "-2DDQdZEQg_I"
      },
      "source": [
        "A partir de agora o objetivo é mostrar como o NLTK facilita enormemente o processamento de textos por meio de funções que a biblioteca disponibiliza."
      ]
    },
    {
      "cell_type": "markdown",
      "metadata": {
        "id": "ZwQXMpvLRbFI"
      },
      "source": [
        "O NLTK permite retornar um texto como uma lista de *tokens* usando o método ***`words(id)`***:"
      ]
    },
    {
      "cell_type": "code",
      "metadata": {
        "id": "bUELbrraQqaV",
        "colab": {
          "base_uri": "https://localhost:8080/"
        },
        "outputId": "6ecd88a1-4aba-43a8-9b74-96b6afc808d1"
      },
      "source": [
        "texto1 = machado.words('romance/marm05.txt')\n",
        "print(texto1)\n",
        "print(len(texto1))"
      ],
      "execution_count": null,
      "outputs": [
        {
          "output_type": "stream",
          "name": "stdout",
          "text": [
            "['Romance', ',', 'Memórias', 'Póstumas', 'de', 'Brás', ...]\n",
            "77098\n"
          ]
        }
      ]
    },
    {
      "cell_type": "markdown",
      "metadata": {
        "id": "r4OhB0jYR2gD"
      },
      "source": [
        "Outra possibilidade é usar a classe **`Text`** do NLTK, que além de reperesentar o texto como uma sequência de tokens, também implementa uma série de métodos muito úteis:"
      ]
    },
    {
      "cell_type": "code",
      "metadata": {
        "id": "IYighIUMSKIe"
      },
      "source": [
        "from nltk.text import Text\n",
        "bras = Text(machado.words('romance/marm05.txt'))"
      ],
      "execution_count": null,
      "outputs": []
    },
    {
      "cell_type": "markdown",
      "metadata": {
        "id": "u516lw-YSz67"
      },
      "source": [
        "Com a classe **`Text`** podemos, por exemplo, encontrar uma palavra dentro de diferentes contextos usando o método ***`concordance(string)`***:"
      ]
    },
    {
      "cell_type": "code",
      "metadata": {
        "id": "iPZRB847S-SI",
        "colab": {
          "base_uri": "https://localhost:8080/"
        },
        "outputId": "f8729a9a-5f14-496e-b007-2b96f716a190"
      },
      "source": [
        "bras.concordance('olhos')"
      ],
      "execution_count": null,
      "outputs": [
        {
          "output_type": "stream",
          "name": "stdout",
          "text": [
            "Displaying 25 of 138 matches:\n",
            "De pé , à cabeceira da cama , com os olhos estúpidos , a boca entreaberta , a t\n",
            "orelhas . Pela minha parte fechei os olhos e deixei - me ir à ventura . Já agor\n",
            "xões de cérebro enfermo . Como ia de olhos fechados , não via o caminho ; lembr\n",
            "gelos eternos . Com efeito , abri os olhos e vi que o meu animal galopava numa \n",
            "me apareceu então , fitando - me uns olhos rutilantes como o sol . Tudo nessa f\n",
            " mim mesmo . Então , encarei - a com olhos súplices , e pedi mais alguns anos .\n",
            "o alto de uma montanha . Inclinei os olhos a uma das vertentes , e contemplei ,\n",
            "ilhão , e , não obstante , porque os olhos do delírio são outros , eu via tudo \n",
            "cifração da eternidade . E fixei os olhos , e continuei a ver as idades , que \n",
            " esperto , concordava meu pai ; e os olhos babavam - se - lhe de orgulho , e el\n",
            "te , e , repetido o mote , cravar os olhos na testa de uma senhora , depois tos\n",
            "avrear de estômagos satisfeitos ; os olhos moles e úmidos , ou vivos e cálidos \n",
            "m estacado de orquestra , e todos os olhos se voltavam para o glosador . Quem f\n",
            " . Eu via isso , porque arrastava os olhos da compota para ele e dele para a co\n",
            " eu segui - os . O Vilaça levava nos olhos umas chispas de vinho e de volúpia .\n",
            "es ... D . Eusébia levou o lenço aos olhos . O glosador vasculhava na memória a\n",
            " estupefação imobilizou a todos ; os olhos espraiavam - se a uma e outra banda \n",
            "a aula , dava um pulo , circulava os olhos chamejantes , dizia - nos os últimos\n",
            ", deixava - se estar quieto , com os olhos espetados no ar . Uma flor , o Quinc\n",
            "u forcejava por trazer a bigode . Os olhos , vivos e resolutos , eram a minha f\n",
            " pensativa , ou levantou para mim os olhos cobiçosos . De todas porém a que me \n",
            "pouco ou nada comi , porque só tinha olhos para a dona da casa . Que gentil que\n",
            "erramava - se - lhe a felicidade dos olhos , e eu sentia - me feliz com vê - la\n",
            " meu amor ! Eu agradeci - lho com os olhos úmidos . No dia seguinte levei - lhe\n",
            "proposta . Marcela ouviu - me com os olhos no ar , sem responder logo ; como in\n"
          ]
        }
      ]
    },
    {
      "cell_type": "markdown",
      "metadata": {
        "id": "15pYpfjmT1H5"
      },
      "source": [
        "Podemos encontrar palavras em um contexto com ajuda de expressões regulares:"
      ]
    },
    {
      "cell_type": "code",
      "metadata": {
        "id": "bxbRMimpT2WT",
        "colab": {
          "base_uri": "https://localhost:8080/"
        },
        "outputId": "80fb1a3d-dd7e-44db-a9ff-e36a8457fbfa"
      },
      "source": [
        "bras.findall(\"<olhos> (<.*>)\")"
      ],
      "execution_count": null,
      "outputs": [
        {
          "output_type": "stream",
          "name": "stdout",
          "text": [
            "estúpidos; e; fechados; e; rutilantes; súplices; a; do; ,; babavam;\n",
            "na; moles; se; da; umas; .; espraiavam; chamejantes; espetados; ,;\n",
            "cobiçosos; para; ,; úmidos; no; ;; de; de; fitos; a; naquele; do; ,;\n",
            "pretos; as; estúpidos; ao; às; ...; ,; fúlgidos; de; ,; .; de; pretos;\n",
            "tão; de; para; a; chisparam; para; me; da; ,; ,; uma; no; na; para;\n",
            "se; em; .; em; .; de; ,; no; nela; tinham; ;; cintilantes; o; dos; e;\n",
            ",; de; de; dela; vermelhos; .; e; .; o; ,; constantemente; para; ,; ,;\n",
            "para; ,; ao; ,; na; na; baixos; no; mais; no; se; dela; do; no; ,;\n",
            "lampejantes; rasos; todos; ,; e; do; pelos; de; ao; .; lhe; de;\n",
            "enfermos; :; ,; .; e; da; fixos; .; fitos; ,; ,; bonitos; de; ...; .;\n",
            "de; algum; a; ;; fitos; em\n"
          ]
        }
      ]
    },
    {
      "cell_type": "markdown",
      "metadata": {
        "id": "OAhEzZyzVJvp"
      },
      "source": [
        "**Stop words**\n",
        "\n",
        "---\n",
        "\n",
        "\n",
        "\n",
        "***Stop words*** são palavras que podem ser consideradas irrelevantes para o entedimento do sentido de um texto, ou seja, palavras semanticamente irrelavantes.  **Exemplos**: as, e, os,de, para, com, sem, foi.  \n",
        "\n",
        "Essas palavras são geralmente removidas de um texto durante a fase de pré-processamento.\n",
        "\n",
        "O NLTK possui uma lista de ***stop words*** para o **Português**:\n"
      ]
    },
    {
      "cell_type": "code",
      "metadata": {
        "id": "ZBtI-9OmV0Y7",
        "colab": {
          "base_uri": "https://localhost:8080/"
        },
        "outputId": "bf0d4de8-82fc-4d0c-a2d3-e9a7fb14da41"
      },
      "source": [
        "nltk.download('stopwords')"
      ],
      "execution_count": null,
      "outputs": [
        {
          "output_type": "stream",
          "name": "stderr",
          "text": [
            "[nltk_data] Downloading package stopwords to /root/nltk_data...\n",
            "[nltk_data]   Unzipping corpora/stopwords.zip.\n"
          ]
        },
        {
          "output_type": "execute_result",
          "data": {
            "text/plain": [
              "True"
            ]
          },
          "metadata": {},
          "execution_count": 12
        }
      ]
    },
    {
      "cell_type": "code",
      "metadata": {
        "id": "7mm1J5pJVciq",
        "colab": {
          "base_uri": "https://localhost:8080/"
        },
        "outputId": "f3329ef4-af5a-4639-8dcc-b181f35081a3"
      },
      "source": [
        "stopwords = nltk.corpus.stopwords.words('portuguese')\n",
        "print(stopwords[:10])\n",
        "print(len(stopwords))"
      ],
      "execution_count": null,
      "outputs": [
        {
          "output_type": "stream",
          "name": "stdout",
          "text": [
            "['de', 'a', 'o', 'que', 'e', 'é', 'do', 'da', 'em', 'um']\n",
            "204\n"
          ]
        }
      ]
    },
    {
      "cell_type": "markdown",
      "metadata": {
        "id": "DTdzhiG7CRDJ"
      },
      "source": [
        "## **Tarefas de Pré-processamento em PLN**\n",
        "---"
      ]
    },
    {
      "cell_type": "markdown",
      "metadata": {
        "id": "x01_4-43Chi8"
      },
      "source": [
        "Para realizar essas tarefas, usaremos uma biblioteca Python chamada **NLTK** (Natural Language Toolkit). **NLTK** é uma ferramenta de código aberto poderosa que fornece um conjunto de métodos e algoritmos para realizar uma ampla gama de tarefas de PLN, incluindo *tokenization* (tokenização), *Parts-of-Speech tagging* (*PoS Tagging*), *stemming*, *lemmatization* (lematização) e muito mais."
      ]
    },
    {
      "cell_type": "markdown",
      "metadata": {
        "id": "cOKqKYeRZJ7_"
      },
      "source": [
        "**Tokenização**\n",
        "\n",
        "---\n",
        "\n"
      ]
    },
    {
      "cell_type": "markdown",
      "metadata": {
        "id": "t6ImGc0mEVcc"
      },
      "source": [
        "\n",
        "A **tokenização** se refere ao procedimento de dividir uma frase em suas partes constituintes - as palavras e a pontuação das quais ela é composta. \n",
        "\n",
        "É diferente de simplesmente dividir a frase em espaços em branco e, em vez disso, divide a frase em palavras constituintes, números (se houver) e pontuação, que nem sempre podem ser separados por espaços em branco. \n",
        "\n",
        "Por exemplo, considere esta frase: \"I am reading a book.\" Aqui, nossa tarefa é extrair palavras / tokens desta frase. Depois de passar essa frase para um programa de tokenização, as palavras / tokens extraídos seriam \"I\", \"am\", \"reading\", \"a\", \"book\" e \".\" - este exemplo extrai um token de cada vez. Esses tokens são chamados de **unigramas**.\n",
        "\n",
        "\n",
        "O NLTK fornece um método chamado **`word_tokenize()`**, que transforma o texto em palavras (tokens). Na verdade, ele separa o texto em palavras diferentes com base na pontuação e espaços entre as palavras."
      ]
    },
    {
      "cell_type": "markdown",
      "metadata": {
        "id": "2AM9PSpCFTVV"
      },
      "source": [
        "### **Exemplo 1.02 - Tokenização [*Tokenization*]**"
      ]
    },
    {
      "cell_type": "code",
      "metadata": {
        "id": "qUZDKegpGOGi",
        "colab": {
          "base_uri": "https://localhost:8080/"
        },
        "outputId": "dd133f12-5159-4de0-ea62-8e4d4643a161"
      },
      "source": [
        "from nltk import word_tokenize,download\n",
        "download(['punkt','averaged_perceptron_tagger','stopwords'])"
      ],
      "execution_count": null,
      "outputs": [
        {
          "output_type": "stream",
          "name": "stderr",
          "text": [
            "[nltk_data] Downloading package punkt to /root/nltk_data...\n",
            "[nltk_data]   Unzipping tokenizers/punkt.zip.\n",
            "[nltk_data] Downloading package averaged_perceptron_tagger to\n",
            "[nltk_data]     /root/nltk_data...\n",
            "[nltk_data]   Unzipping taggers/averaged_perceptron_tagger.zip.\n",
            "[nltk_data] Downloading package stopwords to /root/nltk_data...\n",
            "[nltk_data]   Package stopwords is already up-to-date!\n"
          ]
        },
        {
          "output_type": "execute_result",
          "data": {
            "text/plain": [
              "True"
            ]
          },
          "metadata": {},
          "execution_count": 14
        }
      ]
    },
    {
      "cell_type": "code",
      "metadata": {
        "id": "wOebC1YmGepE",
        "colab": {
          "base_uri": "https://localhost:8080/"
        },
        "outputId": "4aad9db1-c5be-4b81-fd9a-7f6dfc70e080"
      },
      "source": [
        "def get_tokens(sentence):\n",
        "    words = word_tokenize(sentence)\n",
        "    return words\n",
        "\n",
        "print(get_tokens(\"I am reading NLP Fundamentals.\"))"
      ],
      "execution_count": null,
      "outputs": [
        {
          "output_type": "stream",
          "name": "stdout",
          "text": [
            "['I', 'am', 'reading', 'NLP', 'Fundamentals', '.']\n"
          ]
        }
      ]
    },
    {
      "cell_type": "markdown",
      "metadata": {
        "id": "CZf_cmCXZUXn"
      },
      "source": [
        "**PoS Tagging**\n",
        "\n",
        "---\n"
      ]
    },
    {
      "cell_type": "markdown",
      "metadata": {
        "id": "PBRKc69HGwrD"
      },
      "source": [
        "Um etiquetador é responsável pelo processo de definição da classe gramatical das palavras, de acordo com as funções sintáticas.  \n",
        "\n",
        "O processo de classificação das palavras em suas classe gramaticais (a quais chamamos de ***Part-of-Speech*** ou ***POS***) e rotulação são conhecidas como *Part-of-Speech tagging*, *POS-tagging*, ou simplismente *tagging*.\n",
        "\n",
        "Em PLN, o termo PoS se refere a classes gramaticais. **PoS Tagging** se refere ao processo de etiquetação de palavras dentro de frases com seus respectivos PoS. Extraímos os PoS de tokens que constituem uma frase para que possamos filtrar os PoS de interesse e analisá-los. \n",
        "\n",
        "Por exemplo, se olharmos para a frase \"*The sky is blue*\", obteremos quatro tokens com a ajuda da **tokenização**: \"*The*\", \"*sky*\", \"*is*\" e \"*blue*\". Agora, usando um *POS tagger*, marcamos o PoS para cada palavra/token. Isso terá a seguinte aparência:\n",
        "\n",
        "> [('The', 'DT'), ('sky', 'NN'), ('is', 'VBZ'), ('blue', 'JJ')]\n",
        "\n",
        "O formato anterior é uma saída do método **`pos_tag()`** da biblioteca NLTK. É uma lista de tuplas em que cada tupla consiste na palavra seguida pela PoS tag:\n",
        "\n",
        "\n",
        "> **DT** = Determiner\n",
        "\n",
        "> **NN** = Noun, common, singular or mass\n",
        "\n",
        "> **VBZ** = Verb, present tense, third-person singular\n",
        "\n",
        "> **JJ** = Adjective\n",
        "\n",
        "Para obter a lista completa de PoS tags em NLTK, você pode consultar https://pythonprogramming.net/natural-language-toolkit-nltk-part-speech-tagging/.\n",
        "\n",
        "**PoS tagging** é realizada usando diferentes técnicas, uma das quais é uma abordagem baseada em regras que constrói uma lista para atribuir uma possível tag para cada palavra.\n",
        "\n",
        "**PoS tagging** encontra aplicação em muitas tarefas de PLN, incluindo desambiguação de sentido de palavra, classificação, reconhecimento de entidade nomeada (***NER - Named Entity Recognition***) etc.\n",
        "\n",
        "Por exemplo, considere o uso da palavra \"planted\" nestas duas frases:\n",
        "\n",
        "> \"*He planted the evidence for the case*\" e \"*He planted five trees in the garden*\"\n",
        "\n",
        "Podemos ver que a POS tag \"planted\" claramente nos ajudaria a diferenciar os diferentes significados das frases."
      ]
    },
    {
      "cell_type": "markdown",
      "metadata": {
        "id": "hRqF9-eXe9Va"
      },
      "source": [
        "### **Exemplo 1.03 - *PoS Tagging***"
      ]
    },
    {
      "cell_type": "code",
      "metadata": {
        "id": "ANagaiepfHF3"
      },
      "source": [
        "from nltk import word_tokenize, pos_tag"
      ],
      "execution_count": null,
      "outputs": []
    },
    {
      "cell_type": "code",
      "metadata": {
        "id": "_w1utWbcfadV"
      },
      "source": [
        "def get_tokens(sentence):\n",
        "    words = word_tokenize(sentence)\n",
        "    return words"
      ],
      "execution_count": null,
      "outputs": []
    },
    {
      "cell_type": "code",
      "metadata": {
        "id": "OHv6Q1B5fgAb",
        "colab": {
          "base_uri": "https://localhost:8080/"
        },
        "outputId": "57841d6a-9ba6-4774-9216-ccbb396a239f"
      },
      "source": [
        "words  = get_tokens(\"I am reading NLP Fundamentals\")\n",
        "print(words)"
      ],
      "execution_count": null,
      "outputs": [
        {
          "output_type": "stream",
          "name": "stdout",
          "text": [
            "['I', 'am', 'reading', 'NLP', 'Fundamentals']\n"
          ]
        }
      ]
    },
    {
      "cell_type": "code",
      "metadata": {
        "id": "cYzkNTOzfns-",
        "colab": {
          "base_uri": "https://localhost:8080/"
        },
        "outputId": "b6c5dddb-aea2-4f56-d6f1-b7c34abcce1b"
      },
      "source": [
        "def get_pos(words):\n",
        "    return pos_tag(words)\n",
        "    \n",
        "get_pos(words)"
      ],
      "execution_count": null,
      "outputs": [
        {
          "output_type": "execute_result",
          "data": {
            "text/plain": [
              "[('I', 'PRP'),\n",
              " ('am', 'VBP'),\n",
              " ('reading', 'VBG'),\n",
              " ('NLP', 'NNP'),\n",
              " ('Fundamentals', 'NNS')]"
            ]
          },
          "metadata": {},
          "execution_count": 19
        }
      ]
    },
    {
      "cell_type": "markdown",
      "metadata": {
        "id": "vibL1eq4fvYr"
      },
      "source": [
        "Na saída anterior, podemos ver que para cada token, um PoS foi alocado.\n",
        "\n",
        ">**PRP** significa pronome pessoal\n",
        "\n",
        "> **VBP** significa verbo no presente\n",
        "\n",
        "> **VGB** significa verbo no gerúndio\n",
        "\n",
        "> **NNP** significa substantivo próprio singular \n",
        "\n",
        "> **NNS** significa substantivo plural\n"
      ]
    },
    {
      "cell_type": "markdown",
      "metadata": {
        "id": "7xDFTRZHgYZU"
      },
      "source": [
        "**Remoção de *stop words***\n",
        "\n",
        "---"
      ]
    },
    {
      "cell_type": "markdown",
      "metadata": {
        "id": "BjSPIcyMgetf"
      },
      "source": [
        "As palavras irrelevantes (***stop words***) são as palavras que ocorrem com mais frequência em qualquer idioma e são usadas apenas para apoiar a construção de frases e não contribuem em nada para a semântica de uma frase.\n",
        "\n",
        "Portanto, podemos remover essas palavras de qualquer texto antes de um processo de PLL, pois elas ocorrem com muita frequência e sua presença não tem muito impacto no sentido de uma frase. Removê-las nos ajudará a limpar nossos dados, tornando sua análise muito mais eficiente. Exemplos de ***stop words*** (em inglês) incluem \"*a*\", \"*am*\", \"*and*\", \"*the*\", \"*in*\", \"*of*\", entre outras."
      ]
    },
    {
      "cell_type": "markdown",
      "metadata": {
        "id": "_CkKAgl6mcc6"
      },
      "source": [
        "### **Exemplo 1.04 - Remoção de *stop words***"
      ]
    },
    {
      "cell_type": "code",
      "metadata": {
        "id": "KPi3mZFrml8F",
        "colab": {
          "base_uri": "https://localhost:8080/"
        },
        "outputId": "ed1e29e9-bd73-4f63-931e-5e59c299bccf"
      },
      "source": [
        "from nltk import download\n",
        "download('stopwords')\n",
        "from nltk import word_tokenize\n",
        "from nltk.corpus import stopwords"
      ],
      "execution_count": null,
      "outputs": [
        {
          "output_type": "stream",
          "name": "stderr",
          "text": [
            "[nltk_data] Downloading package stopwords to /root/nltk_data...\n",
            "[nltk_data]   Package stopwords is already up-to-date!\n"
          ]
        }
      ]
    },
    {
      "cell_type": "code",
      "metadata": {
        "id": "KYqC_sthmv9n",
        "colab": {
          "base_uri": "https://localhost:8080/"
        },
        "outputId": "bf13b56d-7676-49d0-d62c-26df512637e4"
      },
      "source": [
        "stop_words = stopwords.words('english')\n",
        "print(stop_words)"
      ],
      "execution_count": null,
      "outputs": [
        {
          "output_type": "stream",
          "name": "stdout",
          "text": [
            "['i', 'me', 'my', 'myself', 'we', 'our', 'ours', 'ourselves', 'you', \"you're\", \"you've\", \"you'll\", \"you'd\", 'your', 'yours', 'yourself', 'yourselves', 'he', 'him', 'his', 'himself', 'she', \"she's\", 'her', 'hers', 'herself', 'it', \"it's\", 'its', 'itself', 'they', 'them', 'their', 'theirs', 'themselves', 'what', 'which', 'who', 'whom', 'this', 'that', \"that'll\", 'these', 'those', 'am', 'is', 'are', 'was', 'were', 'be', 'been', 'being', 'have', 'has', 'had', 'having', 'do', 'does', 'did', 'doing', 'a', 'an', 'the', 'and', 'but', 'if', 'or', 'because', 'as', 'until', 'while', 'of', 'at', 'by', 'for', 'with', 'about', 'against', 'between', 'into', 'through', 'during', 'before', 'after', 'above', 'below', 'to', 'from', 'up', 'down', 'in', 'out', 'on', 'off', 'over', 'under', 'again', 'further', 'then', 'once', 'here', 'there', 'when', 'where', 'why', 'how', 'all', 'any', 'both', 'each', 'few', 'more', 'most', 'other', 'some', 'such', 'no', 'nor', 'not', 'only', 'own', 'same', 'so', 'than', 'too', 'very', 's', 't', 'can', 'will', 'just', 'don', \"don't\", 'should', \"should've\", 'now', 'd', 'll', 'm', 'o', 're', 've', 'y', 'ain', 'aren', \"aren't\", 'couldn', \"couldn't\", 'didn', \"didn't\", 'doesn', \"doesn't\", 'hadn', \"hadn't\", 'hasn', \"hasn't\", 'haven', \"haven't\", 'isn', \"isn't\", 'ma', 'mightn', \"mightn't\", 'mustn', \"mustn't\", 'needn', \"needn't\", 'shan', \"shan't\", 'shouldn', \"shouldn't\", 'wasn', \"wasn't\", 'weren', \"weren't\", 'won', \"won't\", 'wouldn', \"wouldn't\"]\n"
          ]
        }
      ]
    },
    {
      "cell_type": "code",
      "metadata": {
        "colab": {
          "base_uri": "https://localhost:8080/"
        },
        "id": "rJxKYHFXf1qW",
        "outputId": "288383b1-23f0-4d3d-dc1e-68050a52fa8a"
      },
      "source": [
        "print(len(stop_words))"
      ],
      "execution_count": null,
      "outputs": [
        {
          "output_type": "stream",
          "name": "stdout",
          "text": [
            "179\n"
          ]
        }
      ]
    },
    {
      "cell_type": "code",
      "metadata": {
        "id": "vgr1r34Ym6ep",
        "colab": {
          "base_uri": "https://localhost:8080/"
        },
        "outputId": "3da7d9d5-15ed-45aa-8fe4-b3102843d602"
      },
      "source": [
        "sentence = \"I am learning Python. It is one of the most popular programming languages\"\n",
        "sentence_words = word_tokenize(sentence)\n",
        "\n",
        "print(sentence_words)"
      ],
      "execution_count": null,
      "outputs": [
        {
          "output_type": "stream",
          "name": "stdout",
          "text": [
            "['I', 'am', 'learning', 'Python', '.', 'It', 'is', 'one', 'of', 'the', 'most', 'popular', 'programming', 'languages']\n"
          ]
        }
      ]
    },
    {
      "cell_type": "code",
      "metadata": {
        "id": "yKMu0iQDnA7F",
        "colab": {
          "base_uri": "https://localhost:8080/"
        },
        "outputId": "c9b65317-5ce2-4101-98de-8fc21fc1d08b"
      },
      "source": [
        "def remove_stop_words(sentence, stop_words):\n",
        "    return ' '.join([word for word in sentence if word not in stop_words])\n",
        "\n",
        "print(remove_stop_words(sentence_words, stop_words))"
      ],
      "execution_count": null,
      "outputs": [
        {
          "output_type": "stream",
          "name": "stdout",
          "text": [
            "I learning Python . It one popular programming languages\n"
          ]
        }
      ]
    },
    {
      "cell_type": "code",
      "metadata": {
        "id": "vvymdtiYnGaQ",
        "colab": {
          "base_uri": "https://localhost:8080/"
        },
        "outputId": "d7d02f5b-d788-4fde-ec1b-8e5567e93141"
      },
      "source": [
        "stop_words.extend(['I','It', 'one'])\n",
        "print(remove_stop_words(sentence_words,stop_words))"
      ],
      "execution_count": null,
      "outputs": [
        {
          "output_type": "stream",
          "name": "stdout",
          "text": [
            "learning Python . popular programming languages\n"
          ]
        }
      ]
    },
    {
      "cell_type": "markdown",
      "metadata": {
        "id": "YfaUYXJ1oD5W"
      },
      "source": [
        "**Normalização de Textos**\n",
        "\n",
        "---"
      ]
    },
    {
      "cell_type": "markdown",
      "metadata": {
        "id": "8AA6gLHaoJKM"
      },
      "source": [
        "Existem algumas palavras que são soletradas, pronunciadas e representadas de maneira diferente - por exemplo, palavras como US e United States. Embora sejam diferentes, eles se referem à mesma coisa. \n",
        "\n",
        "Existem também diferentes formas de palavras que precisam ser convertidas em formas básicas. Por exemplo, palavras como \"*does*\" e \"*doing*\", quando convertidas para sua forma básica, tornam-se \"*do*\". \n",
        "\n",
        "A **normalização de textos** é um processo em que diferentes variações de texto são convertidas em um formato padrão. Precisamos realizar a normalização do texto, pois há algumas palavras que podem significar a mesma coisa. Existem várias maneiras de normalizar o texto, como *spelling correction* (correção ortográfica), *stemming* e *lemmatization* (lematização)."
      ]
    },
    {
      "cell_type": "markdown",
      "metadata": {
        "id": "SoRsqp1H83e-"
      },
      "source": [
        "### **Exercício 1.05 - Normalização de Textos**"
      ]
    },
    {
      "cell_type": "code",
      "metadata": {
        "id": "Looak_w59Uu1"
      },
      "source": [
        "sentence = \"I visited the US from the UK on 22-10-18\""
      ],
      "execution_count": null,
      "outputs": []
    },
    {
      "cell_type": "code",
      "metadata": {
        "id": "bsC_nR0W9eTW"
      },
      "source": [
        "def normalize(text):\n",
        "    return text.replace(\"US\", \"United States\").replace(\"UK\", \n",
        "        \"United Kingdom\").replace(\"-18\", \"-2018\")"
      ],
      "execution_count": null,
      "outputs": []
    },
    {
      "cell_type": "code",
      "metadata": {
        "id": "q6BXDoYb9ixI",
        "colab": {
          "base_uri": "https://localhost:8080/"
        },
        "outputId": "200ccc03-fa00-4f5f-f978-91f1728f8d54"
      },
      "source": [
        "normalized_sentence = normalize(sentence)\n",
        "print(normalized_sentence)"
      ],
      "execution_count": null,
      "outputs": [
        {
          "output_type": "stream",
          "name": "stdout",
          "text": [
            "I visited the United States from the United Kingdom on 22-10-2018\n"
          ]
        }
      ]
    },
    {
      "cell_type": "code",
      "metadata": {
        "id": "AxbLIAvv9olZ",
        "colab": {
          "base_uri": "https://localhost:8080/"
        },
        "outputId": "dbf531a8-858e-4607-ed89-e40a73032030"
      },
      "source": [
        "normalized_sentence = normalize('The US and the UK are two superpowers')\n",
        "print(normalized_sentence)"
      ],
      "execution_count": null,
      "outputs": [
        {
          "output_type": "stream",
          "name": "stdout",
          "text": [
            "The United States and the United Kingdom are two superpowers\n"
          ]
        }
      ]
    },
    {
      "cell_type": "markdown",
      "metadata": {
        "id": "8dyGynFN905X"
      },
      "source": [
        "**Correção Ortográfica (*Spelling Correction*)**\n",
        "\n",
        "---"
      ]
    },
    {
      "cell_type": "markdown",
      "metadata": {
        "id": "xdd-S22T-Dru"
      },
      "source": [
        "A **correção ortográfica** é uma das tarefas mais importantes em qualquer projeto de PLN. Pode ser demorado, mas sem ele há grandes chances de perder informações importantes.\n",
        "\n",
        "A correção ortográfica é executada em duas etapas:\n",
        "\n",
        "1. Identifique a palavra com grafia incorreta, o que pode ser feito por uma \n",
        "simples pesquisa no dicionário. Se não houver correspondência no dicionário do idioma, será considerado incorreto.\n",
        "\n",
        "2. Substitua ou sugira a palavra soletrada corretamente. Existem muitos algoritmos para essa tarefa. Um deles é o algoritmo de **distância de edição mínima** (*minimum edit distance*), que escolhe a palavra soletrada corretamente mais próxima para uma palavra com erros ortográficos. A proximidade é definida pelo número de edições que precisam ser feitas na palavra digitada incorretamente para chegar à palavra digitada corretamente."
      ]
    },
    {
      "cell_type": "markdown",
      "metadata": {
        "id": "APfeGPx5AOOW"
      },
      "source": [
        "### **Exemplo 1.06 - Correção Ortográfica**"
      ]
    },
    {
      "cell_type": "code",
      "metadata": {
        "id": "wT6ihkfxBRvf",
        "colab": {
          "base_uri": "https://localhost:8080/"
        },
        "outputId": "33e99df9-77c1-4856-c452-4c44615e67e8"
      },
      "source": [
        "!pip install autocorrect"
      ],
      "execution_count": null,
      "outputs": [
        {
          "output_type": "stream",
          "name": "stdout",
          "text": [
            "Looking in indexes: https://pypi.org/simple, https://us-python.pkg.dev/colab-wheels/public/simple/\n",
            "Collecting autocorrect\n",
            "  Downloading autocorrect-2.6.1.tar.gz (622 kB)\n",
            "\u001b[K     |████████████████████████████████| 622 kB 5.2 MB/s \n",
            "\u001b[?25hBuilding wheels for collected packages: autocorrect\n",
            "  Building wheel for autocorrect (setup.py) ... \u001b[?25l\u001b[?25hdone\n",
            "  Created wheel for autocorrect: filename=autocorrect-2.6.1-py3-none-any.whl size=622382 sha256=5b35c00648223c3a6c7775e272f881c8fafab7fd22b3b87c9eb59b687687d8e5\n",
            "  Stored in directory: /root/.cache/pip/wheels/54/d4/37/8244101ad50b0f7d9bffd93ce58ed7991ee1753b290923934b\n",
            "Successfully built autocorrect\n",
            "Installing collected packages: autocorrect\n",
            "Successfully installed autocorrect-2.6.1\n"
          ]
        }
      ]
    },
    {
      "cell_type": "code",
      "metadata": {
        "id": "xS6vQHRPAcfm"
      },
      "source": [
        "from nltk import word_tokenize\n",
        "from autocorrect import Speller"
      ],
      "execution_count": null,
      "outputs": []
    },
    {
      "cell_type": "code",
      "metadata": {
        "id": "da7HtmOXBV0H",
        "colab": {
          "base_uri": "https://localhost:8080/",
          "height": 35
        },
        "outputId": "f31a9d3b-f04b-4ce3-c7e3-0bd9d5a4a1a9"
      },
      "source": [
        "spell = Speller(lang='en')\n",
        "spell('Natureal')"
      ],
      "execution_count": null,
      "outputs": [
        {
          "output_type": "execute_result",
          "data": {
            "text/plain": [
              "'Natural'"
            ],
            "application/vnd.google.colaboratory.intrinsic+json": {
              "type": "string"
            }
          },
          "metadata": {},
          "execution_count": 32
        }
      ]
    },
    {
      "cell_type": "code",
      "metadata": {
        "id": "vpH_lwkpBdgm",
        "colab": {
          "base_uri": "https://localhost:8080/"
        },
        "outputId": "41511f19-126e-4d2a-9b99-dce1b67be6ce"
      },
      "source": [
        "sentence = word_tokenize(\"Ntural Luanguage Processin deals with the art of extracting insightes from Natural Languaes\")\n",
        "print(sentence)"
      ],
      "execution_count": null,
      "outputs": [
        {
          "output_type": "stream",
          "name": "stdout",
          "text": [
            "['Ntural', 'Luanguage', 'Processin', 'deals', 'with', 'the', 'art', 'of', 'extracting', 'insightes', 'from', 'Natural', 'Languaes']\n"
          ]
        }
      ]
    },
    {
      "cell_type": "code",
      "metadata": {
        "id": "hyN3l9XnBl8g",
        "colab": {
          "base_uri": "https://localhost:8080/"
        },
        "outputId": "569ab1bc-1af6-49da-8a94-890c05f8214c"
      },
      "source": [
        "def correct_spelling(tokens):\n",
        "    sentence_corrected = ' '.join([spell(word) for word in tokens])\n",
        "    return sentence_corrected\n",
        "\n",
        "print(correct_spelling(sentence))"
      ],
      "execution_count": null,
      "outputs": [
        {
          "output_type": "stream",
          "name": "stdout",
          "text": [
            "Natural Language Processing deals with the art of extracting insights from Natural Languages\n"
          ]
        }
      ]
    },
    {
      "cell_type": "markdown",
      "metadata": {
        "id": "Fk1MLzG6CN1A"
      },
      "source": [
        "***Stemming***\n",
        "\n",
        "---"
      ]
    },
    {
      "cell_type": "markdown",
      "metadata": {
        "id": "U5-O3ehFCUF5"
      },
      "source": [
        "Na maioria dos idiomas, as palavras são transformadas em várias formas ao serem usadas em uma frase. Por exemplo, a palavra \"*product*\" pode ser transformada em \"*production*\" quando se refere ao processo de fazer algo ou transformada em \"*products*\" no plural. \n",
        "\n",
        "É necessário converter essas palavras em suas formas básicas, pois elas carregam o mesmo significado em qualquer caso. ***Stemming*** é o processo que nos ajuda a fazer isso. Se olharmos a figura a seguir, teremos uma ideia perfeita de como as palavras são transformadas em suas formas básicas:\n",
        "\n",
        "![stemming.png](data:image/png;base64,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)\n"
      ]
    },
    {
      "cell_type": "markdown",
      "metadata": {
        "id": "LDi6Uh2DDPYW"
      },
      "source": [
        "### **Exemplo 1.07 - *Stemming***"
      ]
    },
    {
      "cell_type": "markdown",
      "metadata": {
        "id": "KQi1cumLDkGP"
      },
      "source": [
        "Neste exemplo, usaremos dois algoritmos, chamados de ***Porter stemmer*** e ***Snowball stemmer***, fornecidos pela biblioteca NLTK. O ***Porter stemmer*** é um algoritmo baseado em regras que transforma palavras em sua forma básica removendo sufixos de palavras. O ***Snowball stemmer*** é uma melhoria em relação ao anterior, pois é um pouco mais rápido e usa menos memória. No NLTK, isso é feito pelo método **`stem()`** fornecido pela classe `PorterStemmer`."
      ]
    },
    {
      "cell_type": "code",
      "metadata": {
        "id": "N-HU8p8rDb7w"
      },
      "source": [
        "from nltk import stem"
      ],
      "execution_count": null,
      "outputs": []
    },
    {
      "cell_type": "code",
      "metadata": {
        "id": "MQf4fAY3EnH2",
        "colab": {
          "base_uri": "https://localhost:8080/",
          "height": 35
        },
        "outputId": "14765336-be82-4161-ae72-31cfeada54f4"
      },
      "source": [
        "def get_stems(word,stemmer):\n",
        "    return stemmer.stem(word)\n",
        "porterStem = stem.PorterStemmer()\n",
        "\n",
        "get_stems(\"production\",porterStem)"
      ],
      "execution_count": null,
      "outputs": [
        {
          "output_type": "execute_result",
          "data": {
            "text/plain": [
              "'product'"
            ],
            "application/vnd.google.colaboratory.intrinsic+json": {
              "type": "string"
            }
          },
          "metadata": {},
          "execution_count": 36
        }
      ]
    },
    {
      "cell_type": "code",
      "metadata": {
        "id": "dl32n6R9Eqk_",
        "colab": {
          "base_uri": "https://localhost:8080/",
          "height": 35
        },
        "outputId": "bb415029-6719-4ef8-9a6e-a5b2d4381127"
      },
      "source": [
        "get_stems(\"coming\",porterStem)"
      ],
      "execution_count": null,
      "outputs": [
        {
          "output_type": "execute_result",
          "data": {
            "text/plain": [
              "'come'"
            ],
            "application/vnd.google.colaboratory.intrinsic+json": {
              "type": "string"
            }
          },
          "metadata": {},
          "execution_count": 38
        }
      ]
    },
    {
      "cell_type": "code",
      "metadata": {
        "id": "lOYvR3MZEucb",
        "colab": {
          "base_uri": "https://localhost:8080/",
          "height": 35
        },
        "outputId": "751e6783-96b3-441c-d8d7-ead77bedc0f2"
      },
      "source": [
        "get_stems(\"firing\",porterStem)"
      ],
      "execution_count": null,
      "outputs": [
        {
          "output_type": "execute_result",
          "data": {
            "text/plain": [
              "'fire'"
            ],
            "application/vnd.google.colaboratory.intrinsic+json": {
              "type": "string"
            }
          },
          "metadata": {},
          "execution_count": 39
        }
      ]
    },
    {
      "cell_type": "code",
      "metadata": {
        "id": "Pys8LnZ-Eztc",
        "colab": {
          "base_uri": "https://localhost:8080/",
          "height": 35
        },
        "outputId": "511d8401-1077-439f-e78e-706010334524"
      },
      "source": [
        "get_stems(\"battling\",porterStem)"
      ],
      "execution_count": null,
      "outputs": [
        {
          "output_type": "execute_result",
          "data": {
            "text/plain": [
              "'battl'"
            ],
            "application/vnd.google.colaboratory.intrinsic+json": {
              "type": "string"
            }
          },
          "metadata": {},
          "execution_count": 40
        }
      ]
    },
    {
      "cell_type": "code",
      "metadata": {
        "id": "vcWU8mMrE4V6",
        "colab": {
          "base_uri": "https://localhost:8080/",
          "height": 35
        },
        "outputId": "eee41b60-2a63-45d9-cbeb-d7043086ca5a"
      },
      "source": [
        "stemmer = stem.SnowballStemmer(\"english\")\n",
        "get_stems(\"battling\",stemmer)"
      ],
      "execution_count": null,
      "outputs": [
        {
          "output_type": "execute_result",
          "data": {
            "text/plain": [
              "'battl'"
            ],
            "application/vnd.google.colaboratory.intrinsic+json": {
              "type": "string"
            }
          },
          "metadata": {},
          "execution_count": 41
        }
      ]
    },
    {
      "cell_type": "markdown",
      "metadata": {
        "id": "PQQou3NjFGe0"
      },
      "source": [
        "**Lematização (*Lemmatization*)**\n",
        "\n",
        "---"
      ]
    },
    {
      "cell_type": "markdown",
      "metadata": {
        "id": "lBukulzHFRt0"
      },
      "source": [
        "Às vezes, o processo de *stemming* leva a resultados incorretos. \n",
        "\n",
        "Por exemplo, no último exercício, a palavra ***battling*** foi transformada em \"*battl*\", que não é uma palavra. Para superar esses problemas com *stemming*, usamos a lematização. \n",
        "\n",
        "A **lematização** é o processo de converter palavras em sua forma gramatical básica, como em \"*battling*\" em \"*battle*\", em vez de apenas de cortar palavras aleatoriamente. Nesse processo, uma verificação adicional é feita procurando em um **dicionário** para extrair a forma base de uma palavra."
      ]
    },
    {
      "cell_type": "markdown",
      "metadata": {
        "id": "7GGGWTNhGj62"
      },
      "source": [
        "### **Exemplo 1.08 - Lematização**"
      ]
    },
    {
      "cell_type": "code",
      "metadata": {
        "id": "k9k0yLr_GqTZ",
        "colab": {
          "base_uri": "https://localhost:8080/"
        },
        "outputId": "83879906-31bc-4bf2-bba7-bb2e285d0bcb"
      },
      "source": [
        "from nltk import download\n",
        "download('wordnet')\n",
        "from nltk.stem.wordnet import WordNetLemmatizer"
      ],
      "execution_count": null,
      "outputs": [
        {
          "output_type": "stream",
          "name": "stderr",
          "text": [
            "[nltk_data] Downloading package wordnet to /root/nltk_data...\n",
            "[nltk_data]   Package wordnet is already up-to-date!\n"
          ]
        }
      ]
    },
    {
      "cell_type": "code",
      "metadata": {
        "id": "YgU6BnzTGx7L"
      },
      "source": [
        "lemmatizer = WordNetLemmatizer()"
      ],
      "execution_count": null,
      "outputs": []
    },
    {
      "cell_type": "code",
      "source": [
        "import nltk\n",
        "nltk.download('omw-1.4')"
      ],
      "metadata": {
        "colab": {
          "base_uri": "https://localhost:8080/"
        },
        "id": "klCQKoYrEyOy",
        "outputId": "729a1db6-717a-4160-d9bc-5f31e5856c19"
      },
      "execution_count": null,
      "outputs": [
        {
          "output_type": "stream",
          "name": "stderr",
          "text": [
            "[nltk_data] Downloading package omw-1.4 to /root/nltk_data...\n",
            "[nltk_data]   Unzipping corpora/omw-1.4.zip.\n"
          ]
        },
        {
          "output_type": "execute_result",
          "data": {
            "text/plain": [
              "True"
            ]
          },
          "metadata": {},
          "execution_count": 48
        }
      ]
    },
    {
      "cell_type": "code",
      "metadata": {
        "id": "RzJOP2x-G2d0",
        "colab": {
          "base_uri": "https://localhost:8080/",
          "height": 35
        },
        "outputId": "6c9aef5b-d68d-4d1c-a8c0-1116e79e256d"
      },
      "source": [
        "def get_lemma(word):\n",
        "    return lemmatizer.lemmatize(word)\n",
        "\n",
        "get_lemma('products')"
      ],
      "execution_count": null,
      "outputs": [
        {
          "output_type": "execute_result",
          "data": {
            "text/plain": [
              "'product'"
            ],
            "application/vnd.google.colaboratory.intrinsic+json": {
              "type": "string"
            }
          },
          "metadata": {},
          "execution_count": 49
        }
      ]
    },
    {
      "cell_type": "code",
      "metadata": {
        "id": "tTPbeUTDG9V4",
        "colab": {
          "base_uri": "https://localhost:8080/",
          "height": 35
        },
        "outputId": "d25d8fa0-4608-4d88-aebd-b91c5c02555e"
      },
      "source": [
        "get_lemma('production')"
      ],
      "execution_count": null,
      "outputs": [
        {
          "output_type": "execute_result",
          "data": {
            "text/plain": [
              "'production'"
            ],
            "application/vnd.google.colaboratory.intrinsic+json": {
              "type": "string"
            }
          },
          "metadata": {},
          "execution_count": 50
        }
      ]
    },
    {
      "cell_type": "code",
      "metadata": {
        "id": "MfZeIPQXG-rj",
        "colab": {
          "base_uri": "https://localhost:8080/",
          "height": 35
        },
        "outputId": "d1dec117-bb8b-4159-d809-9d81d71f9bf4"
      },
      "source": [
        "get_lemma('battling')"
      ],
      "execution_count": null,
      "outputs": [
        {
          "output_type": "execute_result",
          "data": {
            "text/plain": [
              "'battling'"
            ],
            "application/vnd.google.colaboratory.intrinsic+json": {
              "type": "string"
            }
          },
          "metadata": {},
          "execution_count": 51
        }
      ]
    },
    {
      "cell_type": "markdown",
      "metadata": {
        "id": "k2bgb7wAhA4o"
      },
      "source": [
        "### **Exemplo 1.09 - Detecção de Limites de Sentença**"
      ]
    },
    {
      "cell_type": "code",
      "metadata": {
        "id": "Oh2xG1xhhGIU"
      },
      "source": [
        "import nltk\n",
        "from nltk.tokenize import sent_tokenize"
      ],
      "execution_count": null,
      "outputs": []
    },
    {
      "cell_type": "code",
      "metadata": {
        "id": "LYwWlNG7hMz2",
        "colab": {
          "base_uri": "https://localhost:8080/"
        },
        "outputId": "e2befc8d-908a-4c47-be4a-b51accd1a191"
      },
      "source": [
        "def get_sentences(text):\n",
        "    return sent_tokenize(text)\n",
        "    \n",
        "get_sentences(\"We are reading a book. Do you know who is the publisher? It is Packt. Packt is based out of Birmingham.\")"
      ],
      "execution_count": null,
      "outputs": [
        {
          "output_type": "execute_result",
          "data": {
            "text/plain": [
              "['We are reading a book.',\n",
              " 'Do you know who is the publisher?',\n",
              " 'It is Packt.',\n",
              " 'Packt is based out of Birmingham.']"
            ]
          },
          "metadata": {},
          "execution_count": 53
        }
      ]
    },
    {
      "cell_type": "code",
      "metadata": {
        "id": "M9x72ETnhZma",
        "colab": {
          "base_uri": "https://localhost:8080/"
        },
        "outputId": "74712c15-0fa4-4add-cb7f-38f9a29513a6"
      },
      "source": [
        "get_sentences(\"Mr. Donald John Trump is the current president of the USA. Before joining politics, he was a businessman.\")"
      ],
      "execution_count": null,
      "outputs": [
        {
          "output_type": "execute_result",
          "data": {
            "text/plain": [
              "['Mr. Donald John Trump is the current president of the USA.',\n",
              " 'Before joining politics, he was a businessman.']"
            ]
          },
          "metadata": {},
          "execution_count": 54
        }
      ]
    },
    {
      "cell_type": "markdown",
      "metadata": {
        "id": "5RKEf30chl4T"
      },
      "source": [
        "É possível observar no código que o método **`sent_tokenize`** é capaz de diferenciar entre o ponto (.) após \"Mr\" e aquele usado para finalizar a frase."
      ]
    },
    {
      "cell_type": "markdown",
      "metadata": {
        "id": "fnp2KzF80Nmw"
      },
      "source": [
        "**Mais informações**:\n",
        "\n",
        "\n",
        "Capítulo 01 - Introdução ao Processamento de Linguagem Natural\n",
        "\n",
        "\n",
        "![image.png](data:image/png;base64,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)\n",
        "\n",
        "https://github.com/PacktWorkshops/The-Natural-Language-Processing-Workshop\n"
      ]
    }
  ]
}